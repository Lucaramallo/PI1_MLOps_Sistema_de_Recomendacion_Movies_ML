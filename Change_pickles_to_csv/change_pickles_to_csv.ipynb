{
 "cells": [
  {
   "cell_type": "markdown",
   "metadata": {},
   "source": [
    "Cambio de pickle a csv for render"
   ]
  },
  {
   "cell_type": "code",
   "execution_count": 5,
   "metadata": {},
   "outputs": [],
   "source": [
    "import requests\n",
    "import pandas as pd\n",
    "\n",
    "# URLs de los archivos Pickle en GitHub\n",
    "urls = [\n",
    "    'https://github.com/Lucaramallo/PI1_MLOps_Sistema_de_Recomendacion_Movies_ML/raw/main/Datasets_Cleaned_light/df_f1_lang_movie_count.pkl',\n",
    "    'https://github.com/Lucaramallo/PI1_MLOps_Sistema_de_Recomendacion_Movies_ML/raw/main/Datasets_Cleaned_light/df_f2_movies_runtime.pkl',\n",
    "    'https://github.com/Lucaramallo/PI1_MLOps_Sistema_de_Recomendacion_Movies_ML/raw/main/Datasets_Cleaned_light/df_f3_collection_name_returns.pkl',\n",
    "    'https://github.com/Lucaramallo/PI1_MLOps_Sistema_de_Recomendacion_Movies_ML/raw/main/Datasets_Cleaned_light/df_f4_production_countrys.pkl',\n",
    "    'https://github.com/Lucaramallo/PI1_MLOps_Sistema_de_Recomendacion_Movies_ML/raw/main/Datasets_Cleaned_light/df_f5_production_companies_return.pkl',\n",
    "    'https://github.com/Lucaramallo/PI1_MLOps_Sistema_de_Recomendacion_Movies_ML/raw/main/Datasets_Cleaned_light/df_f6_df_expanded.pkl',\n",
    "    'https://github.com/Lucaramallo/PI1_MLOps_Sistema_de_Recomendacion_Movies_ML/raw/main/Datasets_Cleaned_light/df_f6_get_director.pkl',\n",
    "    'https://github.com/Lucaramallo/PI1_MLOps_Sistema_de_Recomendacion_Movies_ML/raw/main/Datasets_Cleaned_light/df_f7_one_hot_genres.pkl'\n",
    "]\n",
    "\n",
    "# Descargar y cargar los archivos Pickle\n",
    "dataframes = []\n",
    "for url in urls:\n",
    "    response = requests.get(url)\n",
    "    with open(url.split('/')[-1], 'wb') as f:\n",
    "        f.write(response.content)\n",
    "    dataframe = pd.read_pickle(url.split('/')[-1])\n",
    "    dataframes.append(dataframe)\n",
    "\n",
    "# Asignar los DataFrames a las variables correspondientes\n",
    "df_f1_lang_movie_count, df_f2_movies_runtime, df_f3_collection_name_returns, df_f4_production_countrys, df_f5_production_companies_return, df_f6_df_expanded, df_f6_get_director, df_f7_one_hot_genres = dataframes\n",
    "\n",
    "# Guardar los DataFrames en archivos CSV con los mismos nombres\n",
    "df_f1_lang_movie_count.to_csv('../Datasets_Cleaned_light/df_f1_lang_movie_count.csv', index=False, mode ='w')\n",
    "df_f2_movies_runtime.to_csv('../Datasets_Cleaned_light/df_f2_movies_runtime.csv', index=False, mode ='w')\n",
    "df_f3_collection_name_returns.to_csv('../Datasets_Cleaned_light/df_f3_collection_name_returns.csv', index=False, mode ='w')\n",
    "df_f4_production_countrys.to_csv('../Datasets_Cleaned_light/df_f4_production_countrys.csv', index=False, mode ='w')\n",
    "df_f5_production_companies_return.to_csv('../Datasets_Cleaned_light/df_f5_production_companies_return.csv', index=False, mode ='w')\n",
    "df_f6_df_expanded.to_csv('../Datasets_Cleaned_light/df_f6_df_expanded.csv', index=False, mode ='w')\n",
    "df_f6_get_director.to_csv('../Datasets_Cleaned_light/df_f6_get_director.csv', index=False, mode ='w')\n",
    "df_f7_one_hot_genres.to_csv('../Datasets_Cleaned_light/df_f7_one_hot_genres.csv', index=False, mode ='w')\n"
   ]
  }
 ],
 "metadata": {
  "kernelspec": {
   "display_name": "Python 3",
   "language": "python",
   "name": "python3"
  },
  "language_info": {
   "codemirror_mode": {
    "name": "ipython",
    "version": 3
   },
   "file_extension": ".py",
   "mimetype": "text/x-python",
   "name": "python",
   "nbconvert_exporter": "python",
   "pygments_lexer": "ipython3",
   "version": "3.10.11"
  },
  "orig_nbformat": 4
 },
 "nbformat": 4,
 "nbformat_minor": 2
}
