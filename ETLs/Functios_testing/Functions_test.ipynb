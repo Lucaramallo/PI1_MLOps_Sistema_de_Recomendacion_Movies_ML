{
 "cells": [
  {
   "cell_type": "markdown",
   "metadata": {},
   "source": [
    "# Funtions Testing for API:"
   ]
  },
  {
   "cell_type": "markdown",
   "metadata": {},
   "source": [
    "\n",
    "**`Desarrollo API`**:   Propones disponibilizar los datos de la empresa usando el framework ***FastAPI***. Las consultas que propones son las siguientes:\n",
    "\n",
    "Deben crear 6 funciones para los endpoints que se consumirán en la API, recuerden que deben tener un decorador por cada una (@app.get(‘/’)).\n",
    "  \n",
    "+ def **peliculas_idioma( *`Idioma`: str* )**:\n",
    "    Se ingresa un idioma (como están escritos en el dataset, no hay que traducirlos!). Debe devolver la cantidad de películas producidas en ese idioma.\n",
    "\n",
    "&nbsp;&nbsp;&nbsp;&nbsp;&nbsp;&nbsp;&nbsp;&nbsp;&nbsp;&nbsp;&nbsp;&nbsp;&nbsp;&nbsp;&nbsp;&nbsp;&nbsp;&nbsp;&nbsp;&nbsp;Ejemplo de retorno: *`X` cantidad de películas fueron estrenadas en `idioma`*\n",
    "         \n",
    "\n",
    "+ def **peliculas_duracion( *`Pelicula`: str* )**:\n",
    "    Se ingresa una pelicula. Debe devolver la duracion y el año.\n",
    "\n",
    "&nbsp;&nbsp;&nbsp;&nbsp;&nbsp;&nbsp;&nbsp;&nbsp;&nbsp;&nbsp;&nbsp;&nbsp;&nbsp;&nbsp;&nbsp;&nbsp;&nbsp;&nbsp;&nbsp;&nbsp;Ejemplo de retorno: *`X` . Duración: `x`. Año: `xx`*\n",
    "\n",
    "+ def **franquicia( *`Franquicia`: str* )**:\n",
    "    Se ingresa la franquicia, retornando la cantidad de peliculas, ganancia total y promedio\n",
    "    \n",
    "&nbsp;&nbsp;&nbsp;&nbsp;&nbsp;&nbsp;&nbsp;&nbsp;&nbsp;&nbsp;&nbsp;&nbsp;&nbsp;&nbsp;&nbsp;&nbsp;&nbsp;&nbsp;&nbsp;&nbsp;Ejemplo de retorno: *La franquicia `X` posee `X` peliculas, una ganancia total de `x` y una ganancia promedio de `xx`*\n",
    "\n",
    "+ def **peliculas_pais( *`Pais`: str* )**:\n",
    "    Se ingresa un país (como están escritos en el dataset, no hay que traducirlos!), retornando la cantidad de peliculas producidas en el mismo.\n",
    "    \n",
    "&nbsp;&nbsp;&nbsp;&nbsp;&nbsp;&nbsp;&nbsp;&nbsp;&nbsp;&nbsp;&nbsp;&nbsp;&nbsp;&nbsp;&nbsp;&nbsp;&nbsp;&nbsp;&nbsp;&nbsp;Ejemplo de retorno: *Se produjeron `X` películas en el país `X`*\n",
    "\n",
    "+ def **productoras_exitosas( *`Productora`: str* )**:\n",
    "    Se ingresa la productora, entregandote el revunue total y la cantidad de peliculas que realizo. \n",
    "    \n",
    "&nbsp;&nbsp;&nbsp;&nbsp;&nbsp;&nbsp;&nbsp;&nbsp;&nbsp;&nbsp;&nbsp;&nbsp;&nbsp;&nbsp;&nbsp;&nbsp;&nbsp;&nbsp;&nbsp;&nbsp;Ejemplo de retorno: *La productora `X` ha tenido un revenue de `x`*\n",
    "\n",
    "+ def **get_director( *`nombre_director`* )**:\n",
    "    Se ingresa el nombre de un director que se encuentre dentro de un dataset debiendo devolver el éxito del mismo medido a través del retorno. Además, deberá devolver el nombre de cada película con la fecha de lanzamiento, retorno individual, costo y ganancia de la misma, en formato lista.\n",
    "\n",
    "\n",
    "\n",
    "<br/>\n",
    "\n",
    "\n",
    "> `Importante`<br>\n",
    "El MVP _tiene_ que ser una API que pueda ser consumida segun los criterios de [API REST o RESTful](https://rockcontent.com/es/blog/api-rest/). Algunas herramientas como por ejemplo, Streamlit, si bien pueden brindar una interfaz de consulta, no cumplen con las condiciones para ser consideradas una API, sin workarounds.\n",
    "\n",
    "\n",
    "**`Deployment`**: Conoces sobre [Render](https://render.com/docs/free#free-web-services) y tienes un [tutorial de Render](https://github.com/HX-FNegrete/render-fastapi-tutorial) que te hace la vida mas facil :smile: . Tambien podrias usar [Railway](https://railway.app/), o cualquier otro servicio que permita que la API pueda ser consumida desde la web.\n",
    "\n",
    "<br/>\n",
    "\n",
    "**`Análisis exploratorio de los datos`**: _(Exploratory Data Analysis-EDA)_\n",
    "\n",
    "Ya los datos están limpios, ahora es tiempo de investigar las relaciones que hay entre las variables de los datasets, ver si hay outliers o anomalías (que no tienen que ser errores necesariamente :eyes: ), y ver si hay algún patrón interesante que valga la pena explorar en un análisis posterior. Las nubes de palabras dan una buena idea de cuáles palabras son más frecuentes en los títulos, ¡podría ayudar al sistema de recomendación! En esta ocasión vamos a pedirte que no uses librerías para hacer EDA automático ya que queremos que pongas en practica los conceptos y tareas involucrados en el mismo. Puedes leer un poco más sobre EDA en [este articulo](https://medium.com/swlh/introduction-to-exploratory-data-analysis-eda-d83424e47151)\n",
    "\n",
    "**`Sistema de recomendación`**: \n",
    "\n",
    "Una vez que toda la data es consumible por la API, está lista para consumir por los departamentos de Analytics y Machine Learning, y nuestro EDA nos permite entender bien los datos a los que tenemos acceso, es hora de entrenar nuestro modelo de machine learning para armar un sistema de recomendación de películas. El EDA debería incluir gráficas interesantes para extraer datos, como por ejemplo una nube de palabras con las palabras más frecuentes en los títulos de las películas. Éste consiste en recomendar películas a los usuarios basándose en películas similares, por lo que se debe encontrar la similitud de puntuación entre esa película y el resto de películas, se ordenarán según el score de similaridad y devolverá una lista de Python con 5 valores, cada uno siendo el string del nombre de las películas con mayor puntaje, en orden descendente. Debe ser deployado como una función adicional de la API anterior y debe llamarse:\n",
    "\n",
    "\n",
    "+ def **recomendacion( *`titulo`* )**:\n",
    "    Se ingresa el nombre de una película y te recomienda las similares en una lista de 5 valores.\n",
    "\n",
    "<br/>\n"
   ]
  },
  {
   "cell_type": "markdown",
   "metadata": {},
   "source": [
    "## Import Libraries:"
   ]
  },
  {
   "cell_type": "code",
   "execution_count": 289,
   "metadata": {},
   "outputs": [],
   "source": [
    "import pandas as pd\n",
    "import pickle"
   ]
  },
  {
   "cell_type": "markdown",
   "metadata": {},
   "source": [
    "## Import Input Data:"
   ]
  },
  {
   "cell_type": "markdown",
   "metadata": {},
   "source": [
    "### df_movies:"
   ]
  },
  {
   "cell_type": "code",
   "execution_count": 290,
   "metadata": {},
   "outputs": [
    {
     "data": {
      "text/html": [
       "<div>\n",
       "<style scoped>\n",
       "    .dataframe tbody tr th:only-of-type {\n",
       "        vertical-align: middle;\n",
       "    }\n",
       "\n",
       "    .dataframe tbody tr th {\n",
       "        vertical-align: top;\n",
       "    }\n",
       "\n",
       "    .dataframe thead th {\n",
       "        text-align: right;\n",
       "    }\n",
       "</style>\n",
       "<table border=\"1\" class=\"dataframe\">\n",
       "  <thead>\n",
       "    <tr style=\"text-align: right;\">\n",
       "      <th></th>\n",
       "      <th>budget</th>\n",
       "      <th>id</th>\n",
       "      <th>original_language</th>\n",
       "      <th>overview</th>\n",
       "      <th>popularity</th>\n",
       "      <th>release_date</th>\n",
       "      <th>revenue</th>\n",
       "      <th>runtime</th>\n",
       "      <th>status</th>\n",
       "      <th>title</th>\n",
       "      <th>...</th>\n",
       "      <th>genre_ids</th>\n",
       "      <th>genre_names</th>\n",
       "      <th>production_companies_ids</th>\n",
       "      <th>production_companies_nombres</th>\n",
       "      <th>iso_codes</th>\n",
       "      <th>country_names</th>\n",
       "      <th>iso_language_codes</th>\n",
       "      <th>language_names</th>\n",
       "      <th>release_year</th>\n",
       "      <th>return</th>\n",
       "    </tr>\n",
       "  </thead>\n",
       "  <tbody>\n",
       "    <tr>\n",
       "      <th>0</th>\n",
       "      <td>30000000.0</td>\n",
       "      <td>862</td>\n",
       "      <td>en</td>\n",
       "      <td>led by woody, andy's toys live happily in his ...</td>\n",
       "      <td>21.946943</td>\n",
       "      <td>1995-10-30</td>\n",
       "      <td>373554033</td>\n",
       "      <td>81</td>\n",
       "      <td>released</td>\n",
       "      <td>toy story</td>\n",
       "      <td>...</td>\n",
       "      <td>[16, 35, 10751]</td>\n",
       "      <td>['Animation', 'Comedy', 'Family']</td>\n",
       "      <td>[3]</td>\n",
       "      <td>['Pixar Animation Studios']</td>\n",
       "      <td>['US']</td>\n",
       "      <td>['United States of America']</td>\n",
       "      <td>['en']</td>\n",
       "      <td>['English']</td>\n",
       "      <td>1995</td>\n",
       "      <td>12.451801</td>\n",
       "    </tr>\n",
       "    <tr>\n",
       "      <th>1</th>\n",
       "      <td>30000000.0</td>\n",
       "      <td>862</td>\n",
       "      <td>en</td>\n",
       "      <td>led by woody, andy's toys live happily in his ...</td>\n",
       "      <td>21.946943</td>\n",
       "      <td>1995-10-30</td>\n",
       "      <td>373554033</td>\n",
       "      <td>81</td>\n",
       "      <td>released</td>\n",
       "      <td>toy story</td>\n",
       "      <td>...</td>\n",
       "      <td>[16, 35, 10751]</td>\n",
       "      <td>['Animation', 'Comedy', 'Family']</td>\n",
       "      <td>[3]</td>\n",
       "      <td>['Pixar Animation Studios']</td>\n",
       "      <td>['US']</td>\n",
       "      <td>['United States of America']</td>\n",
       "      <td>['en']</td>\n",
       "      <td>['English']</td>\n",
       "      <td>1995</td>\n",
       "      <td>12.451801</td>\n",
       "    </tr>\n",
       "  </tbody>\n",
       "</table>\n",
       "<p>2 rows × 23 columns</p>\n",
       "</div>"
      ],
      "text/plain": [
       "       budget   id original_language  \\\n",
       "0  30000000.0  862                en   \n",
       "1  30000000.0  862                en   \n",
       "\n",
       "                                            overview  popularity release_date  \\\n",
       "0  led by woody, andy's toys live happily in his ...   21.946943   1995-10-30   \n",
       "1  led by woody, andy's toys live happily in his ...   21.946943   1995-10-30   \n",
       "\n",
       "     revenue  runtime    status      title  ...        genre_ids  \\\n",
       "0  373554033       81  released  toy story  ...  [16, 35, 10751]   \n",
       "1  373554033       81  released  toy story  ...  [16, 35, 10751]   \n",
       "\n",
       "                         genre_names production_companies_ids  \\\n",
       "0  ['Animation', 'Comedy', 'Family']                      [3]   \n",
       "1  ['Animation', 'Comedy', 'Family']                      [3]   \n",
       "\n",
       "  production_companies_nombres iso_codes                 country_names  \\\n",
       "0  ['Pixar Animation Studios']    ['US']  ['United States of America']   \n",
       "1  ['Pixar Animation Studios']    ['US']  ['United States of America']   \n",
       "\n",
       "  iso_language_codes language_names release_year     return  \n",
       "0             ['en']    ['English']         1995  12.451801  \n",
       "1             ['en']    ['English']         1995  12.451801  \n",
       "\n",
       "[2 rows x 23 columns]"
      ]
     },
     "execution_count": 290,
     "metadata": {},
     "output_type": "execute_result"
    }
   ],
   "source": [
    "# Cargar el archivo pickle como DataFrame de pandas\n",
    "df_movies = pd.read_pickle('../../Datasets Cleaned & light/df_movies.pkl')\n",
    "df_movies.head(2)"
   ]
  },
  {
   "cell_type": "code",
   "execution_count": 291,
   "metadata": {},
   "outputs": [
    {
     "data": {
      "text/plain": [
       "(163416, 23)"
      ]
     },
     "execution_count": 291,
     "metadata": {},
     "output_type": "execute_result"
    }
   ],
   "source": [
    "df_movies.shape"
   ]
  },
  {
   "cell_type": "code",
   "execution_count": 292,
   "metadata": {},
   "outputs": [
    {
     "name": "stdout",
     "output_type": "stream",
     "text": [
      "<class 'pandas.core.frame.DataFrame'>\n",
      "RangeIndex: 163416 entries, 0 to 163415\n",
      "Data columns (total 23 columns):\n",
      " #   Column                        Non-Null Count   Dtype         \n",
      "---  ------                        --------------   -----         \n",
      " 0   budget                        163389 non-null  float64       \n",
      " 1   id                            163416 non-null  int32         \n",
      " 2   original_language             163416 non-null  object        \n",
      " 3   overview                      163416 non-null  object        \n",
      " 4   popularity                    163416 non-null  float64       \n",
      " 5   release_date                  163110 non-null  datetime64[ns]\n",
      " 6   revenue                       163416 non-null  int32         \n",
      " 7   runtime                       163416 non-null  int32         \n",
      " 8   status                        163416 non-null  object        \n",
      " 9   title                         163416 non-null  object        \n",
      " 10  vote_average                  163416 non-null  float64       \n",
      " 11  vote_count                    163416 non-null  int32         \n",
      " 12  collection_name               163416 non-null  object        \n",
      " 13  genre_ids                     163416 non-null  object        \n",
      " 14  genre_names                   163416 non-null  object        \n",
      " 15  production_companies_ids      163416 non-null  object        \n",
      " 16  production_companies_nombres  163416 non-null  object        \n",
      " 17  iso_codes                     163416 non-null  object        \n",
      " 18  country_names                 163416 non-null  object        \n",
      " 19  iso_language_codes            163416 non-null  object        \n",
      " 20  language_names                163416 non-null  object        \n",
      " 21  release_year                  163416 non-null  int32         \n",
      " 22  return                        163416 non-null  float64       \n",
      "dtypes: datetime64[ns](1), float64(4), int32(5), object(13)\n",
      "memory usage: 25.6+ MB\n"
     ]
    }
   ],
   "source": [
    "df_movies.info()"
   ]
  },
  {
   "cell_type": "markdown",
   "metadata": {},
   "source": [
    "### df_movies_directors:"
   ]
  },
  {
   "cell_type": "code",
   "execution_count": 293,
   "metadata": {},
   "outputs": [
    {
     "data": {
      "text/html": [
       "<div>\n",
       "<style scoped>\n",
       "    .dataframe tbody tr th:only-of-type {\n",
       "        vertical-align: middle;\n",
       "    }\n",
       "\n",
       "    .dataframe tbody tr th {\n",
       "        vertical-align: top;\n",
       "    }\n",
       "\n",
       "    .dataframe thead th {\n",
       "        text-align: right;\n",
       "    }\n",
       "</style>\n",
       "<table border=\"1\" class=\"dataframe\">\n",
       "  <thead>\n",
       "    <tr style=\"text-align: right;\">\n",
       "      <th></th>\n",
       "      <th>budget</th>\n",
       "      <th>movie_id</th>\n",
       "      <th>original_language</th>\n",
       "      <th>overview</th>\n",
       "      <th>popularity</th>\n",
       "      <th>release_date</th>\n",
       "      <th>revenue</th>\n",
       "      <th>runtime</th>\n",
       "      <th>status</th>\n",
       "      <th>title</th>\n",
       "      <th>...</th>\n",
       "      <th>production_companies_ids</th>\n",
       "      <th>production_companies_nombres</th>\n",
       "      <th>iso_codes</th>\n",
       "      <th>country_names</th>\n",
       "      <th>iso_language_codes</th>\n",
       "      <th>language_names</th>\n",
       "      <th>release_year</th>\n",
       "      <th>return</th>\n",
       "      <th>director_id</th>\n",
       "      <th>name</th>\n",
       "    </tr>\n",
       "  </thead>\n",
       "  <tbody>\n",
       "    <tr>\n",
       "      <th>0</th>\n",
       "      <td>30000000.0</td>\n",
       "      <td>862</td>\n",
       "      <td>en</td>\n",
       "      <td>led by woody, andy's toys live happily in his ...</td>\n",
       "      <td>21.946943</td>\n",
       "      <td>1995-10-30</td>\n",
       "      <td>373554033</td>\n",
       "      <td>81</td>\n",
       "      <td>released</td>\n",
       "      <td>toy story</td>\n",
       "      <td>...</td>\n",
       "      <td>[3]</td>\n",
       "      <td>['Pixar Animation Studios']</td>\n",
       "      <td>['US']</td>\n",
       "      <td>['United States of America']</td>\n",
       "      <td>['en']</td>\n",
       "      <td>['English']</td>\n",
       "      <td>1995</td>\n",
       "      <td>12.451801</td>\n",
       "      <td>7879</td>\n",
       "      <td>John Lasseter</td>\n",
       "    </tr>\n",
       "    <tr>\n",
       "      <th>3</th>\n",
       "      <td>65000000.0</td>\n",
       "      <td>8844</td>\n",
       "      <td>en</td>\n",
       "      <td>when siblings judy and peter discover an encha...</td>\n",
       "      <td>17.015539</td>\n",
       "      <td>1995-12-15</td>\n",
       "      <td>262797249</td>\n",
       "      <td>104</td>\n",
       "      <td>released</td>\n",
       "      <td>jumanji</td>\n",
       "      <td>...</td>\n",
       "      <td>[559, 2550, 10201]</td>\n",
       "      <td>['TriStar Pictures', 'Teitler Film', 'Intersco...</td>\n",
       "      <td>['US']</td>\n",
       "      <td>['United States of America']</td>\n",
       "      <td>['en', 'fr']</td>\n",
       "      <td>['English', 'Français']</td>\n",
       "      <td>1995</td>\n",
       "      <td>4.043035</td>\n",
       "      <td>4945</td>\n",
       "      <td>Joe Johnston</td>\n",
       "    </tr>\n",
       "  </tbody>\n",
       "</table>\n",
       "<p>2 rows × 25 columns</p>\n",
       "</div>"
      ],
      "text/plain": [
       "       budget  movie_id original_language  \\\n",
       "0  30000000.0       862                en   \n",
       "3  65000000.0      8844                en   \n",
       "\n",
       "                                            overview  popularity release_date  \\\n",
       "0  led by woody, andy's toys live happily in his ...   21.946943   1995-10-30   \n",
       "3  when siblings judy and peter discover an encha...   17.015539   1995-12-15   \n",
       "\n",
       "     revenue  runtime    status      title  ...  production_companies_ids  \\\n",
       "0  373554033       81  released  toy story  ...                       [3]   \n",
       "3  262797249      104  released    jumanji  ...        [559, 2550, 10201]   \n",
       "\n",
       "                        production_companies_nombres iso_codes  \\\n",
       "0                        ['Pixar Animation Studios']    ['US']   \n",
       "3  ['TriStar Pictures', 'Teitler Film', 'Intersco...    ['US']   \n",
       "\n",
       "                  country_names iso_language_codes           language_names  \\\n",
       "0  ['United States of America']             ['en']              ['English']   \n",
       "3  ['United States of America']       ['en', 'fr']  ['English', 'Français']   \n",
       "\n",
       "  release_year     return director_id           name  \n",
       "0         1995  12.451801        7879  John Lasseter  \n",
       "3         1995   4.043035        4945   Joe Johnston  \n",
       "\n",
       "[2 rows x 25 columns]"
      ]
     },
     "execution_count": 293,
     "metadata": {},
     "output_type": "execute_result"
    }
   ],
   "source": [
    "# Cargar el archivo pickle como DataFrame de pandas\n",
    "df_movies_directors = pd.read_pickle('../../Datasets Cleaned & light/df_movies_directors.pkl')\n",
    "df_movies_directors.head(2)"
   ]
  },
  {
   "cell_type": "code",
   "execution_count": 294,
   "metadata": {},
   "outputs": [
    {
     "data": {
      "text/plain": [
       "(56889, 25)"
      ]
     },
     "execution_count": 294,
     "metadata": {},
     "output_type": "execute_result"
    }
   ],
   "source": [
    "df_movies_directors.shape"
   ]
  },
  {
   "cell_type": "code",
   "execution_count": 295,
   "metadata": {},
   "outputs": [
    {
     "name": "stdout",
     "output_type": "stream",
     "text": [
      "<class 'pandas.core.frame.DataFrame'>\n",
      "Index: 56889 entries, 0 to 178848\n",
      "Data columns (total 25 columns):\n",
      " #   Column                        Non-Null Count  Dtype         \n",
      "---  ------                        --------------  -----         \n",
      " 0   budget                        56889 non-null  float64       \n",
      " 1   movie_id                      56889 non-null  int32         \n",
      " 2   original_language             56889 non-null  object        \n",
      " 3   overview                      56889 non-null  object        \n",
      " 4   popularity                    56889 non-null  float64       \n",
      " 5   release_date                  56889 non-null  datetime64[ns]\n",
      " 6   revenue                       56889 non-null  int32         \n",
      " 7   runtime                       56889 non-null  int32         \n",
      " 8   status                        56889 non-null  object        \n",
      " 9   title                         56889 non-null  object        \n",
      " 10  vote_average                  56889 non-null  float64       \n",
      " 11  vote_count                    56889 non-null  int32         \n",
      " 12  collection_name               56889 non-null  object        \n",
      " 13  genre_ids                     56889 non-null  object        \n",
      " 14  genre_names                   56889 non-null  object        \n",
      " 15  production_companies_ids      56889 non-null  object        \n",
      " 16  production_companies_nombres  56889 non-null  object        \n",
      " 17  iso_codes                     56889 non-null  object        \n",
      " 18  country_names                 56889 non-null  object        \n",
      " 19  iso_language_codes            56889 non-null  object        \n",
      " 20  language_names                56889 non-null  object        \n",
      " 21  release_year                  56889 non-null  int32         \n",
      " 22  return                        56889 non-null  float64       \n",
      " 23  director_id                   56889 non-null  int32         \n",
      " 24  name                          56889 non-null  object        \n",
      "dtypes: datetime64[ns](1), float64(4), int32(6), object(14)\n",
      "memory usage: 10.0+ MB\n"
     ]
    }
   ],
   "source": [
    "df_movies_directors.info()"
   ]
  },
  {
   "cell_type": "markdown",
   "metadata": {},
   "source": []
  },
  {
   "cell_type": "markdown",
   "metadata": {},
   "source": [
    "### Dataset complementario: iso_language_data\n",
    "#### Fuente: https://datahub.io/core/language-codes"
   ]
  },
  {
   "cell_type": "code",
   "execution_count": 296,
   "metadata": {},
   "outputs": [
    {
     "name": "stdout",
     "output_type": "stream",
     "text": [
      "  alpha2    English\n",
      "0     aa       Afar\n",
      "1     ab  Abkhazian\n",
      "2     ae    Avestan\n",
      "3     af  Afrikaans\n",
      "4     ak       Akan\n"
     ]
    }
   ],
   "source": [
    "\n",
    "# URL del enlace de descarga del archivo CSV\n",
    "url = \"https://datahub.io/core/language-codes/r/language-codes.csv\"\n",
    "\n",
    "try:\n",
    "    # Cargar el archivo CSV desde el enlace de descarga\n",
    "    iso_language_data = pd.read_csv(url)\n",
    "\n",
    "    # Ahora tienes el contenido del archivo CSV en un DataFrame llamado 'df'\n",
    "    # Puedes realizar operaciones o análisis con el DataFrame como desees.\n",
    "    print(iso_language_data.head())  # Imprimir las primeras filas del DataFrame\n",
    "\n",
    "except Exception as e:\n",
    "    print(\"Error al cargar el archivo CSV desde el enlace:\", e)"
   ]
  },
  {
   "cell_type": "code",
   "execution_count": 297,
   "metadata": {},
   "outputs": [],
   "source": [
    "iso_language_data.rename(columns={'alpha2': 'iso_language_code', 'English': 'language_name'}, inplace=True)"
   ]
  },
  {
   "cell_type": "code",
   "execution_count": 298,
   "metadata": {},
   "outputs": [
    {
     "data": {
      "text/html": [
       "<div>\n",
       "<style scoped>\n",
       "    .dataframe tbody tr th:only-of-type {\n",
       "        vertical-align: middle;\n",
       "    }\n",
       "\n",
       "    .dataframe tbody tr th {\n",
       "        vertical-align: top;\n",
       "    }\n",
       "\n",
       "    .dataframe thead th {\n",
       "        text-align: right;\n",
       "    }\n",
       "</style>\n",
       "<table border=\"1\" class=\"dataframe\">\n",
       "  <thead>\n",
       "    <tr style=\"text-align: right;\">\n",
       "      <th></th>\n",
       "      <th>iso_language_code</th>\n",
       "      <th>language_name</th>\n",
       "    </tr>\n",
       "  </thead>\n",
       "  <tbody>\n",
       "    <tr>\n",
       "      <th>0</th>\n",
       "      <td>aa</td>\n",
       "      <td>Afar</td>\n",
       "    </tr>\n",
       "    <tr>\n",
       "      <th>1</th>\n",
       "      <td>ab</td>\n",
       "      <td>Abkhazian</td>\n",
       "    </tr>\n",
       "    <tr>\n",
       "      <th>2</th>\n",
       "      <td>ae</td>\n",
       "      <td>Avestan</td>\n",
       "    </tr>\n",
       "    <tr>\n",
       "      <th>3</th>\n",
       "      <td>af</td>\n",
       "      <td>Afrikaans</td>\n",
       "    </tr>\n",
       "    <tr>\n",
       "      <th>4</th>\n",
       "      <td>ak</td>\n",
       "      <td>Akan</td>\n",
       "    </tr>\n",
       "    <tr>\n",
       "      <th>...</th>\n",
       "      <td>...</td>\n",
       "      <td>...</td>\n",
       "    </tr>\n",
       "    <tr>\n",
       "      <th>179</th>\n",
       "      <td>yi</td>\n",
       "      <td>Yiddish</td>\n",
       "    </tr>\n",
       "    <tr>\n",
       "      <th>180</th>\n",
       "      <td>yo</td>\n",
       "      <td>Yoruba</td>\n",
       "    </tr>\n",
       "    <tr>\n",
       "      <th>181</th>\n",
       "      <td>za</td>\n",
       "      <td>Zhuang; Chuang</td>\n",
       "    </tr>\n",
       "    <tr>\n",
       "      <th>182</th>\n",
       "      <td>zh</td>\n",
       "      <td>Chinese</td>\n",
       "    </tr>\n",
       "    <tr>\n",
       "      <th>183</th>\n",
       "      <td>zu</td>\n",
       "      <td>Zulu</td>\n",
       "    </tr>\n",
       "  </tbody>\n",
       "</table>\n",
       "<p>184 rows × 2 columns</p>\n",
       "</div>"
      ],
      "text/plain": [
       "    iso_language_code   language_name\n",
       "0                  aa            Afar\n",
       "1                  ab       Abkhazian\n",
       "2                  ae         Avestan\n",
       "3                  af       Afrikaans\n",
       "4                  ak            Akan\n",
       "..                ...             ...\n",
       "179                yi         Yiddish\n",
       "180                yo          Yoruba\n",
       "181                za  Zhuang; Chuang\n",
       "182                zh         Chinese\n",
       "183                zu            Zulu\n",
       "\n",
       "[184 rows x 2 columns]"
      ]
     },
     "execution_count": 298,
     "metadata": {},
     "output_type": "execute_result"
    }
   ],
   "source": [
    "iso_language_data"
   ]
  },
  {
   "cell_type": "markdown",
   "metadata": {},
   "source": [
    "### + def **peliculas_idioma( *`Idioma`: str* )**:\n",
    "    Se ingresa un idioma (como están escritos en el dataset, no hay que traducirlos!). Debe devolver la cantidad de películas producidas en ese idioma.\n",
    "\n",
    "&nbsp;&nbsp;&nbsp;&nbsp;&nbsp;&nbsp;&nbsp;&nbsp;&nbsp;&nbsp;&nbsp;&nbsp;&nbsp;&nbsp;&nbsp;&nbsp;&nbsp;&nbsp;&nbsp;&nbsp;Ejemplo de retorno: *`X` cantidad de películas fueron estrenadas en `idioma`*"
   ]
  },
  {
   "cell_type": "markdown",
   "metadata": {},
   "source": [
    "#### Algunos procedimientos antes de ETL para dejar listo dataframe para consultas de la F1"
   ]
  },
  {
   "cell_type": "code",
   "execution_count": 299,
   "metadata": {},
   "outputs": [
    {
     "data": {
      "text/html": [
       "<div>\n",
       "<style scoped>\n",
       "    .dataframe tbody tr th:only-of-type {\n",
       "        vertical-align: middle;\n",
       "    }\n",
       "\n",
       "    .dataframe tbody tr th {\n",
       "        vertical-align: top;\n",
       "    }\n",
       "\n",
       "    .dataframe thead th {\n",
       "        text-align: right;\n",
       "    }\n",
       "</style>\n",
       "<table border=\"1\" class=\"dataframe\">\n",
       "  <thead>\n",
       "    <tr style=\"text-align: right;\">\n",
       "      <th></th>\n",
       "      <th>budget</th>\n",
       "      <th>id</th>\n",
       "      <th>original_language</th>\n",
       "      <th>overview</th>\n",
       "      <th>popularity</th>\n",
       "      <th>release_date</th>\n",
       "      <th>revenue</th>\n",
       "      <th>runtime</th>\n",
       "      <th>status</th>\n",
       "      <th>title</th>\n",
       "      <th>...</th>\n",
       "      <th>genre_ids</th>\n",
       "      <th>genre_names</th>\n",
       "      <th>production_companies_ids</th>\n",
       "      <th>production_companies_nombres</th>\n",
       "      <th>iso_codes</th>\n",
       "      <th>country_names</th>\n",
       "      <th>iso_language_codes</th>\n",
       "      <th>language_names</th>\n",
       "      <th>release_year</th>\n",
       "      <th>return</th>\n",
       "    </tr>\n",
       "  </thead>\n",
       "  <tbody>\n",
       "    <tr>\n",
       "      <th>0</th>\n",
       "      <td>30000000.0</td>\n",
       "      <td>862</td>\n",
       "      <td>en</td>\n",
       "      <td>led by woody, andy's toys live happily in his ...</td>\n",
       "      <td>21.946943</td>\n",
       "      <td>1995-10-30</td>\n",
       "      <td>373554033</td>\n",
       "      <td>81</td>\n",
       "      <td>released</td>\n",
       "      <td>toy story</td>\n",
       "      <td>...</td>\n",
       "      <td>[16, 35, 10751]</td>\n",
       "      <td>['Animation', 'Comedy', 'Family']</td>\n",
       "      <td>[3]</td>\n",
       "      <td>['Pixar Animation Studios']</td>\n",
       "      <td>['US']</td>\n",
       "      <td>['United States of America']</td>\n",
       "      <td>['en']</td>\n",
       "      <td>['English']</td>\n",
       "      <td>1995</td>\n",
       "      <td>12.451801</td>\n",
       "    </tr>\n",
       "    <tr>\n",
       "      <th>1</th>\n",
       "      <td>30000000.0</td>\n",
       "      <td>862</td>\n",
       "      <td>en</td>\n",
       "      <td>led by woody, andy's toys live happily in his ...</td>\n",
       "      <td>21.946943</td>\n",
       "      <td>1995-10-30</td>\n",
       "      <td>373554033</td>\n",
       "      <td>81</td>\n",
       "      <td>released</td>\n",
       "      <td>toy story</td>\n",
       "      <td>...</td>\n",
       "      <td>[16, 35, 10751]</td>\n",
       "      <td>['Animation', 'Comedy', 'Family']</td>\n",
       "      <td>[3]</td>\n",
       "      <td>['Pixar Animation Studios']</td>\n",
       "      <td>['US']</td>\n",
       "      <td>['United States of America']</td>\n",
       "      <td>['en']</td>\n",
       "      <td>['English']</td>\n",
       "      <td>1995</td>\n",
       "      <td>12.451801</td>\n",
       "    </tr>\n",
       "  </tbody>\n",
       "</table>\n",
       "<p>2 rows × 23 columns</p>\n",
       "</div>"
      ],
      "text/plain": [
       "       budget   id original_language  \\\n",
       "0  30000000.0  862                en   \n",
       "1  30000000.0  862                en   \n",
       "\n",
       "                                            overview  popularity release_date  \\\n",
       "0  led by woody, andy's toys live happily in his ...   21.946943   1995-10-30   \n",
       "1  led by woody, andy's toys live happily in his ...   21.946943   1995-10-30   \n",
       "\n",
       "     revenue  runtime    status      title  ...        genre_ids  \\\n",
       "0  373554033       81  released  toy story  ...  [16, 35, 10751]   \n",
       "1  373554033       81  released  toy story  ...  [16, 35, 10751]   \n",
       "\n",
       "                         genre_names production_companies_ids  \\\n",
       "0  ['Animation', 'Comedy', 'Family']                      [3]   \n",
       "1  ['Animation', 'Comedy', 'Family']                      [3]   \n",
       "\n",
       "  production_companies_nombres iso_codes                 country_names  \\\n",
       "0  ['Pixar Animation Studios']    ['US']  ['United States of America']   \n",
       "1  ['Pixar Animation Studios']    ['US']  ['United States of America']   \n",
       "\n",
       "  iso_language_codes language_names release_year     return  \n",
       "0             ['en']    ['English']         1995  12.451801  \n",
       "1             ['en']    ['English']         1995  12.451801  \n",
       "\n",
       "[2 rows x 23 columns]"
      ]
     },
     "execution_count": 299,
     "metadata": {},
     "output_type": "execute_result"
    }
   ],
   "source": [
    "df_movies.head(2)"
   ]
  },
  {
   "cell_type": "code",
   "execution_count": 300,
   "metadata": {},
   "outputs": [],
   "source": [
    "df_languages = df_movies.loc[:, ['iso_language_codes']]"
   ]
  },
  {
   "cell_type": "code",
   "execution_count": 301,
   "metadata": {},
   "outputs": [
    {
     "data": {
      "text/html": [
       "<div>\n",
       "<style scoped>\n",
       "    .dataframe tbody tr th:only-of-type {\n",
       "        vertical-align: middle;\n",
       "    }\n",
       "\n",
       "    .dataframe tbody tr th {\n",
       "        vertical-align: top;\n",
       "    }\n",
       "\n",
       "    .dataframe thead th {\n",
       "        text-align: right;\n",
       "    }\n",
       "</style>\n",
       "<table border=\"1\" class=\"dataframe\">\n",
       "  <thead>\n",
       "    <tr style=\"text-align: right;\">\n",
       "      <th></th>\n",
       "      <th>iso_language_codes</th>\n",
       "    </tr>\n",
       "  </thead>\n",
       "  <tbody>\n",
       "    <tr>\n",
       "      <th>0</th>\n",
       "      <td>['en']</td>\n",
       "    </tr>\n",
       "    <tr>\n",
       "      <th>1</th>\n",
       "      <td>['en']</td>\n",
       "    </tr>\n",
       "    <tr>\n",
       "      <th>2</th>\n",
       "      <td>['en']</td>\n",
       "    </tr>\n",
       "    <tr>\n",
       "      <th>3</th>\n",
       "      <td>['en', 'fr']</td>\n",
       "    </tr>\n",
       "    <tr>\n",
       "      <th>4</th>\n",
       "      <td>['en']</td>\n",
       "    </tr>\n",
       "    <tr>\n",
       "      <th>5</th>\n",
       "      <td>['en']</td>\n",
       "    </tr>\n",
       "    <tr>\n",
       "      <th>6</th>\n",
       "      <td>['en']</td>\n",
       "    </tr>\n",
       "    <tr>\n",
       "      <th>7</th>\n",
       "      <td>['en']</td>\n",
       "    </tr>\n",
       "    <tr>\n",
       "      <th>8</th>\n",
       "      <td>['en']</td>\n",
       "    </tr>\n",
       "    <tr>\n",
       "      <th>9</th>\n",
       "      <td>['en']</td>\n",
       "    </tr>\n",
       "  </tbody>\n",
       "</table>\n",
       "</div>"
      ],
      "text/plain": [
       "  iso_language_codes\n",
       "0             ['en']\n",
       "1             ['en']\n",
       "2             ['en']\n",
       "3       ['en', 'fr']\n",
       "4             ['en']\n",
       "5             ['en']\n",
       "6             ['en']\n",
       "7             ['en']\n",
       "8             ['en']\n",
       "9             ['en']"
      ]
     },
     "execution_count": 301,
     "metadata": {},
     "output_type": "execute_result"
    }
   ],
   "source": [
    "df_languages.head(10)"
   ]
  },
  {
   "cell_type": "code",
   "execution_count": 302,
   "metadata": {},
   "outputs": [
    {
     "name": "stdout",
     "output_type": "stream",
     "text": [
      "<class 'pandas.core.frame.DataFrame'>\n",
      "RangeIndex: 163416 entries, 0 to 163415\n",
      "Data columns (total 1 columns):\n",
      " #   Column              Non-Null Count   Dtype \n",
      "---  ------              --------------   ----- \n",
      " 0   iso_language_codes  163416 non-null  object\n",
      "dtypes: object(1)\n",
      "memory usage: 1.2+ MB\n"
     ]
    }
   ],
   "source": [
    "df_languages.info()"
   ]
  },
  {
   "cell_type": "code",
   "execution_count": 303,
   "metadata": {},
   "outputs": [
    {
     "name": "stdout",
     "output_type": "stream",
     "text": [
      "    iso_language_code   count\n",
      "0                  en  105117\n",
      "1                  fr   14634\n",
      "2                  de    9693\n",
      "3                  it    8667\n",
      "4                  es    8487\n",
      "..                ...     ...\n",
      "128                ht       3\n",
      "129                to       3\n",
      "130                ty       3\n",
      "131                kw       3\n",
      "132                mh       3\n",
      "\n",
      "[133 rows x 2 columns]\n"
     ]
    }
   ],
   "source": [
    "import pandas as pd\n",
    "\n",
    "# Suponiendo que ya tienes el DataFrame df_movies con la columna 'iso_language_codes'\n",
    "\n",
    "# Convertir los valores en la columna 'iso_language_codes' a listas\n",
    "df_movies['iso_language_codes'] = df_movies['iso_language_codes'].apply(eval)\n",
    "\n",
    "# Contar la cantidad de veces que aparece cada idioma\n",
    "language_counts = df_movies['iso_language_codes'].explode().value_counts()\n",
    "\n",
    "# Convertir el conteo en un nuevo DataFrame\n",
    "df_language_counts = pd.DataFrame({'iso_language_code': language_counts.index, 'count': language_counts.values})\n",
    "\n",
    "print(df_language_counts)\n",
    "\n"
   ]
  },
  {
   "cell_type": "code",
   "execution_count": 304,
   "metadata": {},
   "outputs": [
    {
     "data": {
      "text/html": [
       "<div>\n",
       "<style scoped>\n",
       "    .dataframe tbody tr th:only-of-type {\n",
       "        vertical-align: middle;\n",
       "    }\n",
       "\n",
       "    .dataframe tbody tr th {\n",
       "        vertical-align: top;\n",
       "    }\n",
       "\n",
       "    .dataframe thead th {\n",
       "        text-align: right;\n",
       "    }\n",
       "</style>\n",
       "<table border=\"1\" class=\"dataframe\">\n",
       "  <thead>\n",
       "    <tr style=\"text-align: right;\">\n",
       "      <th></th>\n",
       "      <th>iso_language_code</th>\n",
       "      <th>count</th>\n",
       "    </tr>\n",
       "  </thead>\n",
       "  <tbody>\n",
       "    <tr>\n",
       "      <th>0</th>\n",
       "      <td>en</td>\n",
       "      <td>105117</td>\n",
       "    </tr>\n",
       "    <tr>\n",
       "      <th>1</th>\n",
       "      <td>fr</td>\n",
       "      <td>14634</td>\n",
       "    </tr>\n",
       "    <tr>\n",
       "      <th>2</th>\n",
       "      <td>de</td>\n",
       "      <td>9693</td>\n",
       "    </tr>\n",
       "    <tr>\n",
       "      <th>3</th>\n",
       "      <td>it</td>\n",
       "      <td>8667</td>\n",
       "    </tr>\n",
       "    <tr>\n",
       "      <th>4</th>\n",
       "      <td>es</td>\n",
       "      <td>8487</td>\n",
       "    </tr>\n",
       "    <tr>\n",
       "      <th>...</th>\n",
       "      <td>...</td>\n",
       "      <td>...</td>\n",
       "    </tr>\n",
       "    <tr>\n",
       "      <th>128</th>\n",
       "      <td>ht</td>\n",
       "      <td>3</td>\n",
       "    </tr>\n",
       "    <tr>\n",
       "      <th>129</th>\n",
       "      <td>to</td>\n",
       "      <td>3</td>\n",
       "    </tr>\n",
       "    <tr>\n",
       "      <th>130</th>\n",
       "      <td>ty</td>\n",
       "      <td>3</td>\n",
       "    </tr>\n",
       "    <tr>\n",
       "      <th>131</th>\n",
       "      <td>kw</td>\n",
       "      <td>3</td>\n",
       "    </tr>\n",
       "    <tr>\n",
       "      <th>132</th>\n",
       "      <td>mh</td>\n",
       "      <td>3</td>\n",
       "    </tr>\n",
       "  </tbody>\n",
       "</table>\n",
       "<p>133 rows × 2 columns</p>\n",
       "</div>"
      ],
      "text/plain": [
       "    iso_language_code   count\n",
       "0                  en  105117\n",
       "1                  fr   14634\n",
       "2                  de    9693\n",
       "3                  it    8667\n",
       "4                  es    8487\n",
       "..                ...     ...\n",
       "128                ht       3\n",
       "129                to       3\n",
       "130                ty       3\n",
       "131                kw       3\n",
       "132                mh       3\n",
       "\n",
       "[133 rows x 2 columns]"
      ]
     },
     "execution_count": 304,
     "metadata": {},
     "output_type": "execute_result"
    }
   ],
   "source": [
    "df_language_counts"
   ]
  },
  {
   "cell_type": "markdown",
   "metadata": {},
   "source": [
    "#### Merge dataset complementario so idiomas "
   ]
  },
  {
   "cell_type": "code",
   "execution_count": 305,
   "metadata": {},
   "outputs": [],
   "source": [
    "df_f1_lang_movie_count = pd.merge(df_language_counts, iso_language_data , on='iso_language_code', how='left')"
   ]
  },
  {
   "cell_type": "code",
   "execution_count": 306,
   "metadata": {},
   "outputs": [
    {
     "data": {
      "text/html": [
       "<div>\n",
       "<style scoped>\n",
       "    .dataframe tbody tr th:only-of-type {\n",
       "        vertical-align: middle;\n",
       "    }\n",
       "\n",
       "    .dataframe tbody tr th {\n",
       "        vertical-align: top;\n",
       "    }\n",
       "\n",
       "    .dataframe thead th {\n",
       "        text-align: right;\n",
       "    }\n",
       "</style>\n",
       "<table border=\"1\" class=\"dataframe\">\n",
       "  <thead>\n",
       "    <tr style=\"text-align: right;\">\n",
       "      <th></th>\n",
       "      <th>iso_language_code</th>\n",
       "      <th>count</th>\n",
       "      <th>language_name</th>\n",
       "    </tr>\n",
       "  </thead>\n",
       "  <tbody>\n",
       "    <tr>\n",
       "      <th>0</th>\n",
       "      <td>en</td>\n",
       "      <td>105117</td>\n",
       "      <td>English</td>\n",
       "    </tr>\n",
       "    <tr>\n",
       "      <th>1</th>\n",
       "      <td>fr</td>\n",
       "      <td>14634</td>\n",
       "      <td>French</td>\n",
       "    </tr>\n",
       "    <tr>\n",
       "      <th>2</th>\n",
       "      <td>de</td>\n",
       "      <td>9693</td>\n",
       "      <td>German</td>\n",
       "    </tr>\n",
       "    <tr>\n",
       "      <th>3</th>\n",
       "      <td>it</td>\n",
       "      <td>8667</td>\n",
       "      <td>Italian</td>\n",
       "    </tr>\n",
       "    <tr>\n",
       "      <th>4</th>\n",
       "      <td>es</td>\n",
       "      <td>8487</td>\n",
       "      <td>Spanish; Castilian</td>\n",
       "    </tr>\n",
       "    <tr>\n",
       "      <th>...</th>\n",
       "      <td>...</td>\n",
       "      <td>...</td>\n",
       "      <td>...</td>\n",
       "    </tr>\n",
       "    <tr>\n",
       "      <th>128</th>\n",
       "      <td>ht</td>\n",
       "      <td>3</td>\n",
       "      <td>Haitian; Haitian Creole</td>\n",
       "    </tr>\n",
       "    <tr>\n",
       "      <th>129</th>\n",
       "      <td>to</td>\n",
       "      <td>3</td>\n",
       "      <td>Tonga (Tonga Islands)</td>\n",
       "    </tr>\n",
       "    <tr>\n",
       "      <th>130</th>\n",
       "      <td>ty</td>\n",
       "      <td>3</td>\n",
       "      <td>Tahitian</td>\n",
       "    </tr>\n",
       "    <tr>\n",
       "      <th>131</th>\n",
       "      <td>kw</td>\n",
       "      <td>3</td>\n",
       "      <td>Cornish</td>\n",
       "    </tr>\n",
       "    <tr>\n",
       "      <th>132</th>\n",
       "      <td>mh</td>\n",
       "      <td>3</td>\n",
       "      <td>Marshallese</td>\n",
       "    </tr>\n",
       "  </tbody>\n",
       "</table>\n",
       "<p>133 rows × 3 columns</p>\n",
       "</div>"
      ],
      "text/plain": [
       "    iso_language_code   count            language_name\n",
       "0                  en  105117                  English\n",
       "1                  fr   14634                   French\n",
       "2                  de    9693                   German\n",
       "3                  it    8667                  Italian\n",
       "4                  es    8487       Spanish; Castilian\n",
       "..                ...     ...                      ...\n",
       "128                ht       3  Haitian; Haitian Creole\n",
       "129                to       3    Tonga (Tonga Islands)\n",
       "130                ty       3                 Tahitian\n",
       "131                kw       3                  Cornish\n",
       "132                mh       3              Marshallese\n",
       "\n",
       "[133 rows x 3 columns]"
      ]
     },
     "execution_count": 306,
     "metadata": {},
     "output_type": "execute_result"
    }
   ],
   "source": [
    "df_f1_lang_movie_count"
   ]
  },
  {
   "cell_type": "markdown",
   "metadata": {},
   "source": [
    "#### Guardo dataframe:"
   ]
  },
  {
   "cell_type": "code",
   "execution_count": 307,
   "metadata": {},
   "outputs": [],
   "source": [
    "df_f1_lang_movie_count.to_pickle('../../Datasets Cleaned & light/df_f1_lang_movie_count.pkl')\n"
   ]
  },
  {
   "cell_type": "markdown",
   "metadata": {},
   "source": [
    "#### Funcion 1:"
   ]
  },
  {
   "cell_type": "code",
   "execution_count": 308,
   "metadata": {},
   "outputs": [
    {
     "name": "stdout",
     "output_type": "stream",
     "text": [
      "Nombre del lenguaje: English\n",
      "ISO Language Code: en\n",
      "Movies count: 105117\n"
     ]
    }
   ],
   "source": [
    "def print_language_count(language_name):\n",
    "    # Filtrar el DataFrame para obtener las filas que corresponden al language_name proporcionado\n",
    "    filtered_df = df_f1_lang_movie_count[df_f1_lang_movie_count['language_name'] == language_name]\n",
    "    \n",
    "    if not filtered_df.empty:\n",
    "        # Obtener los valores del iso_language_code y el conteo\n",
    "        iso_language_code = filtered_df['iso_language_code'].values[0]\n",
    "        count = filtered_df['count'].values[0]\n",
    "        \n",
    "        # Imprimir los resultados\n",
    "        print(f\"Nombre del lenguaje: {language_name}\")\n",
    "        print(f\"ISO Language Code: {iso_language_code}\")\n",
    "        print(f\"Movies count: {count}\")\n",
    "    else:\n",
    "        print(f\"No se encontró el lenguaje: {language_name}\")\n",
    "\n",
    "# Ejemplo de uso\n",
    "language_name_to_find = \"English\"\n",
    "print_language_count(language_name_to_find)"
   ]
  },
  {
   "cell_type": "markdown",
   "metadata": {},
   "source": [
    "__________________________________________________________"
   ]
  },
  {
   "cell_type": "markdown",
   "metadata": {},
   "source": [
    "### + def **peliculas_duracion( *`Pelicula`: str* )**:\n",
    "    Se ingresa una pelicula. Debe devolver la duracion y el año.\n",
    "\n",
    "&nbsp;&nbsp;&nbsp;&nbsp;&nbsp;&nbsp;&nbsp;&nbsp;&nbsp;&nbsp;&nbsp;&nbsp;&nbsp;&nbsp;&nbsp;&nbsp;&nbsp;&nbsp;&nbsp;&nbsp;Ejemplo de retorno: *`X` . Duración: `x`. Año: `xx`*\n"
   ]
  },
  {
   "cell_type": "markdown",
   "metadata": {},
   "source": [
    "#### df_movies calling.."
   ]
  },
  {
   "cell_type": "code",
   "execution_count": 309,
   "metadata": {},
   "outputs": [],
   "source": [
    "df_runtime = df_movies[['title','runtime']]"
   ]
  },
  {
   "cell_type": "code",
   "execution_count": 310,
   "metadata": {},
   "outputs": [],
   "source": [
    "df_runtime = df_runtime.drop_duplicates()"
   ]
  },
  {
   "cell_type": "code",
   "execution_count": 311,
   "metadata": {},
   "outputs": [
    {
     "data": {
      "text/html": [
       "<div>\n",
       "<style scoped>\n",
       "    .dataframe tbody tr th:only-of-type {\n",
       "        vertical-align: middle;\n",
       "    }\n",
       "\n",
       "    .dataframe tbody tr th {\n",
       "        vertical-align: top;\n",
       "    }\n",
       "\n",
       "    .dataframe thead th {\n",
       "        text-align: right;\n",
       "    }\n",
       "</style>\n",
       "<table border=\"1\" class=\"dataframe\">\n",
       "  <thead>\n",
       "    <tr style=\"text-align: right;\">\n",
       "      <th></th>\n",
       "      <th>title</th>\n",
       "      <th>runtime</th>\n",
       "    </tr>\n",
       "  </thead>\n",
       "  <tbody>\n",
       "    <tr>\n",
       "      <th>0</th>\n",
       "      <td>toy story</td>\n",
       "      <td>81</td>\n",
       "    </tr>\n",
       "    <tr>\n",
       "      <th>3</th>\n",
       "      <td>jumanji</td>\n",
       "      <td>104</td>\n",
       "    </tr>\n",
       "    <tr>\n",
       "      <th>4</th>\n",
       "      <td>grumpier old men</td>\n",
       "      <td>101</td>\n",
       "    </tr>\n",
       "    <tr>\n",
       "      <th>7</th>\n",
       "      <td>waiting to exhale</td>\n",
       "      <td>127</td>\n",
       "    </tr>\n",
       "    <tr>\n",
       "      <th>8</th>\n",
       "      <td>father of the bride part ii</td>\n",
       "      <td>106</td>\n",
       "    </tr>\n",
       "    <tr>\n",
       "      <th>...</th>\n",
       "      <td>...</td>\n",
       "      <td>...</td>\n",
       "    </tr>\n",
       "    <tr>\n",
       "      <th>162966</th>\n",
       "      <td>true</td>\n",
       "      <td>10</td>\n",
       "    </tr>\n",
       "    <tr>\n",
       "      <th>163244</th>\n",
       "      <td>między nami dobrze jest</td>\n",
       "      <td>0</td>\n",
       "    </tr>\n",
       "    <tr>\n",
       "      <th>163246</th>\n",
       "      <td>włatcy móch. ćmoki, czopki i mondzioły</td>\n",
       "      <td>94</td>\n",
       "    </tr>\n",
       "    <tr>\n",
       "      <th>163327</th>\n",
       "      <td>іван сила</td>\n",
       "      <td>80</td>\n",
       "    </tr>\n",
       "    <tr>\n",
       "      <th>163383</th>\n",
       "      <td>šíleně smutná princezna</td>\n",
       "      <td>73</td>\n",
       "    </tr>\n",
       "  </tbody>\n",
       "</table>\n",
       "<p>45441 rows × 2 columns</p>\n",
       "</div>"
      ],
      "text/plain": [
       "                                         title  runtime\n",
       "0                                    toy story       81\n",
       "3                                      jumanji      104\n",
       "4                             grumpier old men      101\n",
       "7                            waiting to exhale      127\n",
       "8                  father of the bride part ii      106\n",
       "...                                        ...      ...\n",
       "162966                                    true       10\n",
       "163244                 między nami dobrze jest        0\n",
       "163246  włatcy móch. ćmoki, czopki i mondzioły       94\n",
       "163327                               іван сила       80\n",
       "163383                 šíleně smutná princezna       73\n",
       "\n",
       "[45441 rows x 2 columns]"
      ]
     },
     "execution_count": 311,
     "metadata": {},
     "output_type": "execute_result"
    }
   ],
   "source": [
    "df_runtime"
   ]
  },
  {
   "cell_type": "markdown",
   "metadata": {},
   "source": [
    "#### Guardo dataframe:"
   ]
  },
  {
   "cell_type": "code",
   "execution_count": 312,
   "metadata": {},
   "outputs": [],
   "source": [
    "df_runtime.to_pickle('../../Datasets Cleaned & light/df_f2_movies_runtime.pkl')\n"
   ]
  },
  {
   "cell_type": "markdown",
   "metadata": {},
   "source": [
    "#### Funcion 2:"
   ]
  },
  {
   "cell_type": "code",
   "execution_count": 313,
   "metadata": {},
   "outputs": [
    {
     "name": "stdout",
     "output_type": "stream",
     "text": [
      "Nombre de la película: jumanji\n",
      "Runtime: 104 minutos\n"
     ]
    }
   ],
   "source": [
    "\n",
    "def print_movie_runtime(movie_name):\n",
    "    # Filtrar el DataFrame para obtener la fila que corresponde al nombre de la película proporcionado\n",
    "    filtered_df = df_runtime[df_runtime['title'] == movie_name]\n",
    "    \n",
    "    if not filtered_df.empty:\n",
    "        # Obtener el valor del runtime\n",
    "        runtime = filtered_df['runtime'].values[0]\n",
    "        \n",
    "        # Imprimir el resultado\n",
    "        print(f\"Nombre de la película: {movie_name}\")\n",
    "        print(f\"Runtime: {runtime} minutos\")\n",
    "    else:\n",
    "        print(f\"No se encontró la película: {movie_name}\")\n",
    "\n",
    "# Ejemplo de uso\n",
    "movie_name_to_find = \"jumanji\"\n",
    "print_movie_runtime(movie_name_to_find)"
   ]
  },
  {
   "cell_type": "markdown",
   "metadata": {},
   "source": [
    "__________________________________________________"
   ]
  },
  {
   "cell_type": "markdown",
   "metadata": {},
   "source": [
    "### + def **franquicia( *`Franquicia`: str* )**:\n",
    "    Se ingresa la franquicia, retornando la cantidad de peliculas, ganancia total y promedio\n",
    "    \n",
    "&nbsp;&nbsp;&nbsp;&nbsp;&nbsp;&nbsp;&nbsp;&nbsp;&nbsp;&nbsp;&nbsp;&nbsp;&nbsp;&nbsp;&nbsp;&nbsp;&nbsp;&nbsp;&nbsp;&nbsp;Ejemplo de retorno: *La franquicia `X` posee `X` peliculas, una ganancia total de `x` y una ganancia promedio de `xx`*\n"
   ]
  },
  {
   "cell_type": "markdown",
   "metadata": {},
   "source": [
    "#### Masking and making new df_f3:"
   ]
  },
  {
   "cell_type": "code",
   "execution_count": 314,
   "metadata": {},
   "outputs": [],
   "source": [
    "df_f3_collection_name_returns = df_movies[['collection_name','id','title','return']]"
   ]
  },
  {
   "cell_type": "code",
   "execution_count": 315,
   "metadata": {},
   "outputs": [
    {
     "data": {
      "text/html": [
       "<div>\n",
       "<style scoped>\n",
       "    .dataframe tbody tr th:only-of-type {\n",
       "        vertical-align: middle;\n",
       "    }\n",
       "\n",
       "    .dataframe tbody tr th {\n",
       "        vertical-align: top;\n",
       "    }\n",
       "\n",
       "    .dataframe thead th {\n",
       "        text-align: right;\n",
       "    }\n",
       "</style>\n",
       "<table border=\"1\" class=\"dataframe\">\n",
       "  <thead>\n",
       "    <tr style=\"text-align: right;\">\n",
       "      <th></th>\n",
       "      <th>collection_name</th>\n",
       "      <th>id_list</th>\n",
       "      <th>title_list</th>\n",
       "      <th>return_sum</th>\n",
       "      <th>return_mean</th>\n",
       "    </tr>\n",
       "  </thead>\n",
       "  <tbody>\n",
       "    <tr>\n",
       "      <th>0</th>\n",
       "      <td>... has fallen collection</td>\n",
       "      <td>[117263, 117263, 117263, 267860, 267860, 26786...</td>\n",
       "      <td>[olympus has fallen, olympus has fallen, olymp...</td>\n",
       "      <td>51.566464</td>\n",
       "      <td>2.864804</td>\n",
       "    </tr>\n",
       "    <tr>\n",
       "      <th>1</th>\n",
       "      <td>00 schneider filmreihe</td>\n",
       "      <td>[1652, 1652, 1652, 1652, 1652, 1652, 1652, 165...</td>\n",
       "      <td>[00 schneider - jagd auf nihil baxter, 00 schn...</td>\n",
       "      <td>28.728745</td>\n",
       "      <td>3.192083</td>\n",
       "    </tr>\n",
       "    <tr>\n",
       "      <th>2</th>\n",
       "      <td>08/15 collection</td>\n",
       "      <td>[19430, 19430, 19430, 19430, 19430, 19430, 194...</td>\n",
       "      <td>[08/15, 08/15, 08/15, 08/15, 08/15, 08/15, 08/...</td>\n",
       "      <td>28.728745</td>\n",
       "      <td>3.192083</td>\n",
       "    </tr>\n",
       "    <tr>\n",
       "      <th>3</th>\n",
       "      <td>100 girls collection</td>\n",
       "      <td>[10035, 10035, 10035, 20648, 20648, 20648, 100...</td>\n",
       "      <td>[100 girls, 100 girls, 100 girls, 100 women, 1...</td>\n",
       "      <td>57.457490</td>\n",
       "      <td>3.192083</td>\n",
       "    </tr>\n",
       "    <tr>\n",
       "      <th>4</th>\n",
       "      <td>101 dalmatians (animated) collection</td>\n",
       "      <td>[12230, 12230, 12230, 13654, 13654, 13654, 122...</td>\n",
       "      <td>[one hundred and one dalmatians, one hundred a...</td>\n",
       "      <td>514.458776</td>\n",
       "      <td>28.581043</td>\n",
       "    </tr>\n",
       "  </tbody>\n",
       "</table>\n",
       "</div>"
      ],
      "text/plain": [
       "                        collection_name  \\\n",
       "0             ... has fallen collection   \n",
       "1                00 schneider filmreihe   \n",
       "2                      08/15 collection   \n",
       "3                  100 girls collection   \n",
       "4  101 dalmatians (animated) collection   \n",
       "\n",
       "                                             id_list  \\\n",
       "0  [117263, 117263, 117263, 267860, 267860, 26786...   \n",
       "1  [1652, 1652, 1652, 1652, 1652, 1652, 1652, 165...   \n",
       "2  [19430, 19430, 19430, 19430, 19430, 19430, 194...   \n",
       "3  [10035, 10035, 10035, 20648, 20648, 20648, 100...   \n",
       "4  [12230, 12230, 12230, 13654, 13654, 13654, 122...   \n",
       "\n",
       "                                          title_list  return_sum  return_mean  \n",
       "0  [olympus has fallen, olympus has fallen, olymp...   51.566464     2.864804  \n",
       "1  [00 schneider - jagd auf nihil baxter, 00 schn...   28.728745     3.192083  \n",
       "2  [08/15, 08/15, 08/15, 08/15, 08/15, 08/15, 08/...   28.728745     3.192083  \n",
       "3  [100 girls, 100 girls, 100 girls, 100 women, 1...   57.457490     3.192083  \n",
       "4  [one hundred and one dalmatians, one hundred a...  514.458776    28.581043  "
      ]
     },
     "execution_count": 315,
     "metadata": {},
     "output_type": "execute_result"
    }
   ],
   "source": [
    "# Agrupar por 'collection_name'\n",
    "df_f3_collection_name_returns = df_f3_collection_name_returns.groupby('collection_name').agg({\n",
    "    'id': list,\n",
    "    'title': list,\n",
    "    'return': ['sum', 'mean']\n",
    "}).reset_index()\n",
    "\n",
    "# Renombrar las columnas del DataFrame resultante\n",
    "df_f3_collection_name_returns.columns = ['collection_name', 'id_list', 'title_list', 'return_sum', 'return_mean']\n",
    "\n",
    "df_f3_collection_name_returns.head()"
   ]
  },
  {
   "cell_type": "markdown",
   "metadata": {},
   "source": [
    "#### Guardo Dataframe:"
   ]
  },
  {
   "cell_type": "code",
   "execution_count": 316,
   "metadata": {},
   "outputs": [],
   "source": [
    "df_f3_collection_name_returns.to_pickle('../../Datasets Cleaned & light/df_f3_collection_name_returns.pkl')"
   ]
  },
  {
   "cell_type": "markdown",
   "metadata": {},
   "source": [
    "#### Funcion 3:"
   ]
  },
  {
   "cell_type": "code",
   "execution_count": 317,
   "metadata": {},
   "outputs": [
    {
     "name": "stdout",
     "output_type": "stream",
     "text": [
      "La franquicia 00 schneider filmreihe posee 1 películas, una ganancia total de 28.73 y una ganancia promedio de 3.19, aproximadamente...\n"
     ]
    }
   ],
   "source": [
    "def franquicia(collection_name: str):\n",
    "    # Filtrar los datos en función del valor de la columna 'collection_name'\n",
    "    df_return = df_f3_collection_name_returns[df_f3_collection_name_returns['collection_name'] == collection_name]\n",
    "\n",
    "    # Verificar si la colección fue encontrada\n",
    "    if df_return.empty:\n",
    "        print(f\"No se encontró la colección '{collection_name}' en el dataframe.\")\n",
    "        return\n",
    "\n",
    "    # Calcular la cantidad de películas\n",
    "    cantidad_peliculas = len(df_return)\n",
    "\n",
    "    # Calcular la ganancia total\n",
    "    ganancia_total = df_return['return_sum'].sum()\n",
    "\n",
    "    # Calcular la ganancia promedio\n",
    "    ganancia_promedio = df_return['return_mean'].mean()\n",
    "\n",
    "    # Imprimir el resultado\n",
    "    print(f\"La franquicia {collection_name} posee {cantidad_peliculas} películas, una ganancia total de {(ganancia_total.round(2))} y una ganancia promedio de {(ganancia_promedio.round(2))}, aproximadamente...\")\n",
    "\n",
    "# Ejemplo de uso de la función con el dataframe proporcionado\n",
    "# Suponiendo que ya tienes el dataframe llamado 'collection_df'\n",
    "franquicia('00 schneider filmreihe')"
   ]
  },
  {
   "cell_type": "markdown",
   "metadata": {},
   "source": [
    "### + def **peliculas_pais( *`Pais`: str* )**:\n",
    "    Se ingresa un país (como están escritos en el dataset, no hay que traducirlos!), retornando la cantidad de peliculas producidas en el mismo.\n",
    "    \n",
    "&nbsp;&nbsp;&nbsp;&nbsp;&nbsp;&nbsp;&nbsp;&nbsp;&nbsp;&nbsp;&nbsp;&nbsp;&nb"
   ]
  },
  {
   "cell_type": "markdown",
   "metadata": {},
   "source": [
    "#### creodataset?"
   ]
  },
  {
   "cell_type": "code",
   "execution_count": 318,
   "metadata": {},
   "outputs": [
    {
     "data": {
      "text/plain": [
       "0                ['United States of America']\n",
       "1                ['United States of America']\n",
       "2                ['United States of America']\n",
       "3                ['United States of America']\n",
       "4                ['United States of America']\n",
       "5                ['United States of America']\n",
       "6                ['United States of America']\n",
       "7                ['United States of America']\n",
       "8                ['United States of America']\n",
       "9                ['United States of America']\n",
       "10               ['United States of America']\n",
       "11               ['United States of America']\n",
       "12    ['Germany', 'United States of America']\n",
       "Name: country_names, dtype: object"
      ]
     },
     "execution_count": 318,
     "metadata": {},
     "output_type": "execute_result"
    }
   ],
   "source": [
    "df_movies['country_names'].head(13)"
   ]
  }
 ],
 "metadata": {
  "kernelspec": {
   "display_name": "Python 3",
   "language": "python",
   "name": "python3"
  },
  "language_info": {
   "codemirror_mode": {
    "name": "ipython",
    "version": 3
   },
   "file_extension": ".py",
   "mimetype": "text/x-python",
   "name": "python",
   "nbconvert_exporter": "python",
   "pygments_lexer": "ipython3",
   "version": "3.10.11"
  },
  "orig_nbformat": 4
 },
 "nbformat": 4,
 "nbformat_minor": 2
}
