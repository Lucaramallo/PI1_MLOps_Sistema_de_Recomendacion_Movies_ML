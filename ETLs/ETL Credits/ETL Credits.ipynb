{
 "cells": [
  {
   "cell_type": "markdown",
   "metadata": {},
   "source": [
    "# ETL Credits:"
   ]
  },
  {
   "cell_type": "markdown",
   "metadata": {},
   "source": [
    "## Libreries"
   ]
  },
  {
   "cell_type": "code",
   "execution_count": 17,
   "metadata": {},
   "outputs": [],
   "source": [
    "import pandas as pd\n",
    "import ast\n",
    "import missingno as msno\n",
    "import json\n"
   ]
  },
  {
   "cell_type": "markdown",
   "metadata": {},
   "source": [
    "## Opening CSV Credits data:"
   ]
  },
  {
   "cell_type": "code",
   "execution_count": 18,
   "metadata": {},
   "outputs": [],
   "source": [
    "df_credits_csv = pd.read_csv('D:\\Data Scientist\\CURSADO HENRY DTS09\\PI\\PI1_PT02\\PI_ML_OPS_PT02\\Datasets\\Credits_datasets\\Csvs Credits\\credits_1.csv')"
   ]
  },
  {
   "cell_type": "code",
   "execution_count": 19,
   "metadata": {},
   "outputs": [
    {
     "data": {
      "text/html": [
       "<div>\n",
       "<style scoped>\n",
       "    .dataframe tbody tr th:only-of-type {\n",
       "        vertical-align: middle;\n",
       "    }\n",
       "\n",
       "    .dataframe tbody tr th {\n",
       "        vertical-align: top;\n",
       "    }\n",
       "\n",
       "    .dataframe thead th {\n",
       "        text-align: right;\n",
       "    }\n",
       "</style>\n",
       "<table border=\"1\" class=\"dataframe\">\n",
       "  <thead>\n",
       "    <tr style=\"text-align: right;\">\n",
       "      <th></th>\n",
       "      <th>cast</th>\n",
       "      <th>crew</th>\n",
       "      <th>id</th>\n",
       "    </tr>\n",
       "  </thead>\n",
       "  <tbody>\n",
       "    <tr>\n",
       "      <th>0</th>\n",
       "      <td>[{'cast_id': 14, 'character': 'Woody (voice)',...</td>\n",
       "      <td>[{'credit_id': '52fe4284c3a36847f8024f49', 'de...</td>\n",
       "      <td>862</td>\n",
       "    </tr>\n",
       "  </tbody>\n",
       "</table>\n",
       "</div>"
      ],
      "text/plain": [
       "                                                cast  \\\n",
       "0  [{'cast_id': 14, 'character': 'Woody (voice)',...   \n",
       "\n",
       "                                                crew   id  \n",
       "0  [{'credit_id': '52fe4284c3a36847f8024f49', 'de...  862  "
      ]
     },
     "execution_count": 19,
     "metadata": {},
     "output_type": "execute_result"
    }
   ],
   "source": [
    "df_credits_csv.head(1)"
   ]
  },
  {
   "cell_type": "markdown",
   "metadata": {},
   "source": [
    "### Vamos a tener que explorarlo mas al apestoso csv credits 🤧"
   ]
  },
  {
   "cell_type": "code",
   "execution_count": 20,
   "metadata": {},
   "outputs": [
    {
     "data": {
      "text/plain": [
       "(45476, 3)"
      ]
     },
     "execution_count": 20,
     "metadata": {},
     "output_type": "execute_result"
    }
   ],
   "source": [
    "df_credits_csv.shape"
   ]
  },
  {
   "cell_type": "code",
   "execution_count": 21,
   "metadata": {},
   "outputs": [],
   "source": [
    "df_credits_csv = df_credits_csv.drop_duplicates()"
   ]
  },
  {
   "cell_type": "code",
   "execution_count": 22,
   "metadata": {},
   "outputs": [
    {
     "name": "stdout",
     "output_type": "stream",
     "text": [
      "<class 'pandas.core.frame.DataFrame'>\n",
      "Index: 45439 entries, 0 to 45475\n",
      "Data columns (total 3 columns):\n",
      " #   Column  Non-Null Count  Dtype \n",
      "---  ------  --------------  ----- \n",
      " 0   cast    45439 non-null  object\n",
      " 1   crew    45439 non-null  object\n",
      " 2   id      45439 non-null  int64 \n",
      "dtypes: int64(1), object(2)\n",
      "memory usage: 1.4+ MB\n"
     ]
    }
   ],
   "source": [
    "df_credits_csv.info()"
   ]
  },
  {
   "cell_type": "markdown",
   "metadata": {},
   "source": [
    "elimino la ultima fila que esta vacia"
   ]
  },
  {
   "cell_type": "code",
   "execution_count": 23,
   "metadata": {},
   "outputs": [],
   "source": [
    "df_credits_csv = df_credits_csv.drop(df_credits_csv.index[-1])"
   ]
  },
  {
   "cell_type": "markdown",
   "metadata": {},
   "source": [
    "### Separo la columna id y la guardo aparte para asegurarla, debido a que parece estar ok"
   ]
  },
  {
   "cell_type": "code",
   "execution_count": 24,
   "metadata": {},
   "outputs": [
    {
     "name": "stdout",
     "output_type": "stream",
     "text": [
      "<class 'pandas.core.frame.DataFrame'>\n"
     ]
    }
   ],
   "source": [
    "df_movie_credits_id = pd.DataFrame()\n",
    "df_movie_credits_id['id']= df_credits_csv['id']\n",
    "df_movie_credits_id = df_movie_credits_id.drop_duplicates()\n",
    "print(type(df_movie_credits_id))"
   ]
  },
  {
   "cell_type": "markdown",
   "metadata": {},
   "source": [
    "### Continuo Explorando las dos primeras columnas, cast y crew"
   ]
  },
  {
   "cell_type": "markdown",
   "metadata": {},
   "source": [
    "#### Cast:"
   ]
  },
  {
   "cell_type": "code",
   "execution_count": 25,
   "metadata": {},
   "outputs": [
    {
     "name": "stdout",
     "output_type": "stream",
     "text": [
      "                                                    cast      id\n",
      "0      [{'cast_id': 14, 'character': 'Woody (voice)',...     862\n",
      "1      [{'cast_id': 1, 'character': 'Alan Parrish', '...    8844\n",
      "2      [{'cast_id': 2, 'character': 'Max Goldman', 'c...   15602\n",
      "3      [{'cast_id': 1, 'character': \"Savannah 'Vannah...   31357\n",
      "4      [{'cast_id': 1, 'character': 'George Banks', '...   11862\n",
      "...                                                  ...     ...\n",
      "45470  [{'cast_id': 1, 'character': 'Sir Robert Hode'...   30840\n",
      "45471  [{'cast_id': 0, 'character': '', 'credit_id': ...  439050\n",
      "45472  [{'cast_id': 1002, 'character': 'Sister Angela...  111109\n",
      "45473  [{'cast_id': 6, 'character': 'Emily Shaw', 'cr...   67758\n",
      "45474  [{'cast_id': 2, 'character': '', 'credit_id': ...  227506\n",
      "\n",
      "[45438 rows x 2 columns]\n"
     ]
    }
   ],
   "source": [
    "df_credits_cast = df_credits_csv[['cast','id']]\n",
    "\n",
    "print(df_credits_cast)"
   ]
  },
  {
   "cell_type": "code",
   "execution_count": 26,
   "metadata": {},
   "outputs": [],
   "source": [
    "df_credits_cast = df_credits_cast.drop_duplicates()"
   ]
  },
  {
   "cell_type": "code",
   "execution_count": 27,
   "metadata": {},
   "outputs": [
    {
     "name": "stdout",
     "output_type": "stream",
     "text": [
      "                                                cast    id\n",
      "1  [{'cast_id': 1, 'character': 'Alan Parrish', '...  8844\n"
     ]
    }
   ],
   "source": [
    "print(df_credits_cast.iloc[1:2])"
   ]
  },
  {
   "cell_type": "code",
   "execution_count": 36,
   "metadata": {},
   "outputs": [],
   "source": [
    "import json\n",
    "\n",
    "iteracion = 0\n",
    "df_cast_cleaned = pd.DataFrame()\n",
    "\n",
    "# Iterar a través de la columna 'cast' en df_credits_cast\n",
    "for row in df_credits_cast['cast']:\n",
    "    try:\n",
    "        # Utilizar json.loads para convertir la representación de cadena en una lista de diccionarios\n",
    "        list_of_dicts = json.loads(row.replace(\"'\", \"\\\"\"))\n",
    "\n",
    "        # Verificar si el 'id' de la película existe en la columna 'id' de df_movie_credits_id\n",
    "        if df_movie_credits_id['id'].isin([d['id'] for d in list_of_dicts]).any():\n",
    "            # Crear el DataFrame con los datos del cast\n",
    "            cast_df = pd.DataFrame(list_of_dicts)\n",
    "\n",
    "            # Obtener el 'id' de la película de df_movie_credits_id\n",
    "            movie_id = df_movie_credits_id['id'].iloc[iteracion]\n",
    "\n",
    "            # Agregar el 'movie_id' al DataFrame cast_df\n",
    "            cast_df['movie_id'] = movie_id\n",
    "\n",
    "            # Unificar los DataFrames utilizando concat\n",
    "            df_cast_cleaned = pd.concat([df_cast_cleaned, cast_df], ignore_index=True)\n",
    "\n",
    "            # Incrementar el contador de iteración\n",
    "            iteracion += 1\n",
    "        else:\n",
    "            # Si el 'id' de la película no existe en df_movie_credits_id, omitimos esta película\n",
    "            pass\n",
    "    except json.JSONDecodeError:\n",
    "        # Omitir las filas que no se pueden decodificar como JSON\n",
    "        pass\n"
   ]
  },
  {
   "cell_type": "code",
   "execution_count": 39,
   "metadata": {},
   "outputs": [
    {
     "data": {
      "text/html": [
       "<div>\n",
       "<style scoped>\n",
       "    .dataframe tbody tr th:only-of-type {\n",
       "        vertical-align: middle;\n",
       "    }\n",
       "\n",
       "    .dataframe tbody tr th {\n",
       "        vertical-align: top;\n",
       "    }\n",
       "\n",
       "    .dataframe thead th {\n",
       "        text-align: right;\n",
       "    }\n",
       "</style>\n",
       "<table border=\"1\" class=\"dataframe\">\n",
       "  <thead>\n",
       "    <tr style=\"text-align: right;\">\n",
       "      <th></th>\n",
       "      <th>cast_id</th>\n",
       "      <th>character</th>\n",
       "      <th>credit_id</th>\n",
       "      <th>gender</th>\n",
       "      <th>id</th>\n",
       "      <th>name</th>\n",
       "      <th>order</th>\n",
       "      <th>profile_path</th>\n",
       "      <th>movie_id</th>\n",
       "    </tr>\n",
       "  </thead>\n",
       "  <tbody>\n",
       "    <tr>\n",
       "      <th>0</th>\n",
       "      <td>1</td>\n",
       "      <td>Sir Robert Hode</td>\n",
       "      <td>52fe44439251416c9100a887</td>\n",
       "      <td>2</td>\n",
       "      <td>29459</td>\n",
       "      <td>Patrick Bergin</td>\n",
       "      <td>0</td>\n",
       "      <td>/mxFum2Fr5YWD6kDQYb5u7EEvuva.jpg</td>\n",
       "      <td>111815</td>\n",
       "    </tr>\n",
       "    <tr>\n",
       "      <th>1</th>\n",
       "      <td>2</td>\n",
       "      <td>Maid Marian</td>\n",
       "      <td>52fe44439251416c9100a88b</td>\n",
       "      <td>1</td>\n",
       "      <td>139</td>\n",
       "      <td>Uma Thurman</td>\n",
       "      <td>1</td>\n",
       "      <td>/6SuOc2R7kXjq3Em24KTNDW9qblJ.jpg</td>\n",
       "      <td>111815</td>\n",
       "    </tr>\n",
       "    <tr>\n",
       "      <th>2</th>\n",
       "      <td>3</td>\n",
       "      <td>Little John</td>\n",
       "      <td>52fe44439251416c9100a88f</td>\n",
       "      <td>2</td>\n",
       "      <td>18616</td>\n",
       "      <td>David Morrissey</td>\n",
       "      <td>2</td>\n",
       "      <td>/y8L9zlrIzsAwu2Hufol6KqoDS4I.jpg</td>\n",
       "      <td>111815</td>\n",
       "    </tr>\n",
       "    <tr>\n",
       "      <th>3</th>\n",
       "      <td>4</td>\n",
       "      <td>Sir Miles Folcanet</td>\n",
       "      <td>52fe44439251416c9100a893</td>\n",
       "      <td>2</td>\n",
       "      <td>920</td>\n",
       "      <td>Jürgen Prochnow</td>\n",
       "      <td>3</td>\n",
       "      <td>/aar3n9NEQdwWVvPOne3kLLXm75N.jpg</td>\n",
       "      <td>111815</td>\n",
       "    </tr>\n",
       "    <tr>\n",
       "      <th>4</th>\n",
       "      <td>14</td>\n",
       "      <td>Baron Roger Daguerre</td>\n",
       "      <td>58207d0d92514168ad013b03</td>\n",
       "      <td>0</td>\n",
       "      <td>1924</td>\n",
       "      <td>Jeroen Krabbé</td>\n",
       "      <td>4</td>\n",
       "      <td>/A5Mks6zi6Xzt9A8fxBWc3wdlvhx.jpg</td>\n",
       "      <td>111815</td>\n",
       "    </tr>\n",
       "  </tbody>\n",
       "</table>\n",
       "</div>"
      ],
      "text/plain": [
       "   cast_id             character                 credit_id  gender     id  \\\n",
       "0        1       Sir Robert Hode  52fe44439251416c9100a887       2  29459   \n",
       "1        2           Maid Marian  52fe44439251416c9100a88b       1    139   \n",
       "2        3           Little John  52fe44439251416c9100a88f       2  18616   \n",
       "3        4    Sir Miles Folcanet  52fe44439251416c9100a893       2    920   \n",
       "4       14  Baron Roger Daguerre  58207d0d92514168ad013b03       0   1924   \n",
       "\n",
       "              name  order                      profile_path  movie_id  \n",
       "0   Patrick Bergin      0  /mxFum2Fr5YWD6kDQYb5u7EEvuva.jpg    111815  \n",
       "1      Uma Thurman      1  /6SuOc2R7kXjq3Em24KTNDW9qblJ.jpg    111815  \n",
       "2  David Morrissey      2  /y8L9zlrIzsAwu2Hufol6KqoDS4I.jpg    111815  \n",
       "3  Jürgen Prochnow      3  /aar3n9NEQdwWVvPOne3kLLXm75N.jpg    111815  \n",
       "4    Jeroen Krabbé      4  /A5Mks6zi6Xzt9A8fxBWc3wdlvhx.jpg    111815  "
      ]
     },
     "execution_count": 39,
     "metadata": {},
     "output_type": "execute_result"
    }
   ],
   "source": [
    "cast_df"
   ]
  },
  {
   "cell_type": "code",
   "execution_count": 40,
   "metadata": {},
   "outputs": [
    {
     "data": {
      "text/plain": [
       "(53558, 9)"
      ]
     },
     "execution_count": 40,
     "metadata": {},
     "output_type": "execute_result"
    }
   ],
   "source": [
    "df_cast_cleaned.shape"
   ]
  },
  {
   "cell_type": "code",
   "execution_count": 41,
   "metadata": {},
   "outputs": [
    {
     "data": {
      "text/html": [
       "<div>\n",
       "<style scoped>\n",
       "    .dataframe tbody tr th:only-of-type {\n",
       "        vertical-align: middle;\n",
       "    }\n",
       "\n",
       "    .dataframe tbody tr th {\n",
       "        vertical-align: top;\n",
       "    }\n",
       "\n",
       "    .dataframe thead th {\n",
       "        text-align: right;\n",
       "    }\n",
       "</style>\n",
       "<table border=\"1\" class=\"dataframe\">\n",
       "  <thead>\n",
       "    <tr style=\"text-align: right;\">\n",
       "      <th></th>\n",
       "      <th>cast_id</th>\n",
       "      <th>character</th>\n",
       "      <th>credit_id</th>\n",
       "      <th>gender</th>\n",
       "      <th>id</th>\n",
       "      <th>name</th>\n",
       "      <th>order</th>\n",
       "      <th>profile_path</th>\n",
       "      <th>movie_id</th>\n",
       "    </tr>\n",
       "  </thead>\n",
       "  <tbody>\n",
       "    <tr>\n",
       "      <th>0</th>\n",
       "      <td>2</td>\n",
       "      <td>Max Goldman</td>\n",
       "      <td>52fe466a9251416c75077a8d</td>\n",
       "      <td>2</td>\n",
       "      <td>6837</td>\n",
       "      <td>Walter Matthau</td>\n",
       "      <td>0</td>\n",
       "      <td>/xJVkvprOnzP5Zdh5y63y8HHniDZ.jpg</td>\n",
       "      <td>862</td>\n",
       "    </tr>\n",
       "    <tr>\n",
       "      <th>1</th>\n",
       "      <td>3</td>\n",
       "      <td>John Gustafson</td>\n",
       "      <td>52fe466a9251416c75077a91</td>\n",
       "      <td>2</td>\n",
       "      <td>3151</td>\n",
       "      <td>Jack Lemmon</td>\n",
       "      <td>1</td>\n",
       "      <td>/chZmNRYMtqkiDlatprGDH4BzGqG.jpg</td>\n",
       "      <td>862</td>\n",
       "    </tr>\n",
       "    <tr>\n",
       "      <th>2</th>\n",
       "      <td>4</td>\n",
       "      <td>Ariel Gustafson</td>\n",
       "      <td>52fe466a9251416c75077a95</td>\n",
       "      <td>1</td>\n",
       "      <td>13567</td>\n",
       "      <td>Ann-Margret</td>\n",
       "      <td>2</td>\n",
       "      <td>/jx5lTaJ5VXZHYB52gaOTAZ9STZk.jpg</td>\n",
       "      <td>862</td>\n",
       "    </tr>\n",
       "    <tr>\n",
       "      <th>3</th>\n",
       "      <td>5</td>\n",
       "      <td>Maria Sophia Coletta Ragetti</td>\n",
       "      <td>52fe466a9251416c75077a99</td>\n",
       "      <td>1</td>\n",
       "      <td>16757</td>\n",
       "      <td>Sophia Loren</td>\n",
       "      <td>3</td>\n",
       "      <td>/emKLhbji1c7BjcA2DdbWf0EP9zH.jpg</td>\n",
       "      <td>862</td>\n",
       "    </tr>\n",
       "    <tr>\n",
       "      <th>4</th>\n",
       "      <td>6</td>\n",
       "      <td>Melanie Gustafson</td>\n",
       "      <td>52fe466a9251416c75077a9d</td>\n",
       "      <td>1</td>\n",
       "      <td>589</td>\n",
       "      <td>Daryl Hannah</td>\n",
       "      <td>4</td>\n",
       "      <td>/4LLmp6AQdlj6ueGCRbVRSGvvFSt.jpg</td>\n",
       "      <td>862</td>\n",
       "    </tr>\n",
       "    <tr>\n",
       "      <th>...</th>\n",
       "      <td>...</td>\n",
       "      <td>...</td>\n",
       "      <td>...</td>\n",
       "      <td>...</td>\n",
       "      <td>...</td>\n",
       "      <td>...</td>\n",
       "      <td>...</td>\n",
       "      <td>...</td>\n",
       "      <td>...</td>\n",
       "    </tr>\n",
       "    <tr>\n",
       "      <th>53553</th>\n",
       "      <td>1</td>\n",
       "      <td>Sir Robert Hode</td>\n",
       "      <td>52fe44439251416c9100a887</td>\n",
       "      <td>2</td>\n",
       "      <td>29459</td>\n",
       "      <td>Patrick Bergin</td>\n",
       "      <td>0</td>\n",
       "      <td>/mxFum2Fr5YWD6kDQYb5u7EEvuva.jpg</td>\n",
       "      <td>111815</td>\n",
       "    </tr>\n",
       "    <tr>\n",
       "      <th>53554</th>\n",
       "      <td>2</td>\n",
       "      <td>Maid Marian</td>\n",
       "      <td>52fe44439251416c9100a88b</td>\n",
       "      <td>1</td>\n",
       "      <td>139</td>\n",
       "      <td>Uma Thurman</td>\n",
       "      <td>1</td>\n",
       "      <td>/6SuOc2R7kXjq3Em24KTNDW9qblJ.jpg</td>\n",
       "      <td>111815</td>\n",
       "    </tr>\n",
       "    <tr>\n",
       "      <th>53555</th>\n",
       "      <td>3</td>\n",
       "      <td>Little John</td>\n",
       "      <td>52fe44439251416c9100a88f</td>\n",
       "      <td>2</td>\n",
       "      <td>18616</td>\n",
       "      <td>David Morrissey</td>\n",
       "      <td>2</td>\n",
       "      <td>/y8L9zlrIzsAwu2Hufol6KqoDS4I.jpg</td>\n",
       "      <td>111815</td>\n",
       "    </tr>\n",
       "    <tr>\n",
       "      <th>53556</th>\n",
       "      <td>4</td>\n",
       "      <td>Sir Miles Folcanet</td>\n",
       "      <td>52fe44439251416c9100a893</td>\n",
       "      <td>2</td>\n",
       "      <td>920</td>\n",
       "      <td>Jürgen Prochnow</td>\n",
       "      <td>3</td>\n",
       "      <td>/aar3n9NEQdwWVvPOne3kLLXm75N.jpg</td>\n",
       "      <td>111815</td>\n",
       "    </tr>\n",
       "    <tr>\n",
       "      <th>53557</th>\n",
       "      <td>14</td>\n",
       "      <td>Baron Roger Daguerre</td>\n",
       "      <td>58207d0d92514168ad013b03</td>\n",
       "      <td>0</td>\n",
       "      <td>1924</td>\n",
       "      <td>Jeroen Krabbé</td>\n",
       "      <td>4</td>\n",
       "      <td>/A5Mks6zi6Xzt9A8fxBWc3wdlvhx.jpg</td>\n",
       "      <td>111815</td>\n",
       "    </tr>\n",
       "  </tbody>\n",
       "</table>\n",
       "<p>53558 rows × 9 columns</p>\n",
       "</div>"
      ],
      "text/plain": [
       "       cast_id                     character                 credit_id  \\\n",
       "0            2                   Max Goldman  52fe466a9251416c75077a8d   \n",
       "1            3                John Gustafson  52fe466a9251416c75077a91   \n",
       "2            4               Ariel Gustafson  52fe466a9251416c75077a95   \n",
       "3            5  Maria Sophia Coletta Ragetti  52fe466a9251416c75077a99   \n",
       "4            6             Melanie Gustafson  52fe466a9251416c75077a9d   \n",
       "...        ...                           ...                       ...   \n",
       "53553        1               Sir Robert Hode  52fe44439251416c9100a887   \n",
       "53554        2                   Maid Marian  52fe44439251416c9100a88b   \n",
       "53555        3                   Little John  52fe44439251416c9100a88f   \n",
       "53556        4            Sir Miles Folcanet  52fe44439251416c9100a893   \n",
       "53557       14          Baron Roger Daguerre  58207d0d92514168ad013b03   \n",
       "\n",
       "       gender     id             name  order  \\\n",
       "0           2   6837   Walter Matthau      0   \n",
       "1           2   3151      Jack Lemmon      1   \n",
       "2           1  13567      Ann-Margret      2   \n",
       "3           1  16757     Sophia Loren      3   \n",
       "4           1    589     Daryl Hannah      4   \n",
       "...       ...    ...              ...    ...   \n",
       "53553       2  29459   Patrick Bergin      0   \n",
       "53554       1    139      Uma Thurman      1   \n",
       "53555       2  18616  David Morrissey      2   \n",
       "53556       2    920  Jürgen Prochnow      3   \n",
       "53557       0   1924    Jeroen Krabbé      4   \n",
       "\n",
       "                           profile_path  movie_id  \n",
       "0      /xJVkvprOnzP5Zdh5y63y8HHniDZ.jpg       862  \n",
       "1      /chZmNRYMtqkiDlatprGDH4BzGqG.jpg       862  \n",
       "2      /jx5lTaJ5VXZHYB52gaOTAZ9STZk.jpg       862  \n",
       "3      /emKLhbji1c7BjcA2DdbWf0EP9zH.jpg       862  \n",
       "4      /4LLmp6AQdlj6ueGCRbVRSGvvFSt.jpg       862  \n",
       "...                                 ...       ...  \n",
       "53553  /mxFum2Fr5YWD6kDQYb5u7EEvuva.jpg    111815  \n",
       "53554  /6SuOc2R7kXjq3Em24KTNDW9qblJ.jpg    111815  \n",
       "53555  /y8L9zlrIzsAwu2Hufol6KqoDS4I.jpg    111815  \n",
       "53556  /aar3n9NEQdwWVvPOne3kLLXm75N.jpg    111815  \n",
       "53557  /A5Mks6zi6Xzt9A8fxBWc3wdlvhx.jpg    111815  \n",
       "\n",
       "[53558 rows x 9 columns]"
      ]
     },
     "execution_count": 41,
     "metadata": {},
     "output_type": "execute_result"
    }
   ],
   "source": [
    "df_cast_cleaned"
   ]
  },
  {
   "cell_type": "code",
   "execution_count": null,
   "metadata": {},
   "outputs": [
    {
     "name": "stdout",
     "output_type": "stream",
     "text": [
      "<class 'pandas.core.frame.DataFrame'>\n",
      "Index: 45431 entries, 0 to 45474\n",
      "Data columns (total 2 columns):\n",
      " #   Column  Non-Null Count  Dtype \n",
      "---  ------  --------------  ----- \n",
      " 0   cast    45431 non-null  object\n",
      " 1   id      45431 non-null  int64 \n",
      "dtypes: int64(1), object(1)\n",
      "memory usage: 1.0+ MB\n"
     ]
    }
   ],
   "source": [
    "df_credits_cast.info()"
   ]
  },
  {
   "cell_type": "code",
   "execution_count": null,
   "metadata": {},
   "outputs": [],
   "source": []
  },
  {
   "cell_type": "markdown",
   "metadata": {},
   "source": [
    "#### Crew:"
   ]
  },
  {
   "cell_type": "markdown",
   "metadata": {},
   "source": [
    "______________________________________________________________________"
   ]
  }
 ],
 "metadata": {
  "kernelspec": {
   "display_name": "Python 3",
   "language": "python",
   "name": "python3"
  },
  "language_info": {
   "codemirror_mode": {
    "name": "ipython",
    "version": 3
   },
   "file_extension": ".py",
   "mimetype": "text/x-python",
   "name": "python",
   "nbconvert_exporter": "python",
   "pygments_lexer": "ipython3",
   "version": "3.10.11"
  },
  "orig_nbformat": 4
 },
 "nbformat": 4,
 "nbformat_minor": 2
}
