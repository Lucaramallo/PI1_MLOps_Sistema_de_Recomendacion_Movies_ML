{
 "cells": [
  {
   "cell_type": "markdown",
   "metadata": {},
   "source": [
    "# ETL Credits:"
   ]
  },
  {
   "cell_type": "markdown",
   "metadata": {},
   "source": [
    "### Libreries"
   ]
  },
  {
   "cell_type": "code",
   "execution_count": 289,
   "metadata": {},
   "outputs": [],
   "source": [
    "import pandas as pd\n",
    "import ast\n",
    "import missingno as msno\n",
    "import json\n",
    "import pickle"
   ]
  },
  {
   "cell_type": "markdown",
   "metadata": {},
   "source": [
    "### Opening CSV Credits data:"
   ]
  },
  {
   "cell_type": "code",
   "execution_count": 290,
   "metadata": {},
   "outputs": [],
   "source": [
    "df_credits_csv = pd.read_csv('D:\\Data Scientist\\CURSADO HENRY DTS09\\PI\\PI1_PT02\\PI_ML_OPS_PT02\\Datasets\\Credits_datasets\\Csvs Credits\\credits_1.csv')"
   ]
  },
  {
   "cell_type": "code",
   "execution_count": 291,
   "metadata": {},
   "outputs": [],
   "source": [
    "# Configurar opciones de visualización\n",
    "pd.set_option('display.width', None)        # No truncar la anchura de la visualización\n",
    "pd.set_option('display.max_colwidth', None) # Mostrar toda la longitud de los valores en las celdas"
   ]
  },
  {
   "cell_type": "code",
   "execution_count": 292,
   "metadata": {},
   "outputs": [
    {
     "data": {
      "text/html": [
       "<div>\n",
       "<style scoped>\n",
       "    .dataframe tbody tr th:only-of-type {\n",
       "        vertical-align: middle;\n",
       "    }\n",
       "\n",
       "    .dataframe tbody tr th {\n",
       "        vertical-align: top;\n",
       "    }\n",
       "\n",
       "    .dataframe thead th {\n",
       "        text-align: right;\n",
       "    }\n",
       "</style>\n",
       "<table border=\"1\" class=\"dataframe\">\n",
       "  <thead>\n",
       "    <tr style=\"text-align: right;\">\n",
       "      <th></th>\n",
       "      <th>cast</th>\n",
       "      <th>crew</th>\n",
       "      <th>id</th>\n",
       "    </tr>\n",
       "  </thead>\n",
       "  <tbody>\n",
       "    <tr>\n",
       "      <th>0</th>\n",
       "      <td>[{'cast_id': 14, 'character': 'Woody (voice)', 'credit_id': '52fe4284c3a36847f8024f95', 'gender': 2, 'id': 31, 'name': 'Tom Hanks', 'order': 0, 'profile_path': '/pQFoyx7rp09CJTAb932F2g8Nlho.jpg'}, {'cast_id': 15, 'character': 'Buzz Lightyear (voice)', 'credit_id': '52fe4284c3a36847f8024f99', 'gender': 2, 'id': 12898, 'name': 'Tim Allen', 'order': 1, 'profile_path': '/uX2xVf6pMmPepxnvFWyBtjexzgY.jpg'}, {'cast_id': 16, 'character': 'Mr. Potato Head (voice)', 'credit_id': '52fe4284c3a36847f8024f9d', 'gender': 2, 'id': 7167, 'name': 'Don Rickles', 'order': 2, 'profile_path': '/h5BcaDMPRVLHLDzbQavec4xfSdt.jpg'}, {'cast_id': 17, 'character': 'Slinky Dog (voice)', 'credit_id': '52fe4284c3a36847f8024fa1', 'gender': 2, 'id': 12899, 'name': 'Jim Varney', 'order': 3, 'profile_path': '/eIo2jVVXYgjDtaHoF19Ll9vtW7h.jpg'}, {'cast_id': 18, 'character': 'Rex (voice)', 'credit_id': '52fe4284c3a36847f8024fa5', 'gender': 2, 'id': 12900, 'name': 'Wallace Shawn', 'order': 4, 'profile_path': '/oGE6JqPP2xH4tNORKNqxbNPYi7u.jpg'}, {'cast_id': 19, 'character': 'Hamm (voice)', 'credit_id': '52fe4284c3a36847f8024fa9', 'gender': 2, 'id': 7907, 'name': 'John Ratzenberger', 'order': 5, 'profile_path': '/yGechiKWL6TJDfVE2KPSJYqdMsY.jpg'}, {'cast_id': 20, 'character': 'Bo Peep (voice)', 'credit_id': '52fe4284c3a36847f8024fad', 'gender': 1, 'id': 8873, 'name': 'Annie Potts', 'order': 6, 'profile_path': '/eryXT84RL41jHSJcMy4kS3u9y6w.jpg'}, {'cast_id': 26, 'character': 'Andy (voice)', 'credit_id': '52fe4284c3a36847f8024fc1', 'gender': 0, 'id': 1116442, 'name': 'John Morris', 'order': 7, 'profile_path': '/vYGyvK4LzeaUCoNSHtsuqJUY15M.jpg'}, {'cast_id': 22, 'character': 'Sid (voice)', 'credit_id': '52fe4284c3a36847f8024fb1', 'gender': 2, 'id': 12901, 'name': 'Erik von Detten', 'order': 8, 'profile_path': '/twnF1ZaJ1FUNUuo6xLXwcxjayBE.jpg'}, {'cast_id': 23, 'character': 'Mrs. Davis (voice)', 'credit_id': '52fe4284c3a36847f8024fb5', 'gender': 1, 'id': 12133, 'name': 'Laurie Metcalf', 'order': 9, 'profile_path': '/unMMIT60eoBM2sN2nyR7EZ2BvvD.jpg'}, {'cast_id': 24, 'character': 'Sergeant (voice)', 'credit_id': '52fe4284c3a36847f8024fb9', 'gender': 2, 'id': 8655, 'name': 'R. Lee Ermey', 'order': 10, 'profile_path': '/r8GBqFBjypLUP9VVqDqfZ7wYbSs.jpg'}, {'cast_id': 25, 'character': 'Hannah (voice)', 'credit_id': '52fe4284c3a36847f8024fbd', 'gender': 1, 'id': 12903, 'name': 'Sarah Freeman', 'order': 11, 'profile_path': None}, {'cast_id': 27, 'character': 'TV Announcer (voice)', 'credit_id': '52fe4284c3a36847f8024fc5', 'gender': 2, 'id': 37221, 'name': 'Penn Jillette', 'order': 12, 'profile_path': '/zmAaXUdx12NRsssgHbk1T31j2x9.jpg'}]</td>\n",
       "      <td>[{'credit_id': '52fe4284c3a36847f8024f49', 'department': 'Directing', 'gender': 2, 'id': 7879, 'job': 'Director', 'name': 'John Lasseter', 'profile_path': '/7EdqiNbr4FRjIhKHyPPdFfEEEFG.jpg'}, {'credit_id': '52fe4284c3a36847f8024f4f', 'department': 'Writing', 'gender': 2, 'id': 12891, 'job': 'Screenplay', 'name': 'Joss Whedon', 'profile_path': '/dTiVsuaTVTeGmvkhcyJvKp2A5kr.jpg'}, {'credit_id': '52fe4284c3a36847f8024f55', 'department': 'Writing', 'gender': 2, 'id': 7, 'job': 'Screenplay', 'name': 'Andrew Stanton', 'profile_path': '/pvQWsu0qc8JFQhMVJkTHuexUAa1.jpg'}, {'credit_id': '52fe4284c3a36847f8024f5b', 'department': 'Writing', 'gender': 2, 'id': 12892, 'job': 'Screenplay', 'name': 'Joel Cohen', 'profile_path': '/dAubAiZcvKFbboWlj7oXOkZnTSu.jpg'}, {'credit_id': '52fe4284c3a36847f8024f61', 'department': 'Writing', 'gender': 0, 'id': 12893, 'job': 'Screenplay', 'name': 'Alec Sokolow', 'profile_path': '/v79vlRYi94BZUQnkkyznbGUZLjT.jpg'}, {'credit_id': '52fe4284c3a36847f8024f67', 'department': 'Production', 'gender': 1, 'id': 12894, 'job': 'Producer', 'name': 'Bonnie Arnold', 'profile_path': None}, {'credit_id': '52fe4284c3a36847f8024f6d', 'department': 'Production', 'gender': 0, 'id': 12895, 'job': 'Executive Producer', 'name': 'Ed Catmull', 'profile_path': None}, {'credit_id': '52fe4284c3a36847f8024f73', 'department': 'Production', 'gender': 2, 'id': 12896, 'job': 'Producer', 'name': 'Ralph Guggenheim', 'profile_path': None}, {'credit_id': '52fe4284c3a36847f8024f79', 'department': 'Production', 'gender': 2, 'id': 12897, 'job': 'Executive Producer', 'name': 'Steve Jobs', 'profile_path': '/mOMP3SwD5qWQSR0ldCIByd3guTV.jpg'}, {'credit_id': '52fe4284c3a36847f8024f8b', 'department': 'Editing', 'gender': 2, 'id': 8, 'job': 'Editor', 'name': 'Lee Unkrich', 'profile_path': '/bdTCCXjgOV3YyaNmLGYGOxFQMOc.jpg'}, {'credit_id': '52fe4284c3a36847f8024f91', 'department': 'Art', 'gender': 2, 'id': 7883, 'job': 'Art Direction', 'name': 'Ralph Eggleston', 'profile_path': '/uUfcGKDsKO1aROMpXRs67Hn6RvR.jpg'}, {'credit_id': '598331bf925141421201044b', 'department': 'Editing', 'gender': 2, 'id': 1168870, 'job': 'Editor', 'name': 'Robert Gordon', 'profile_path': None}, {'credit_id': '5892168cc3a36809660095f9', 'department': 'Sound', 'gender': 0, 'id': 1552883, 'job': 'Foley Editor', 'name': 'Mary Helen Leasman', 'profile_path': None}, {'credit_id': '5531824d9251415289000945', 'department': 'Visual Effects', 'gender': 0, 'id': 1453514, 'job': 'Animation', 'name': 'Kim Blanchette', 'profile_path': None}, {'credit_id': '589215969251412dcb009bf6', 'department': 'Sound', 'gender': 0, 'id': 1414182, 'job': 'ADR Editor', 'name': 'Marilyn McCoppen', 'profile_path': None}, {'credit_id': '589217099251412dc500a018', 'department': 'Sound', 'gender': 2, 'id': 7885, 'job': 'Orchestrator', 'name': 'Randy Newman', 'profile_path': '/w0JzfoiM25nrnxYOzosPHRq6mlE.jpg'}, {'credit_id': '5693e6b29251417b0e0000e3', 'department': 'Editing', 'gender': 0, 'id': 1429549, 'job': 'Color Timer', 'name': 'Dale E. Grahn', 'profile_path': None}, {'credit_id': '572e2522c3a36869e6001a9c', 'department': 'Visual Effects', 'gender': 0, 'id': 7949, 'job': 'CG Painter', 'name': 'Robin Cooper', 'profile_path': None}, {'credit_id': '574f12309251415ca1000012', 'department': 'Writing', 'gender': 2, 'id': 7879, 'job': 'Original Story', 'name': 'John Lasseter', 'profile_path': '/7EdqiNbr4FRjIhKHyPPdFfEEEFG.jpg'}, {'credit_id': '574f1240c3a3682e7300001c', 'department': 'Writing', 'gender': 2, 'id': 12890, 'job': 'Original Story', 'name': 'Pete Docter', 'profile_path': '/r6ngPgnReA3RHmKjmSoVsc6Awjp.jpg'}, {'credit_id': '574f12519251415c92000015', 'department': 'Writing', 'gender': 0, 'id': 7911, 'job': 'Original Story', 'name': 'Joe Ranft', 'profile_path': '/f1BoWC2JbCcfP1e5hKfGsxkHzVU.jpg'}, {'credit_id': '574f12cec3a3682e82000022', 'department': 'Crew', 'gender': 0, 'id': 1629419, 'job': 'Post Production Supervisor', 'name': 'Patsy Bouge', 'profile_path': None}, {'credit_id': '574f14f19251415ca1000082', 'department': 'Art', 'gender': 0, 'id': 7961, 'job': 'Sculptor', 'name': 'Norm DeCarlo', 'profile_path': None}, {'credit_id': '5751ae4bc3a3683772002b7f', 'department': 'Visual Effects', 'gender': 2, 'id': 12905, 'job': 'Animation Director', 'name': 'Ash Brannon', 'profile_path': '/6ueWgPEEBHvS3De2BHYQnYjRTig.jpg'}, {'credit_id': '5891edbe9251412dc5007cd6', 'department': 'Sound', 'gender': 2, 'id': 7885, 'job': 'Music', 'name': 'Randy Newman', 'profile_path': '/w0JzfoiM25nrnxYOzosPHRq6mlE.jpg'}, {'credit_id': '589213d39251412dc8009832', 'department': 'Directing', 'gender': 0, 'id': 1748707, 'job': 'Layout', 'name': 'Roman Figun', 'profile_path': None}, {'credit_id': '5892173dc3a3680968009351', 'department': 'Sound', 'gender': 2, 'id': 4949, 'job': 'Orchestrator', 'name': 'Don Davis', 'profile_path': None}, {'credit_id': '589217cec3a3686b0a0052ba', 'department': 'Sound', 'gender': 0, 'id': 1372885, 'job': 'Music Editor', 'name': 'James Flamberg', 'profile_path': None}, {'credit_id': '58921831c3a3686348004a64', 'department': 'Editing', 'gender': 0, 'id': 1739962, 'job': 'Negative Cutter', 'name': 'Mary Beth Smith', 'profile_path': None}, {'credit_id': '58921838c3a36809700096c0', 'department': 'Editing', 'gender': 0, 'id': 1748513, 'job': 'Negative Cutter', 'name': 'Rick Mackay', 'profile_path': None}, {'credit_id': '589218429251412dd1009d1b', 'department': 'Art', 'gender': 0, 'id': 1458006, 'job': 'Title Designer', 'name': 'Susan Bradley', 'profile_path': None}, {'credit_id': '5891ed99c3a3680966007670', 'department': 'Crew', 'gender': 0, 'id': 1748557, 'job': 'Supervising Technical Director', 'name': 'William Reeves', 'profile_path': None}, {'credit_id': '5891edcec3a3686b0a002eb2', 'department': 'Sound', 'gender': 2, 'id': 7885, 'job': 'Songs', 'name': 'Randy Newman', 'profile_path': '/w0JzfoiM25nrnxYOzosPHRq6mlE.jpg'}, {'credit_id': '5891edf9c3a36809700075e6', 'department': 'Writing', 'gender': 2, 'id': 7, 'job': 'Original Story', 'name': 'Andrew Stanton', 'profile_path': '/pvQWsu0qc8JFQhMVJkTHuexUAa1.jpg'}, {'credit_id': '58920f0b9251412dd7009104', 'department': 'Crew', 'gender': 2, 'id': 12890, 'job': 'Supervising Animator', 'name': 'Pete Docter', 'profile_path': '/r6ngPgnReA3RHmKjmSoVsc6Awjp.jpg'}, {'credit_id': '58920f1fc3a3680977009021', 'department': 'Sound', 'gender': 2, 'id': 2216, 'job': 'Sound Designer', 'name': 'Gary Rydstrom', 'profile_path': '/jZpr1nVfO7lldWI0YtmP1FGw7Rj.jpg'}, {'credit_id': '58920f389251412dd700912d', 'department': 'Production', 'gender': 0, 'id': 12909, 'job': 'Production Supervisor', 'name': 'Karen Robert Jackson', 'profile_path': None}, {'credit_id': '58920fbd9251412dcb00969c', 'department': 'Crew', 'gender': 0, 'id': 953331, 'job': 'Executive Music Producer', 'name': 'Chris Montan', 'profile_path': None}, {'credit_id': '589210069251412dd7009219', 'department': 'Visual Effects', 'gender': 0, 'id': 7893, 'job': 'Animation Director', 'name': 'Rich Quade', 'profile_path': None}, {'credit_id': '589210329251412dcd00943b', 'department': 'Visual Effects', 'gender': 0, 'id': 8025, 'job': 'Animation', 'name': 'Michael Berenstein', 'profile_path': None}, {'credit_id': '5892103bc3a368096a009180', 'department': 'Visual Effects', 'gender': 0, 'id': 78009, 'job': 'Animation', 'name': 'Colin Brady', 'profile_path': None}, {'credit_id': '5892105dc3a3680968008db2', 'department': 'Visual Effects', 'gender': 0, 'id': 1748682, 'job': 'Animation', 'name': 'Davey Crockett Feiten', 'profile_path': None}, {'credit_id': '589210669251412dcd009466', 'department': 'Visual Effects', 'gender': 0, 'id': 1454030, 'job': 'Animation', 'name': 'Angie Glocka', 'profile_path': None}, {'credit_id': '5892107c9251412dd1009613', 'department': 'Visual Effects', 'gender': 0, 'id': 1748683, 'job': 'Animation', 'name': 'Rex Grignon', 'profile_path': None}, {'credit_id': '5892108ac3a3680973008d3f', 'department': 'Visual Effects', 'gender': 0, 'id': 1748684, 'job': 'Animation', 'name': 'Tom K. Gurney', 'profile_path': None}, {'credit_id': '58921093c3a3686348004477', 'department': 'Visual Effects', 'gender': 2, 'id': 8029, 'job': 'Animation', 'name': 'Jimmy Hayward', 'profile_path': '/lTDRpudEY7BDwTefXbXzMlmb0ui.jpg'}, {'credit_id': '5892109b9251412dcd0094b0', 'department': 'Visual Effects', 'gender': 0, 'id': 1426773, 'job': 'Animation', 'name': 'Hal T. Hickel', 'profile_path': None}, {'credit_id': '589210a29251412dc5009a29', 'department': 'Visual Effects', 'gender': 0, 'id': 8035, 'job': 'Animation', 'name': 'Karen Kiser', 'profile_path': None}, {'credit_id': '589210ccc3a3680977009191', 'department': 'Visual Effects', 'gender': 0, 'id': 1748688, 'job': 'Animation', 'name': 'Anthony B. LaMolinara', 'profile_path': None}, {'credit_id': '589210d7c3a3686b0a004c1f', 'department': 'Visual Effects', 'gender': 0, 'id': 587314, 'job': 'Animation', 'name': 'Guionne Leroy', 'profile_path': None}, {'credit_id': '589210e1c3a36809770091a7', 'department': 'Visual Effects', 'gender': 2, 'id': 7918, 'job': 'Animation', 'name': 'Bud Luckey', 'profile_path': '/pcCh7G19FKMNijmPQg1PMH1btic.jpg'}, {'credit_id': '589210ee9251412dc200978a', 'department': 'Visual Effects', 'gender': 0, 'id': 1748689, 'job': 'Animation', 'name': 'Les Major', 'profile_path': None}, {'credit_id': '589210fa9251412dc8009595', 'department': 'Visual Effects', 'gender': 2, 'id': 7892, 'job': 'Animation', 'name': 'Glenn McQueen', 'profile_path': None}, {'credit_id': '589211029251412dc8009598', 'department': 'Visual Effects', 'gender': 0, 'id': 555795, 'job': 'Animation', 'name': 'Mark Oftedal', 'profile_path': None}, {'credit_id': '5892110b9251412dc800959d', 'department': 'Visual Effects', 'gender': 2, 'id': 7882, 'job': 'Animation', 'name': 'Jeff Pidgeon', 'profile_path': '/yLddkg5HcgbJg00cS13GVBnP0HY.jpg'}, {'credit_id': '58921113c3a36863480044e4', 'department': 'Visual Effects', 'gender': 0, 'id': 8017, 'job': 'Animation', 'name': 'Jeff Pratt', 'profile_path': None}, {'credit_id': '5892111c9251412dcb0097e9', 'department': 'Visual Effects', 'gender': 0, 'id': 1184140, 'job': 'Animation', 'name': 'Steve Rabatich', 'profile_path': None}, {'credit_id': '58921123c3a36809700090f6', 'department': 'Visual Effects', 'gender': 0, 'id': 8049, 'job': 'Animation', 'name': 'Roger Rose', 'profile_path': None}, {'credit_id': '5892112b9251412dcb0097fb', 'department': 'Visual Effects', 'gender': 0, 'id': 1509559, 'job': 'Animation', 'name': 'Steve Segal', 'profile_path': None}, {'credit_id': '589211349251412dc80095c3', 'department': 'Visual Effects', 'gender': 0, 'id': 1748691, 'job': 'Animation', 'name': 'Doug Sheppeck', 'profile_path': None}, {'credit_id': '5892113cc3a3680970009106', 'department': 'Visual Effects', 'gender': 0, 'id': 8050, 'job': 'Animation', 'name': 'Alan Sperling', 'profile_path': None}, {'credit_id': '58921148c3a3686b0a004c99', 'department': 'Visual Effects', 'gender': 0, 'id': 8010, 'job': 'Animation', 'name': 'Doug Sweetland', 'profile_path': None}, {'credit_id': '58921150c3a3680966009125', 'department': 'Visual Effects', 'gender': 0, 'id': 8044, 'job': 'Animation', 'name': 'David Tart', 'profile_path': None}, {'credit_id': '589211629251412dc5009b00', 'department': 'Visual Effects', 'gender': 0, 'id': 1454034, 'job': 'Animation', 'name': 'Ken Willard', 'profile_path': None}, {'credit_id': '589211c1c3a3686b0a004d28', 'department': 'Visual Effects', 'gender': 0, 'id': 7887, 'job': 'Visual Effects Supervisor', 'name': 'Thomas Porter', 'profile_path': None}, {'credit_id': '589211d4c3a3680968008ed9', 'department': 'Visual Effects', 'gender': 0, 'id': 1406878, 'job': 'Visual Effects', 'name': 'Mark Thomas Henne', 'profile_path': None}, {'credit_id': '589211f59251412dd4008e65', 'department': 'Visual Effects', 'gender': 0, 'id': 1748698, 'job': 'Visual Effects', 'name': 'Oren Jacob', 'profile_path': None}, {'credit_id': '58921242c3a368096a00939b', 'department': 'Visual Effects', 'gender': 0, 'id': 1748699, 'job': 'Visual Effects', 'name': 'Darwyn Peachey', 'profile_path': None}, {'credit_id': '5892124b9251412dc5009bd2', 'department': 'Visual Effects', 'gender': 0, 'id': 1748701, 'job': 'Visual Effects', 'name': 'Mitch Prater', 'profile_path': None}, {'credit_id': '58921264c3a3686b0a004dbf', 'department': 'Visual Effects', 'gender': 0, 'id': 1748703, 'job': 'Visual Effects', 'name': 'Brian M. Rosen', 'profile_path': None}, {'credit_id': '589212709251412dcd009676', 'department': 'Lighting', 'gender': 1, 'id': 12912, 'job': 'Lighting Supervisor', 'name': 'Sharon Calahan', 'profile_path': None}, {'credit_id': '5892127fc3a3686b0a004de5', 'department': 'Lighting', 'gender': 0, 'id': 7899, 'job': 'Lighting Supervisor', 'name': 'Galyn Susman', 'profile_path': None}, {'credit_id': '589212cdc3a3680970009268', 'department': 'Visual Effects', 'gender': 0, 'id': 12915, 'job': 'CG Painter', 'name': 'William Cone', 'profile_path': None}, {'credit_id': '5892130f9251412dc8009791', 'department': 'Art', 'gender': 0, 'id': 1748705, 'job': 'Sculptor', 'name': 'Shelley Daniels Lekven', 'profile_path': None}, {'credit_id': '5892131c9251412dd4008f4c', 'department': 'Visual Effects', 'gender': 2, 'id': 7889, 'job': 'Character Designer', 'name': 'Bob Pauley', 'profile_path': None}, {'credit_id': '589213249251412dd100987b', 'department': 'Visual Effects', 'gender': 2, 'id': 7918, 'job': 'Character Designer', 'name': 'Bud Luckey', 'profile_path': '/pcCh7G19FKMNijmPQg1PMH1btic.jpg'}, {'credit_id': '5892132b9251412dc80097b1', 'department': 'Visual Effects', 'gender': 2, 'id': 7, 'job': 'Character Designer', 'name': 'Andrew Stanton', 'profile_path': '/pvQWsu0qc8JFQhMVJkTHuexUAa1.jpg'}, {'credit_id': '58921332c3a368634800467b', 'department': 'Visual Effects', 'gender': 0, 'id': 12915, 'job': 'Character Designer', 'name': 'William Cone', 'profile_path': None}, {'credit_id': '5892135f9251412dd4008f90', 'department': 'Visual Effects', 'gender': 0, 'id': 1748706, 'job': 'Character Designer', 'name': 'Steve Johnson', 'profile_path': None}, {'credit_id': '58921384c3a3680973008fd4', 'department': 'Visual Effects', 'gender': 0, 'id': 1176752, 'job': 'Character Designer', 'name': 'Dan Haskett', 'profile_path': None}, {'credit_id': '5892138e9251412dc20099fc', 'department': 'Visual Effects', 'gender': 0, 'id': 1088034, 'job': 'Character Designer', 'name': 'Tom Holloway', 'profile_path': '/a0r0T2usTBpgMI5aZbRBDW1fTl8.jpg'}, {'credit_id': '58921395c3a368097700942f', 'department': 'Visual Effects', 'gender': 0, 'id': 1447465, 'job': 'Character Designer', 'name': 'Jean Gillmore', 'profile_path': None}, {'credit_id': '589213e2c3a3680973009026', 'department': 'Directing', 'gender': 0, 'id': 1748709, 'job': 'Layout', 'name': 'Desirée Mourad', 'profile_path': None}, {'credit_id': '589214099251412dc5009d57', 'department': 'Art', 'gender': 0, 'id': 1748710, 'job': 'Set Dresser', 'name': \"Kelly O'Connell\", 'profile_path': None}, {'credit_id': '58921411c3a3686b0a004f70', 'department': 'Art', 'gender': 0, 'id': 1443471, 'job': 'Set Dresser', 'name': 'Sonoko Konishi', 'profile_path': None}, {'credit_id': '58921434c3a368096a00956e', 'department': 'Art', 'gender': 0, 'id': 1748711, 'job': 'Set Dresser', 'name': 'Ann M. Rockwell', 'profile_path': None}, {'credit_id': '5892144ac3a36809680090de', 'department': 'Editing', 'gender': 0, 'id': 1748712, 'job': 'Editorial Manager', 'name': 'Julie M. McDonald', 'profile_path': None}, {'credit_id': '58921479c3a368096800910f', 'department': 'Editing', 'gender': 0, 'id': 1589729, 'job': 'Assistant Editor', 'name': 'Robin Lee', 'profile_path': None}, {'credit_id': '5892148b9251412dd10099cc', 'department': 'Editing', 'gender': 0, 'id': 1748716, 'job': 'Assistant Editor', 'name': 'Tom Freeman', 'profile_path': None}, {'credit_id': '589214959251412dcb009b1f', 'department': 'Editing', 'gender': 0, 'id': 1748717, 'job': 'Assistant Editor', 'name': 'Ada Cochavi', 'profile_path': None}, {'credit_id': '5892149ec3a3686348004798', 'department': 'Editing', 'gender': 0, 'id': 1336438, 'job': 'Assistant Editor', 'name': 'Dana Mulligan', 'profile_path': None}, {'credit_id': '589214adc3a368096a0095db', 'department': 'Editing', 'gender': 0, 'id': 1748718, 'job': 'Editorial Coordinator', 'name': 'Deirdre Morrison', 'profile_path': None}, {'credit_id': '589214c7c3a368097700952b', 'department': 'Production', 'gender': 0, 'id': 1748719, 'job': 'Production Coordinator', 'name': 'Lori Lombardo', 'profile_path': None}, {'credit_id': '589214cec3a368096a009603', 'department': 'Production', 'gender': 0, 'id': 1748720, 'job': 'Production Coordinator', 'name': 'Ellen Devine', 'profile_path': None}, {'credit_id': '589214e39251412dc8009904', 'department': 'Crew', 'gender': 0, 'id': 1468014, 'job': 'Unit Publicist', 'name': 'Lauren Beth Strogoff', 'profile_path': None}, {'credit_id': '58921544c3a3686b0a00507d', 'department': 'Sound', 'gender': 2, 'id': 2216, 'job': 'Sound Re-Recording Mixer', 'name': 'Gary Rydstrom', 'profile_path': '/jZpr1nVfO7lldWI0YtmP1FGw7Rj.jpg'}, {'credit_id': '5892154c9251412dd1009a56', 'department': 'Sound', 'gender': 0, 'id': 1425978, 'job': 'Sound Re-Recording Mixer', 'name': 'Gary Summers', 'profile_path': None}, {'credit_id': '58921555c3a36809680091bd', 'department': 'Sound', 'gender': 2, 'id': 8276, 'job': 'Supervising Sound Editor', 'name': 'Tim Holland', 'profile_path': None}, {'credit_id': '589215c39251412dcb009c12', 'department': 'Sound', 'gender': 0, 'id': 7069, 'job': 'Sound Effects Editor', 'name': 'Pat Jackson', 'profile_path': None}, {'credit_id': '58921698c3a368096a009788', 'department': 'Crew', 'gender': 2, 'id': 15894, 'job': 'Sound Design Assistant', 'name': 'Tom Myers', 'profile_path': None}, {'credit_id': '589216a89251412dc2009ca4', 'department': 'Sound', 'gender': 0, 'id': 1414177, 'job': 'Assistant Sound Editor', 'name': 'J.R. Grubbs', 'profile_path': None}, {'credit_id': '589216c19251412dc2009cb9', 'department': 'Sound', 'gender': 1, 'id': 1748724, 'job': 'Assistant Sound Editor', 'name': 'Susan Sanford', 'profile_path': None}, {'credit_id': '589216ccc3a3680973009274', 'department': 'Sound', 'gender': 0, 'id': 1748725, 'job': 'Assistant Sound Editor', 'name': 'Susan Popovic', 'profile_path': None}, {'credit_id': '589216d79251412dc8009aa0', 'department': 'Sound', 'gender': 0, 'id': 8067, 'job': 'Assistant Sound Editor', 'name': 'Dan Engstrom', 'profile_path': None}, {'credit_id': '589216e49251412dcd009a4f', 'department': 'Production', 'gender': 1, 'id': 7902, 'job': 'Casting Consultant', 'name': 'Ruth Lambert', 'profile_path': None}, {'credit_id': '589216f39251412dc2009cf3', 'department': 'Production', 'gender': 0, 'id': 84493, 'job': 'ADR Voice Casting', 'name': 'Mickie McGowan', 'profile_path': '/k7TjJBfINsg8vLQxJwos6XObAD6.jpg'}]</td>\n",
       "      <td>862</td>\n",
       "    </tr>\n",
       "  </tbody>\n",
       "</table>\n",
       "</div>"
      ],
      "text/plain": [
       "                                                                                                                                                                                                                                                                                                                                                                                                                                                                                                                                                                                                                                                                                                                                                                                                                                                                                                                                                                                                                                                                                                                                                                                                                                                                                                                                                                                                                                                                                                                                                                                                                                                                                                                                                                                                                                                                                                                                                                                                                                                                                                                                                                                                                                                                                                                                                                                                                                                                                                                                                                                                                                                                                                                                       cast  \\\n",
       "0  [{'cast_id': 14, 'character': 'Woody (voice)', 'credit_id': '52fe4284c3a36847f8024f95', 'gender': 2, 'id': 31, 'name': 'Tom Hanks', 'order': 0, 'profile_path': '/pQFoyx7rp09CJTAb932F2g8Nlho.jpg'}, {'cast_id': 15, 'character': 'Buzz Lightyear (voice)', 'credit_id': '52fe4284c3a36847f8024f99', 'gender': 2, 'id': 12898, 'name': 'Tim Allen', 'order': 1, 'profile_path': '/uX2xVf6pMmPepxnvFWyBtjexzgY.jpg'}, {'cast_id': 16, 'character': 'Mr. Potato Head (voice)', 'credit_id': '52fe4284c3a36847f8024f9d', 'gender': 2, 'id': 7167, 'name': 'Don Rickles', 'order': 2, 'profile_path': '/h5BcaDMPRVLHLDzbQavec4xfSdt.jpg'}, {'cast_id': 17, 'character': 'Slinky Dog (voice)', 'credit_id': '52fe4284c3a36847f8024fa1', 'gender': 2, 'id': 12899, 'name': 'Jim Varney', 'order': 3, 'profile_path': '/eIo2jVVXYgjDtaHoF19Ll9vtW7h.jpg'}, {'cast_id': 18, 'character': 'Rex (voice)', 'credit_id': '52fe4284c3a36847f8024fa5', 'gender': 2, 'id': 12900, 'name': 'Wallace Shawn', 'order': 4, 'profile_path': '/oGE6JqPP2xH4tNORKNqxbNPYi7u.jpg'}, {'cast_id': 19, 'character': 'Hamm (voice)', 'credit_id': '52fe4284c3a36847f8024fa9', 'gender': 2, 'id': 7907, 'name': 'John Ratzenberger', 'order': 5, 'profile_path': '/yGechiKWL6TJDfVE2KPSJYqdMsY.jpg'}, {'cast_id': 20, 'character': 'Bo Peep (voice)', 'credit_id': '52fe4284c3a36847f8024fad', 'gender': 1, 'id': 8873, 'name': 'Annie Potts', 'order': 6, 'profile_path': '/eryXT84RL41jHSJcMy4kS3u9y6w.jpg'}, {'cast_id': 26, 'character': 'Andy (voice)', 'credit_id': '52fe4284c3a36847f8024fc1', 'gender': 0, 'id': 1116442, 'name': 'John Morris', 'order': 7, 'profile_path': '/vYGyvK4LzeaUCoNSHtsuqJUY15M.jpg'}, {'cast_id': 22, 'character': 'Sid (voice)', 'credit_id': '52fe4284c3a36847f8024fb1', 'gender': 2, 'id': 12901, 'name': 'Erik von Detten', 'order': 8, 'profile_path': '/twnF1ZaJ1FUNUuo6xLXwcxjayBE.jpg'}, {'cast_id': 23, 'character': 'Mrs. Davis (voice)', 'credit_id': '52fe4284c3a36847f8024fb5', 'gender': 1, 'id': 12133, 'name': 'Laurie Metcalf', 'order': 9, 'profile_path': '/unMMIT60eoBM2sN2nyR7EZ2BvvD.jpg'}, {'cast_id': 24, 'character': 'Sergeant (voice)', 'credit_id': '52fe4284c3a36847f8024fb9', 'gender': 2, 'id': 8655, 'name': 'R. Lee Ermey', 'order': 10, 'profile_path': '/r8GBqFBjypLUP9VVqDqfZ7wYbSs.jpg'}, {'cast_id': 25, 'character': 'Hannah (voice)', 'credit_id': '52fe4284c3a36847f8024fbd', 'gender': 1, 'id': 12903, 'name': 'Sarah Freeman', 'order': 11, 'profile_path': None}, {'cast_id': 27, 'character': 'TV Announcer (voice)', 'credit_id': '52fe4284c3a36847f8024fc5', 'gender': 2, 'id': 37221, 'name': 'Penn Jillette', 'order': 12, 'profile_path': '/zmAaXUdx12NRsssgHbk1T31j2x9.jpg'}]   \n",
       "\n",
       "                                                                                                                                                                                                                                                                                                                                                                                                                                                                                                                                                                                                                                                                                                                                                                                                                                                                                                                                                                                                                                                                                                                                                                                                                                                                                                                                                                                                                                                                                                                                                                                                                                                                                                                                                                                                                                                                                                                                                                                                                                                                                                                                                                                                                                                                                                                                                                                                                                                                                                                                                                                                                                                                                                                                                                                                                                                                                                                                                                                                                                                                                                                                                                                                                                                                                                                                                                                                                                                                                                                                                                                                                                                                                                                                                                                                                                                                                                                                                                                                                                                                                                                                                                                                                                                                                                                                                                                                                                                                                                                                                                                                                                                                                                                                                                                                                                                                                                                                                                                                                                                                                                                                                                                                                                                                                                                                                                                                                                                                                                                                                                                                                                                                                                                                                                                                                                                                                                                                                                                                                                                                                                                                                                                                                                                                                                                                                                                                                                                                                                                                                                                                                                                                                                                                                                                                                                                                                                                                                                                                                                                                                                                                                                                                                                                                                                                                                                                                                                                                                                                                                                                                                                                                                                                                                                                                                                                                                                                                                                                                                                                                                                                                                                                                                                                                                                                                                                                                                                                                                                                                                                                                                                                                                                                                                                                                                                                                                                                                                                                                                                                                                                                                                                                                                                                                                                                                                                                                                                                                                                                                                                                                                                                                                                                                                                                                                                                                                                                                                                                                                                                                                                                                                                                                                                                                                                                                                                                                                                                                                                                                                                                                                                                                                                                                                                                                                                                                                                                                                                                                                                                                                                                                                                                                                                                                                                                                                                                                                                                                                                                                                                                                                                                                                                                                                                                                                                                                                                                                                                                                                                                                                                                                                                                                                                                                                                                                                                                                                                                                                                                                                                                                                                                                                                                                                                                                                                                                                                                                                                                                                                                                                                                                                                                                                                                                                                                                                                                                                                                                                                                                                                                                                                                                                                                                                                                                                                                                                                                                                                                                                                                                                                                                                                                                                                                                                                                                                                                                                                                                                                                                                                                                                                                                                                                                                                                                                                                                                                                                                                                                                                                                                                                                                                                                                                                                                                                                                                                                                                                                                                                                                                                                                                                                                                                                                                                                                                                                                                                                                                                                                                                                                                                                                                                                                                                                                                                                                                                                                                                                                                                                                                                                                                                                                                                                                                                                                                                                                                                                                                                                                                                                                                                                                                                                                                                                                                                                                                                                                                                                                                                                                                                                                                                                                                                                                                                                                                                                                                                                                                                                                                                                                                                                                                                                                                                                                                                                                                                                                                                                                                                                                                                                                                                                                                                                                                                                                                                                                                                                                                                                                                                                                                                                                                                                                                                                                                                                                                                                                             crew  \\\n",
       "0  [{'credit_id': '52fe4284c3a36847f8024f49', 'department': 'Directing', 'gender': 2, 'id': 7879, 'job': 'Director', 'name': 'John Lasseter', 'profile_path': '/7EdqiNbr4FRjIhKHyPPdFfEEEFG.jpg'}, {'credit_id': '52fe4284c3a36847f8024f4f', 'department': 'Writing', 'gender': 2, 'id': 12891, 'job': 'Screenplay', 'name': 'Joss Whedon', 'profile_path': '/dTiVsuaTVTeGmvkhcyJvKp2A5kr.jpg'}, {'credit_id': '52fe4284c3a36847f8024f55', 'department': 'Writing', 'gender': 2, 'id': 7, 'job': 'Screenplay', 'name': 'Andrew Stanton', 'profile_path': '/pvQWsu0qc8JFQhMVJkTHuexUAa1.jpg'}, {'credit_id': '52fe4284c3a36847f8024f5b', 'department': 'Writing', 'gender': 2, 'id': 12892, 'job': 'Screenplay', 'name': 'Joel Cohen', 'profile_path': '/dAubAiZcvKFbboWlj7oXOkZnTSu.jpg'}, {'credit_id': '52fe4284c3a36847f8024f61', 'department': 'Writing', 'gender': 0, 'id': 12893, 'job': 'Screenplay', 'name': 'Alec Sokolow', 'profile_path': '/v79vlRYi94BZUQnkkyznbGUZLjT.jpg'}, {'credit_id': '52fe4284c3a36847f8024f67', 'department': 'Production', 'gender': 1, 'id': 12894, 'job': 'Producer', 'name': 'Bonnie Arnold', 'profile_path': None}, {'credit_id': '52fe4284c3a36847f8024f6d', 'department': 'Production', 'gender': 0, 'id': 12895, 'job': 'Executive Producer', 'name': 'Ed Catmull', 'profile_path': None}, {'credit_id': '52fe4284c3a36847f8024f73', 'department': 'Production', 'gender': 2, 'id': 12896, 'job': 'Producer', 'name': 'Ralph Guggenheim', 'profile_path': None}, {'credit_id': '52fe4284c3a36847f8024f79', 'department': 'Production', 'gender': 2, 'id': 12897, 'job': 'Executive Producer', 'name': 'Steve Jobs', 'profile_path': '/mOMP3SwD5qWQSR0ldCIByd3guTV.jpg'}, {'credit_id': '52fe4284c3a36847f8024f8b', 'department': 'Editing', 'gender': 2, 'id': 8, 'job': 'Editor', 'name': 'Lee Unkrich', 'profile_path': '/bdTCCXjgOV3YyaNmLGYGOxFQMOc.jpg'}, {'credit_id': '52fe4284c3a36847f8024f91', 'department': 'Art', 'gender': 2, 'id': 7883, 'job': 'Art Direction', 'name': 'Ralph Eggleston', 'profile_path': '/uUfcGKDsKO1aROMpXRs67Hn6RvR.jpg'}, {'credit_id': '598331bf925141421201044b', 'department': 'Editing', 'gender': 2, 'id': 1168870, 'job': 'Editor', 'name': 'Robert Gordon', 'profile_path': None}, {'credit_id': '5892168cc3a36809660095f9', 'department': 'Sound', 'gender': 0, 'id': 1552883, 'job': 'Foley Editor', 'name': 'Mary Helen Leasman', 'profile_path': None}, {'credit_id': '5531824d9251415289000945', 'department': 'Visual Effects', 'gender': 0, 'id': 1453514, 'job': 'Animation', 'name': 'Kim Blanchette', 'profile_path': None}, {'credit_id': '589215969251412dcb009bf6', 'department': 'Sound', 'gender': 0, 'id': 1414182, 'job': 'ADR Editor', 'name': 'Marilyn McCoppen', 'profile_path': None}, {'credit_id': '589217099251412dc500a018', 'department': 'Sound', 'gender': 2, 'id': 7885, 'job': 'Orchestrator', 'name': 'Randy Newman', 'profile_path': '/w0JzfoiM25nrnxYOzosPHRq6mlE.jpg'}, {'credit_id': '5693e6b29251417b0e0000e3', 'department': 'Editing', 'gender': 0, 'id': 1429549, 'job': 'Color Timer', 'name': 'Dale E. Grahn', 'profile_path': None}, {'credit_id': '572e2522c3a36869e6001a9c', 'department': 'Visual Effects', 'gender': 0, 'id': 7949, 'job': 'CG Painter', 'name': 'Robin Cooper', 'profile_path': None}, {'credit_id': '574f12309251415ca1000012', 'department': 'Writing', 'gender': 2, 'id': 7879, 'job': 'Original Story', 'name': 'John Lasseter', 'profile_path': '/7EdqiNbr4FRjIhKHyPPdFfEEEFG.jpg'}, {'credit_id': '574f1240c3a3682e7300001c', 'department': 'Writing', 'gender': 2, 'id': 12890, 'job': 'Original Story', 'name': 'Pete Docter', 'profile_path': '/r6ngPgnReA3RHmKjmSoVsc6Awjp.jpg'}, {'credit_id': '574f12519251415c92000015', 'department': 'Writing', 'gender': 0, 'id': 7911, 'job': 'Original Story', 'name': 'Joe Ranft', 'profile_path': '/f1BoWC2JbCcfP1e5hKfGsxkHzVU.jpg'}, {'credit_id': '574f12cec3a3682e82000022', 'department': 'Crew', 'gender': 0, 'id': 1629419, 'job': 'Post Production Supervisor', 'name': 'Patsy Bouge', 'profile_path': None}, {'credit_id': '574f14f19251415ca1000082', 'department': 'Art', 'gender': 0, 'id': 7961, 'job': 'Sculptor', 'name': 'Norm DeCarlo', 'profile_path': None}, {'credit_id': '5751ae4bc3a3683772002b7f', 'department': 'Visual Effects', 'gender': 2, 'id': 12905, 'job': 'Animation Director', 'name': 'Ash Brannon', 'profile_path': '/6ueWgPEEBHvS3De2BHYQnYjRTig.jpg'}, {'credit_id': '5891edbe9251412dc5007cd6', 'department': 'Sound', 'gender': 2, 'id': 7885, 'job': 'Music', 'name': 'Randy Newman', 'profile_path': '/w0JzfoiM25nrnxYOzosPHRq6mlE.jpg'}, {'credit_id': '589213d39251412dc8009832', 'department': 'Directing', 'gender': 0, 'id': 1748707, 'job': 'Layout', 'name': 'Roman Figun', 'profile_path': None}, {'credit_id': '5892173dc3a3680968009351', 'department': 'Sound', 'gender': 2, 'id': 4949, 'job': 'Orchestrator', 'name': 'Don Davis', 'profile_path': None}, {'credit_id': '589217cec3a3686b0a0052ba', 'department': 'Sound', 'gender': 0, 'id': 1372885, 'job': 'Music Editor', 'name': 'James Flamberg', 'profile_path': None}, {'credit_id': '58921831c3a3686348004a64', 'department': 'Editing', 'gender': 0, 'id': 1739962, 'job': 'Negative Cutter', 'name': 'Mary Beth Smith', 'profile_path': None}, {'credit_id': '58921838c3a36809700096c0', 'department': 'Editing', 'gender': 0, 'id': 1748513, 'job': 'Negative Cutter', 'name': 'Rick Mackay', 'profile_path': None}, {'credit_id': '589218429251412dd1009d1b', 'department': 'Art', 'gender': 0, 'id': 1458006, 'job': 'Title Designer', 'name': 'Susan Bradley', 'profile_path': None}, {'credit_id': '5891ed99c3a3680966007670', 'department': 'Crew', 'gender': 0, 'id': 1748557, 'job': 'Supervising Technical Director', 'name': 'William Reeves', 'profile_path': None}, {'credit_id': '5891edcec3a3686b0a002eb2', 'department': 'Sound', 'gender': 2, 'id': 7885, 'job': 'Songs', 'name': 'Randy Newman', 'profile_path': '/w0JzfoiM25nrnxYOzosPHRq6mlE.jpg'}, {'credit_id': '5891edf9c3a36809700075e6', 'department': 'Writing', 'gender': 2, 'id': 7, 'job': 'Original Story', 'name': 'Andrew Stanton', 'profile_path': '/pvQWsu0qc8JFQhMVJkTHuexUAa1.jpg'}, {'credit_id': '58920f0b9251412dd7009104', 'department': 'Crew', 'gender': 2, 'id': 12890, 'job': 'Supervising Animator', 'name': 'Pete Docter', 'profile_path': '/r6ngPgnReA3RHmKjmSoVsc6Awjp.jpg'}, {'credit_id': '58920f1fc3a3680977009021', 'department': 'Sound', 'gender': 2, 'id': 2216, 'job': 'Sound Designer', 'name': 'Gary Rydstrom', 'profile_path': '/jZpr1nVfO7lldWI0YtmP1FGw7Rj.jpg'}, {'credit_id': '58920f389251412dd700912d', 'department': 'Production', 'gender': 0, 'id': 12909, 'job': 'Production Supervisor', 'name': 'Karen Robert Jackson', 'profile_path': None}, {'credit_id': '58920fbd9251412dcb00969c', 'department': 'Crew', 'gender': 0, 'id': 953331, 'job': 'Executive Music Producer', 'name': 'Chris Montan', 'profile_path': None}, {'credit_id': '589210069251412dd7009219', 'department': 'Visual Effects', 'gender': 0, 'id': 7893, 'job': 'Animation Director', 'name': 'Rich Quade', 'profile_path': None}, {'credit_id': '589210329251412dcd00943b', 'department': 'Visual Effects', 'gender': 0, 'id': 8025, 'job': 'Animation', 'name': 'Michael Berenstein', 'profile_path': None}, {'credit_id': '5892103bc3a368096a009180', 'department': 'Visual Effects', 'gender': 0, 'id': 78009, 'job': 'Animation', 'name': 'Colin Brady', 'profile_path': None}, {'credit_id': '5892105dc3a3680968008db2', 'department': 'Visual Effects', 'gender': 0, 'id': 1748682, 'job': 'Animation', 'name': 'Davey Crockett Feiten', 'profile_path': None}, {'credit_id': '589210669251412dcd009466', 'department': 'Visual Effects', 'gender': 0, 'id': 1454030, 'job': 'Animation', 'name': 'Angie Glocka', 'profile_path': None}, {'credit_id': '5892107c9251412dd1009613', 'department': 'Visual Effects', 'gender': 0, 'id': 1748683, 'job': 'Animation', 'name': 'Rex Grignon', 'profile_path': None}, {'credit_id': '5892108ac3a3680973008d3f', 'department': 'Visual Effects', 'gender': 0, 'id': 1748684, 'job': 'Animation', 'name': 'Tom K. Gurney', 'profile_path': None}, {'credit_id': '58921093c3a3686348004477', 'department': 'Visual Effects', 'gender': 2, 'id': 8029, 'job': 'Animation', 'name': 'Jimmy Hayward', 'profile_path': '/lTDRpudEY7BDwTefXbXzMlmb0ui.jpg'}, {'credit_id': '5892109b9251412dcd0094b0', 'department': 'Visual Effects', 'gender': 0, 'id': 1426773, 'job': 'Animation', 'name': 'Hal T. Hickel', 'profile_path': None}, {'credit_id': '589210a29251412dc5009a29', 'department': 'Visual Effects', 'gender': 0, 'id': 8035, 'job': 'Animation', 'name': 'Karen Kiser', 'profile_path': None}, {'credit_id': '589210ccc3a3680977009191', 'department': 'Visual Effects', 'gender': 0, 'id': 1748688, 'job': 'Animation', 'name': 'Anthony B. LaMolinara', 'profile_path': None}, {'credit_id': '589210d7c3a3686b0a004c1f', 'department': 'Visual Effects', 'gender': 0, 'id': 587314, 'job': 'Animation', 'name': 'Guionne Leroy', 'profile_path': None}, {'credit_id': '589210e1c3a36809770091a7', 'department': 'Visual Effects', 'gender': 2, 'id': 7918, 'job': 'Animation', 'name': 'Bud Luckey', 'profile_path': '/pcCh7G19FKMNijmPQg1PMH1btic.jpg'}, {'credit_id': '589210ee9251412dc200978a', 'department': 'Visual Effects', 'gender': 0, 'id': 1748689, 'job': 'Animation', 'name': 'Les Major', 'profile_path': None}, {'credit_id': '589210fa9251412dc8009595', 'department': 'Visual Effects', 'gender': 2, 'id': 7892, 'job': 'Animation', 'name': 'Glenn McQueen', 'profile_path': None}, {'credit_id': '589211029251412dc8009598', 'department': 'Visual Effects', 'gender': 0, 'id': 555795, 'job': 'Animation', 'name': 'Mark Oftedal', 'profile_path': None}, {'credit_id': '5892110b9251412dc800959d', 'department': 'Visual Effects', 'gender': 2, 'id': 7882, 'job': 'Animation', 'name': 'Jeff Pidgeon', 'profile_path': '/yLddkg5HcgbJg00cS13GVBnP0HY.jpg'}, {'credit_id': '58921113c3a36863480044e4', 'department': 'Visual Effects', 'gender': 0, 'id': 8017, 'job': 'Animation', 'name': 'Jeff Pratt', 'profile_path': None}, {'credit_id': '5892111c9251412dcb0097e9', 'department': 'Visual Effects', 'gender': 0, 'id': 1184140, 'job': 'Animation', 'name': 'Steve Rabatich', 'profile_path': None}, {'credit_id': '58921123c3a36809700090f6', 'department': 'Visual Effects', 'gender': 0, 'id': 8049, 'job': 'Animation', 'name': 'Roger Rose', 'profile_path': None}, {'credit_id': '5892112b9251412dcb0097fb', 'department': 'Visual Effects', 'gender': 0, 'id': 1509559, 'job': 'Animation', 'name': 'Steve Segal', 'profile_path': None}, {'credit_id': '589211349251412dc80095c3', 'department': 'Visual Effects', 'gender': 0, 'id': 1748691, 'job': 'Animation', 'name': 'Doug Sheppeck', 'profile_path': None}, {'credit_id': '5892113cc3a3680970009106', 'department': 'Visual Effects', 'gender': 0, 'id': 8050, 'job': 'Animation', 'name': 'Alan Sperling', 'profile_path': None}, {'credit_id': '58921148c3a3686b0a004c99', 'department': 'Visual Effects', 'gender': 0, 'id': 8010, 'job': 'Animation', 'name': 'Doug Sweetland', 'profile_path': None}, {'credit_id': '58921150c3a3680966009125', 'department': 'Visual Effects', 'gender': 0, 'id': 8044, 'job': 'Animation', 'name': 'David Tart', 'profile_path': None}, {'credit_id': '589211629251412dc5009b00', 'department': 'Visual Effects', 'gender': 0, 'id': 1454034, 'job': 'Animation', 'name': 'Ken Willard', 'profile_path': None}, {'credit_id': '589211c1c3a3686b0a004d28', 'department': 'Visual Effects', 'gender': 0, 'id': 7887, 'job': 'Visual Effects Supervisor', 'name': 'Thomas Porter', 'profile_path': None}, {'credit_id': '589211d4c3a3680968008ed9', 'department': 'Visual Effects', 'gender': 0, 'id': 1406878, 'job': 'Visual Effects', 'name': 'Mark Thomas Henne', 'profile_path': None}, {'credit_id': '589211f59251412dd4008e65', 'department': 'Visual Effects', 'gender': 0, 'id': 1748698, 'job': 'Visual Effects', 'name': 'Oren Jacob', 'profile_path': None}, {'credit_id': '58921242c3a368096a00939b', 'department': 'Visual Effects', 'gender': 0, 'id': 1748699, 'job': 'Visual Effects', 'name': 'Darwyn Peachey', 'profile_path': None}, {'credit_id': '5892124b9251412dc5009bd2', 'department': 'Visual Effects', 'gender': 0, 'id': 1748701, 'job': 'Visual Effects', 'name': 'Mitch Prater', 'profile_path': None}, {'credit_id': '58921264c3a3686b0a004dbf', 'department': 'Visual Effects', 'gender': 0, 'id': 1748703, 'job': 'Visual Effects', 'name': 'Brian M. Rosen', 'profile_path': None}, {'credit_id': '589212709251412dcd009676', 'department': 'Lighting', 'gender': 1, 'id': 12912, 'job': 'Lighting Supervisor', 'name': 'Sharon Calahan', 'profile_path': None}, {'credit_id': '5892127fc3a3686b0a004de5', 'department': 'Lighting', 'gender': 0, 'id': 7899, 'job': 'Lighting Supervisor', 'name': 'Galyn Susman', 'profile_path': None}, {'credit_id': '589212cdc3a3680970009268', 'department': 'Visual Effects', 'gender': 0, 'id': 12915, 'job': 'CG Painter', 'name': 'William Cone', 'profile_path': None}, {'credit_id': '5892130f9251412dc8009791', 'department': 'Art', 'gender': 0, 'id': 1748705, 'job': 'Sculptor', 'name': 'Shelley Daniels Lekven', 'profile_path': None}, {'credit_id': '5892131c9251412dd4008f4c', 'department': 'Visual Effects', 'gender': 2, 'id': 7889, 'job': 'Character Designer', 'name': 'Bob Pauley', 'profile_path': None}, {'credit_id': '589213249251412dd100987b', 'department': 'Visual Effects', 'gender': 2, 'id': 7918, 'job': 'Character Designer', 'name': 'Bud Luckey', 'profile_path': '/pcCh7G19FKMNijmPQg1PMH1btic.jpg'}, {'credit_id': '5892132b9251412dc80097b1', 'department': 'Visual Effects', 'gender': 2, 'id': 7, 'job': 'Character Designer', 'name': 'Andrew Stanton', 'profile_path': '/pvQWsu0qc8JFQhMVJkTHuexUAa1.jpg'}, {'credit_id': '58921332c3a368634800467b', 'department': 'Visual Effects', 'gender': 0, 'id': 12915, 'job': 'Character Designer', 'name': 'William Cone', 'profile_path': None}, {'credit_id': '5892135f9251412dd4008f90', 'department': 'Visual Effects', 'gender': 0, 'id': 1748706, 'job': 'Character Designer', 'name': 'Steve Johnson', 'profile_path': None}, {'credit_id': '58921384c3a3680973008fd4', 'department': 'Visual Effects', 'gender': 0, 'id': 1176752, 'job': 'Character Designer', 'name': 'Dan Haskett', 'profile_path': None}, {'credit_id': '5892138e9251412dc20099fc', 'department': 'Visual Effects', 'gender': 0, 'id': 1088034, 'job': 'Character Designer', 'name': 'Tom Holloway', 'profile_path': '/a0r0T2usTBpgMI5aZbRBDW1fTl8.jpg'}, {'credit_id': '58921395c3a368097700942f', 'department': 'Visual Effects', 'gender': 0, 'id': 1447465, 'job': 'Character Designer', 'name': 'Jean Gillmore', 'profile_path': None}, {'credit_id': '589213e2c3a3680973009026', 'department': 'Directing', 'gender': 0, 'id': 1748709, 'job': 'Layout', 'name': 'Desirée Mourad', 'profile_path': None}, {'credit_id': '589214099251412dc5009d57', 'department': 'Art', 'gender': 0, 'id': 1748710, 'job': 'Set Dresser', 'name': \"Kelly O'Connell\", 'profile_path': None}, {'credit_id': '58921411c3a3686b0a004f70', 'department': 'Art', 'gender': 0, 'id': 1443471, 'job': 'Set Dresser', 'name': 'Sonoko Konishi', 'profile_path': None}, {'credit_id': '58921434c3a368096a00956e', 'department': 'Art', 'gender': 0, 'id': 1748711, 'job': 'Set Dresser', 'name': 'Ann M. Rockwell', 'profile_path': None}, {'credit_id': '5892144ac3a36809680090de', 'department': 'Editing', 'gender': 0, 'id': 1748712, 'job': 'Editorial Manager', 'name': 'Julie M. McDonald', 'profile_path': None}, {'credit_id': '58921479c3a368096800910f', 'department': 'Editing', 'gender': 0, 'id': 1589729, 'job': 'Assistant Editor', 'name': 'Robin Lee', 'profile_path': None}, {'credit_id': '5892148b9251412dd10099cc', 'department': 'Editing', 'gender': 0, 'id': 1748716, 'job': 'Assistant Editor', 'name': 'Tom Freeman', 'profile_path': None}, {'credit_id': '589214959251412dcb009b1f', 'department': 'Editing', 'gender': 0, 'id': 1748717, 'job': 'Assistant Editor', 'name': 'Ada Cochavi', 'profile_path': None}, {'credit_id': '5892149ec3a3686348004798', 'department': 'Editing', 'gender': 0, 'id': 1336438, 'job': 'Assistant Editor', 'name': 'Dana Mulligan', 'profile_path': None}, {'credit_id': '589214adc3a368096a0095db', 'department': 'Editing', 'gender': 0, 'id': 1748718, 'job': 'Editorial Coordinator', 'name': 'Deirdre Morrison', 'profile_path': None}, {'credit_id': '589214c7c3a368097700952b', 'department': 'Production', 'gender': 0, 'id': 1748719, 'job': 'Production Coordinator', 'name': 'Lori Lombardo', 'profile_path': None}, {'credit_id': '589214cec3a368096a009603', 'department': 'Production', 'gender': 0, 'id': 1748720, 'job': 'Production Coordinator', 'name': 'Ellen Devine', 'profile_path': None}, {'credit_id': '589214e39251412dc8009904', 'department': 'Crew', 'gender': 0, 'id': 1468014, 'job': 'Unit Publicist', 'name': 'Lauren Beth Strogoff', 'profile_path': None}, {'credit_id': '58921544c3a3686b0a00507d', 'department': 'Sound', 'gender': 2, 'id': 2216, 'job': 'Sound Re-Recording Mixer', 'name': 'Gary Rydstrom', 'profile_path': '/jZpr1nVfO7lldWI0YtmP1FGw7Rj.jpg'}, {'credit_id': '5892154c9251412dd1009a56', 'department': 'Sound', 'gender': 0, 'id': 1425978, 'job': 'Sound Re-Recording Mixer', 'name': 'Gary Summers', 'profile_path': None}, {'credit_id': '58921555c3a36809680091bd', 'department': 'Sound', 'gender': 2, 'id': 8276, 'job': 'Supervising Sound Editor', 'name': 'Tim Holland', 'profile_path': None}, {'credit_id': '589215c39251412dcb009c12', 'department': 'Sound', 'gender': 0, 'id': 7069, 'job': 'Sound Effects Editor', 'name': 'Pat Jackson', 'profile_path': None}, {'credit_id': '58921698c3a368096a009788', 'department': 'Crew', 'gender': 2, 'id': 15894, 'job': 'Sound Design Assistant', 'name': 'Tom Myers', 'profile_path': None}, {'credit_id': '589216a89251412dc2009ca4', 'department': 'Sound', 'gender': 0, 'id': 1414177, 'job': 'Assistant Sound Editor', 'name': 'J.R. Grubbs', 'profile_path': None}, {'credit_id': '589216c19251412dc2009cb9', 'department': 'Sound', 'gender': 1, 'id': 1748724, 'job': 'Assistant Sound Editor', 'name': 'Susan Sanford', 'profile_path': None}, {'credit_id': '589216ccc3a3680973009274', 'department': 'Sound', 'gender': 0, 'id': 1748725, 'job': 'Assistant Sound Editor', 'name': 'Susan Popovic', 'profile_path': None}, {'credit_id': '589216d79251412dc8009aa0', 'department': 'Sound', 'gender': 0, 'id': 8067, 'job': 'Assistant Sound Editor', 'name': 'Dan Engstrom', 'profile_path': None}, {'credit_id': '589216e49251412dcd009a4f', 'department': 'Production', 'gender': 1, 'id': 7902, 'job': 'Casting Consultant', 'name': 'Ruth Lambert', 'profile_path': None}, {'credit_id': '589216f39251412dc2009cf3', 'department': 'Production', 'gender': 0, 'id': 84493, 'job': 'ADR Voice Casting', 'name': 'Mickie McGowan', 'profile_path': '/k7TjJBfINsg8vLQxJwos6XObAD6.jpg'}]   \n",
       "\n",
       "    id  \n",
       "0  862  "
      ]
     },
     "execution_count": 292,
     "metadata": {},
     "output_type": "execute_result"
    }
   ],
   "source": [
    "df_credits_csv.head(1)"
   ]
  },
  {
   "cell_type": "code",
   "execution_count": 293,
   "metadata": {},
   "outputs": [
    {
     "data": {
      "text/plain": [
       "(45476, 3)"
      ]
     },
     "execution_count": 293,
     "metadata": {},
     "output_type": "execute_result"
    }
   ],
   "source": [
    "df_credits_csv.shape"
   ]
  },
  {
   "cell_type": "code",
   "execution_count": 294,
   "metadata": {},
   "outputs": [],
   "source": [
    "# Revertir opciones de visualización a los valores predeterminados\n",
    "pd.reset_option('display.width')\n",
    "pd.reset_option('display.max_colwidth')\n"
   ]
  },
  {
   "cell_type": "code",
   "execution_count": 295,
   "metadata": {},
   "outputs": [
    {
     "data": {
      "text/plain": [
       "<Axes: >"
      ]
     },
     "execution_count": 295,
     "metadata": {},
     "output_type": "execute_result"
    },
    {
     "data": {
      "image/png": "[encoded data removed]",
      "text/plain": [
       "<Figure size 2500x1000 with 2 Axes>"
      ]
     },
     "metadata": {},
     "output_type": "display_data"
    }
   ],
   "source": [
    "msno.matrix(df_credits_csv)"
   ]
  },
  {
   "cell_type": "markdown",
   "metadata": {},
   "source": [
    "#### Vamos a tener que explorarlo mas al apestoso csv credits 🤧"
   ]
  },
  {
   "cell_type": "code",
   "execution_count": 296,
   "metadata": {},
   "outputs": [
    {
     "data": {
      "text/plain": [
       "(45476, 3)"
      ]
     },
     "execution_count": 296,
     "metadata": {},
     "output_type": "execute_result"
    }
   ],
   "source": [
    "df_credits_csv.shape"
   ]
  },
  {
   "cell_type": "code",
   "execution_count": 297,
   "metadata": {},
   "outputs": [],
   "source": [
    "df_credits_csv = df_credits_csv.drop_duplicates()"
   ]
  },
  {
   "cell_type": "code",
   "execution_count": 298,
   "metadata": {},
   "outputs": [
    {
     "name": "stdout",
     "output_type": "stream",
     "text": [
      "<class 'pandas.core.frame.DataFrame'>\n",
      "Index: 45439 entries, 0 to 45475\n",
      "Data columns (total 3 columns):\n",
      " #   Column  Non-Null Count  Dtype \n",
      "---  ------  --------------  ----- \n",
      " 0   cast    45439 non-null  object\n",
      " 1   crew    45439 non-null  object\n",
      " 2   id      45439 non-null  int64 \n",
      "dtypes: int64(1), object(2)\n",
      "memory usage: 1.4+ MB\n"
     ]
    }
   ],
   "source": [
    "df_credits_csv.info()"
   ]
  },
  {
   "cell_type": "markdown",
   "metadata": {},
   "source": [
    "elimino la ultima fila que esta vacia"
   ]
  },
  {
   "cell_type": "code",
   "execution_count": 299,
   "metadata": {},
   "outputs": [],
   "source": [
    "df_credits_csv = df_credits_csv.drop(df_credits_csv.index[-1])"
   ]
  },
  {
   "cell_type": "markdown",
   "metadata": {},
   "source": [
    "### Separo la columna id y la guardo aparte para asegurarla, debido a que parece estar ok"
   ]
  },
  {
   "cell_type": "code",
   "execution_count": 300,
   "metadata": {},
   "outputs": [
    {
     "name": "stdout",
     "output_type": "stream",
     "text": [
      "<class 'pandas.core.frame.DataFrame'>\n"
     ]
    }
   ],
   "source": [
    "df_movie_credits_id = pd.DataFrame()\n",
    "df_movie_credits_id['id']= df_credits_csv['id']\n",
    "df_movie_credits_id = df_movie_credits_id.drop_duplicates()\n",
    "print(type(df_movie_credits_id))"
   ]
  },
  {
   "cell_type": "markdown",
   "metadata": {},
   "source": [
    "### Continuo Explorando las dos primeras columnas, cast y crew"
   ]
  },
  {
   "cell_type": "markdown",
   "metadata": {},
   "source": [
    "#### Cast:\n",
    "##### Al final.. por ahora, no lo utilice, cast posee la info de el elenco de la pelicula, actoresn y que papeles desarrollaron en la pelicula, pero no aporta info significativa para la funcion objetivo get directors..."
   ]
  },
  {
   "cell_type": "markdown",
   "metadata": {},
   "source": [
    "Dejo codigo comentado para re activar pero no será necesario y lo saco del calculo para ahorrar espacio y tiempo de procesamiento"
   ]
  },
  {
   "cell_type": "code",
   "execution_count": 301,
   "metadata": {},
   "outputs": [],
   "source": [
    "# df_credits_cast = df_credits_csv[['cast','id']]\n",
    "\n",
    "# print(df_credits_cast)"
   ]
  },
  {
   "cell_type": "code",
   "execution_count": 302,
   "metadata": {},
   "outputs": [],
   "source": [
    "# df_credits_cast = df_credits_cast.drop_duplicates()"
   ]
  },
  {
   "cell_type": "code",
   "execution_count": 303,
   "metadata": {},
   "outputs": [],
   "source": [
    "# print(df_credits_cast.iloc[1:2])"
   ]
  },
  {
   "cell_type": "code",
   "execution_count": 304,
   "metadata": {},
   "outputs": [],
   "source": [
    "# iteracion = 0\n",
    "# df_cast_cleaned = pd.DataFrame()\n",
    "\n",
    "# # Iterar a través de la columna 'cast' en df_credits_cast\n",
    "# for row in df_credits_cast['cast']:\n",
    "#     try:\n",
    "#         # Utilizar json.loads para convertir la representación de cadena en una lista de diccionarios\n",
    "#         list_of_dicts = json.loads(row.replace(\"'\", \"\\\"\"))\n",
    "\n",
    "#         # Verificar si el 'id' de la película existe en la columna 'id' de df_movie_credits_id\n",
    "#         if df_movie_credits_id['id'].isin([d['id'] for d in list_of_dicts]).any():\n",
    "#             # Crear el DataFrame con los datos del cast\n",
    "#             cast_df = pd.DataFrame(list_of_dicts)\n",
    "\n",
    "#             # Obtener el 'id' de la película de df_movie_credits_id\n",
    "#             movie_id = df_movie_credits_id['id'].iloc[iteracion]\n",
    "\n",
    "#             # Agregar el 'movie_id' al DataFrame cast_df\n",
    "#             cast_df['movie_id'] = movie_id\n",
    "\n",
    "#             # Unificar los DataFrames utilizando concat\n",
    "#             df_cast_cleaned = pd.concat([df_cast_cleaned, cast_df], ignore_index=True)\n",
    "\n",
    "#             # Incrementar el contador de iteración\n",
    "#             iteracion += 1\n",
    "#         else:\n",
    "#             # Si el 'id' de la película no existe en df_movie_credits_id, omitimos esta película\n",
    "#             pass\n",
    "#     except json.JSONDecodeError:\n",
    "#         # Omitir las filas que no se pueden decodificar como JSON\n",
    "#         pass\n"
   ]
  },
  {
   "cell_type": "code",
   "execution_count": 305,
   "metadata": {},
   "outputs": [],
   "source": [
    "# cast_df"
   ]
  },
  {
   "cell_type": "code",
   "execution_count": 306,
   "metadata": {},
   "outputs": [],
   "source": [
    "# df_cast_cleaned.shape"
   ]
  },
  {
   "cell_type": "code",
   "execution_count": 307,
   "metadata": {},
   "outputs": [],
   "source": [
    "# df_cast_cleaned"
   ]
  },
  {
   "cell_type": "code",
   "execution_count": 308,
   "metadata": {},
   "outputs": [],
   "source": [
    "# df_cast_cleaned = df_cast_cleaned.drop(columns=['gender','profile_path','order','credit_id','cast_id'])"
   ]
  },
  {
   "cell_type": "code",
   "execution_count": 309,
   "metadata": {},
   "outputs": [],
   "source": [
    "# df_cast_cleaned.head(20)"
   ]
  },
  {
   "cell_type": "code",
   "execution_count": 310,
   "metadata": {},
   "outputs": [],
   "source": [
    "# df_cast_cleaned.shape"
   ]
  },
  {
   "cell_type": "code",
   "execution_count": 311,
   "metadata": {},
   "outputs": [],
   "source": [
    "# df_cast_cleaned.info()"
   ]
  },
  {
   "cell_type": "markdown",
   "metadata": {},
   "source": [
    "##### Guardo pickle: df_cast"
   ]
  },
  {
   "cell_type": "code",
   "execution_count": 312,
   "metadata": {},
   "outputs": [],
   "source": [
    "# # Guardar el DataFrame en formato pickle\n",
    "# df_cast_cleaned.to_pickle('../../Datasets Cleaned & light/df_cast.pkl')"
   ]
  },
  {
   "cell_type": "markdown",
   "metadata": {},
   "source": [
    "##### Confirmacion de Diector id:"
   ]
  },
  {
   "cell_type": "code",
   "execution_count": 313,
   "metadata": {},
   "outputs": [],
   "source": [
    "# # Filtrar el DataFrame por el valor 138 en la columna \"id\"\n",
    "# df_filtrado = df_cast_cleaned[df_cast_cleaned[\"id\"] == 138].copy()\n"
   ]
  },
  {
   "cell_type": "code",
   "execution_count": 314,
   "metadata": {},
   "outputs": [],
   "source": [
    "# df_filtrado.tail(50)"
   ]
  },
  {
   "cell_type": "markdown",
   "metadata": {},
   "source": [
    "#### Crew:"
   ]
  },
  {
   "cell_type": "code",
   "execution_count": 315,
   "metadata": {},
   "outputs": [
    {
     "data": {
      "text/plain": [
       "0        [{'credit_id': '52fe4284c3a36847f8024f49', 'de...\n",
       "1        [{'credit_id': '52fe44bfc3a36847f80a7cd1', 'de...\n",
       "2        [{'credit_id': '52fe466a9251416c75077a89', 'de...\n",
       "3        [{'credit_id': '52fe44779251416c91011acb', 'de...\n",
       "4        [{'credit_id': '52fe44959251416c75039ed7', 'de...\n",
       "                               ...                        \n",
       "45470    [{'credit_id': '52fe44439251416c9100a899', 'de...\n",
       "45471    [{'credit_id': '5894a97d925141426c00818c', 'de...\n",
       "45472    [{'credit_id': '52fe4af1c3a36847f81e9b15', 'de...\n",
       "45473    [{'credit_id': '52fe4776c3a368484e0c8387', 'de...\n",
       "45474    [{'credit_id': '533bccebc3a36844cf0011a7', 'de...\n",
       "Name: crew, Length: 45438, dtype: object"
      ]
     },
     "execution_count": 315,
     "metadata": {},
     "output_type": "execute_result"
    }
   ],
   "source": [
    "df_credits_crew = df_credits_csv['crew']\n",
    "\n",
    "(df_credits_crew)"
   ]
  },
  {
   "cell_type": "code",
   "execution_count": 316,
   "metadata": {},
   "outputs": [],
   "source": [
    "df_credits_crew = df_credits_crew.drop_duplicates()"
   ]
  },
  {
   "cell_type": "code",
   "execution_count": 317,
   "metadata": {},
   "outputs": [
    {
     "data": {
      "text/plain": [
       "0        [{'credit_id': '52fe4284c3a36847f8024f49', 'de...\n",
       "1        [{'credit_id': '52fe44bfc3a36847f80a7cd1', 'de...\n",
       "2        [{'credit_id': '52fe466a9251416c75077a89', 'de...\n",
       "3        [{'credit_id': '52fe44779251416c91011acb', 'de...\n",
       "4        [{'credit_id': '52fe44959251416c75039ed7', 'de...\n",
       "                               ...                        \n",
       "45470    [{'credit_id': '52fe44439251416c9100a899', 'de...\n",
       "45471    [{'credit_id': '5894a97d925141426c00818c', 'de...\n",
       "45472    [{'credit_id': '52fe4af1c3a36847f81e9b15', 'de...\n",
       "45473    [{'credit_id': '52fe4776c3a368484e0c8387', 'de...\n",
       "45474    [{'credit_id': '533bccebc3a36844cf0011a7', 'de...\n",
       "Name: crew, Length: 44668, dtype: object"
      ]
     },
     "execution_count": 317,
     "metadata": {},
     "output_type": "execute_result"
    }
   ],
   "source": [
    "df_credits_crew"
   ]
  },
  {
   "cell_type": "markdown",
   "metadata": {},
   "source": [
    "El proceso siguiente tarda aprox \n",
    "#### 9 minutos..."
   ]
  },
  {
   "cell_type": "code",
   "execution_count": 318,
   "metadata": {},
   "outputs": [],
   "source": [
    "import ast\n",
    "iteracion = 0\n",
    "df_crew_cleaned = pd.DataFrame()\n",
    "fallos = 0\n",
    "\n",
    "for row in df_credits_crew:\n",
    "\n",
    "    # Obtener el valor de la columna 'crew' del primer registro\n",
    "    crew_string = df_credits_crew.iloc[iteracion]\n",
    "\n",
    "    # Convertir el string a una lista de diccionarios usando eval()\n",
    "    crew_list = ast.literal_eval(crew_string)\n",
    "\n",
    "    # Check if the crew_list is empty, skip the iteration if it is\n",
    "    if not crew_list:\n",
    "        iteracion += 1\n",
    "        fallos += 1\n",
    "        continue\n",
    "\n",
    "    df_crew = pd.DataFrame(crew_list)\n",
    "    \n",
    "    #print(f\"crew_string: {crew_string}\")\n",
    "    \n",
    "    # Obtener el 'id' de la película de df_movie_credits_id\n",
    "    movie_id = df_movie_credits_id['id'].iloc[iteracion]\n",
    "\n",
    "    # Agregar el 'movie_id' al DataFrame cast_df\n",
    "    df_crew['movie_id'] = movie_id\n",
    "\n",
    "    \n",
    "    #print(f\"crew_string: {crew_string}\")\n",
    "    \n",
    "    \n",
    "    df_crew = df_crew[df_crew['job'] == 'Director']\n",
    "\n",
    "    # Unificar los DataFrames utilizando concat\n",
    "    df_crew_cleaned = pd.concat([df_crew_cleaned, df_crew], ignore_index=True)\n",
    "\n",
    "    # Incrementar el contador de iteración\n",
    "    iteracion += 1\n",
    "\n",
    "    \n",
    "    "
   ]
  },
  {
   "cell_type": "code",
   "execution_count": 319,
   "metadata": {},
   "outputs": [
    {
     "data": {
      "text/plain": [
       "1"
      ]
     },
     "execution_count": 319,
     "metadata": {},
     "output_type": "execute_result"
    }
   ],
   "source": [
    "fallos"
   ]
  },
  {
   "cell_type": "code",
   "execution_count": 320,
   "metadata": {},
   "outputs": [
    {
     "data": {
      "text/html": [
       "<div>\n",
       "<style scoped>\n",
       "    .dataframe tbody tr th:only-of-type {\n",
       "        vertical-align: middle;\n",
       "    }\n",
       "\n",
       "    .dataframe tbody tr th {\n",
       "        vertical-align: top;\n",
       "    }\n",
       "\n",
       "    .dataframe thead th {\n",
       "        text-align: right;\n",
       "    }\n",
       "</style>\n",
       "<table border=\"1\" class=\"dataframe\">\n",
       "  <thead>\n",
       "    <tr style=\"text-align: right;\">\n",
       "      <th></th>\n",
       "      <th>credit_id</th>\n",
       "      <th>department</th>\n",
       "      <th>gender</th>\n",
       "      <th>id</th>\n",
       "      <th>job</th>\n",
       "      <th>name</th>\n",
       "      <th>profile_path</th>\n",
       "      <th>movie_id</th>\n",
       "    </tr>\n",
       "  </thead>\n",
       "  <tbody>\n",
       "    <tr>\n",
       "      <th>0</th>\n",
       "      <td>533bccebc3a36844cf0011a7</td>\n",
       "      <td>Directing</td>\n",
       "      <td>0</td>\n",
       "      <td>1085341</td>\n",
       "      <td>Director</td>\n",
       "      <td>Yakov Protazanov</td>\n",
       "      <td>/yyjbGdCs2ZN6IlZNCfmBWyuRDlt.jpg</td>\n",
       "      <td>190683</td>\n",
       "    </tr>\n",
       "  </tbody>\n",
       "</table>\n",
       "</div>"
      ],
      "text/plain": [
       "                  credit_id department  gender       id       job  \\\n",
       "0  533bccebc3a36844cf0011a7  Directing       0  1085341  Director   \n",
       "\n",
       "               name                      profile_path  movie_id  \n",
       "0  Yakov Protazanov  /yyjbGdCs2ZN6IlZNCfmBWyuRDlt.jpg    190683  "
      ]
     },
     "execution_count": 320,
     "metadata": {},
     "output_type": "execute_result"
    }
   ],
   "source": [
    "df_crew.tail()\n"
   ]
  },
  {
   "cell_type": "code",
   "execution_count": 321,
   "metadata": {},
   "outputs": [
    {
     "data": {
      "text/html": [
       "<div>\n",
       "<style scoped>\n",
       "    .dataframe tbody tr th:only-of-type {\n",
       "        vertical-align: middle;\n",
       "    }\n",
       "\n",
       "    .dataframe tbody tr th {\n",
       "        vertical-align: top;\n",
       "    }\n",
       "\n",
       "    .dataframe thead th {\n",
       "        text-align: right;\n",
       "    }\n",
       "</style>\n",
       "<table border=\"1\" class=\"dataframe\">\n",
       "  <thead>\n",
       "    <tr style=\"text-align: right;\">\n",
       "      <th></th>\n",
       "      <th>credit_id</th>\n",
       "      <th>department</th>\n",
       "      <th>gender</th>\n",
       "      <th>id</th>\n",
       "      <th>job</th>\n",
       "      <th>name</th>\n",
       "      <th>profile_path</th>\n",
       "      <th>movie_id</th>\n",
       "    </tr>\n",
       "  </thead>\n",
       "  <tbody>\n",
       "    <tr>\n",
       "      <th>0</th>\n",
       "      <td>52fe4284c3a36847f8024f49</td>\n",
       "      <td>Directing</td>\n",
       "      <td>2</td>\n",
       "      <td>7879</td>\n",
       "      <td>Director</td>\n",
       "      <td>John Lasseter</td>\n",
       "      <td>/7EdqiNbr4FRjIhKHyPPdFfEEEFG.jpg</td>\n",
       "      <td>862</td>\n",
       "    </tr>\n",
       "    <tr>\n",
       "      <th>1</th>\n",
       "      <td>52fe44bfc3a36847f80a7c7d</td>\n",
       "      <td>Directing</td>\n",
       "      <td>2</td>\n",
       "      <td>4945</td>\n",
       "      <td>Director</td>\n",
       "      <td>Joe Johnston</td>\n",
       "      <td>/fok4jaO62v5IP6hkpaaAcXuw2H.jpg</td>\n",
       "      <td>8844</td>\n",
       "    </tr>\n",
       "    <tr>\n",
       "      <th>2</th>\n",
       "      <td>52fe466a9251416c75077a89</td>\n",
       "      <td>Directing</td>\n",
       "      <td>2</td>\n",
       "      <td>26502</td>\n",
       "      <td>Director</td>\n",
       "      <td>Howard Deutch</td>\n",
       "      <td>/68Vae1HkU1NxQZ6KEmuxIpno7c9.jpg</td>\n",
       "      <td>15602</td>\n",
       "    </tr>\n",
       "    <tr>\n",
       "      <th>3</th>\n",
       "      <td>52fe44779251416c91011acb</td>\n",
       "      <td>Directing</td>\n",
       "      <td>2</td>\n",
       "      <td>2178</td>\n",
       "      <td>Director</td>\n",
       "      <td>Forest Whitaker</td>\n",
       "      <td>/4pMQkelS5lK661m9Kz3oIxLYiyS.jpg</td>\n",
       "      <td>31357</td>\n",
       "    </tr>\n",
       "    <tr>\n",
       "      <th>4</th>\n",
       "      <td>52fe44959251416c75039eef</td>\n",
       "      <td>Directing</td>\n",
       "      <td>2</td>\n",
       "      <td>56106</td>\n",
       "      <td>Director</td>\n",
       "      <td>Charles Shyer</td>\n",
       "      <td>/hnWGd74CbmTcDCFQiJ8SYLazIXW.jpg</td>\n",
       "      <td>11862</td>\n",
       "    </tr>\n",
       "  </tbody>\n",
       "</table>\n",
       "</div>"
      ],
      "text/plain": [
       "                  credit_id department  gender     id       job  \\\n",
       "0  52fe4284c3a36847f8024f49  Directing       2   7879  Director   \n",
       "1  52fe44bfc3a36847f80a7c7d  Directing       2   4945  Director   \n",
       "2  52fe466a9251416c75077a89  Directing       2  26502  Director   \n",
       "3  52fe44779251416c91011acb  Directing       2   2178  Director   \n",
       "4  52fe44959251416c75039eef  Directing       2  56106  Director   \n",
       "\n",
       "              name                      profile_path  movie_id  \n",
       "0    John Lasseter  /7EdqiNbr4FRjIhKHyPPdFfEEEFG.jpg       862  \n",
       "1     Joe Johnston   /fok4jaO62v5IP6hkpaaAcXuw2H.jpg      8844  \n",
       "2    Howard Deutch  /68Vae1HkU1NxQZ6KEmuxIpno7c9.jpg     15602  \n",
       "3  Forest Whitaker  /4pMQkelS5lK661m9Kz3oIxLYiyS.jpg     31357  \n",
       "4    Charles Shyer  /hnWGd74CbmTcDCFQiJ8SYLazIXW.jpg     11862  "
      ]
     },
     "execution_count": 321,
     "metadata": {},
     "output_type": "execute_result"
    }
   ],
   "source": [
    "df_crew_cleaned.head()"
   ]
  },
  {
   "cell_type": "code",
   "execution_count": 322,
   "metadata": {},
   "outputs": [
    {
     "data": {
      "text/plain": [
       "(49007, 8)"
      ]
     },
     "execution_count": 322,
     "metadata": {},
     "output_type": "execute_result"
    }
   ],
   "source": [
    "df_crew_cleaned.shape"
   ]
  },
  {
   "cell_type": "code",
   "execution_count": 323,
   "metadata": {},
   "outputs": [],
   "source": [
    "df_crew_cleaned = df_crew_cleaned.drop(columns=['gender','profile_path','credit_id','job','department'])"
   ]
  },
  {
   "cell_type": "code",
   "execution_count": 324,
   "metadata": {},
   "outputs": [
    {
     "data": {
      "text/html": [
       "<div>\n",
       "<style scoped>\n",
       "    .dataframe tbody tr th:only-of-type {\n",
       "        vertical-align: middle;\n",
       "    }\n",
       "\n",
       "    .dataframe tbody tr th {\n",
       "        vertical-align: top;\n",
       "    }\n",
       "\n",
       "    .dataframe thead th {\n",
       "        text-align: right;\n",
       "    }\n",
       "</style>\n",
       "<table border=\"1\" class=\"dataframe\">\n",
       "  <thead>\n",
       "    <tr style=\"text-align: right;\">\n",
       "      <th></th>\n",
       "      <th>id</th>\n",
       "      <th>name</th>\n",
       "      <th>movie_id</th>\n",
       "    </tr>\n",
       "  </thead>\n",
       "  <tbody>\n",
       "    <tr>\n",
       "      <th>0</th>\n",
       "      <td>7879</td>\n",
       "      <td>John Lasseter</td>\n",
       "      <td>862</td>\n",
       "    </tr>\n",
       "    <tr>\n",
       "      <th>1</th>\n",
       "      <td>4945</td>\n",
       "      <td>Joe Johnston</td>\n",
       "      <td>8844</td>\n",
       "    </tr>\n",
       "    <tr>\n",
       "      <th>2</th>\n",
       "      <td>26502</td>\n",
       "      <td>Howard Deutch</td>\n",
       "      <td>15602</td>\n",
       "    </tr>\n",
       "    <tr>\n",
       "      <th>3</th>\n",
       "      <td>2178</td>\n",
       "      <td>Forest Whitaker</td>\n",
       "      <td>31357</td>\n",
       "    </tr>\n",
       "    <tr>\n",
       "      <th>4</th>\n",
       "      <td>56106</td>\n",
       "      <td>Charles Shyer</td>\n",
       "      <td>11862</td>\n",
       "    </tr>\n",
       "  </tbody>\n",
       "</table>\n",
       "</div>"
      ],
      "text/plain": [
       "      id             name  movie_id\n",
       "0   7879    John Lasseter       862\n",
       "1   4945     Joe Johnston      8844\n",
       "2  26502    Howard Deutch     15602\n",
       "3   2178  Forest Whitaker     31357\n",
       "4  56106    Charles Shyer     11862"
      ]
     },
     "execution_count": 324,
     "metadata": {},
     "output_type": "execute_result"
    }
   ],
   "source": [
    "df_crew_cleaned.head()"
   ]
  },
  {
   "cell_type": "code",
   "execution_count": 325,
   "metadata": {},
   "outputs": [
    {
     "name": "stdout",
     "output_type": "stream",
     "text": [
      "<class 'pandas.core.frame.DataFrame'>\n",
      "RangeIndex: 49007 entries, 0 to 49006\n",
      "Data columns (total 3 columns):\n",
      " #   Column    Non-Null Count  Dtype \n",
      "---  ------    --------------  ----- \n",
      " 0   id        49007 non-null  int64 \n",
      " 1   name      49007 non-null  object\n",
      " 2   movie_id  49007 non-null  int64 \n",
      "dtypes: int64(2), object(1)\n",
      "memory usage: 1.1+ MB\n"
     ]
    }
   ],
   "source": [
    "df_crew_cleaned.info()"
   ]
  },
  {
   "cell_type": "markdown",
   "metadata": {},
   "source": [
    "##### Guardo pickle: df_crew (only directors)"
   ]
  },
  {
   "cell_type": "code",
   "execution_count": 326,
   "metadata": {},
   "outputs": [],
   "source": [
    "# Guardar el DataFrame en formato pickle\n",
    "df_crew_cleaned.to_pickle('../../Datasets Cleaned & light/df_crew.pkl')"
   ]
  },
  {
   "cell_type": "markdown",
   "metadata": {},
   "source": [
    "### Seguimos ahora unificando la info:"
   ]
  },
  {
   "cell_type": "code",
   "execution_count": 327,
   "metadata": {},
   "outputs": [],
   "source": [
    "director_merged_info = df_crew_cleaned"
   ]
  },
  {
   "cell_type": "code",
   "execution_count": 328,
   "metadata": {},
   "outputs": [
    {
     "data": {
      "text/plain": [
       "<Axes: >"
      ]
     },
     "execution_count": 328,
     "metadata": {},
     "output_type": "execute_result"
    },
    {
     "data": {
      "image/png": "[encoded data removed]",
      "text/plain": [
       "<Figure size 2500x1000 with 2 Axes>"
      ]
     },
     "metadata": {},
     "output_type": "display_data"
    }
   ],
   "source": [
    "msno.matrix(director_merged_info)"
   ]
  },
  {
   "cell_type": "code",
   "execution_count": 329,
   "metadata": {},
   "outputs": [
    {
     "data": {
      "text/plain": [
       "(49007, 3)"
      ]
     },
     "execution_count": 329,
     "metadata": {},
     "output_type": "execute_result"
    }
   ],
   "source": [
    "director_merged_info.shape"
   ]
  },
  {
   "cell_type": "code",
   "execution_count": 330,
   "metadata": {},
   "outputs": [],
   "source": [
    "director_merged_info_sin_na = director_merged_info.dropna()"
   ]
  },
  {
   "cell_type": "code",
   "execution_count": 331,
   "metadata": {},
   "outputs": [
    {
     "data": {
      "text/plain": [
       "(49007, 3)"
      ]
     },
     "execution_count": 331,
     "metadata": {},
     "output_type": "execute_result"
    }
   ],
   "source": [
    "director_merged_info_sin_na.shape"
   ]
  },
  {
   "cell_type": "code",
   "execution_count": 332,
   "metadata": {},
   "outputs": [
    {
     "data": {
      "text/html": [
       "<div>\n",
       "<style scoped>\n",
       "    .dataframe tbody tr th:only-of-type {\n",
       "        vertical-align: middle;\n",
       "    }\n",
       "\n",
       "    .dataframe tbody tr th {\n",
       "        vertical-align: top;\n",
       "    }\n",
       "\n",
       "    .dataframe thead th {\n",
       "        text-align: right;\n",
       "    }\n",
       "</style>\n",
       "<table border=\"1\" class=\"dataframe\">\n",
       "  <thead>\n",
       "    <tr style=\"text-align: right;\">\n",
       "      <th></th>\n",
       "      <th>id</th>\n",
       "      <th>name</th>\n",
       "      <th>movie_id</th>\n",
       "    </tr>\n",
       "  </thead>\n",
       "  <tbody>\n",
       "    <tr>\n",
       "      <th>0</th>\n",
       "      <td>7879</td>\n",
       "      <td>John Lasseter</td>\n",
       "      <td>862</td>\n",
       "    </tr>\n",
       "    <tr>\n",
       "      <th>1</th>\n",
       "      <td>4945</td>\n",
       "      <td>Joe Johnston</td>\n",
       "      <td>8844</td>\n",
       "    </tr>\n",
       "    <tr>\n",
       "      <th>2</th>\n",
       "      <td>26502</td>\n",
       "      <td>Howard Deutch</td>\n",
       "      <td>15602</td>\n",
       "    </tr>\n",
       "    <tr>\n",
       "      <th>3</th>\n",
       "      <td>2178</td>\n",
       "      <td>Forest Whitaker</td>\n",
       "      <td>31357</td>\n",
       "    </tr>\n",
       "    <tr>\n",
       "      <th>4</th>\n",
       "      <td>56106</td>\n",
       "      <td>Charles Shyer</td>\n",
       "      <td>11862</td>\n",
       "    </tr>\n",
       "    <tr>\n",
       "      <th>5</th>\n",
       "      <td>638</td>\n",
       "      <td>Michael Mann</td>\n",
       "      <td>949</td>\n",
       "    </tr>\n",
       "    <tr>\n",
       "      <th>6</th>\n",
       "      <td>2226</td>\n",
       "      <td>Sydney Pollack</td>\n",
       "      <td>11860</td>\n",
       "    </tr>\n",
       "  </tbody>\n",
       "</table>\n",
       "</div>"
      ],
      "text/plain": [
       "      id             name  movie_id\n",
       "0   7879    John Lasseter       862\n",
       "1   4945     Joe Johnston      8844\n",
       "2  26502    Howard Deutch     15602\n",
       "3   2178  Forest Whitaker     31357\n",
       "4  56106    Charles Shyer     11862\n",
       "5    638     Michael Mann       949\n",
       "6   2226   Sydney Pollack     11860"
      ]
     },
     "execution_count": 332,
     "metadata": {},
     "output_type": "execute_result"
    }
   ],
   "source": [
    "director_merged_info_sin_na.head(7)"
   ]
  },
  {
   "cell_type": "code",
   "execution_count": 333,
   "metadata": {},
   "outputs": [],
   "source": [
    "# list_cols_int = ['id_crew','movie_id','id_cast']\n",
    "# for element in list_cols_int:\n",
    "#     director_merged_info_sin_na.loc[:, list_cols_int] = director_merged_info_sin_na[list_cols_int].astype(int)\n",
    "    "
   ]
  },
  {
   "cell_type": "code",
   "execution_count": 334,
   "metadata": {},
   "outputs": [],
   "source": [
    "# director_merged_info_sin_na.head(5)"
   ]
  },
  {
   "cell_type": "code",
   "execution_count": 335,
   "metadata": {},
   "outputs": [],
   "source": [
    "# director_merged_info_sin_na.info()"
   ]
  },
  {
   "cell_type": "code",
   "execution_count": 336,
   "metadata": {},
   "outputs": [],
   "source": [
    "# msno.matrix(director_merged_info_sin_na)"
   ]
  },
  {
   "cell_type": "code",
   "execution_count": 337,
   "metadata": {},
   "outputs": [],
   "source": [
    "# director_merged_info_sin_na.drop_duplicates()"
   ]
  },
  {
   "cell_type": "code",
   "execution_count": 338,
   "metadata": {},
   "outputs": [],
   "source": [
    "# director_merged_info_sin_na.head(40)"
   ]
  },
  {
   "cell_type": "code",
   "execution_count": 339,
   "metadata": {},
   "outputs": [],
   "source": [
    "# director_merged_info_sin_na.shape"
   ]
  },
  {
   "cell_type": "markdown",
   "metadata": {},
   "source": [
    "#### Algunas verificaciones de concordancia"
   ]
  },
  {
   "cell_type": "code",
   "execution_count": 340,
   "metadata": {},
   "outputs": [
    {
     "data": {
      "text/html": [
       "<div>\n",
       "<style scoped>\n",
       "    .dataframe tbody tr th:only-of-type {\n",
       "        vertical-align: middle;\n",
       "    }\n",
       "\n",
       "    .dataframe tbody tr th {\n",
       "        vertical-align: top;\n",
       "    }\n",
       "\n",
       "    .dataframe thead th {\n",
       "        text-align: right;\n",
       "    }\n",
       "</style>\n",
       "<table border=\"1\" class=\"dataframe\">\n",
       "  <thead>\n",
       "    <tr style=\"text-align: right;\">\n",
       "      <th></th>\n",
       "      <th>id</th>\n",
       "      <th>name</th>\n",
       "      <th>movie_id</th>\n",
       "    </tr>\n",
       "  </thead>\n",
       "  <tbody>\n",
       "    <tr>\n",
       "      <th>163</th>\n",
       "      <td>5281</td>\n",
       "      <td>Spike Lee</td>\n",
       "      <td>20649</td>\n",
       "    </tr>\n",
       "    <tr>\n",
       "      <th>359</th>\n",
       "      <td>5281</td>\n",
       "      <td>Spike Lee</td>\n",
       "      <td>34152</td>\n",
       "    </tr>\n",
       "    <tr>\n",
       "      <th>658</th>\n",
       "      <td>5281</td>\n",
       "      <td>Spike Lee</td>\n",
       "      <td>2021</td>\n",
       "    </tr>\n",
       "    <tr>\n",
       "      <th>1080</th>\n",
       "      <td>5281</td>\n",
       "      <td>Spike Lee</td>\n",
       "      <td>10586</td>\n",
       "    </tr>\n",
       "    <tr>\n",
       "      <th>1815</th>\n",
       "      <td>5281</td>\n",
       "      <td>Spike Lee</td>\n",
       "      <td>32144</td>\n",
       "    </tr>\n",
       "  </tbody>\n",
       "</table>\n",
       "</div>"
      ],
      "text/plain": [
       "        id       name  movie_id\n",
       "163   5281  Spike Lee     20649\n",
       "359   5281  Spike Lee     34152\n",
       "658   5281  Spike Lee      2021\n",
       "1080  5281  Spike Lee     10586\n",
       "1815  5281  Spike Lee     32144"
      ]
     },
     "execution_count": 340,
     "metadata": {},
     "output_type": "execute_result"
    }
   ],
   "source": [
    "# Filtrar la fila que contiene el campo \"id\" igual a 34\n",
    "fila_id_680 = director_merged_info.loc[director_merged_info_sin_na['name'] == 'Spike Lee']\n",
    "\n",
    "# Imprimir la fila que cumple la condición\n",
    "fila_id_680.head()"
   ]
  },
  {
   "cell_type": "code",
   "execution_count": 341,
   "metadata": {},
   "outputs": [
    {
     "data": {
      "text/html": [
       "<div>\n",
       "<style scoped>\n",
       "    .dataframe tbody tr th:only-of-type {\n",
       "        vertical-align: middle;\n",
       "    }\n",
       "\n",
       "    .dataframe tbody tr th {\n",
       "        vertical-align: top;\n",
       "    }\n",
       "\n",
       "    .dataframe thead th {\n",
       "        text-align: right;\n",
       "    }\n",
       "</style>\n",
       "<table border=\"1\" class=\"dataframe\">\n",
       "  <thead>\n",
       "    <tr style=\"text-align: right;\">\n",
       "      <th></th>\n",
       "      <th>id</th>\n",
       "      <th>name</th>\n",
       "      <th>movie_id</th>\n",
       "    </tr>\n",
       "  </thead>\n",
       "  <tbody>\n",
       "    <tr>\n",
       "      <th>1815</th>\n",
       "      <td>5281</td>\n",
       "      <td>Spike Lee</td>\n",
       "      <td>32144</td>\n",
       "    </tr>\n",
       "  </tbody>\n",
       "</table>\n",
       "</div>"
      ],
      "text/plain": [
       "        id       name  movie_id\n",
       "1815  5281  Spike Lee     32144"
      ]
     },
     "execution_count": 341,
     "metadata": {},
     "output_type": "execute_result"
    }
   ],
   "source": [
    "# Filtrar la fila que contiene el campo \"id\" igual a 34\n",
    "fila_id_884 = director_merged_info.loc[director_merged_info_sin_na['movie_id'] == 32144]\n",
    "\n",
    "# Imprimir la fila que cumple la condición\n",
    "fila_id_884.head()"
   ]
  },
  {
   "cell_type": "markdown",
   "metadata": {},
   "source": [
    "### Guardo pickle: director_merged_info"
   ]
  },
  {
   "cell_type": "code",
   "execution_count": 342,
   "metadata": {},
   "outputs": [],
   "source": [
    "# # Guardar el DataFrame en formato pickle\n",
    "# director_merged_info_sin_na.to_pickle('../../Datasets Cleaned & light/director_merged_info.pkl')"
   ]
  },
  {
   "cell_type": "markdown",
   "metadata": {},
   "source": [
    "### Creando dataset para ultima funcion:"
   ]
  },
  {
   "cell_type": "markdown",
   "metadata": {},
   "source": [
    "#### Leer dataset df_movies:"
   ]
  },
  {
   "cell_type": "code",
   "execution_count": 343,
   "metadata": {},
   "outputs": [],
   "source": [
    "import pandas as pd\n",
    "\n",
    "# Leer el archivo pickle y guardarlo en un dataframe\n",
    "df_movies = pd.read_pickle('../../Datasets Cleaned & light/df_movies.pkl')"
   ]
  },
  {
   "cell_type": "code",
   "execution_count": 344,
   "metadata": {},
   "outputs": [
    {
     "data": {
      "text/html": [
       "<div>\n",
       "<style scoped>\n",
       "    .dataframe tbody tr th:only-of-type {\n",
       "        vertical-align: middle;\n",
       "    }\n",
       "\n",
       "    .dataframe tbody tr th {\n",
       "        vertical-align: top;\n",
       "    }\n",
       "\n",
       "    .dataframe thead th {\n",
       "        text-align: right;\n",
       "    }\n",
       "</style>\n",
       "<table border=\"1\" class=\"dataframe\">\n",
       "  <thead>\n",
       "    <tr style=\"text-align: right;\">\n",
       "      <th></th>\n",
       "      <th>budget</th>\n",
       "      <th>id</th>\n",
       "      <th>original_language</th>\n",
       "      <th>overview</th>\n",
       "      <th>popularity</th>\n",
       "      <th>release_date</th>\n",
       "      <th>revenue</th>\n",
       "      <th>runtime</th>\n",
       "      <th>status</th>\n",
       "      <th>title</th>\n",
       "      <th>vote_average</th>\n",
       "      <th>vote_count</th>\n",
       "      <th>genre_ids</th>\n",
       "      <th>genre_names</th>\n",
       "      <th>production_companies_ids</th>\n",
       "      <th>production_companies_nombres</th>\n",
       "      <th>iso_codes</th>\n",
       "      <th>country_names</th>\n",
       "      <th>iso_language_codes</th>\n",
       "      <th>language_names</th>\n",
       "      <th>release_year</th>\n",
       "      <th>return</th>\n",
       "      <th>collection_name</th>\n",
       "    </tr>\n",
       "  </thead>\n",
       "  <tbody>\n",
       "    <tr>\n",
       "      <th>0</th>\n",
       "      <td>30000000.0</td>\n",
       "      <td>862</td>\n",
       "      <td>en</td>\n",
       "      <td>led by woody, andy's toys live happily in his ...</td>\n",
       "      <td>21.946943</td>\n",
       "      <td>1995-10-30</td>\n",
       "      <td>373554033</td>\n",
       "      <td>81</td>\n",
       "      <td>released</td>\n",
       "      <td>toy story</td>\n",
       "      <td>7.7</td>\n",
       "      <td>5415</td>\n",
       "      <td>[16, 35, 10751]</td>\n",
       "      <td>['animation', 'comedy', 'family']</td>\n",
       "      <td>[3]</td>\n",
       "      <td>['pixar animation studios']</td>\n",
       "      <td>['us']</td>\n",
       "      <td>['united states of america']</td>\n",
       "      <td>['en']</td>\n",
       "      <td>['english']</td>\n",
       "      <td>1995</td>\n",
       "      <td>12.451801</td>\n",
       "      <td>toy story collection</td>\n",
       "    </tr>\n",
       "  </tbody>\n",
       "</table>\n",
       "</div>"
      ],
      "text/plain": [
       "       budget   id original_language  \\\n",
       "0  30000000.0  862                en   \n",
       "\n",
       "                                            overview  popularity release_date  \\\n",
       "0  led by woody, andy's toys live happily in his ...   21.946943   1995-10-30   \n",
       "\n",
       "     revenue  runtime    status      title  vote_average  vote_count  \\\n",
       "0  373554033       81  released  toy story           7.7        5415   \n",
       "\n",
       "         genre_ids                        genre_names  \\\n",
       "0  [16, 35, 10751]  ['animation', 'comedy', 'family']   \n",
       "\n",
       "  production_companies_ids production_companies_nombres iso_codes  \\\n",
       "0                      [3]  ['pixar animation studios']    ['us']   \n",
       "\n",
       "                  country_names iso_language_codes language_names  \\\n",
       "0  ['united states of america']             ['en']    ['english']   \n",
       "\n",
       "   release_year     return       collection_name  \n",
       "0          1995  12.451801  toy story collection  "
      ]
     },
     "execution_count": 344,
     "metadata": {},
     "output_type": "execute_result"
    }
   ],
   "source": [
    "df_movies.head(1)"
   ]
  },
  {
   "cell_type": "code",
   "execution_count": 345,
   "metadata": {},
   "outputs": [],
   "source": [
    "# Renombrar la columna\n",
    "df_movies.rename(columns={'id': 'movie_id'}, inplace=True)"
   ]
  },
  {
   "cell_type": "markdown",
   "metadata": {},
   "source": [
    "### Left join, completando df_movies con direcrors of that movies..."
   ]
  },
  {
   "cell_type": "code",
   "execution_count": 346,
   "metadata": {},
   "outputs": [],
   "source": [
    "# Realizar el left join\n",
    "df_movies_directors = df_movies.merge(director_merged_info, on='movie_id', how='left')\n"
   ]
  },
  {
   "cell_type": "markdown",
   "metadata": {},
   "source": [
    "##### Agrupando df_directors"
   ]
  },
  {
   "cell_type": "code",
   "execution_count": 347,
   "metadata": {},
   "outputs": [],
   "source": [
    "# grouped_director_info = director_merged_info.groupby('movie_id')['name'].agg(list).reset_index()"
   ]
  },
  {
   "cell_type": "code",
   "execution_count": 348,
   "metadata": {},
   "outputs": [],
   "source": [
    "# grouped_director_info.head()"
   ]
  },
  {
   "cell_type": "markdown",
   "metadata": {},
   "source": [
    "______________________________________________"
   ]
  },
  {
   "cell_type": "markdown",
   "metadata": {},
   "source": [
    "### Last minor changes"
   ]
  },
  {
   "cell_type": "code",
   "execution_count": 349,
   "metadata": {},
   "outputs": [
    {
     "data": {
      "text/html": [
       "<div>\n",
       "<style scoped>\n",
       "    .dataframe tbody tr th:only-of-type {\n",
       "        vertical-align: middle;\n",
       "    }\n",
       "\n",
       "    .dataframe tbody tr th {\n",
       "        vertical-align: top;\n",
       "    }\n",
       "\n",
       "    .dataframe thead th {\n",
       "        text-align: right;\n",
       "    }\n",
       "</style>\n",
       "<table border=\"1\" class=\"dataframe\">\n",
       "  <thead>\n",
       "    <tr style=\"text-align: right;\">\n",
       "      <th></th>\n",
       "      <th>budget</th>\n",
       "      <th>movie_id</th>\n",
       "      <th>original_language</th>\n",
       "      <th>overview</th>\n",
       "      <th>popularity</th>\n",
       "      <th>release_date</th>\n",
       "      <th>revenue</th>\n",
       "      <th>runtime</th>\n",
       "      <th>status</th>\n",
       "      <th>title</th>\n",
       "      <th>vote_average</th>\n",
       "      <th>vote_count</th>\n",
       "      <th>genre_ids</th>\n",
       "      <th>genre_names</th>\n",
       "      <th>production_companies_ids</th>\n",
       "      <th>production_companies_nombres</th>\n",
       "      <th>iso_codes</th>\n",
       "      <th>country_names</th>\n",
       "      <th>iso_language_codes</th>\n",
       "      <th>language_names</th>\n",
       "      <th>release_year</th>\n",
       "      <th>return</th>\n",
       "      <th>collection_name</th>\n",
       "    </tr>\n",
       "  </thead>\n",
       "  <tbody>\n",
       "    <tr>\n",
       "      <th>0</th>\n",
       "      <td>3.000000e+07</td>\n",
       "      <td>862</td>\n",
       "      <td>en</td>\n",
       "      <td>led by woody, andy's toys live happily in his ...</td>\n",
       "      <td>21.946943</td>\n",
       "      <td>1995-10-30</td>\n",
       "      <td>373554033</td>\n",
       "      <td>81</td>\n",
       "      <td>released</td>\n",
       "      <td>toy story</td>\n",
       "      <td>7.7</td>\n",
       "      <td>5415</td>\n",
       "      <td>[16, 35, 10751]</td>\n",
       "      <td>['animation', 'comedy', 'family']</td>\n",
       "      <td>[3]</td>\n",
       "      <td>['pixar animation studios']</td>\n",
       "      <td>['us']</td>\n",
       "      <td>['united states of america']</td>\n",
       "      <td>['en']</td>\n",
       "      <td>['english']</td>\n",
       "      <td>1995</td>\n",
       "      <td>12.451801</td>\n",
       "      <td>toy story collection</td>\n",
       "    </tr>\n",
       "    <tr>\n",
       "      <th>1</th>\n",
       "      <td>6.500000e+07</td>\n",
       "      <td>8844</td>\n",
       "      <td>en</td>\n",
       "      <td>when siblings judy and peter discover an encha...</td>\n",
       "      <td>17.015539</td>\n",
       "      <td>1995-12-15</td>\n",
       "      <td>262797249</td>\n",
       "      <td>104</td>\n",
       "      <td>released</td>\n",
       "      <td>jumanji</td>\n",
       "      <td>6.9</td>\n",
       "      <td>2413</td>\n",
       "      <td>[12, 14, 10751]</td>\n",
       "      <td>['adventure', 'fantasy', 'family']</td>\n",
       "      <td>[559, 2550, 10201]</td>\n",
       "      <td>['tristar pictures', 'teitler film', 'intersco...</td>\n",
       "      <td>['us']</td>\n",
       "      <td>['united states of america']</td>\n",
       "      <td>['en', 'fr']</td>\n",
       "      <td>['english', 'français']</td>\n",
       "      <td>1995</td>\n",
       "      <td>4.043035</td>\n",
       "      <td>not part of a collection</td>\n",
       "    </tr>\n",
       "    <tr>\n",
       "      <th>2</th>\n",
       "      <td>4.224579e+06</td>\n",
       "      <td>15602</td>\n",
       "      <td>en</td>\n",
       "      <td>a family wedding reignites the ancient feud be...</td>\n",
       "      <td>11.712900</td>\n",
       "      <td>1995-12-22</td>\n",
       "      <td>11209348</td>\n",
       "      <td>101</td>\n",
       "      <td>released</td>\n",
       "      <td>grumpier old men</td>\n",
       "      <td>6.5</td>\n",
       "      <td>92</td>\n",
       "      <td>[10749, 35]</td>\n",
       "      <td>['romance', 'comedy']</td>\n",
       "      <td>[6194, 19464]</td>\n",
       "      <td>['warner bros.', 'lancaster gate']</td>\n",
       "      <td>['us']</td>\n",
       "      <td>['united states of america']</td>\n",
       "      <td>['en']</td>\n",
       "      <td>['english']</td>\n",
       "      <td>1995</td>\n",
       "      <td>2.653365</td>\n",
       "      <td>grumpy old men collection</td>\n",
       "    </tr>\n",
       "  </tbody>\n",
       "</table>\n",
       "</div>"
      ],
      "text/plain": [
       "         budget  movie_id original_language  \\\n",
       "0  3.000000e+07       862                en   \n",
       "1  6.500000e+07      8844                en   \n",
       "2  4.224579e+06     15602                en   \n",
       "\n",
       "                                            overview  popularity release_date  \\\n",
       "0  led by woody, andy's toys live happily in his ...   21.946943   1995-10-30   \n",
       "1  when siblings judy and peter discover an encha...   17.015539   1995-12-15   \n",
       "2  a family wedding reignites the ancient feud be...   11.712900   1995-12-22   \n",
       "\n",
       "     revenue  runtime    status             title  vote_average  vote_count  \\\n",
       "0  373554033       81  released         toy story           7.7        5415   \n",
       "1  262797249      104  released           jumanji           6.9        2413   \n",
       "2   11209348      101  released  grumpier old men           6.5          92   \n",
       "\n",
       "         genre_ids                         genre_names  \\\n",
       "0  [16, 35, 10751]   ['animation', 'comedy', 'family']   \n",
       "1  [12, 14, 10751]  ['adventure', 'fantasy', 'family']   \n",
       "2      [10749, 35]               ['romance', 'comedy']   \n",
       "\n",
       "  production_companies_ids                       production_companies_nombres  \\\n",
       "0                      [3]                        ['pixar animation studios']   \n",
       "1       [559, 2550, 10201]  ['tristar pictures', 'teitler film', 'intersco...   \n",
       "2            [6194, 19464]                 ['warner bros.', 'lancaster gate']   \n",
       "\n",
       "  iso_codes                 country_names iso_language_codes  \\\n",
       "0    ['us']  ['united states of america']             ['en']   \n",
       "1    ['us']  ['united states of america']       ['en', 'fr']   \n",
       "2    ['us']  ['united states of america']             ['en']   \n",
       "\n",
       "            language_names  release_year     return            collection_name  \n",
       "0              ['english']          1995  12.451801       toy story collection  \n",
       "1  ['english', 'français']          1995   4.043035   not part of a collection  \n",
       "2              ['english']          1995   2.653365  grumpy old men collection  "
      ]
     },
     "execution_count": 349,
     "metadata": {},
     "output_type": "execute_result"
    }
   ],
   "source": [
    "df_movies.head(3)"
   ]
  },
  {
   "cell_type": "code",
   "execution_count": 350,
   "metadata": {},
   "outputs": [
    {
     "data": {
      "text/html": [
       "<div>\n",
       "<style scoped>\n",
       "    .dataframe tbody tr th:only-of-type {\n",
       "        vertical-align: middle;\n",
       "    }\n",
       "\n",
       "    .dataframe tbody tr th {\n",
       "        vertical-align: top;\n",
       "    }\n",
       "\n",
       "    .dataframe thead th {\n",
       "        text-align: right;\n",
       "    }\n",
       "</style>\n",
       "<table border=\"1\" class=\"dataframe\">\n",
       "  <thead>\n",
       "    <tr style=\"text-align: right;\">\n",
       "      <th></th>\n",
       "      <th>id</th>\n",
       "      <th>name</th>\n",
       "      <th>movie_id</th>\n",
       "    </tr>\n",
       "  </thead>\n",
       "  <tbody>\n",
       "    <tr>\n",
       "      <th>0</th>\n",
       "      <td>7879</td>\n",
       "      <td>John Lasseter</td>\n",
       "      <td>862</td>\n",
       "    </tr>\n",
       "    <tr>\n",
       "      <th>1</th>\n",
       "      <td>4945</td>\n",
       "      <td>Joe Johnston</td>\n",
       "      <td>8844</td>\n",
       "    </tr>\n",
       "  </tbody>\n",
       "</table>\n",
       "</div>"
      ],
      "text/plain": [
       "     id           name  movie_id\n",
       "0  7879  John Lasseter       862\n",
       "1  4945   Joe Johnston      8844"
      ]
     },
     "execution_count": 350,
     "metadata": {},
     "output_type": "execute_result"
    }
   ],
   "source": [
    "director_merged_info_sin_na.head(2)"
   ]
  },
  {
   "cell_type": "code",
   "execution_count": 351,
   "metadata": {},
   "outputs": [],
   "source": [
    "# # Hacer el left join usando la función merge\n",
    "# df_movies = df_movies.drop_duplicates()\n",
    "# director_merged_info_sin_na = director_merged_info_sin_na.drop_duplicates()\n",
    "\n",
    "# director_merged_info_sin_na = pd.merge(director_merged_info_sin_na, df_movies[['budget', 'popularity', 'revenue', 'title', 'runtime']], on='movie_id', how='left')\n"
   ]
  },
  {
   "cell_type": "code",
   "execution_count": 352,
   "metadata": {},
   "outputs": [
    {
     "data": {
      "text/plain": [
       "<Axes: >"
      ]
     },
     "execution_count": 352,
     "metadata": {},
     "output_type": "execute_result"
    },
    {
     "data": {
      "image/png": "[encoded data removed]",
      "text/plain": [
       "<Figure size 2500x1000 with 2 Axes>"
      ]
     },
     "metadata": {},
     "output_type": "display_data"
    }
   ],
   "source": [
    "msno.matrix(df_movies_directors)"
   ]
  },
  {
   "cell_type": "code",
   "execution_count": 353,
   "metadata": {},
   "outputs": [],
   "source": [
    "df_movies_directors = df_movies_directors.drop_duplicates()\n",
    "df_movies_directors = df_movies_directors.dropna()"
   ]
  },
  {
   "cell_type": "code",
   "execution_count": 354,
   "metadata": {},
   "outputs": [
    {
     "name": "stdout",
     "output_type": "stream",
     "text": [
      "<class 'pandas.core.frame.DataFrame'>\n",
      "Index: 56806 entries, 0 to 149129\n",
      "Data columns (total 25 columns):\n",
      " #   Column                        Non-Null Count  Dtype         \n",
      "---  ------                        --------------  -----         \n",
      " 0   budget                        56806 non-null  float64       \n",
      " 1   movie_id                      56806 non-null  int64         \n",
      " 2   original_language             56806 non-null  object        \n",
      " 3   overview                      56806 non-null  object        \n",
      " 4   popularity                    56806 non-null  float64       \n",
      " 5   release_date                  56806 non-null  datetime64[ns]\n",
      " 6   revenue                       56806 non-null  int64         \n",
      " 7   runtime                       56806 non-null  int64         \n",
      " 8   status                        56806 non-null  object        \n",
      " 9   title                         56806 non-null  object        \n",
      " 10  vote_average                  56806 non-null  float64       \n",
      " 11  vote_count                    56806 non-null  int64         \n",
      " 12  genre_ids                     56806 non-null  object        \n",
      " 13  genre_names                   56806 non-null  object        \n",
      " 14  production_companies_ids      56806 non-null  object        \n",
      " 15  production_companies_nombres  56806 non-null  object        \n",
      " 16  iso_codes                     56806 non-null  object        \n",
      " 17  country_names                 56806 non-null  object        \n",
      " 18  iso_language_codes            56806 non-null  object        \n",
      " 19  language_names                56806 non-null  object        \n",
      " 20  release_year                  56806 non-null  int64         \n",
      " 21  return                        56806 non-null  float64       \n",
      " 22  collection_name               56806 non-null  object        \n",
      " 23  id                            56806 non-null  float64       \n",
      " 24  name                          56806 non-null  object        \n",
      "dtypes: datetime64[ns](1), float64(5), int64(5), object(14)\n",
      "memory usage: 11.3+ MB\n",
      "None\n"
     ]
    }
   ],
   "source": [
    "print(df_movies_directors.info())"
   ]
  },
  {
   "cell_type": "code",
   "execution_count": 355,
   "metadata": {},
   "outputs": [],
   "source": [
    "df_movies_directors.rename(columns = {'id':'director_id'}, inplace=True)"
   ]
  },
  {
   "cell_type": "code",
   "execution_count": 356,
   "metadata": {},
   "outputs": [],
   "source": [
    "df_movies_directors['director_id'] = df_movies_directors['director_id'].astype(int)"
   ]
  },
  {
   "cell_type": "code",
   "execution_count": 357,
   "metadata": {},
   "outputs": [],
   "source": [
    "pd.set_option('display.max_columns', None)"
   ]
  },
  {
   "cell_type": "code",
   "execution_count": 358,
   "metadata": {},
   "outputs": [
    {
     "data": {
      "text/html": [
       "<div>\n",
       "<style scoped>\n",
       "    .dataframe tbody tr th:only-of-type {\n",
       "        vertical-align: middle;\n",
       "    }\n",
       "\n",
       "    .dataframe tbody tr th {\n",
       "        vertical-align: top;\n",
       "    }\n",
       "\n",
       "    .dataframe thead th {\n",
       "        text-align: right;\n",
       "    }\n",
       "</style>\n",
       "<table border=\"1\" class=\"dataframe\">\n",
       "  <thead>\n",
       "    <tr style=\"text-align: right;\">\n",
       "      <th></th>\n",
       "      <th>budget</th>\n",
       "      <th>movie_id</th>\n",
       "      <th>original_language</th>\n",
       "      <th>overview</th>\n",
       "      <th>popularity</th>\n",
       "      <th>release_date</th>\n",
       "      <th>revenue</th>\n",
       "      <th>runtime</th>\n",
       "      <th>status</th>\n",
       "      <th>title</th>\n",
       "      <th>vote_average</th>\n",
       "      <th>vote_count</th>\n",
       "      <th>genre_ids</th>\n",
       "      <th>genre_names</th>\n",
       "      <th>production_companies_ids</th>\n",
       "      <th>production_companies_nombres</th>\n",
       "      <th>iso_codes</th>\n",
       "      <th>country_names</th>\n",
       "      <th>iso_language_codes</th>\n",
       "      <th>language_names</th>\n",
       "      <th>release_year</th>\n",
       "      <th>return</th>\n",
       "      <th>collection_name</th>\n",
       "      <th>director_id</th>\n",
       "      <th>name</th>\n",
       "    </tr>\n",
       "  </thead>\n",
       "  <tbody>\n",
       "    <tr>\n",
       "      <th>0</th>\n",
       "      <td>3.000000e+07</td>\n",
       "      <td>862</td>\n",
       "      <td>en</td>\n",
       "      <td>led by woody, andy's toys live happily in his ...</td>\n",
       "      <td>21.946943</td>\n",
       "      <td>1995-10-30</td>\n",
       "      <td>373554033</td>\n",
       "      <td>81</td>\n",
       "      <td>released</td>\n",
       "      <td>toy story</td>\n",
       "      <td>7.7</td>\n",
       "      <td>5415</td>\n",
       "      <td>[16, 35, 10751]</td>\n",
       "      <td>['animation', 'comedy', 'family']</td>\n",
       "      <td>[3]</td>\n",
       "      <td>['pixar animation studios']</td>\n",
       "      <td>['us']</td>\n",
       "      <td>['united states of america']</td>\n",
       "      <td>['en']</td>\n",
       "      <td>['english']</td>\n",
       "      <td>1995</td>\n",
       "      <td>12.451801</td>\n",
       "      <td>toy story collection</td>\n",
       "      <td>7879</td>\n",
       "      <td>John Lasseter</td>\n",
       "    </tr>\n",
       "    <tr>\n",
       "      <th>1</th>\n",
       "      <td>6.500000e+07</td>\n",
       "      <td>8844</td>\n",
       "      <td>en</td>\n",
       "      <td>when siblings judy and peter discover an encha...</td>\n",
       "      <td>17.015539</td>\n",
       "      <td>1995-12-15</td>\n",
       "      <td>262797249</td>\n",
       "      <td>104</td>\n",
       "      <td>released</td>\n",
       "      <td>jumanji</td>\n",
       "      <td>6.9</td>\n",
       "      <td>2413</td>\n",
       "      <td>[12, 14, 10751]</td>\n",
       "      <td>['adventure', 'fantasy', 'family']</td>\n",
       "      <td>[559, 2550, 10201]</td>\n",
       "      <td>['tristar pictures', 'teitler film', 'intersco...</td>\n",
       "      <td>['us']</td>\n",
       "      <td>['united states of america']</td>\n",
       "      <td>['en', 'fr']</td>\n",
       "      <td>['english', 'français']</td>\n",
       "      <td>1995</td>\n",
       "      <td>4.043035</td>\n",
       "      <td>not part of a collection</td>\n",
       "      <td>4945</td>\n",
       "      <td>Joe Johnston</td>\n",
       "    </tr>\n",
       "    <tr>\n",
       "      <th>2</th>\n",
       "      <td>4.224579e+06</td>\n",
       "      <td>15602</td>\n",
       "      <td>en</td>\n",
       "      <td>a family wedding reignites the ancient feud be...</td>\n",
       "      <td>11.712900</td>\n",
       "      <td>1995-12-22</td>\n",
       "      <td>11209348</td>\n",
       "      <td>101</td>\n",
       "      <td>released</td>\n",
       "      <td>grumpier old men</td>\n",
       "      <td>6.5</td>\n",
       "      <td>92</td>\n",
       "      <td>[10749, 35]</td>\n",
       "      <td>['romance', 'comedy']</td>\n",
       "      <td>[6194, 19464]</td>\n",
       "      <td>['warner bros.', 'lancaster gate']</td>\n",
       "      <td>['us']</td>\n",
       "      <td>['united states of america']</td>\n",
       "      <td>['en']</td>\n",
       "      <td>['english']</td>\n",
       "      <td>1995</td>\n",
       "      <td>2.653365</td>\n",
       "      <td>grumpy old men collection</td>\n",
       "      <td>26502</td>\n",
       "      <td>Howard Deutch</td>\n",
       "    </tr>\n",
       "    <tr>\n",
       "      <th>3</th>\n",
       "      <td>1.600000e+07</td>\n",
       "      <td>31357</td>\n",
       "      <td>en</td>\n",
       "      <td>cheated on, mistreated and stepped on, the wom...</td>\n",
       "      <td>3.859495</td>\n",
       "      <td>1995-12-22</td>\n",
       "      <td>81452156</td>\n",
       "      <td>127</td>\n",
       "      <td>released</td>\n",
       "      <td>waiting to exhale</td>\n",
       "      <td>6.1</td>\n",
       "      <td>34</td>\n",
       "      <td>[35, 18, 10749]</td>\n",
       "      <td>['comedy', 'drama', 'romance']</td>\n",
       "      <td>[306]</td>\n",
       "      <td>['twentieth century fox film corporation']</td>\n",
       "      <td>['us']</td>\n",
       "      <td>['united states of america']</td>\n",
       "      <td>['en']</td>\n",
       "      <td>['english']</td>\n",
       "      <td>1995</td>\n",
       "      <td>5.090760</td>\n",
       "      <td>not part of a collection</td>\n",
       "      <td>2178</td>\n",
       "      <td>Forest Whitaker</td>\n",
       "    </tr>\n",
       "    <tr>\n",
       "      <th>4</th>\n",
       "      <td>4.224579e+06</td>\n",
       "      <td>11862</td>\n",
       "      <td>en</td>\n",
       "      <td>just when george banks has recovered from his ...</td>\n",
       "      <td>8.387519</td>\n",
       "      <td>1995-02-10</td>\n",
       "      <td>76578911</td>\n",
       "      <td>106</td>\n",
       "      <td>released</td>\n",
       "      <td>father of the bride part ii</td>\n",
       "      <td>5.7</td>\n",
       "      <td>173</td>\n",
       "      <td>[35]</td>\n",
       "      <td>['comedy']</td>\n",
       "      <td>[5842, 9195]</td>\n",
       "      <td>['sandollar productions', 'touchstone pictures']</td>\n",
       "      <td>['us']</td>\n",
       "      <td>['united states of america']</td>\n",
       "      <td>['en']</td>\n",
       "      <td>['english']</td>\n",
       "      <td>1995</td>\n",
       "      <td>18.126993</td>\n",
       "      <td>father of the bride collection</td>\n",
       "      <td>56106</td>\n",
       "      <td>Charles Shyer</td>\n",
       "    </tr>\n",
       "    <tr>\n",
       "      <th>5</th>\n",
       "      <td>6.000000e+07</td>\n",
       "      <td>949</td>\n",
       "      <td>en</td>\n",
       "      <td>obsessive master thief, neil mccauley leads a ...</td>\n",
       "      <td>17.924927</td>\n",
       "      <td>1995-12-15</td>\n",
       "      <td>187436818</td>\n",
       "      <td>170</td>\n",
       "      <td>released</td>\n",
       "      <td>heat</td>\n",
       "      <td>7.7</td>\n",
       "      <td>1886</td>\n",
       "      <td>[28, 80, 18, 53]</td>\n",
       "      <td>['action', 'crime', 'drama', 'thriller']</td>\n",
       "      <td>[508, 675, 6194]</td>\n",
       "      <td>['regency enterprises', 'forward pass', 'warne...</td>\n",
       "      <td>['us']</td>\n",
       "      <td>['united states of america']</td>\n",
       "      <td>['en', 'es']</td>\n",
       "      <td>['english', 'español']</td>\n",
       "      <td>1995</td>\n",
       "      <td>3.123947</td>\n",
       "      <td>not part of a collection</td>\n",
       "      <td>638</td>\n",
       "      <td>Michael Mann</td>\n",
       "    </tr>\n",
       "    <tr>\n",
       "      <th>6</th>\n",
       "      <td>5.800000e+07</td>\n",
       "      <td>11860</td>\n",
       "      <td>en</td>\n",
       "      <td>an ugly duckling having undergone a remarkable...</td>\n",
       "      <td>6.677277</td>\n",
       "      <td>1995-12-15</td>\n",
       "      <td>11209348</td>\n",
       "      <td>127</td>\n",
       "      <td>released</td>\n",
       "      <td>sabrina</td>\n",
       "      <td>6.2</td>\n",
       "      <td>141</td>\n",
       "      <td>[35, 10749]</td>\n",
       "      <td>['comedy', 'romance']</td>\n",
       "      <td>[4, 258, 932, 5842, 14941, 55873, 58079]</td>\n",
       "      <td>['paramount pictures', 'scott rudin production...</td>\n",
       "      <td>['de', 'us']</td>\n",
       "      <td>['germany', 'united states of america']</td>\n",
       "      <td>['fr', 'en']</td>\n",
       "      <td>['français', 'english']</td>\n",
       "      <td>1995</td>\n",
       "      <td>0.193265</td>\n",
       "      <td>not part of a collection</td>\n",
       "      <td>2226</td>\n",
       "      <td>Sydney Pollack</td>\n",
       "    </tr>\n",
       "    <tr>\n",
       "      <th>7</th>\n",
       "      <td>4.224579e+06</td>\n",
       "      <td>45325</td>\n",
       "      <td>en</td>\n",
       "      <td>a mischievous young boy, tom sawyer, witnesses...</td>\n",
       "      <td>2.561161</td>\n",
       "      <td>1995-12-22</td>\n",
       "      <td>11209348</td>\n",
       "      <td>97</td>\n",
       "      <td>released</td>\n",
       "      <td>tom and huck</td>\n",
       "      <td>5.4</td>\n",
       "      <td>45</td>\n",
       "      <td>[28, 12, 18, 10751]</td>\n",
       "      <td>['action', 'adventure', 'drama', 'family']</td>\n",
       "      <td>[2]</td>\n",
       "      <td>['walt disney pictures']</td>\n",
       "      <td>['us']</td>\n",
       "      <td>['united states of america']</td>\n",
       "      <td>['en', 'de']</td>\n",
       "      <td>['english', 'deutsch']</td>\n",
       "      <td>1995</td>\n",
       "      <td>2.653365</td>\n",
       "      <td>not part of a collection</td>\n",
       "      <td>18357</td>\n",
       "      <td>Peter Hewitt</td>\n",
       "    </tr>\n",
       "    <tr>\n",
       "      <th>8</th>\n",
       "      <td>3.500000e+07</td>\n",
       "      <td>9091</td>\n",
       "      <td>en</td>\n",
       "      <td>international action superstar jean claude van...</td>\n",
       "      <td>5.231580</td>\n",
       "      <td>1995-12-22</td>\n",
       "      <td>64350171</td>\n",
       "      <td>106</td>\n",
       "      <td>released</td>\n",
       "      <td>sudden death</td>\n",
       "      <td>5.5</td>\n",
       "      <td>174</td>\n",
       "      <td>[28, 12, 53]</td>\n",
       "      <td>['action', 'adventure', 'thriller']</td>\n",
       "      <td>[33, 21437, 23770]</td>\n",
       "      <td>['universal pictures', 'imperial entertainment...</td>\n",
       "      <td>['us']</td>\n",
       "      <td>['united states of america']</td>\n",
       "      <td>['en']</td>\n",
       "      <td>['english']</td>\n",
       "      <td>1995</td>\n",
       "      <td>1.838576</td>\n",
       "      <td>not part of a collection</td>\n",
       "      <td>37710</td>\n",
       "      <td>Peter Hyams</td>\n",
       "    </tr>\n",
       "    <tr>\n",
       "      <th>9</th>\n",
       "      <td>5.800000e+07</td>\n",
       "      <td>710</td>\n",
       "      <td>en</td>\n",
       "      <td>james bond must unmask the mysterious head of ...</td>\n",
       "      <td>14.686036</td>\n",
       "      <td>1995-11-16</td>\n",
       "      <td>352194034</td>\n",
       "      <td>130</td>\n",
       "      <td>released</td>\n",
       "      <td>goldeneye</td>\n",
       "      <td>6.6</td>\n",
       "      <td>1194</td>\n",
       "      <td>[12, 28, 53]</td>\n",
       "      <td>['adventure', 'action', 'thriller']</td>\n",
       "      <td>[60, 7576]</td>\n",
       "      <td>['united artists', 'eon productions']</td>\n",
       "      <td>['gb', 'us']</td>\n",
       "      <td>['united kingdom', 'united states of america']</td>\n",
       "      <td>['en', 'ru', 'es']</td>\n",
       "      <td>['english', 'p??????', 'español']</td>\n",
       "      <td>1995</td>\n",
       "      <td>6.072311</td>\n",
       "      <td>james bond collection</td>\n",
       "      <td>10702</td>\n",
       "      <td>Martin Campbell</td>\n",
       "    </tr>\n",
       "  </tbody>\n",
       "</table>\n",
       "</div>"
      ],
      "text/plain": [
       "         budget  movie_id original_language  \\\n",
       "0  3.000000e+07       862                en   \n",
       "1  6.500000e+07      8844                en   \n",
       "2  4.224579e+06     15602                en   \n",
       "3  1.600000e+07     31357                en   \n",
       "4  4.224579e+06     11862                en   \n",
       "5  6.000000e+07       949                en   \n",
       "6  5.800000e+07     11860                en   \n",
       "7  4.224579e+06     45325                en   \n",
       "8  3.500000e+07      9091                en   \n",
       "9  5.800000e+07       710                en   \n",
       "\n",
       "                                            overview  popularity release_date  \\\n",
       "0  led by woody, andy's toys live happily in his ...   21.946943   1995-10-30   \n",
       "1  when siblings judy and peter discover an encha...   17.015539   1995-12-15   \n",
       "2  a family wedding reignites the ancient feud be...   11.712900   1995-12-22   \n",
       "3  cheated on, mistreated and stepped on, the wom...    3.859495   1995-12-22   \n",
       "4  just when george banks has recovered from his ...    8.387519   1995-02-10   \n",
       "5  obsessive master thief, neil mccauley leads a ...   17.924927   1995-12-15   \n",
       "6  an ugly duckling having undergone a remarkable...    6.677277   1995-12-15   \n",
       "7  a mischievous young boy, tom sawyer, witnesses...    2.561161   1995-12-22   \n",
       "8  international action superstar jean claude van...    5.231580   1995-12-22   \n",
       "9  james bond must unmask the mysterious head of ...   14.686036   1995-11-16   \n",
       "\n",
       "     revenue  runtime    status                        title  vote_average  \\\n",
       "0  373554033       81  released                    toy story           7.7   \n",
       "1  262797249      104  released                      jumanji           6.9   \n",
       "2   11209348      101  released             grumpier old men           6.5   \n",
       "3   81452156      127  released            waiting to exhale           6.1   \n",
       "4   76578911      106  released  father of the bride part ii           5.7   \n",
       "5  187436818      170  released                         heat           7.7   \n",
       "6   11209348      127  released                      sabrina           6.2   \n",
       "7   11209348       97  released                 tom and huck           5.4   \n",
       "8   64350171      106  released                 sudden death           5.5   \n",
       "9  352194034      130  released                    goldeneye           6.6   \n",
       "\n",
       "   vote_count            genre_ids  \\\n",
       "0        5415      [16, 35, 10751]   \n",
       "1        2413      [12, 14, 10751]   \n",
       "2          92          [10749, 35]   \n",
       "3          34      [35, 18, 10749]   \n",
       "4         173                 [35]   \n",
       "5        1886     [28, 80, 18, 53]   \n",
       "6         141          [35, 10749]   \n",
       "7          45  [28, 12, 18, 10751]   \n",
       "8         174         [28, 12, 53]   \n",
       "9        1194         [12, 28, 53]   \n",
       "\n",
       "                                  genre_names  \\\n",
       "0           ['animation', 'comedy', 'family']   \n",
       "1          ['adventure', 'fantasy', 'family']   \n",
       "2                       ['romance', 'comedy']   \n",
       "3              ['comedy', 'drama', 'romance']   \n",
       "4                                  ['comedy']   \n",
       "5    ['action', 'crime', 'drama', 'thriller']   \n",
       "6                       ['comedy', 'romance']   \n",
       "7  ['action', 'adventure', 'drama', 'family']   \n",
       "8         ['action', 'adventure', 'thriller']   \n",
       "9         ['adventure', 'action', 'thriller']   \n",
       "\n",
       "                   production_companies_ids  \\\n",
       "0                                       [3]   \n",
       "1                        [559, 2550, 10201]   \n",
       "2                             [6194, 19464]   \n",
       "3                                     [306]   \n",
       "4                              [5842, 9195]   \n",
       "5                          [508, 675, 6194]   \n",
       "6  [4, 258, 932, 5842, 14941, 55873, 58079]   \n",
       "7                                       [2]   \n",
       "8                        [33, 21437, 23770]   \n",
       "9                                [60, 7576]   \n",
       "\n",
       "                        production_companies_nombres     iso_codes  \\\n",
       "0                        ['pixar animation studios']        ['us']   \n",
       "1  ['tristar pictures', 'teitler film', 'intersco...        ['us']   \n",
       "2                 ['warner bros.', 'lancaster gate']        ['us']   \n",
       "3         ['twentieth century fox film corporation']        ['us']   \n",
       "4   ['sandollar productions', 'touchstone pictures']        ['us']   \n",
       "5  ['regency enterprises', 'forward pass', 'warne...        ['us']   \n",
       "6  ['paramount pictures', 'scott rudin production...  ['de', 'us']   \n",
       "7                           ['walt disney pictures']        ['us']   \n",
       "8  ['universal pictures', 'imperial entertainment...        ['us']   \n",
       "9              ['united artists', 'eon productions']  ['gb', 'us']   \n",
       "\n",
       "                                    country_names  iso_language_codes  \\\n",
       "0                    ['united states of america']              ['en']   \n",
       "1                    ['united states of america']        ['en', 'fr']   \n",
       "2                    ['united states of america']              ['en']   \n",
       "3                    ['united states of america']              ['en']   \n",
       "4                    ['united states of america']              ['en']   \n",
       "5                    ['united states of america']        ['en', 'es']   \n",
       "6         ['germany', 'united states of america']        ['fr', 'en']   \n",
       "7                    ['united states of america']        ['en', 'de']   \n",
       "8                    ['united states of america']              ['en']   \n",
       "9  ['united kingdom', 'united states of america']  ['en', 'ru', 'es']   \n",
       "\n",
       "                      language_names  release_year     return  \\\n",
       "0                        ['english']          1995  12.451801   \n",
       "1            ['english', 'français']          1995   4.043035   \n",
       "2                        ['english']          1995   2.653365   \n",
       "3                        ['english']          1995   5.090760   \n",
       "4                        ['english']          1995  18.126993   \n",
       "5             ['english', 'español']          1995   3.123947   \n",
       "6            ['français', 'english']          1995   0.193265   \n",
       "7             ['english', 'deutsch']          1995   2.653365   \n",
       "8                        ['english']          1995   1.838576   \n",
       "9  ['english', 'p??????', 'español']          1995   6.072311   \n",
       "\n",
       "                  collection_name  director_id             name  \n",
       "0            toy story collection         7879    John Lasseter  \n",
       "1        not part of a collection         4945     Joe Johnston  \n",
       "2       grumpy old men collection        26502    Howard Deutch  \n",
       "3        not part of a collection         2178  Forest Whitaker  \n",
       "4  father of the bride collection        56106    Charles Shyer  \n",
       "5        not part of a collection          638     Michael Mann  \n",
       "6        not part of a collection         2226   Sydney Pollack  \n",
       "7        not part of a collection        18357     Peter Hewitt  \n",
       "8        not part of a collection        37710      Peter Hyams  \n",
       "9           james bond collection        10702  Martin Campbell  "
      ]
     },
     "execution_count": 358,
     "metadata": {},
     "output_type": "execute_result"
    }
   ],
   "source": [
    "df_movies_directors.head(10)"
   ]
  },
  {
   "cell_type": "code",
   "execution_count": 359,
   "metadata": {},
   "outputs": [
    {
     "data": {
      "text/html": [
       "<div>\n",
       "<style scoped>\n",
       "    .dataframe tbody tr th:only-of-type {\n",
       "        vertical-align: middle;\n",
       "    }\n",
       "\n",
       "    .dataframe tbody tr th {\n",
       "        vertical-align: top;\n",
       "    }\n",
       "\n",
       "    .dataframe thead th {\n",
       "        text-align: right;\n",
       "    }\n",
       "</style>\n",
       "<table border=\"1\" class=\"dataframe\">\n",
       "  <thead>\n",
       "    <tr style=\"text-align: right;\">\n",
       "      <th></th>\n",
       "      <th>budget</th>\n",
       "      <th>movie_id</th>\n",
       "      <th>original_language</th>\n",
       "      <th>overview</th>\n",
       "      <th>popularity</th>\n",
       "      <th>release_date</th>\n",
       "      <th>revenue</th>\n",
       "      <th>runtime</th>\n",
       "      <th>status</th>\n",
       "      <th>title</th>\n",
       "      <th>vote_average</th>\n",
       "      <th>vote_count</th>\n",
       "      <th>genre_ids</th>\n",
       "      <th>genre_names</th>\n",
       "      <th>production_companies_ids</th>\n",
       "      <th>production_companies_nombres</th>\n",
       "      <th>iso_codes</th>\n",
       "      <th>country_names</th>\n",
       "      <th>iso_language_codes</th>\n",
       "      <th>language_names</th>\n",
       "      <th>release_year</th>\n",
       "      <th>return</th>\n",
       "      <th>collection_name</th>\n",
       "      <th>director_id</th>\n",
       "      <th>name</th>\n",
       "    </tr>\n",
       "  </thead>\n",
       "  <tbody>\n",
       "    <tr>\n",
       "      <th>148939</th>\n",
       "      <td>4.224579e+06</td>\n",
       "      <td>6079</td>\n",
       "      <td>cs</td>\n",
       "      <td>czech literature teacher josef tkaloun, who is...</td>\n",
       "      <td>1.697787</td>\n",
       "      <td>2007-03-08</td>\n",
       "      <td>11209348</td>\n",
       "      <td>103</td>\n",
       "      <td>released</td>\n",
       "      <td>empties</td>\n",
       "      <td>7.3</td>\n",
       "      <td>17</td>\n",
       "      <td>[35]</td>\n",
       "      <td>['comedy']</td>\n",
       "      <td>[486, 1999]</td>\n",
       "      <td>['portobello pictures', 'phoenix film investem...</td>\n",
       "      <td>['cz']</td>\n",
       "      <td>['czech republic']</td>\n",
       "      <td>['de', 'cs']</td>\n",
       "      <td>['deutsch', 'český']</td>\n",
       "      <td>2007</td>\n",
       "      <td>2.653365</td>\n",
       "      <td>not part of a collection</td>\n",
       "      <td>1048552</td>\n",
       "      <td>Egor Baranov</td>\n",
       "    </tr>\n",
       "    <tr>\n",
       "      <th>148943</th>\n",
       "      <td>2.500000e+07</td>\n",
       "      <td>455043</td>\n",
       "      <td>zh</td>\n",
       "      <td>during the 16th century, japanese pirates prol...</td>\n",
       "      <td>4.856390</td>\n",
       "      <td>2017-05-27</td>\n",
       "      <td>11209348</td>\n",
       "      <td>130</td>\n",
       "      <td>released</td>\n",
       "      <td>god of war</td>\n",
       "      <td>5.0</td>\n",
       "      <td>10</td>\n",
       "      <td>[28, 36]</td>\n",
       "      <td>['action', 'history']</td>\n",
       "      <td>[5552, 92394]</td>\n",
       "      <td>['media asia films', 'well go usa entertainment']</td>\n",
       "      <td>['cn']</td>\n",
       "      <td>['china']</td>\n",
       "      <td>['zh']</td>\n",
       "      <td>['普通话']</td>\n",
       "      <td>2017</td>\n",
       "      <td>0.448374</td>\n",
       "      <td>not part of a collection</td>\n",
       "      <td>543875</td>\n",
       "      <td>Anton Sivers</td>\n",
       "    </tr>\n",
       "    <tr>\n",
       "      <th>148947</th>\n",
       "      <td>4.224579e+06</td>\n",
       "      <td>165023</td>\n",
       "      <td>ja</td>\n",
       "      <td>two years before they collaborated on the immo...</td>\n",
       "      <td>0.163769</td>\n",
       "      <td>1968-10-05</td>\n",
       "      <td>11209348</td>\n",
       "      <td>94</td>\n",
       "      <td>released</td>\n",
       "      <td>retaliation</td>\n",
       "      <td>5.0</td>\n",
       "      <td>1</td>\n",
       "      <td>[]</td>\n",
       "      <td>[]</td>\n",
       "      <td>[]</td>\n",
       "      <td>[]</td>\n",
       "      <td>[]</td>\n",
       "      <td>[]</td>\n",
       "      <td>['ja']</td>\n",
       "      <td>['日本語']</td>\n",
       "      <td>1968</td>\n",
       "      <td>2.653365</td>\n",
       "      <td>not part of a collection</td>\n",
       "      <td>1183617</td>\n",
       "      <td>John Marshall</td>\n",
       "    </tr>\n",
       "    <tr>\n",
       "      <th>148948</th>\n",
       "      <td>4.224579e+06</td>\n",
       "      <td>165023</td>\n",
       "      <td>ja</td>\n",
       "      <td>two years before they collaborated on the immo...</td>\n",
       "      <td>0.163769</td>\n",
       "      <td>1968-10-05</td>\n",
       "      <td>11209348</td>\n",
       "      <td>94</td>\n",
       "      <td>released</td>\n",
       "      <td>retaliation</td>\n",
       "      <td>5.0</td>\n",
       "      <td>1</td>\n",
       "      <td>[]</td>\n",
       "      <td>[]</td>\n",
       "      <td>[]</td>\n",
       "      <td>[]</td>\n",
       "      <td>[]</td>\n",
       "      <td>[]</td>\n",
       "      <td>['ja']</td>\n",
       "      <td>['日本語']</td>\n",
       "      <td>1968</td>\n",
       "      <td>2.653365</td>\n",
       "      <td>not part of a collection</td>\n",
       "      <td>1601664</td>\n",
       "      <td>Robert Gardner</td>\n",
       "    </tr>\n",
       "    <tr>\n",
       "      <th>148949</th>\n",
       "      <td>4.224579e+06</td>\n",
       "      <td>48929</td>\n",
       "      <td>hi</td>\n",
       "      <td>wearing torn japanese shoes, english trousers,...</td>\n",
       "      <td>0.529872</td>\n",
       "      <td>1955-01-07</td>\n",
       "      <td>11209348</td>\n",
       "      <td>168</td>\n",
       "      <td>released</td>\n",
       "      <td>shree 420</td>\n",
       "      <td>9.0</td>\n",
       "      <td>3</td>\n",
       "      <td>[10749, 18]</td>\n",
       "      <td>['romance', 'drama']</td>\n",
       "      <td>[5307]</td>\n",
       "      <td>['r.k. films ltd.']</td>\n",
       "      <td>['in']</td>\n",
       "      <td>['india']</td>\n",
       "      <td>['hi']</td>\n",
       "      <td>['हिन्दी']</td>\n",
       "      <td>1955</td>\n",
       "      <td>2.653365</td>\n",
       "      <td>not part of a collection</td>\n",
       "      <td>1268213</td>\n",
       "      <td>Georges Monca</td>\n",
       "    </tr>\n",
       "    <tr>\n",
       "      <th>148960</th>\n",
       "      <td>4.224579e+06</td>\n",
       "      <td>435821</td>\n",
       "      <td>ko</td>\n",
       "      <td>a taxi driver is found dead, and hyun-woo, the...</td>\n",
       "      <td>1.956476</td>\n",
       "      <td>2017-02-15</td>\n",
       "      <td>11209348</td>\n",
       "      <td>119</td>\n",
       "      <td>released</td>\n",
       "      <td>new trial</td>\n",
       "      <td>6.9</td>\n",
       "      <td>4</td>\n",
       "      <td>[18]</td>\n",
       "      <td>['drama']</td>\n",
       "      <td>[86706]</td>\n",
       "      <td>['이디오플랜']</td>\n",
       "      <td>['kr']</td>\n",
       "      <td>['south korea']</td>\n",
       "      <td>['ko']</td>\n",
       "      <td>['한국어/조선말']</td>\n",
       "      <td>2017</td>\n",
       "      <td>2.653365</td>\n",
       "      <td>not part of a collection</td>\n",
       "      <td>80009</td>\n",
       "      <td>John Ainslie</td>\n",
       "    </tr>\n",
       "    <tr>\n",
       "      <th>148976</th>\n",
       "      <td>4.224579e+06</td>\n",
       "      <td>262447</td>\n",
       "      <td>ru</td>\n",
       "      <td>a young man is forced to spend a few days with...</td>\n",
       "      <td>0.001393</td>\n",
       "      <td>1983-11-21</td>\n",
       "      <td>11209348</td>\n",
       "      <td>98</td>\n",
       "      <td>released</td>\n",
       "      <td>postscript</td>\n",
       "      <td>1.0</td>\n",
       "      <td>1</td>\n",
       "      <td>[18]</td>\n",
       "      <td>['drama']</td>\n",
       "      <td>[5120]</td>\n",
       "      <td>['mosfilm']</td>\n",
       "      <td>['ru']</td>\n",
       "      <td>['russia']</td>\n",
       "      <td>['ru']</td>\n",
       "      <td>['pусский']</td>\n",
       "      <td>1983</td>\n",
       "      <td>2.653365</td>\n",
       "      <td>not part of a collection</td>\n",
       "      <td>1212412</td>\n",
       "      <td>Larry Shaw</td>\n",
       "    </tr>\n",
       "    <tr>\n",
       "      <th>148977</th>\n",
       "      <td>4.224579e+06</td>\n",
       "      <td>324631</td>\n",
       "      <td>cs</td>\n",
       "      <td>the story is freely inspired by the life and w...</td>\n",
       "      <td>1.060042</td>\n",
       "      <td>2015-01-08</td>\n",
       "      <td>11209348</td>\n",
       "      <td>94</td>\n",
       "      <td>released</td>\n",
       "      <td>photographer</td>\n",
       "      <td>4.3</td>\n",
       "      <td>3</td>\n",
       "      <td>[35, 18]</td>\n",
       "      <td>['comedy', 'drama']</td>\n",
       "      <td>[5928]</td>\n",
       "      <td>['česká televize']</td>\n",
       "      <td>['cz']</td>\n",
       "      <td>['czech republic']</td>\n",
       "      <td>['cs']</td>\n",
       "      <td>['český']</td>\n",
       "      <td>2015</td>\n",
       "      <td>2.653365</td>\n",
       "      <td>not part of a collection</td>\n",
       "      <td>11523</td>\n",
       "      <td>Georges Méliès</td>\n",
       "    </tr>\n",
       "    <tr>\n",
       "      <th>148999</th>\n",
       "      <td>4.224579e+06</td>\n",
       "      <td>411717</td>\n",
       "      <td>ta</td>\n",
       "      <td>a loan recovery agent takes on a corrupt head ...</td>\n",
       "      <td>1.459459</td>\n",
       "      <td>2017-01-12</td>\n",
       "      <td>17000000</td>\n",
       "      <td>168</td>\n",
       "      <td>released</td>\n",
       "      <td>bairavaa</td>\n",
       "      <td>6.5</td>\n",
       "      <td>12</td>\n",
       "      <td>[28]</td>\n",
       "      <td>['action']</td>\n",
       "      <td>[24240]</td>\n",
       "      <td>['vijaya productions']</td>\n",
       "      <td>['in']</td>\n",
       "      <td>['india']</td>\n",
       "      <td>['ta']</td>\n",
       "      <td>['தமிழ்']</td>\n",
       "      <td>2017</td>\n",
       "      <td>4.024070</td>\n",
       "      <td>not part of a collection</td>\n",
       "      <td>1051381</td>\n",
       "      <td>Lav Diaz</td>\n",
       "    </tr>\n",
       "    <tr>\n",
       "      <th>149129</th>\n",
       "      <td>4.224579e+06</td>\n",
       "      <td>12600</td>\n",
       "      <td>ja</td>\n",
       "      <td>all your favorite pokémon characters are back,...</td>\n",
       "      <td>6.080108</td>\n",
       "      <td>2001-07-06</td>\n",
       "      <td>28023563</td>\n",
       "      <td>75</td>\n",
       "      <td>released</td>\n",
       "      <td>pokémon 4ever: celebi - voice of the forest</td>\n",
       "      <td>5.7</td>\n",
       "      <td>82</td>\n",
       "      <td>[12, 14, 16, 878, 10751]</td>\n",
       "      <td>['adventure', 'fantasy', 'animation', 'science...</td>\n",
       "      <td>[]</td>\n",
       "      <td>[]</td>\n",
       "      <td>['jp', 'us']</td>\n",
       "      <td>['japan', 'united states of america']</td>\n",
       "      <td>['ja']</td>\n",
       "      <td>['日本語']</td>\n",
       "      <td>2001</td>\n",
       "      <td>6.633457</td>\n",
       "      <td>pokémon collection</td>\n",
       "      <td>15630</td>\n",
       "      <td>James Goldstone</td>\n",
       "    </tr>\n",
       "  </tbody>\n",
       "</table>\n",
       "</div>"
      ],
      "text/plain": [
       "              budget  movie_id original_language  \\\n",
       "148939  4.224579e+06      6079                cs   \n",
       "148943  2.500000e+07    455043                zh   \n",
       "148947  4.224579e+06    165023                ja   \n",
       "148948  4.224579e+06    165023                ja   \n",
       "148949  4.224579e+06     48929                hi   \n",
       "148960  4.224579e+06    435821                ko   \n",
       "148976  4.224579e+06    262447                ru   \n",
       "148977  4.224579e+06    324631                cs   \n",
       "148999  4.224579e+06    411717                ta   \n",
       "149129  4.224579e+06     12600                ja   \n",
       "\n",
       "                                                 overview  popularity  \\\n",
       "148939  czech literature teacher josef tkaloun, who is...    1.697787   \n",
       "148943  during the 16th century, japanese pirates prol...    4.856390   \n",
       "148947  two years before they collaborated on the immo...    0.163769   \n",
       "148948  two years before they collaborated on the immo...    0.163769   \n",
       "148949  wearing torn japanese shoes, english trousers,...    0.529872   \n",
       "148960  a taxi driver is found dead, and hyun-woo, the...    1.956476   \n",
       "148976  a young man is forced to spend a few days with...    0.001393   \n",
       "148977  the story is freely inspired by the life and w...    1.060042   \n",
       "148999  a loan recovery agent takes on a corrupt head ...    1.459459   \n",
       "149129  all your favorite pokémon characters are back,...    6.080108   \n",
       "\n",
       "       release_date   revenue  runtime    status  \\\n",
       "148939   2007-03-08  11209348      103  released   \n",
       "148943   2017-05-27  11209348      130  released   \n",
       "148947   1968-10-05  11209348       94  released   \n",
       "148948   1968-10-05  11209348       94  released   \n",
       "148949   1955-01-07  11209348      168  released   \n",
       "148960   2017-02-15  11209348      119  released   \n",
       "148976   1983-11-21  11209348       98  released   \n",
       "148977   2015-01-08  11209348       94  released   \n",
       "148999   2017-01-12  17000000      168  released   \n",
       "149129   2001-07-06  28023563       75  released   \n",
       "\n",
       "                                              title  vote_average  vote_count  \\\n",
       "148939                                      empties           7.3          17   \n",
       "148943                                   god of war           5.0          10   \n",
       "148947                                  retaliation           5.0           1   \n",
       "148948                                  retaliation           5.0           1   \n",
       "148949                                    shree 420           9.0           3   \n",
       "148960                                    new trial           6.9           4   \n",
       "148976                                   postscript           1.0           1   \n",
       "148977                                 photographer           4.3           3   \n",
       "148999                                     bairavaa           6.5          12   \n",
       "149129  pokémon 4ever: celebi - voice of the forest           5.7          82   \n",
       "\n",
       "                       genre_ids  \\\n",
       "148939                      [35]   \n",
       "148943                  [28, 36]   \n",
       "148947                        []   \n",
       "148948                        []   \n",
       "148949               [10749, 18]   \n",
       "148960                      [18]   \n",
       "148976                      [18]   \n",
       "148977                  [35, 18]   \n",
       "148999                      [28]   \n",
       "149129  [12, 14, 16, 878, 10751]   \n",
       "\n",
       "                                              genre_names  \\\n",
       "148939                                         ['comedy']   \n",
       "148943                              ['action', 'history']   \n",
       "148947                                                 []   \n",
       "148948                                                 []   \n",
       "148949                               ['romance', 'drama']   \n",
       "148960                                          ['drama']   \n",
       "148976                                          ['drama']   \n",
       "148977                                ['comedy', 'drama']   \n",
       "148999                                         ['action']   \n",
       "149129  ['adventure', 'fantasy', 'animation', 'science...   \n",
       "\n",
       "       production_companies_ids  \\\n",
       "148939              [486, 1999]   \n",
       "148943            [5552, 92394]   \n",
       "148947                       []   \n",
       "148948                       []   \n",
       "148949                   [5307]   \n",
       "148960                  [86706]   \n",
       "148976                   [5120]   \n",
       "148977                   [5928]   \n",
       "148999                  [24240]   \n",
       "149129                       []   \n",
       "\n",
       "                             production_companies_nombres     iso_codes  \\\n",
       "148939  ['portobello pictures', 'phoenix film investem...        ['cz']   \n",
       "148943  ['media asia films', 'well go usa entertainment']        ['cn']   \n",
       "148947                                                 []            []   \n",
       "148948                                                 []            []   \n",
       "148949                                ['r.k. films ltd.']        ['in']   \n",
       "148960                                          ['이디오플랜']        ['kr']   \n",
       "148976                                        ['mosfilm']        ['ru']   \n",
       "148977                                 ['česká televize']        ['cz']   \n",
       "148999                             ['vijaya productions']        ['in']   \n",
       "149129                                                 []  ['jp', 'us']   \n",
       "\n",
       "                                country_names iso_language_codes  \\\n",
       "148939                     ['czech republic']       ['de', 'cs']   \n",
       "148943                              ['china']             ['zh']   \n",
       "148947                                     []             ['ja']   \n",
       "148948                                     []             ['ja']   \n",
       "148949                              ['india']             ['hi']   \n",
       "148960                        ['south korea']             ['ko']   \n",
       "148976                             ['russia']             ['ru']   \n",
       "148977                     ['czech republic']             ['cs']   \n",
       "148999                              ['india']             ['ta']   \n",
       "149129  ['japan', 'united states of america']             ['ja']   \n",
       "\n",
       "              language_names  release_year    return  \\\n",
       "148939  ['deutsch', 'český']          2007  2.653365   \n",
       "148943               ['普通话']          2017  0.448374   \n",
       "148947               ['日本語']          1968  2.653365   \n",
       "148948               ['日本語']          1968  2.653365   \n",
       "148949            ['हिन्दी']          1955  2.653365   \n",
       "148960           ['한국어/조선말']          2017  2.653365   \n",
       "148976           ['pусский']          1983  2.653365   \n",
       "148977             ['český']          2015  2.653365   \n",
       "148999             ['தமிழ்']          2017  4.024070   \n",
       "149129               ['日本語']          2001  6.633457   \n",
       "\n",
       "                 collection_name  director_id             name  \n",
       "148939  not part of a collection      1048552     Egor Baranov  \n",
       "148943  not part of a collection       543875     Anton Sivers  \n",
       "148947  not part of a collection      1183617    John Marshall  \n",
       "148948  not part of a collection      1601664   Robert Gardner  \n",
       "148949  not part of a collection      1268213    Georges Monca  \n",
       "148960  not part of a collection        80009     John Ainslie  \n",
       "148976  not part of a collection      1212412       Larry Shaw  \n",
       "148977  not part of a collection        11523   Georges Méliès  \n",
       "148999  not part of a collection      1051381         Lav Diaz  \n",
       "149129        pokémon collection        15630  James Goldstone  "
      ]
     },
     "execution_count": 359,
     "metadata": {},
     "output_type": "execute_result"
    }
   ],
   "source": [
    "df_movies_directors.tail(10)"
   ]
  },
  {
   "cell_type": "markdown",
   "metadata": {},
   "source": [
    "##### Guardo pickle: df_movies_directors ; para ultima funcion get directors"
   ]
  },
  {
   "cell_type": "code",
   "execution_count": 360,
   "metadata": {},
   "outputs": [],
   "source": [
    "# Guardar el DataFrame en formato pickle\n",
    "df_movies_directors.to_pickle('../../Datasets Cleaned & light/df_movies_directors.pkl')"
   ]
  }
 ],
 "metadata": {
  "kernelspec": {
   "display_name": "Python 3",
   "language": "python",
   "name": "python3"
  },
  "language_info": {
   "codemirror_mode": {
    "name": "ipython",
    "version": 3
   },
   "file_extension": ".py",
   "mimetype": "text/x-python",
   "name": "python",
   "nbconvert_exporter": "python",
   "pygments_lexer": "ipython3",
   "version": "3.10.11"
  },
  "orig_nbformat": 4
 },
 "nbformat": 4,
 "nbformat_minor": 2
}
