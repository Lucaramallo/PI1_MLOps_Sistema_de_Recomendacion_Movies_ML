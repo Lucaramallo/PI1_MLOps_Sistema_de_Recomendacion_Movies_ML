{
 "cells": [
  {
   "cell_type": "markdown",
   "metadata": {},
   "source": [
    "# ETL Credits:"
   ]
  },
  {
   "cell_type": "markdown",
   "metadata": {},
   "source": [
    "### Libreries"
   ]
  },
  {
   "cell_type": "code",
   "execution_count": 1,
   "metadata": {},
   "outputs": [],
   "source": [
    "import pandas as pd\n",
    "import ast\n",
    "import missingno as msno\n",
    "import json\n"
   ]
  },
  {
   "cell_type": "markdown",
   "metadata": {},
   "source": [
    "### Opening CSV Credits data:"
   ]
  },
  {
   "cell_type": "code",
   "execution_count": 2,
   "metadata": {},
   "outputs": [],
   "source": [
    "df_credits_csv = pd.read_csv('D:\\Data Scientist\\CURSADO HENRY DTS09\\PI\\PI1_PT02\\PI_ML_OPS_PT02\\Datasets\\Credits_datasets\\Csvs Credits\\credits_1.csv')"
   ]
  },
  {
   "cell_type": "code",
   "execution_count": 3,
   "metadata": {},
   "outputs": [
    {
     "data": {
      "text/html": [
       "<div>\n",
       "<style scoped>\n",
       "    .dataframe tbody tr th:only-of-type {\n",
       "        vertical-align: middle;\n",
       "    }\n",
       "\n",
       "    .dataframe tbody tr th {\n",
       "        vertical-align: top;\n",
       "    }\n",
       "\n",
       "    .dataframe thead th {\n",
       "        text-align: right;\n",
       "    }\n",
       "</style>\n",
       "<table border=\"1\" class=\"dataframe\">\n",
       "  <thead>\n",
       "    <tr style=\"text-align: right;\">\n",
       "      <th></th>\n",
       "      <th>cast</th>\n",
       "      <th>crew</th>\n",
       "      <th>id</th>\n",
       "    </tr>\n",
       "  </thead>\n",
       "  <tbody>\n",
       "    <tr>\n",
       "      <th>0</th>\n",
       "      <td>[{'cast_id': 14, 'character': 'Woody (voice)',...</td>\n",
       "      <td>[{'credit_id': '52fe4284c3a36847f8024f49', 'de...</td>\n",
       "      <td>862</td>\n",
       "    </tr>\n",
       "  </tbody>\n",
       "</table>\n",
       "</div>"
      ],
      "text/plain": [
       "                                                cast  \\\n",
       "0  [{'cast_id': 14, 'character': 'Woody (voice)',...   \n",
       "\n",
       "                                                crew   id  \n",
       "0  [{'credit_id': '52fe4284c3a36847f8024f49', 'de...  862  "
      ]
     },
     "execution_count": 3,
     "metadata": {},
     "output_type": "execute_result"
    }
   ],
   "source": [
    "df_credits_csv.head(1)"
   ]
  },
  {
   "cell_type": "markdown",
   "metadata": {},
   "source": [
    "### Vamos a tener que explorarlo mas al apestoso csv credits 🤧"
   ]
  },
  {
   "cell_type": "code",
   "execution_count": 4,
   "metadata": {},
   "outputs": [
    {
     "data": {
      "text/plain": [
       "(45476, 3)"
      ]
     },
     "execution_count": 4,
     "metadata": {},
     "output_type": "execute_result"
    }
   ],
   "source": [
    "df_credits_csv.shape"
   ]
  },
  {
   "cell_type": "code",
   "execution_count": 5,
   "metadata": {},
   "outputs": [],
   "source": [
    "df_credits_csv = df_credits_csv.drop_duplicates()"
   ]
  },
  {
   "cell_type": "code",
   "execution_count": 6,
   "metadata": {},
   "outputs": [
    {
     "name": "stdout",
     "output_type": "stream",
     "text": [
      "<class 'pandas.core.frame.DataFrame'>\n",
      "Index: 45439 entries, 0 to 45475\n",
      "Data columns (total 3 columns):\n",
      " #   Column  Non-Null Count  Dtype \n",
      "---  ------  --------------  ----- \n",
      " 0   cast    45439 non-null  object\n",
      " 1   crew    45439 non-null  object\n",
      " 2   id      45439 non-null  int64 \n",
      "dtypes: int64(1), object(2)\n",
      "memory usage: 1.4+ MB\n"
     ]
    }
   ],
   "source": [
    "df_credits_csv.info()"
   ]
  },
  {
   "cell_type": "markdown",
   "metadata": {},
   "source": [
    "elimino la ultima fila que esta vacia"
   ]
  },
  {
   "cell_type": "code",
   "execution_count": 7,
   "metadata": {},
   "outputs": [],
   "source": [
    "df_credits_csv = df_credits_csv.drop(df_credits_csv.index[-1])"
   ]
  },
  {
   "cell_type": "markdown",
   "metadata": {},
   "source": [
    "### Separo la columna id y la guardo aparte para asegurarla, debido a que parece estar ok"
   ]
  },
  {
   "cell_type": "code",
   "execution_count": 8,
   "metadata": {},
   "outputs": [
    {
     "name": "stdout",
     "output_type": "stream",
     "text": [
      "<class 'pandas.core.frame.DataFrame'>\n"
     ]
    }
   ],
   "source": [
    "df_movie_credits_id = pd.DataFrame()\n",
    "df_movie_credits_id['id']= df_credits_csv['id']\n",
    "df_movie_credits_id = df_movie_credits_id.drop_duplicates()\n",
    "print(type(df_movie_credits_id))"
   ]
  },
  {
   "cell_type": "markdown",
   "metadata": {},
   "source": [
    "### Continuo Explorando las dos primeras columnas, cast y crew"
   ]
  },
  {
   "cell_type": "markdown",
   "metadata": {},
   "source": [
    "#### Cast:"
   ]
  },
  {
   "cell_type": "code",
   "execution_count": 9,
   "metadata": {},
   "outputs": [
    {
     "name": "stdout",
     "output_type": "stream",
     "text": [
      "                                                    cast      id\n",
      "0      [{'cast_id': 14, 'character': 'Woody (voice)',...     862\n",
      "1      [{'cast_id': 1, 'character': 'Alan Parrish', '...    8844\n",
      "2      [{'cast_id': 2, 'character': 'Max Goldman', 'c...   15602\n",
      "3      [{'cast_id': 1, 'character': \"Savannah 'Vannah...   31357\n",
      "4      [{'cast_id': 1, 'character': 'George Banks', '...   11862\n",
      "...                                                  ...     ...\n",
      "45470  [{'cast_id': 1, 'character': 'Sir Robert Hode'...   30840\n",
      "45471  [{'cast_id': 0, 'character': '', 'credit_id': ...  439050\n",
      "45472  [{'cast_id': 1002, 'character': 'Sister Angela...  111109\n",
      "45473  [{'cast_id': 6, 'character': 'Emily Shaw', 'cr...   67758\n",
      "45474  [{'cast_id': 2, 'character': '', 'credit_id': ...  227506\n",
      "\n",
      "[45438 rows x 2 columns]\n"
     ]
    }
   ],
   "source": [
    "df_credits_cast = df_credits_csv[['cast','id']]\n",
    "\n",
    "print(df_credits_cast)"
   ]
  },
  {
   "cell_type": "code",
   "execution_count": 10,
   "metadata": {},
   "outputs": [],
   "source": [
    "df_credits_cast = df_credits_cast.drop_duplicates()"
   ]
  },
  {
   "cell_type": "code",
   "execution_count": 11,
   "metadata": {},
   "outputs": [
    {
     "name": "stdout",
     "output_type": "stream",
     "text": [
      "                                                cast    id\n",
      "1  [{'cast_id': 1, 'character': 'Alan Parrish', '...  8844\n"
     ]
    }
   ],
   "source": [
    "print(df_credits_cast.iloc[1:2])"
   ]
  },
  {
   "cell_type": "code",
   "execution_count": 12,
   "metadata": {},
   "outputs": [],
   "source": [
    "iteracion = 0\n",
    "df_cast_cleaned = pd.DataFrame()\n",
    "\n",
    "# Iterar a través de la columna 'cast' en df_credits_cast\n",
    "for row in df_credits_cast['cast']:\n",
    "    try:\n",
    "        # Utilizar json.loads para convertir la representación de cadena en una lista de diccionarios\n",
    "        list_of_dicts = json.loads(row.replace(\"'\", \"\\\"\"))\n",
    "\n",
    "        # Verificar si el 'id' de la película existe en la columna 'id' de df_movie_credits_id\n",
    "        if df_movie_credits_id['id'].isin([d['id'] for d in list_of_dicts]).any():\n",
    "            # Crear el DataFrame con los datos del cast\n",
    "            cast_df = pd.DataFrame(list_of_dicts)\n",
    "\n",
    "            # Obtener el 'id' de la película de df_movie_credits_id\n",
    "            movie_id = df_movie_credits_id['id'].iloc[iteracion]\n",
    "\n",
    "            # Agregar el 'movie_id' al DataFrame cast_df\n",
    "            cast_df['movie_id'] = movie_id\n",
    "\n",
    "            # Unificar los DataFrames utilizando concat\n",
    "            df_cast_cleaned = pd.concat([df_cast_cleaned, cast_df], ignore_index=True)\n",
    "\n",
    "            # Incrementar el contador de iteración\n",
    "            iteracion += 1\n",
    "        else:\n",
    "            # Si el 'id' de la película no existe en df_movie_credits_id, omitimos esta película\n",
    "            pass\n",
    "    except json.JSONDecodeError:\n",
    "        # Omitir las filas que no se pueden decodificar como JSON\n",
    "        pass\n"
   ]
  },
  {
   "cell_type": "code",
   "execution_count": 13,
   "metadata": {},
   "outputs": [
    {
     "data": {
      "text/html": [
       "<div>\n",
       "<style scoped>\n",
       "    .dataframe tbody tr th:only-of-type {\n",
       "        vertical-align: middle;\n",
       "    }\n",
       "\n",
       "    .dataframe tbody tr th {\n",
       "        vertical-align: top;\n",
       "    }\n",
       "\n",
       "    .dataframe thead th {\n",
       "        text-align: right;\n",
       "    }\n",
       "</style>\n",
       "<table border=\"1\" class=\"dataframe\">\n",
       "  <thead>\n",
       "    <tr style=\"text-align: right;\">\n",
       "      <th></th>\n",
       "      <th>cast_id</th>\n",
       "      <th>character</th>\n",
       "      <th>credit_id</th>\n",
       "      <th>gender</th>\n",
       "      <th>id</th>\n",
       "      <th>name</th>\n",
       "      <th>order</th>\n",
       "      <th>profile_path</th>\n",
       "      <th>movie_id</th>\n",
       "    </tr>\n",
       "  </thead>\n",
       "  <tbody>\n",
       "    <tr>\n",
       "      <th>0</th>\n",
       "      <td>1</td>\n",
       "      <td>Sir Robert Hode</td>\n",
       "      <td>52fe44439251416c9100a887</td>\n",
       "      <td>2</td>\n",
       "      <td>29459</td>\n",
       "      <td>Patrick Bergin</td>\n",
       "      <td>0</td>\n",
       "      <td>/mxFum2Fr5YWD6kDQYb5u7EEvuva.jpg</td>\n",
       "      <td>111815</td>\n",
       "    </tr>\n",
       "    <tr>\n",
       "      <th>1</th>\n",
       "      <td>2</td>\n",
       "      <td>Maid Marian</td>\n",
       "      <td>52fe44439251416c9100a88b</td>\n",
       "      <td>1</td>\n",
       "      <td>139</td>\n",
       "      <td>Uma Thurman</td>\n",
       "      <td>1</td>\n",
       "      <td>/6SuOc2R7kXjq3Em24KTNDW9qblJ.jpg</td>\n",
       "      <td>111815</td>\n",
       "    </tr>\n",
       "    <tr>\n",
       "      <th>2</th>\n",
       "      <td>3</td>\n",
       "      <td>Little John</td>\n",
       "      <td>52fe44439251416c9100a88f</td>\n",
       "      <td>2</td>\n",
       "      <td>18616</td>\n",
       "      <td>David Morrissey</td>\n",
       "      <td>2</td>\n",
       "      <td>/y8L9zlrIzsAwu2Hufol6KqoDS4I.jpg</td>\n",
       "      <td>111815</td>\n",
       "    </tr>\n",
       "    <tr>\n",
       "      <th>3</th>\n",
       "      <td>4</td>\n",
       "      <td>Sir Miles Folcanet</td>\n",
       "      <td>52fe44439251416c9100a893</td>\n",
       "      <td>2</td>\n",
       "      <td>920</td>\n",
       "      <td>Jürgen Prochnow</td>\n",
       "      <td>3</td>\n",
       "      <td>/aar3n9NEQdwWVvPOne3kLLXm75N.jpg</td>\n",
       "      <td>111815</td>\n",
       "    </tr>\n",
       "    <tr>\n",
       "      <th>4</th>\n",
       "      <td>14</td>\n",
       "      <td>Baron Roger Daguerre</td>\n",
       "      <td>58207d0d92514168ad013b03</td>\n",
       "      <td>0</td>\n",
       "      <td>1924</td>\n",
       "      <td>Jeroen Krabbé</td>\n",
       "      <td>4</td>\n",
       "      <td>/A5Mks6zi6Xzt9A8fxBWc3wdlvhx.jpg</td>\n",
       "      <td>111815</td>\n",
       "    </tr>\n",
       "  </tbody>\n",
       "</table>\n",
       "</div>"
      ],
      "text/plain": [
       "   cast_id             character                 credit_id  gender     id  \\\n",
       "0        1       Sir Robert Hode  52fe44439251416c9100a887       2  29459   \n",
       "1        2           Maid Marian  52fe44439251416c9100a88b       1    139   \n",
       "2        3           Little John  52fe44439251416c9100a88f       2  18616   \n",
       "3        4    Sir Miles Folcanet  52fe44439251416c9100a893       2    920   \n",
       "4       14  Baron Roger Daguerre  58207d0d92514168ad013b03       0   1924   \n",
       "\n",
       "              name  order                      profile_path  movie_id  \n",
       "0   Patrick Bergin      0  /mxFum2Fr5YWD6kDQYb5u7EEvuva.jpg    111815  \n",
       "1      Uma Thurman      1  /6SuOc2R7kXjq3Em24KTNDW9qblJ.jpg    111815  \n",
       "2  David Morrissey      2  /y8L9zlrIzsAwu2Hufol6KqoDS4I.jpg    111815  \n",
       "3  Jürgen Prochnow      3  /aar3n9NEQdwWVvPOne3kLLXm75N.jpg    111815  \n",
       "4    Jeroen Krabbé      4  /A5Mks6zi6Xzt9A8fxBWc3wdlvhx.jpg    111815  "
      ]
     },
     "execution_count": 13,
     "metadata": {},
     "output_type": "execute_result"
    }
   ],
   "source": [
    "cast_df"
   ]
  },
  {
   "cell_type": "code",
   "execution_count": 14,
   "metadata": {},
   "outputs": [
    {
     "data": {
      "text/plain": [
       "(53558, 9)"
      ]
     },
     "execution_count": 14,
     "metadata": {},
     "output_type": "execute_result"
    }
   ],
   "source": [
    "df_cast_cleaned.shape"
   ]
  },
  {
   "cell_type": "code",
   "execution_count": 15,
   "metadata": {},
   "outputs": [
    {
     "data": {
      "text/html": [
       "<div>\n",
       "<style scoped>\n",
       "    .dataframe tbody tr th:only-of-type {\n",
       "        vertical-align: middle;\n",
       "    }\n",
       "\n",
       "    .dataframe tbody tr th {\n",
       "        vertical-align: top;\n",
       "    }\n",
       "\n",
       "    .dataframe thead th {\n",
       "        text-align: right;\n",
       "    }\n",
       "</style>\n",
       "<table border=\"1\" class=\"dataframe\">\n",
       "  <thead>\n",
       "    <tr style=\"text-align: right;\">\n",
       "      <th></th>\n",
       "      <th>cast_id</th>\n",
       "      <th>character</th>\n",
       "      <th>credit_id</th>\n",
       "      <th>gender</th>\n",
       "      <th>id</th>\n",
       "      <th>name</th>\n",
       "      <th>order</th>\n",
       "      <th>profile_path</th>\n",
       "      <th>movie_id</th>\n",
       "    </tr>\n",
       "  </thead>\n",
       "  <tbody>\n",
       "    <tr>\n",
       "      <th>0</th>\n",
       "      <td>2</td>\n",
       "      <td>Max Goldman</td>\n",
       "      <td>52fe466a9251416c75077a8d</td>\n",
       "      <td>2</td>\n",
       "      <td>6837</td>\n",
       "      <td>Walter Matthau</td>\n",
       "      <td>0</td>\n",
       "      <td>/xJVkvprOnzP5Zdh5y63y8HHniDZ.jpg</td>\n",
       "      <td>862</td>\n",
       "    </tr>\n",
       "    <tr>\n",
       "      <th>1</th>\n",
       "      <td>3</td>\n",
       "      <td>John Gustafson</td>\n",
       "      <td>52fe466a9251416c75077a91</td>\n",
       "      <td>2</td>\n",
       "      <td>3151</td>\n",
       "      <td>Jack Lemmon</td>\n",
       "      <td>1</td>\n",
       "      <td>/chZmNRYMtqkiDlatprGDH4BzGqG.jpg</td>\n",
       "      <td>862</td>\n",
       "    </tr>\n",
       "    <tr>\n",
       "      <th>2</th>\n",
       "      <td>4</td>\n",
       "      <td>Ariel Gustafson</td>\n",
       "      <td>52fe466a9251416c75077a95</td>\n",
       "      <td>1</td>\n",
       "      <td>13567</td>\n",
       "      <td>Ann-Margret</td>\n",
       "      <td>2</td>\n",
       "      <td>/jx5lTaJ5VXZHYB52gaOTAZ9STZk.jpg</td>\n",
       "      <td>862</td>\n",
       "    </tr>\n",
       "    <tr>\n",
       "      <th>3</th>\n",
       "      <td>5</td>\n",
       "      <td>Maria Sophia Coletta Ragetti</td>\n",
       "      <td>52fe466a9251416c75077a99</td>\n",
       "      <td>1</td>\n",
       "      <td>16757</td>\n",
       "      <td>Sophia Loren</td>\n",
       "      <td>3</td>\n",
       "      <td>/emKLhbji1c7BjcA2DdbWf0EP9zH.jpg</td>\n",
       "      <td>862</td>\n",
       "    </tr>\n",
       "    <tr>\n",
       "      <th>4</th>\n",
       "      <td>6</td>\n",
       "      <td>Melanie Gustafson</td>\n",
       "      <td>52fe466a9251416c75077a9d</td>\n",
       "      <td>1</td>\n",
       "      <td>589</td>\n",
       "      <td>Daryl Hannah</td>\n",
       "      <td>4</td>\n",
       "      <td>/4LLmp6AQdlj6ueGCRbVRSGvvFSt.jpg</td>\n",
       "      <td>862</td>\n",
       "    </tr>\n",
       "    <tr>\n",
       "      <th>...</th>\n",
       "      <td>...</td>\n",
       "      <td>...</td>\n",
       "      <td>...</td>\n",
       "      <td>...</td>\n",
       "      <td>...</td>\n",
       "      <td>...</td>\n",
       "      <td>...</td>\n",
       "      <td>...</td>\n",
       "      <td>...</td>\n",
       "    </tr>\n",
       "    <tr>\n",
       "      <th>53553</th>\n",
       "      <td>1</td>\n",
       "      <td>Sir Robert Hode</td>\n",
       "      <td>52fe44439251416c9100a887</td>\n",
       "      <td>2</td>\n",
       "      <td>29459</td>\n",
       "      <td>Patrick Bergin</td>\n",
       "      <td>0</td>\n",
       "      <td>/mxFum2Fr5YWD6kDQYb5u7EEvuva.jpg</td>\n",
       "      <td>111815</td>\n",
       "    </tr>\n",
       "    <tr>\n",
       "      <th>53554</th>\n",
       "      <td>2</td>\n",
       "      <td>Maid Marian</td>\n",
       "      <td>52fe44439251416c9100a88b</td>\n",
       "      <td>1</td>\n",
       "      <td>139</td>\n",
       "      <td>Uma Thurman</td>\n",
       "      <td>1</td>\n",
       "      <td>/6SuOc2R7kXjq3Em24KTNDW9qblJ.jpg</td>\n",
       "      <td>111815</td>\n",
       "    </tr>\n",
       "    <tr>\n",
       "      <th>53555</th>\n",
       "      <td>3</td>\n",
       "      <td>Little John</td>\n",
       "      <td>52fe44439251416c9100a88f</td>\n",
       "      <td>2</td>\n",
       "      <td>18616</td>\n",
       "      <td>David Morrissey</td>\n",
       "      <td>2</td>\n",
       "      <td>/y8L9zlrIzsAwu2Hufol6KqoDS4I.jpg</td>\n",
       "      <td>111815</td>\n",
       "    </tr>\n",
       "    <tr>\n",
       "      <th>53556</th>\n",
       "      <td>4</td>\n",
       "      <td>Sir Miles Folcanet</td>\n",
       "      <td>52fe44439251416c9100a893</td>\n",
       "      <td>2</td>\n",
       "      <td>920</td>\n",
       "      <td>Jürgen Prochnow</td>\n",
       "      <td>3</td>\n",
       "      <td>/aar3n9NEQdwWVvPOne3kLLXm75N.jpg</td>\n",
       "      <td>111815</td>\n",
       "    </tr>\n",
       "    <tr>\n",
       "      <th>53557</th>\n",
       "      <td>14</td>\n",
       "      <td>Baron Roger Daguerre</td>\n",
       "      <td>58207d0d92514168ad013b03</td>\n",
       "      <td>0</td>\n",
       "      <td>1924</td>\n",
       "      <td>Jeroen Krabbé</td>\n",
       "      <td>4</td>\n",
       "      <td>/A5Mks6zi6Xzt9A8fxBWc3wdlvhx.jpg</td>\n",
       "      <td>111815</td>\n",
       "    </tr>\n",
       "  </tbody>\n",
       "</table>\n",
       "<p>53558 rows × 9 columns</p>\n",
       "</div>"
      ],
      "text/plain": [
       "       cast_id                     character                 credit_id  \\\n",
       "0            2                   Max Goldman  52fe466a9251416c75077a8d   \n",
       "1            3                John Gustafson  52fe466a9251416c75077a91   \n",
       "2            4               Ariel Gustafson  52fe466a9251416c75077a95   \n",
       "3            5  Maria Sophia Coletta Ragetti  52fe466a9251416c75077a99   \n",
       "4            6             Melanie Gustafson  52fe466a9251416c75077a9d   \n",
       "...        ...                           ...                       ...   \n",
       "53553        1               Sir Robert Hode  52fe44439251416c9100a887   \n",
       "53554        2                   Maid Marian  52fe44439251416c9100a88b   \n",
       "53555        3                   Little John  52fe44439251416c9100a88f   \n",
       "53556        4            Sir Miles Folcanet  52fe44439251416c9100a893   \n",
       "53557       14          Baron Roger Daguerre  58207d0d92514168ad013b03   \n",
       "\n",
       "       gender     id             name  order  \\\n",
       "0           2   6837   Walter Matthau      0   \n",
       "1           2   3151      Jack Lemmon      1   \n",
       "2           1  13567      Ann-Margret      2   \n",
       "3           1  16757     Sophia Loren      3   \n",
       "4           1    589     Daryl Hannah      4   \n",
       "...       ...    ...              ...    ...   \n",
       "53553       2  29459   Patrick Bergin      0   \n",
       "53554       1    139      Uma Thurman      1   \n",
       "53555       2  18616  David Morrissey      2   \n",
       "53556       2    920  Jürgen Prochnow      3   \n",
       "53557       0   1924    Jeroen Krabbé      4   \n",
       "\n",
       "                           profile_path  movie_id  \n",
       "0      /xJVkvprOnzP5Zdh5y63y8HHniDZ.jpg       862  \n",
       "1      /chZmNRYMtqkiDlatprGDH4BzGqG.jpg       862  \n",
       "2      /jx5lTaJ5VXZHYB52gaOTAZ9STZk.jpg       862  \n",
       "3      /emKLhbji1c7BjcA2DdbWf0EP9zH.jpg       862  \n",
       "4      /4LLmp6AQdlj6ueGCRbVRSGvvFSt.jpg       862  \n",
       "...                                 ...       ...  \n",
       "53553  /mxFum2Fr5YWD6kDQYb5u7EEvuva.jpg    111815  \n",
       "53554  /6SuOc2R7kXjq3Em24KTNDW9qblJ.jpg    111815  \n",
       "53555  /y8L9zlrIzsAwu2Hufol6KqoDS4I.jpg    111815  \n",
       "53556  /aar3n9NEQdwWVvPOne3kLLXm75N.jpg    111815  \n",
       "53557  /A5Mks6zi6Xzt9A8fxBWc3wdlvhx.jpg    111815  \n",
       "\n",
       "[53558 rows x 9 columns]"
      ]
     },
     "execution_count": 15,
     "metadata": {},
     "output_type": "execute_result"
    }
   ],
   "source": [
    "df_cast_cleaned"
   ]
  },
  {
   "cell_type": "code",
   "execution_count": 16,
   "metadata": {},
   "outputs": [],
   "source": [
    "df_cast_cleaned = df_cast_cleaned.drop(columns=['gender','profile_path','order','character','credit_id','name'])"
   ]
  },
  {
   "cell_type": "code",
   "execution_count": 17,
   "metadata": {},
   "outputs": [
    {
     "name": "stdout",
     "output_type": "stream",
     "text": [
      "<class 'pandas.core.frame.DataFrame'>\n",
      "RangeIndex: 53558 entries, 0 to 53557\n",
      "Data columns (total 3 columns):\n",
      " #   Column    Non-Null Count  Dtype\n",
      "---  ------    --------------  -----\n",
      " 0   cast_id   53558 non-null  int64\n",
      " 1   id        53558 non-null  int64\n",
      " 2   movie_id  53558 non-null  int64\n",
      "dtypes: int64(3)\n",
      "memory usage: 1.2 MB\n"
     ]
    }
   ],
   "source": [
    "df_cast_cleaned.info()"
   ]
  },
  {
   "cell_type": "markdown",
   "metadata": {},
   "source": [
    "##### Guardo pickle: df_cast"
   ]
  },
  {
   "cell_type": "code",
   "execution_count": 18,
   "metadata": {},
   "outputs": [],
   "source": [
    "# Guardar el DataFrame en formato pickle\n",
    "df_cast_cleaned.to_pickle('../../Datasets Cleaned & light/df_cast.pkl')"
   ]
  },
  {
   "cell_type": "markdown",
   "metadata": {},
   "source": [
    "##### Confirmacion de Diector id:"
   ]
  },
  {
   "cell_type": "code",
   "execution_count": 19,
   "metadata": {},
   "outputs": [],
   "source": [
    "# Filtrar el DataFrame por el valor 138 en la columna \"id\"\n",
    "df_filtrado = df_cast_cleaned[df_cast_cleaned[\"id\"] == 138].copy()\n"
   ]
  },
  {
   "cell_type": "code",
   "execution_count": 20,
   "metadata": {},
   "outputs": [
    {
     "data": {
      "text/html": [
       "<div>\n",
       "<style scoped>\n",
       "    .dataframe tbody tr th:only-of-type {\n",
       "        vertical-align: middle;\n",
       "    }\n",
       "\n",
       "    .dataframe tbody tr th {\n",
       "        vertical-align: top;\n",
       "    }\n",
       "\n",
       "    .dataframe thead th {\n",
       "        text-align: right;\n",
       "    }\n",
       "</style>\n",
       "<table border=\"1\" class=\"dataframe\">\n",
       "  <thead>\n",
       "    <tr style=\"text-align: right;\">\n",
       "      <th></th>\n",
       "      <th>cast_id</th>\n",
       "      <th>id</th>\n",
       "      <th>movie_id</th>\n",
       "    </tr>\n",
       "  </thead>\n",
       "  <tbody>\n",
       "    <tr>\n",
       "      <th>405</th>\n",
       "      <td>5</td>\n",
       "      <td>138</td>\n",
       "      <td>35196</td>\n",
       "    </tr>\n",
       "    <tr>\n",
       "      <th>1233</th>\n",
       "      <td>13</td>\n",
       "      <td>138</td>\n",
       "      <td>27793</td>\n",
       "    </tr>\n",
       "    <tr>\n",
       "      <th>1330</th>\n",
       "      <td>10</td>\n",
       "      <td>138</td>\n",
       "      <td>9302</td>\n",
       "    </tr>\n",
       "    <tr>\n",
       "      <th>2818</th>\n",
       "      <td>6</td>\n",
       "      <td>138</td>\n",
       "      <td>109</td>\n",
       "    </tr>\n",
       "    <tr>\n",
       "      <th>5273</th>\n",
       "      <td>25</td>\n",
       "      <td>138</td>\n",
       "      <td>319</td>\n",
       "    </tr>\n",
       "    <tr>\n",
       "      <th>9831</th>\n",
       "      <td>7</td>\n",
       "      <td>138</td>\n",
       "      <td>454</td>\n",
       "    </tr>\n",
       "    <tr>\n",
       "      <th>14458</th>\n",
       "      <td>3</td>\n",
       "      <td>138</td>\n",
       "      <td>10351</td>\n",
       "    </tr>\n",
       "    <tr>\n",
       "      <th>16048</th>\n",
       "      <td>30</td>\n",
       "      <td>138</td>\n",
       "      <td>36568</td>\n",
       "    </tr>\n",
       "    <tr>\n",
       "      <th>16333</th>\n",
       "      <td>14</td>\n",
       "      <td>138</td>\n",
       "      <td>47881</td>\n",
       "    </tr>\n",
       "    <tr>\n",
       "      <th>17558</th>\n",
       "      <td>1001</td>\n",
       "      <td>138</td>\n",
       "      <td>11485</td>\n",
       "    </tr>\n",
       "    <tr>\n",
       "      <th>25142</th>\n",
       "      <td>1005</td>\n",
       "      <td>138</td>\n",
       "      <td>13817</td>\n",
       "    </tr>\n",
       "  </tbody>\n",
       "</table>\n",
       "</div>"
      ],
      "text/plain": [
       "       cast_id   id  movie_id\n",
       "405          5  138     35196\n",
       "1233        13  138     27793\n",
       "1330        10  138      9302\n",
       "2818         6  138       109\n",
       "5273        25  138       319\n",
       "9831         7  138       454\n",
       "14458        3  138     10351\n",
       "16048       30  138     36568\n",
       "16333       14  138     47881\n",
       "17558     1001  138     11485\n",
       "25142     1005  138     13817"
      ]
     },
     "execution_count": 20,
     "metadata": {},
     "output_type": "execute_result"
    }
   ],
   "source": [
    "df_filtrado.tail(50)"
   ]
  },
  {
   "cell_type": "markdown",
   "metadata": {},
   "source": [
    "#### Crew:"
   ]
  },
  {
   "cell_type": "code",
   "execution_count": 21,
   "metadata": {},
   "outputs": [
    {
     "name": "stdout",
     "output_type": "stream",
     "text": [
      "                                                    crew      id\n",
      "0      [{'credit_id': '52fe4284c3a36847f8024f49', 'de...     862\n",
      "1      [{'credit_id': '52fe44bfc3a36847f80a7cd1', 'de...    8844\n",
      "2      [{'credit_id': '52fe466a9251416c75077a89', 'de...   15602\n",
      "3      [{'credit_id': '52fe44779251416c91011acb', 'de...   31357\n",
      "4      [{'credit_id': '52fe44959251416c75039ed7', 'de...   11862\n",
      "...                                                  ...     ...\n",
      "45470  [{'credit_id': '52fe44439251416c9100a899', 'de...   30840\n",
      "45471  [{'credit_id': '5894a97d925141426c00818c', 'de...  439050\n",
      "45472  [{'credit_id': '52fe4af1c3a36847f81e9b15', 'de...  111109\n",
      "45473  [{'credit_id': '52fe4776c3a368484e0c8387', 'de...   67758\n",
      "45474  [{'credit_id': '533bccebc3a36844cf0011a7', 'de...  227506\n",
      "\n",
      "[45438 rows x 2 columns]\n"
     ]
    }
   ],
   "source": [
    "df_credits_crew = df_credits_csv[['crew','id']]\n",
    "\n",
    "print(df_credits_crew)"
   ]
  },
  {
   "cell_type": "code",
   "execution_count": 22,
   "metadata": {},
   "outputs": [],
   "source": [
    "df_credits_cast = df_credits_cast.drop_duplicates()"
   ]
  },
  {
   "cell_type": "code",
   "execution_count": 23,
   "metadata": {},
   "outputs": [],
   "source": [
    "iteracion = 0\n",
    "df_crew_cleaned = pd.DataFrame()\n",
    "\n",
    "# Iterar a través de la columna 'cast' en df_credits_cast\n",
    "for row in df_credits_crew['crew']:\n",
    "    try:\n",
    "        # Utilizar json.loads para convertir la representación de cadena en una lista de diccionarios\n",
    "        list_of_dicts = json.loads(row.replace(\"'\", \"\\\"\"))\n",
    "\n",
    "        # Verificar si el 'id' de la película existe en la columna 'id' de df_movie_credits_id\n",
    "        if df_movie_credits_id['id'].isin([d['id'] for d in list_of_dicts]).any():\n",
    "            # Crear el DataFrame con los datos del cast\n",
    "            crew_df = pd.DataFrame(list_of_dicts)\n",
    "\n",
    "            # Obtener el 'id' de la película de df_movie_credits_id\n",
    "            movie_id = df_movie_credits_id['id'].iloc[iteracion]\n",
    "\n",
    "            # Agregar el 'movie_id' al DataFrame cast_df\n",
    "            crew_df['movie_id'] = movie_id\n",
    "\n",
    "            # Unificar los DataFrames utilizando concat\n",
    "            df_crew_cleaned = pd.concat([df_crew_cleaned, crew_df], ignore_index=True)\n",
    "\n",
    "            # Incrementar el contador de iteración\n",
    "            iteracion += 1\n",
    "        else:\n",
    "            # Si el 'id' de la película no existe en df_movie_credits_id, omitimos esta película\n",
    "            pass\n",
    "    except json.JSONDecodeError:\n",
    "        # Omitir las filas que no se pueden decodificar como JSON\n",
    "        pass\n"
   ]
  },
  {
   "cell_type": "code",
   "execution_count": 24,
   "metadata": {},
   "outputs": [
    {
     "data": {
      "text/html": [
       "<div>\n",
       "<style scoped>\n",
       "    .dataframe tbody tr th:only-of-type {\n",
       "        vertical-align: middle;\n",
       "    }\n",
       "\n",
       "    .dataframe tbody tr th {\n",
       "        vertical-align: top;\n",
       "    }\n",
       "\n",
       "    .dataframe thead th {\n",
       "        text-align: right;\n",
       "    }\n",
       "</style>\n",
       "<table border=\"1\" class=\"dataframe\">\n",
       "  <thead>\n",
       "    <tr style=\"text-align: right;\">\n",
       "      <th></th>\n",
       "      <th>credit_id</th>\n",
       "      <th>department</th>\n",
       "      <th>gender</th>\n",
       "      <th>id</th>\n",
       "      <th>job</th>\n",
       "      <th>name</th>\n",
       "      <th>profile_path</th>\n",
       "      <th>movie_id</th>\n",
       "    </tr>\n",
       "  </thead>\n",
       "  <tbody>\n",
       "    <tr>\n",
       "      <th>0</th>\n",
       "      <td>5330178a9251413a720055e3</td>\n",
       "      <td>Writing</td>\n",
       "      <td>2</td>\n",
       "      <td>20875</td>\n",
       "      <td>Novel</td>\n",
       "      <td>Leo Tolstoy</td>\n",
       "      <td>/9aao2Es6ciI1LmGPH7ZptPfS7fK.jpg</td>\n",
       "      <td>266022</td>\n",
       "    </tr>\n",
       "    <tr>\n",
       "      <th>1</th>\n",
       "      <td>52fe475bc3a368484e0c2a87</td>\n",
       "      <td>Writing</td>\n",
       "      <td>2</td>\n",
       "      <td>24279</td>\n",
       "      <td>Screenplay</td>\n",
       "      <td>Paolo Taviani</td>\n",
       "      <td>/su9WmmAKq43ICIFxRlbAQIE3qwQ.jpg</td>\n",
       "      <td>266022</td>\n",
       "    </tr>\n",
       "    <tr>\n",
       "      <th>2</th>\n",
       "      <td>52fe475bc3a368484e0c2a7b</td>\n",
       "      <td>Directing</td>\n",
       "      <td>2</td>\n",
       "      <td>24279</td>\n",
       "      <td>Director</td>\n",
       "      <td>Paolo Taviani</td>\n",
       "      <td>/su9WmmAKq43ICIFxRlbAQIE3qwQ.jpg</td>\n",
       "      <td>266022</td>\n",
       "    </tr>\n",
       "    <tr>\n",
       "      <th>3</th>\n",
       "      <td>52fe475bc3a368484e0c2a81</td>\n",
       "      <td>Directing</td>\n",
       "      <td>0</td>\n",
       "      <td>24281</td>\n",
       "      <td>Director</td>\n",
       "      <td>Vittorio Taviani</td>\n",
       "      <td>/m6LbjdSX1gBkckAHxtvM4TSESsy.jpg</td>\n",
       "      <td>266022</td>\n",
       "    </tr>\n",
       "  </tbody>\n",
       "</table>\n",
       "</div>"
      ],
      "text/plain": [
       "                  credit_id department  gender     id         job  \\\n",
       "0  5330178a9251413a720055e3    Writing       2  20875       Novel   \n",
       "1  52fe475bc3a368484e0c2a87    Writing       2  24279  Screenplay   \n",
       "2  52fe475bc3a368484e0c2a7b  Directing       2  24279    Director   \n",
       "3  52fe475bc3a368484e0c2a81  Directing       0  24281    Director   \n",
       "\n",
       "               name                      profile_path  movie_id  \n",
       "0       Leo Tolstoy  /9aao2Es6ciI1LmGPH7ZptPfS7fK.jpg    266022  \n",
       "1     Paolo Taviani  /su9WmmAKq43ICIFxRlbAQIE3qwQ.jpg    266022  \n",
       "2     Paolo Taviani  /su9WmmAKq43ICIFxRlbAQIE3qwQ.jpg    266022  \n",
       "3  Vittorio Taviani  /m6LbjdSX1gBkckAHxtvM4TSESsy.jpg    266022  "
      ]
     },
     "execution_count": 24,
     "metadata": {},
     "output_type": "execute_result"
    }
   ],
   "source": [
    "crew_df"
   ]
  },
  {
   "cell_type": "code",
   "execution_count": 25,
   "metadata": {},
   "outputs": [
    {
     "data": {
      "text/plain": [
       "(2789, 8)"
      ]
     },
     "execution_count": 25,
     "metadata": {},
     "output_type": "execute_result"
    }
   ],
   "source": [
    "df_crew_cleaned.shape"
   ]
  },
  {
   "cell_type": "code",
   "execution_count": 26,
   "metadata": {},
   "outputs": [],
   "source": [
    "df_crew_cleaned = df_crew_cleaned.drop(columns=['gender','profile_path','credit_id'])"
   ]
  },
  {
   "cell_type": "code",
   "execution_count": 27,
   "metadata": {},
   "outputs": [
    {
     "name": "stdout",
     "output_type": "stream",
     "text": [
      "<class 'pandas.core.frame.DataFrame'>\n",
      "RangeIndex: 2789 entries, 0 to 2788\n",
      "Data columns (total 5 columns):\n",
      " #   Column      Non-Null Count  Dtype \n",
      "---  ------      --------------  ----- \n",
      " 0   department  2789 non-null   object\n",
      " 1   id          2789 non-null   int64 \n",
      " 2   job         2789 non-null   object\n",
      " 3   name        2789 non-null   object\n",
      " 4   movie_id    2789 non-null   int64 \n",
      "dtypes: int64(2), object(3)\n",
      "memory usage: 109.1+ KB\n"
     ]
    }
   ],
   "source": [
    "df_crew_cleaned.info()"
   ]
  },
  {
   "cell_type": "markdown",
   "metadata": {},
   "source": [
    "##### Guardo pickle: df_crew"
   ]
  },
  {
   "cell_type": "code",
   "execution_count": 28,
   "metadata": {},
   "outputs": [],
   "source": [
    "# Guardar el DataFrame en formato pickle\n",
    "df_crew_cleaned.to_pickle('../../Datasets Cleaned & light/df_crew.pkl')"
   ]
  },
  {
   "cell_type": "markdown",
   "metadata": {},
   "source": [
    "#### No todas las movies poseen un mismo director...:"
   ]
  },
  {
   "cell_type": "code",
   "execution_count": 29,
   "metadata": {},
   "outputs": [
    {
     "name": "stdout",
     "output_type": "stream",
     "text": [
      "El movie_id 13701 tiene 4 directores.\n",
      "El movie_id 10731 tiene 3 directores.\n",
      "El movie_id 49803 tiene 7 directores.\n",
      "El movie_id 507 tiene 8 directores.\n",
      "El movie_id 812 tiene 3 directores.\n",
      "El movie_id 117730 tiene 3 directores.\n",
      "El movie_id 44535 tiene 9 directores.\n",
      "El movie_id 804 tiene 3 directores.\n",
      "El movie_id 54405 tiene 3 directores.\n",
      "El movie_id 756 tiene 3 directores.\n"
     ]
    }
   ],
   "source": [
    "# Crear un diccionario para almacenar la cantidad de directores por movie_id\n",
    "directores_por_movie_id = {}\n",
    "\n",
    "# Recorrer el dataframe y contar los directores para cada movie_id\n",
    "for index, row in df_crew_cleaned.iterrows():\n",
    "    if row['job'] == 'Director':\n",
    "        movie_id = row['movie_id']\n",
    "        directores_por_movie_id[movie_id] = directores_por_movie_id.get(movie_id, 0) + 1\n",
    "\n",
    "# Verificar si hay movie_id con más de dos directores\n",
    "for movie_id, num_directores in directores_por_movie_id.items():\n",
    "    if num_directores > 2:\n",
    "        print(f\"El movie_id {movie_id} tiene {num_directores} directores.\")\n"
   ]
  },
  {
   "cell_type": "markdown",
   "metadata": {},
   "source": [
    "#### Listado unico de job == Director ; directors_df "
   ]
  },
  {
   "cell_type": "code",
   "execution_count": 30,
   "metadata": {},
   "outputs": [],
   "source": [
    "# Filtrar el DataFrame original para obtener solo las filas con la categoría \"Director\"\n",
    "directors_df = df_crew_cleaned[df_crew_cleaned['job'] == 'Director']\n",
    "\n",
    "# Crear un nuevo DataFrame que contenga solo la columna 'id' (los IDs de los directores)\n",
    "directors_id_list = directors_df[['id']]"
   ]
  },
  {
   "cell_type": "code",
   "execution_count": 31,
   "metadata": {},
   "outputs": [
    {
     "data": {
      "text/html": [
       "<div>\n",
       "<style scoped>\n",
       "    .dataframe tbody tr th:only-of-type {\n",
       "        vertical-align: middle;\n",
       "    }\n",
       "\n",
       "    .dataframe tbody tr th {\n",
       "        vertical-align: top;\n",
       "    }\n",
       "\n",
       "    .dataframe thead th {\n",
       "        text-align: right;\n",
       "    }\n",
       "</style>\n",
       "<table border=\"1\" class=\"dataframe\">\n",
       "  <thead>\n",
       "    <tr style=\"text-align: right;\">\n",
       "      <th></th>\n",
       "      <th>department</th>\n",
       "      <th>id</th>\n",
       "      <th>job</th>\n",
       "      <th>name</th>\n",
       "      <th>movie_id</th>\n",
       "    </tr>\n",
       "  </thead>\n",
       "  <tbody>\n",
       "    <tr>\n",
       "      <th>0</th>\n",
       "      <td>Directing</td>\n",
       "      <td>33315</td>\n",
       "      <td>Director</td>\n",
       "      <td>Richard Loncraine</td>\n",
       "      <td>862</td>\n",
       "    </tr>\n",
       "    <tr>\n",
       "      <th>4</th>\n",
       "      <td>Directing</td>\n",
       "      <td>5281</td>\n",
       "      <td>Director</td>\n",
       "      <td>Spike Lee</td>\n",
       "      <td>8844</td>\n",
       "    </tr>\n",
       "    <tr>\n",
       "      <th>8</th>\n",
       "      <td>Directing</td>\n",
       "      <td>3092</td>\n",
       "      <td>Director</td>\n",
       "      <td>Diane Keaton</td>\n",
       "      <td>15602</td>\n",
       "    </tr>\n",
       "    <tr>\n",
       "      <th>9</th>\n",
       "      <td>Directing</td>\n",
       "      <td>1723</td>\n",
       "      <td>Director</td>\n",
       "      <td>Walter Hill</td>\n",
       "      <td>31357</td>\n",
       "    </tr>\n",
       "    <tr>\n",
       "      <th>11</th>\n",
       "      <td>Directing</td>\n",
       "      <td>32593</td>\n",
       "      <td>Director</td>\n",
       "      <td>Steven Brill</td>\n",
       "      <td>11862</td>\n",
       "    </tr>\n",
       "    <tr>\n",
       "      <th>...</th>\n",
       "      <td>...</td>\n",
       "      <td>...</td>\n",
       "      <td>...</td>\n",
       "      <td>...</td>\n",
       "      <td>...</td>\n",
       "    </tr>\n",
       "    <tr>\n",
       "      <th>2782</th>\n",
       "      <td>Directing</td>\n",
       "      <td>11523</td>\n",
       "      <td>Director</td>\n",
       "      <td>Georges Méliès</td>\n",
       "      <td>655</td>\n",
       "    </tr>\n",
       "    <tr>\n",
       "      <th>2783</th>\n",
       "      <td>Directing</td>\n",
       "      <td>11523</td>\n",
       "      <td>Director</td>\n",
       "      <td>Georges Méliès</td>\n",
       "      <td>10341</td>\n",
       "    </tr>\n",
       "    <tr>\n",
       "      <th>2784</th>\n",
       "      <td>Directing</td>\n",
       "      <td>11523</td>\n",
       "      <td>Director</td>\n",
       "      <td>Georges Méliès</td>\n",
       "      <td>639</td>\n",
       "    </tr>\n",
       "    <tr>\n",
       "      <th>2787</th>\n",
       "      <td>Directing</td>\n",
       "      <td>24279</td>\n",
       "      <td>Director</td>\n",
       "      <td>Paolo Taviani</td>\n",
       "      <td>266022</td>\n",
       "    </tr>\n",
       "    <tr>\n",
       "      <th>2788</th>\n",
       "      <td>Directing</td>\n",
       "      <td>24281</td>\n",
       "      <td>Director</td>\n",
       "      <td>Vittorio Taviani</td>\n",
       "      <td>266022</td>\n",
       "    </tr>\n",
       "  </tbody>\n",
       "</table>\n",
       "<p>1341 rows × 5 columns</p>\n",
       "</div>"
      ],
      "text/plain": [
       "     department     id       job               name  movie_id\n",
       "0     Directing  33315  Director  Richard Loncraine       862\n",
       "4     Directing   5281  Director          Spike Lee      8844\n",
       "8     Directing   3092  Director       Diane Keaton     15602\n",
       "9     Directing   1723  Director        Walter Hill     31357\n",
       "11    Directing  32593  Director       Steven Brill     11862\n",
       "...         ...    ...       ...                ...       ...\n",
       "2782  Directing  11523  Director     Georges Méliès       655\n",
       "2783  Directing  11523  Director     Georges Méliès     10341\n",
       "2784  Directing  11523  Director     Georges Méliès       639\n",
       "2787  Directing  24279  Director      Paolo Taviani    266022\n",
       "2788  Directing  24281  Director   Vittorio Taviani    266022\n",
       "\n",
       "[1341 rows x 5 columns]"
      ]
     },
     "execution_count": 31,
     "metadata": {},
     "output_type": "execute_result"
    }
   ],
   "source": [
    "directors_df"
   ]
  },
  {
   "cell_type": "markdown",
   "metadata": {},
   "source": [
    "##### Guardo pickle: df_crew_directores_only"
   ]
  },
  {
   "cell_type": "code",
   "execution_count": 32,
   "metadata": {},
   "outputs": [],
   "source": [
    "# Guardar el DataFrame en formato pickle\n",
    "directors_df.to_pickle('../../Datasets Cleaned & light/df_crew_only_directores.pkl')"
   ]
  },
  {
   "cell_type": "markdown",
   "metadata": {},
   "source": [
    "______________________________________________________________________"
   ]
  },
  {
   "cell_type": "markdown",
   "metadata": {},
   "source": [
    "### Productos:"
   ]
  },
  {
   "cell_type": "code",
   "execution_count": 33,
   "metadata": {},
   "outputs": [
    {
     "data": {
      "text/html": [
       "<div>\n",
       "<style scoped>\n",
       "    .dataframe tbody tr th:only-of-type {\n",
       "        vertical-align: middle;\n",
       "    }\n",
       "\n",
       "    .dataframe tbody tr th {\n",
       "        vertical-align: top;\n",
       "    }\n",
       "\n",
       "    .dataframe thead th {\n",
       "        text-align: right;\n",
       "    }\n",
       "</style>\n",
       "<table border=\"1\" class=\"dataframe\">\n",
       "  <thead>\n",
       "    <tr style=\"text-align: right;\">\n",
       "      <th></th>\n",
       "      <th>cast_id</th>\n",
       "      <th>id</th>\n",
       "      <th>movie_id</th>\n",
       "    </tr>\n",
       "  </thead>\n",
       "  <tbody>\n",
       "    <tr>\n",
       "      <th>0</th>\n",
       "      <td>2</td>\n",
       "      <td>6837</td>\n",
       "      <td>862</td>\n",
       "    </tr>\n",
       "    <tr>\n",
       "      <th>1</th>\n",
       "      <td>3</td>\n",
       "      <td>3151</td>\n",
       "      <td>862</td>\n",
       "    </tr>\n",
       "    <tr>\n",
       "      <th>2</th>\n",
       "      <td>4</td>\n",
       "      <td>13567</td>\n",
       "      <td>862</td>\n",
       "    </tr>\n",
       "    <tr>\n",
       "      <th>3</th>\n",
       "      <td>5</td>\n",
       "      <td>16757</td>\n",
       "      <td>862</td>\n",
       "    </tr>\n",
       "    <tr>\n",
       "      <th>4</th>\n",
       "      <td>6</td>\n",
       "      <td>589</td>\n",
       "      <td>862</td>\n",
       "    </tr>\n",
       "    <tr>\n",
       "      <th>...</th>\n",
       "      <td>...</td>\n",
       "      <td>...</td>\n",
       "      <td>...</td>\n",
       "    </tr>\n",
       "    <tr>\n",
       "      <th>53553</th>\n",
       "      <td>1</td>\n",
       "      <td>29459</td>\n",
       "      <td>111815</td>\n",
       "    </tr>\n",
       "    <tr>\n",
       "      <th>53554</th>\n",
       "      <td>2</td>\n",
       "      <td>139</td>\n",
       "      <td>111815</td>\n",
       "    </tr>\n",
       "    <tr>\n",
       "      <th>53555</th>\n",
       "      <td>3</td>\n",
       "      <td>18616</td>\n",
       "      <td>111815</td>\n",
       "    </tr>\n",
       "    <tr>\n",
       "      <th>53556</th>\n",
       "      <td>4</td>\n",
       "      <td>920</td>\n",
       "      <td>111815</td>\n",
       "    </tr>\n",
       "    <tr>\n",
       "      <th>53557</th>\n",
       "      <td>14</td>\n",
       "      <td>1924</td>\n",
       "      <td>111815</td>\n",
       "    </tr>\n",
       "  </tbody>\n",
       "</table>\n",
       "<p>53558 rows × 3 columns</p>\n",
       "</div>"
      ],
      "text/plain": [
       "       cast_id     id  movie_id\n",
       "0            2   6837       862\n",
       "1            3   3151       862\n",
       "2            4  13567       862\n",
       "3            5  16757       862\n",
       "4            6    589       862\n",
       "...        ...    ...       ...\n",
       "53553        1  29459    111815\n",
       "53554        2    139    111815\n",
       "53555        3  18616    111815\n",
       "53556        4    920    111815\n",
       "53557       14   1924    111815\n",
       "\n",
       "[53558 rows x 3 columns]"
      ]
     },
     "execution_count": 33,
     "metadata": {},
     "output_type": "execute_result"
    }
   ],
   "source": [
    "df_cast_cleaned"
   ]
  },
  {
   "cell_type": "code",
   "execution_count": 34,
   "metadata": {},
   "outputs": [
    {
     "name": "stdout",
     "output_type": "stream",
     "text": [
      "<class 'pandas.core.frame.DataFrame'>\n",
      "RangeIndex: 53558 entries, 0 to 53557\n",
      "Data columns (total 3 columns):\n",
      " #   Column    Non-Null Count  Dtype\n",
      "---  ------    --------------  -----\n",
      " 0   cast_id   53558 non-null  int64\n",
      " 1   id        53558 non-null  int64\n",
      " 2   movie_id  53558 non-null  int64\n",
      "dtypes: int64(3)\n",
      "memory usage: 1.2 MB\n"
     ]
    }
   ],
   "source": [
    "df_cast_cleaned.info()"
   ]
  },
  {
   "cell_type": "code",
   "execution_count": 35,
   "metadata": {},
   "outputs": [
    {
     "data": {
      "text/html": [
       "<div>\n",
       "<style scoped>\n",
       "    .dataframe tbody tr th:only-of-type {\n",
       "        vertical-align: middle;\n",
       "    }\n",
       "\n",
       "    .dataframe tbody tr th {\n",
       "        vertical-align: top;\n",
       "    }\n",
       "\n",
       "    .dataframe thead th {\n",
       "        text-align: right;\n",
       "    }\n",
       "</style>\n",
       "<table border=\"1\" class=\"dataframe\">\n",
       "  <thead>\n",
       "    <tr style=\"text-align: right;\">\n",
       "      <th></th>\n",
       "      <th>department</th>\n",
       "      <th>id</th>\n",
       "      <th>job</th>\n",
       "      <th>name</th>\n",
       "      <th>movie_id</th>\n",
       "    </tr>\n",
       "  </thead>\n",
       "  <tbody>\n",
       "    <tr>\n",
       "      <th>0</th>\n",
       "      <td>Directing</td>\n",
       "      <td>33315</td>\n",
       "      <td>Director</td>\n",
       "      <td>Richard Loncraine</td>\n",
       "      <td>862</td>\n",
       "    </tr>\n",
       "    <tr>\n",
       "      <th>1</th>\n",
       "      <td>Writing</td>\n",
       "      <td>6210</td>\n",
       "      <td>Theatre Play</td>\n",
       "      <td>William Shakespeare</td>\n",
       "      <td>862</td>\n",
       "    </tr>\n",
       "    <tr>\n",
       "      <th>2</th>\n",
       "      <td>Writing</td>\n",
       "      <td>1327</td>\n",
       "      <td>Writer</td>\n",
       "      <td>Ian McKellen</td>\n",
       "      <td>862</td>\n",
       "    </tr>\n",
       "    <tr>\n",
       "      <th>3</th>\n",
       "      <td>Writing</td>\n",
       "      <td>33315</td>\n",
       "      <td>Writer</td>\n",
       "      <td>Richard Loncraine</td>\n",
       "      <td>862</td>\n",
       "    </tr>\n",
       "    <tr>\n",
       "      <th>4</th>\n",
       "      <td>Directing</td>\n",
       "      <td>5281</td>\n",
       "      <td>Director</td>\n",
       "      <td>Spike Lee</td>\n",
       "      <td>8844</td>\n",
       "    </tr>\n",
       "    <tr>\n",
       "      <th>...</th>\n",
       "      <td>...</td>\n",
       "      <td>...</td>\n",
       "      <td>...</td>\n",
       "      <td>...</td>\n",
       "      <td>...</td>\n",
       "    </tr>\n",
       "    <tr>\n",
       "      <th>2784</th>\n",
       "      <td>Directing</td>\n",
       "      <td>11523</td>\n",
       "      <td>Director</td>\n",
       "      <td>Georges Méliès</td>\n",
       "      <td>639</td>\n",
       "    </tr>\n",
       "    <tr>\n",
       "      <th>2785</th>\n",
       "      <td>Writing</td>\n",
       "      <td>20875</td>\n",
       "      <td>Novel</td>\n",
       "      <td>Leo Tolstoy</td>\n",
       "      <td>266022</td>\n",
       "    </tr>\n",
       "    <tr>\n",
       "      <th>2786</th>\n",
       "      <td>Writing</td>\n",
       "      <td>24279</td>\n",
       "      <td>Screenplay</td>\n",
       "      <td>Paolo Taviani</td>\n",
       "      <td>266022</td>\n",
       "    </tr>\n",
       "    <tr>\n",
       "      <th>2787</th>\n",
       "      <td>Directing</td>\n",
       "      <td>24279</td>\n",
       "      <td>Director</td>\n",
       "      <td>Paolo Taviani</td>\n",
       "      <td>266022</td>\n",
       "    </tr>\n",
       "    <tr>\n",
       "      <th>2788</th>\n",
       "      <td>Directing</td>\n",
       "      <td>24281</td>\n",
       "      <td>Director</td>\n",
       "      <td>Vittorio Taviani</td>\n",
       "      <td>266022</td>\n",
       "    </tr>\n",
       "  </tbody>\n",
       "</table>\n",
       "<p>2789 rows × 5 columns</p>\n",
       "</div>"
      ],
      "text/plain": [
       "     department     id           job                 name  movie_id\n",
       "0     Directing  33315      Director    Richard Loncraine       862\n",
       "1       Writing   6210  Theatre Play  William Shakespeare       862\n",
       "2       Writing   1327        Writer         Ian McKellen       862\n",
       "3       Writing  33315        Writer    Richard Loncraine       862\n",
       "4     Directing   5281      Director            Spike Lee      8844\n",
       "...         ...    ...           ...                  ...       ...\n",
       "2784  Directing  11523      Director       Georges Méliès       639\n",
       "2785    Writing  20875         Novel          Leo Tolstoy    266022\n",
       "2786    Writing  24279    Screenplay        Paolo Taviani    266022\n",
       "2787  Directing  24279      Director        Paolo Taviani    266022\n",
       "2788  Directing  24281      Director     Vittorio Taviani    266022\n",
       "\n",
       "[2789 rows x 5 columns]"
      ]
     },
     "execution_count": 35,
     "metadata": {},
     "output_type": "execute_result"
    }
   ],
   "source": [
    "df_crew_cleaned"
   ]
  },
  {
   "cell_type": "code",
   "execution_count": 36,
   "metadata": {},
   "outputs": [
    {
     "name": "stdout",
     "output_type": "stream",
     "text": [
      "<class 'pandas.core.frame.DataFrame'>\n",
      "RangeIndex: 2789 entries, 0 to 2788\n",
      "Data columns (total 5 columns):\n",
      " #   Column      Non-Null Count  Dtype \n",
      "---  ------      --------------  ----- \n",
      " 0   department  2789 non-null   object\n",
      " 1   id          2789 non-null   int64 \n",
      " 2   job         2789 non-null   object\n",
      " 3   name        2789 non-null   object\n",
      " 4   movie_id    2789 non-null   int64 \n",
      "dtypes: int64(2), object(3)\n",
      "memory usage: 109.1+ KB\n"
     ]
    }
   ],
   "source": [
    "df_crew_cleaned.info()"
   ]
  },
  {
   "cell_type": "code",
   "execution_count": 37,
   "metadata": {},
   "outputs": [
    {
     "data": {
      "text/html": [
       "<div>\n",
       "<style scoped>\n",
       "    .dataframe tbody tr th:only-of-type {\n",
       "        vertical-align: middle;\n",
       "    }\n",
       "\n",
       "    .dataframe tbody tr th {\n",
       "        vertical-align: top;\n",
       "    }\n",
       "\n",
       "    .dataframe thead th {\n",
       "        text-align: right;\n",
       "    }\n",
       "</style>\n",
       "<table border=\"1\" class=\"dataframe\">\n",
       "  <thead>\n",
       "    <tr style=\"text-align: right;\">\n",
       "      <th></th>\n",
       "      <th>department</th>\n",
       "      <th>id</th>\n",
       "      <th>job</th>\n",
       "      <th>name</th>\n",
       "      <th>movie_id</th>\n",
       "    </tr>\n",
       "  </thead>\n",
       "  <tbody>\n",
       "    <tr>\n",
       "      <th>0</th>\n",
       "      <td>Directing</td>\n",
       "      <td>33315</td>\n",
       "      <td>Director</td>\n",
       "      <td>Richard Loncraine</td>\n",
       "      <td>862</td>\n",
       "    </tr>\n",
       "    <tr>\n",
       "      <th>4</th>\n",
       "      <td>Directing</td>\n",
       "      <td>5281</td>\n",
       "      <td>Director</td>\n",
       "      <td>Spike Lee</td>\n",
       "      <td>8844</td>\n",
       "    </tr>\n",
       "    <tr>\n",
       "      <th>8</th>\n",
       "      <td>Directing</td>\n",
       "      <td>3092</td>\n",
       "      <td>Director</td>\n",
       "      <td>Diane Keaton</td>\n",
       "      <td>15602</td>\n",
       "    </tr>\n",
       "    <tr>\n",
       "      <th>9</th>\n",
       "      <td>Directing</td>\n",
       "      <td>1723</td>\n",
       "      <td>Director</td>\n",
       "      <td>Walter Hill</td>\n",
       "      <td>31357</td>\n",
       "    </tr>\n",
       "    <tr>\n",
       "      <th>11</th>\n",
       "      <td>Directing</td>\n",
       "      <td>32593</td>\n",
       "      <td>Director</td>\n",
       "      <td>Steven Brill</td>\n",
       "      <td>11862</td>\n",
       "    </tr>\n",
       "    <tr>\n",
       "      <th>...</th>\n",
       "      <td>...</td>\n",
       "      <td>...</td>\n",
       "      <td>...</td>\n",
       "      <td>...</td>\n",
       "      <td>...</td>\n",
       "    </tr>\n",
       "    <tr>\n",
       "      <th>2782</th>\n",
       "      <td>Directing</td>\n",
       "      <td>11523</td>\n",
       "      <td>Director</td>\n",
       "      <td>Georges Méliès</td>\n",
       "      <td>655</td>\n",
       "    </tr>\n",
       "    <tr>\n",
       "      <th>2783</th>\n",
       "      <td>Directing</td>\n",
       "      <td>11523</td>\n",
       "      <td>Director</td>\n",
       "      <td>Georges Méliès</td>\n",
       "      <td>10341</td>\n",
       "    </tr>\n",
       "    <tr>\n",
       "      <th>2784</th>\n",
       "      <td>Directing</td>\n",
       "      <td>11523</td>\n",
       "      <td>Director</td>\n",
       "      <td>Georges Méliès</td>\n",
       "      <td>639</td>\n",
       "    </tr>\n",
       "    <tr>\n",
       "      <th>2787</th>\n",
       "      <td>Directing</td>\n",
       "      <td>24279</td>\n",
       "      <td>Director</td>\n",
       "      <td>Paolo Taviani</td>\n",
       "      <td>266022</td>\n",
       "    </tr>\n",
       "    <tr>\n",
       "      <th>2788</th>\n",
       "      <td>Directing</td>\n",
       "      <td>24281</td>\n",
       "      <td>Director</td>\n",
       "      <td>Vittorio Taviani</td>\n",
       "      <td>266022</td>\n",
       "    </tr>\n",
       "  </tbody>\n",
       "</table>\n",
       "<p>1341 rows × 5 columns</p>\n",
       "</div>"
      ],
      "text/plain": [
       "     department     id       job               name  movie_id\n",
       "0     Directing  33315  Director  Richard Loncraine       862\n",
       "4     Directing   5281  Director          Spike Lee      8844\n",
       "8     Directing   3092  Director       Diane Keaton     15602\n",
       "9     Directing   1723  Director        Walter Hill     31357\n",
       "11    Directing  32593  Director       Steven Brill     11862\n",
       "...         ...    ...       ...                ...       ...\n",
       "2782  Directing  11523  Director     Georges Méliès       655\n",
       "2783  Directing  11523  Director     Georges Méliès     10341\n",
       "2784  Directing  11523  Director     Georges Méliès       639\n",
       "2787  Directing  24279  Director      Paolo Taviani    266022\n",
       "2788  Directing  24281  Director   Vittorio Taviani    266022\n",
       "\n",
       "[1341 rows x 5 columns]"
      ]
     },
     "execution_count": 37,
     "metadata": {},
     "output_type": "execute_result"
    }
   ],
   "source": [
    "directors_df"
   ]
  },
  {
   "cell_type": "code",
   "execution_count": 38,
   "metadata": {},
   "outputs": [
    {
     "name": "stdout",
     "output_type": "stream",
     "text": [
      "<class 'pandas.core.frame.DataFrame'>\n",
      "Index: 1341 entries, 0 to 2788\n",
      "Data columns (total 5 columns):\n",
      " #   Column      Non-Null Count  Dtype \n",
      "---  ------      --------------  ----- \n",
      " 0   department  1341 non-null   object\n",
      " 1   id          1341 non-null   int64 \n",
      " 2   job         1341 non-null   object\n",
      " 3   name        1341 non-null   object\n",
      " 4   movie_id    1341 non-null   int64 \n",
      "dtypes: int64(2), object(3)\n",
      "memory usage: 62.9+ KB\n"
     ]
    }
   ],
   "source": [
    "directors_df.info()"
   ]
  },
  {
   "cell_type": "code",
   "execution_count": 39,
   "metadata": {},
   "outputs": [
    {
     "name": "stdout",
     "output_type": "stream",
     "text": [
      "0       False\n",
      "4       False\n",
      "8       False\n",
      "9       False\n",
      "11      False\n",
      "        ...  \n",
      "2782    False\n",
      "2783    False\n",
      "2784    False\n",
      "2787    False\n",
      "2788    False\n",
      "Name: id, Length: 1341, dtype: bool\n"
     ]
    }
   ],
   "source": [
    "# Confirmacion tarantino:\n",
    "\n",
    "tarantino = directors_df['id'] == 138\n",
    "print(tarantino)"
   ]
  },
  {
   "cell_type": "markdown",
   "metadata": {},
   "source": [
    "### Seguimos ahora unificando la info:"
   ]
  },
  {
   "cell_type": "markdown",
   "metadata": {},
   "source": [
    "#### Se necesita cambiar nombre de algunas columnas para que no falle el join"
   ]
  },
  {
   "cell_type": "code",
   "execution_count": 40,
   "metadata": {},
   "outputs": [],
   "source": [
    "# agregar la palabra \"cast\" a todas las columnas excepto \"credit_id\"\n",
    "for column in df_cast_cleaned.columns:\n",
    "    if column not in ['id','cast_id','movie_id']:\n",
    "        new_column_name =  column + '_cast_df' \n",
    "        df_cast_cleaned.rename(columns={column: new_column_name}, inplace=True)\n"
   ]
  },
  {
   "cell_type": "code",
   "execution_count": 41,
   "metadata": {},
   "outputs": [
    {
     "data": {
      "text/html": [
       "<div>\n",
       "<style scoped>\n",
       "    .dataframe tbody tr th:only-of-type {\n",
       "        vertical-align: middle;\n",
       "    }\n",
       "\n",
       "    .dataframe tbody tr th {\n",
       "        vertical-align: top;\n",
       "    }\n",
       "\n",
       "    .dataframe thead th {\n",
       "        text-align: right;\n",
       "    }\n",
       "</style>\n",
       "<table border=\"1\" class=\"dataframe\">\n",
       "  <thead>\n",
       "    <tr style=\"text-align: right;\">\n",
       "      <th></th>\n",
       "      <th>cast_id</th>\n",
       "      <th>id</th>\n",
       "      <th>movie_id</th>\n",
       "    </tr>\n",
       "  </thead>\n",
       "  <tbody>\n",
       "    <tr>\n",
       "      <th>0</th>\n",
       "      <td>2</td>\n",
       "      <td>6837</td>\n",
       "      <td>862</td>\n",
       "    </tr>\n",
       "    <tr>\n",
       "      <th>1</th>\n",
       "      <td>3</td>\n",
       "      <td>3151</td>\n",
       "      <td>862</td>\n",
       "    </tr>\n",
       "    <tr>\n",
       "      <th>2</th>\n",
       "      <td>4</td>\n",
       "      <td>13567</td>\n",
       "      <td>862</td>\n",
       "    </tr>\n",
       "    <tr>\n",
       "      <th>3</th>\n",
       "      <td>5</td>\n",
       "      <td>16757</td>\n",
       "      <td>862</td>\n",
       "    </tr>\n",
       "    <tr>\n",
       "      <th>4</th>\n",
       "      <td>6</td>\n",
       "      <td>589</td>\n",
       "      <td>862</td>\n",
       "    </tr>\n",
       "    <tr>\n",
       "      <th>...</th>\n",
       "      <td>...</td>\n",
       "      <td>...</td>\n",
       "      <td>...</td>\n",
       "    </tr>\n",
       "    <tr>\n",
       "      <th>53553</th>\n",
       "      <td>1</td>\n",
       "      <td>29459</td>\n",
       "      <td>111815</td>\n",
       "    </tr>\n",
       "    <tr>\n",
       "      <th>53554</th>\n",
       "      <td>2</td>\n",
       "      <td>139</td>\n",
       "      <td>111815</td>\n",
       "    </tr>\n",
       "    <tr>\n",
       "      <th>53555</th>\n",
       "      <td>3</td>\n",
       "      <td>18616</td>\n",
       "      <td>111815</td>\n",
       "    </tr>\n",
       "    <tr>\n",
       "      <th>53556</th>\n",
       "      <td>4</td>\n",
       "      <td>920</td>\n",
       "      <td>111815</td>\n",
       "    </tr>\n",
       "    <tr>\n",
       "      <th>53557</th>\n",
       "      <td>14</td>\n",
       "      <td>1924</td>\n",
       "      <td>111815</td>\n",
       "    </tr>\n",
       "  </tbody>\n",
       "</table>\n",
       "<p>53558 rows × 3 columns</p>\n",
       "</div>"
      ],
      "text/plain": [
       "       cast_id     id  movie_id\n",
       "0            2   6837       862\n",
       "1            3   3151       862\n",
       "2            4  13567       862\n",
       "3            5  16757       862\n",
       "4            6    589       862\n",
       "...        ...    ...       ...\n",
       "53553        1  29459    111815\n",
       "53554        2    139    111815\n",
       "53555        3  18616    111815\n",
       "53556        4    920    111815\n",
       "53557       14   1924    111815\n",
       "\n",
       "[53558 rows x 3 columns]"
      ]
     },
     "execution_count": 41,
     "metadata": {},
     "output_type": "execute_result"
    }
   ],
   "source": [
    "df_cast_cleaned"
   ]
  },
  {
   "cell_type": "markdown",
   "metadata": {},
   "source": [
    "### Left join directors_df:"
   ]
  },
  {
   "cell_type": "code",
   "execution_count": 42,
   "metadata": {},
   "outputs": [
    {
     "name": "stdout",
     "output_type": "stream",
     "text": [
      "     department     id       job               name  movie_id_crew  cast_id  \\\n",
      "0     Directing  33315  Director  Richard Loncraine            862      NaN   \n",
      "1     Directing   5281  Director          Spike Lee           8844      4.0   \n",
      "2     Directing   5281  Director          Spike Lee           8844     21.0   \n",
      "3     Directing   5281  Director          Spike Lee           8844      4.0   \n",
      "4     Directing   5281  Director          Spike Lee           8844      8.0   \n",
      "...         ...    ...       ...                ...            ...      ...   \n",
      "3324  Directing  11523  Director     Georges Méliès            639      2.0   \n",
      "3325  Directing  11523  Director     Georges Méliès            639      2.0   \n",
      "3326  Directing  11523  Director     Georges Méliès            639      3.0   \n",
      "3327  Directing  24279  Director      Paolo Taviani         266022      NaN   \n",
      "3328  Directing  24281  Director   Vittorio Taviani         266022      NaN   \n",
      "\n",
      "      movie_id_cast  \n",
      "0               NaN  \n",
      "1           27793.0  \n",
      "2           28732.0  \n",
      "3            7984.0  \n",
      "4           19052.0  \n",
      "...             ...  \n",
      "3324        32328.0  \n",
      "3325        47715.0  \n",
      "3326        29586.0  \n",
      "3327            NaN  \n",
      "3328            NaN  \n",
      "\n",
      "[3329 rows x 7 columns]\n"
     ]
    }
   ],
   "source": [
    "# Perform the left join\n",
    "director_merged_info = pd.merge(directors_df ,df_cast_cleaned , on='id', how='left', suffixes=('_crew', '_cast'))\n",
    "\n",
    "# Show the result\n",
    "print(director_merged_info)\n",
    "\n"
   ]
  },
  {
   "cell_type": "code",
   "execution_count": 43,
   "metadata": {},
   "outputs": [
    {
     "data": {
      "text/plain": [
       "<Axes: >"
      ]
     },
     "execution_count": 43,
     "metadata": {},
     "output_type": "execute_result"
    },
    {
     "data": {
      "image/png": "[encoded data removed]",
      "text/plain": [
       "<Figure size 2500x1000 with 2 Axes>"
      ]
     },
     "metadata": {},
     "output_type": "display_data"
    }
   ],
   "source": [
    "msno.matrix(director_merged_info)"
   ]
  },
  {
   "cell_type": "code",
   "execution_count": 44,
   "metadata": {},
   "outputs": [
    {
     "data": {
      "text/plain": [
       "(3329, 7)"
      ]
     },
     "execution_count": 44,
     "metadata": {},
     "output_type": "execute_result"
    }
   ],
   "source": [
    "director_merged_info.shape"
   ]
  },
  {
   "cell_type": "code",
   "execution_count": 45,
   "metadata": {},
   "outputs": [],
   "source": [
    "director_merged_info_sin_na = director_merged_info.dropna()"
   ]
  },
  {
   "cell_type": "code",
   "execution_count": 46,
   "metadata": {},
   "outputs": [
    {
     "data": {
      "text/plain": [
       "(2404, 7)"
      ]
     },
     "execution_count": 46,
     "metadata": {},
     "output_type": "execute_result"
    }
   ],
   "source": [
    "director_merged_info_sin_na.shape"
   ]
  },
  {
   "cell_type": "code",
   "execution_count": 47,
   "metadata": {},
   "outputs": [],
   "source": [
    "list_cols_int = ['id','movie_id_crew','cast_id','movie_id_cast']\n",
    "for element in list_cols_int:\n",
    "    director_merged_info_sin_na.loc[:, list_cols_int] = director_merged_info_sin_na[list_cols_int].astype(int)\n",
    "    "
   ]
  },
  {
   "cell_type": "code",
   "execution_count": 48,
   "metadata": {},
   "outputs": [
    {
     "data": {
      "text/html": [
       "<div>\n",
       "<style scoped>\n",
       "    .dataframe tbody tr th:only-of-type {\n",
       "        vertical-align: middle;\n",
       "    }\n",
       "\n",
       "    .dataframe tbody tr th {\n",
       "        vertical-align: top;\n",
       "    }\n",
       "\n",
       "    .dataframe thead th {\n",
       "        text-align: right;\n",
       "    }\n",
       "</style>\n",
       "<table border=\"1\" class=\"dataframe\">\n",
       "  <thead>\n",
       "    <tr style=\"text-align: right;\">\n",
       "      <th></th>\n",
       "      <th>department</th>\n",
       "      <th>id</th>\n",
       "      <th>job</th>\n",
       "      <th>name</th>\n",
       "      <th>movie_id_crew</th>\n",
       "      <th>cast_id</th>\n",
       "      <th>movie_id_cast</th>\n",
       "    </tr>\n",
       "  </thead>\n",
       "  <tbody>\n",
       "    <tr>\n",
       "      <th>1</th>\n",
       "      <td>Directing</td>\n",
       "      <td>5281</td>\n",
       "      <td>Director</td>\n",
       "      <td>Spike Lee</td>\n",
       "      <td>8844</td>\n",
       "      <td>4.0</td>\n",
       "      <td>27793.0</td>\n",
       "    </tr>\n",
       "    <tr>\n",
       "      <th>2</th>\n",
       "      <td>Directing</td>\n",
       "      <td>5281</td>\n",
       "      <td>Director</td>\n",
       "      <td>Spike Lee</td>\n",
       "      <td>8844</td>\n",
       "      <td>21.0</td>\n",
       "      <td>28732.0</td>\n",
       "    </tr>\n",
       "    <tr>\n",
       "      <th>3</th>\n",
       "      <td>Directing</td>\n",
       "      <td>5281</td>\n",
       "      <td>Director</td>\n",
       "      <td>Spike Lee</td>\n",
       "      <td>8844</td>\n",
       "      <td>4.0</td>\n",
       "      <td>7984.0</td>\n",
       "    </tr>\n",
       "    <tr>\n",
       "      <th>4</th>\n",
       "      <td>Directing</td>\n",
       "      <td>5281</td>\n",
       "      <td>Director</td>\n",
       "      <td>Spike Lee</td>\n",
       "      <td>8844</td>\n",
       "      <td>8.0</td>\n",
       "      <td>19052.0</td>\n",
       "    </tr>\n",
       "    <tr>\n",
       "      <th>5</th>\n",
       "      <td>Directing</td>\n",
       "      <td>3092</td>\n",
       "      <td>Director</td>\n",
       "      <td>Diane Keaton</td>\n",
       "      <td>15602</td>\n",
       "      <td>2.0</td>\n",
       "      <td>8844.0</td>\n",
       "    </tr>\n",
       "  </tbody>\n",
       "</table>\n",
       "</div>"
      ],
      "text/plain": [
       "  department    id       job          name  movie_id_crew  cast_id  \\\n",
       "1  Directing  5281  Director     Spike Lee           8844      4.0   \n",
       "2  Directing  5281  Director     Spike Lee           8844     21.0   \n",
       "3  Directing  5281  Director     Spike Lee           8844      4.0   \n",
       "4  Directing  5281  Director     Spike Lee           8844      8.0   \n",
       "5  Directing  3092  Director  Diane Keaton          15602      2.0   \n",
       "\n",
       "   movie_id_cast  \n",
       "1        27793.0  \n",
       "2        28732.0  \n",
       "3         7984.0  \n",
       "4        19052.0  \n",
       "5         8844.0  "
      ]
     },
     "execution_count": 48,
     "metadata": {},
     "output_type": "execute_result"
    }
   ],
   "source": [
    "director_merged_info_sin_na.head(5)"
   ]
  },
  {
   "cell_type": "code",
   "execution_count": 49,
   "metadata": {},
   "outputs": [
    {
     "name": "stdout",
     "output_type": "stream",
     "text": [
      "<class 'pandas.core.frame.DataFrame'>\n",
      "Index: 2404 entries, 1 to 3326\n",
      "Data columns (total 7 columns):\n",
      " #   Column         Non-Null Count  Dtype  \n",
      "---  ------         --------------  -----  \n",
      " 0   department     2404 non-null   object \n",
      " 1   id             2404 non-null   int64  \n",
      " 2   job            2404 non-null   object \n",
      " 3   name           2404 non-null   object \n",
      " 4   movie_id_crew  2404 non-null   int64  \n",
      " 5   cast_id        2404 non-null   float64\n",
      " 6   movie_id_cast  2404 non-null   float64\n",
      "dtypes: float64(2), int64(2), object(3)\n",
      "memory usage: 150.2+ KB\n"
     ]
    }
   ],
   "source": [
    "director_merged_info_sin_na.info()"
   ]
  },
  {
   "cell_type": "code",
   "execution_count": 50,
   "metadata": {},
   "outputs": [
    {
     "data": {
      "text/plain": [
       "<Axes: >"
      ]
     },
     "execution_count": 50,
     "metadata": {},
     "output_type": "execute_result"
    },
    {
     "data": {
      "image/png": "[encoded data removed]",
      "text/plain": [
       "<Figure size 2500x1000 with 2 Axes>"
      ]
     },
     "metadata": {},
     "output_type": "display_data"
    }
   ],
   "source": [
    "msno.matrix(director_merged_info_sin_na)"
   ]
  },
  {
   "cell_type": "markdown",
   "metadata": {},
   "source": [
    "### Guardo pickle: director_merged_info"
   ]
  },
  {
   "cell_type": "code",
   "execution_count": 51,
   "metadata": {},
   "outputs": [],
   "source": [
    "# Guardar el DataFrame en formato pickle\n",
    "director_merged_info_sin_na.to_pickle('../../Datasets Cleaned & light/director_merged_info.pkl')"
   ]
  }
 ],
 "metadata": {
  "kernelspec": {
   "display_name": "Python 3",
   "language": "python",
   "name": "python3"
  },
  "language_info": {
   "codemirror_mode": {
    "name": "ipython",
    "version": 3
   },
   "file_extension": ".py",
   "mimetype": "text/x-python",
   "name": "python",
   "nbconvert_exporter": "python",
   "pygments_lexer": "ipython3",
   "version": "3.10.11"
  },
  "orig_nbformat": 4
 },
 "nbformat": 4,
 "nbformat_minor": 2
}
