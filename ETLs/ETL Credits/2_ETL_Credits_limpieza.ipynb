{
 "cells": [
  {
   "cell_type": "markdown",
   "metadata": {},
   "source": [
    "# ETL Credits:"
   ]
  },
  {
   "cell_type": "markdown",
   "metadata": {},
   "source": [
    "### Libreries"
   ]
  },
  {
   "cell_type": "code",
   "execution_count": 1,
   "metadata": {},
   "outputs": [],
   "source": [
    "import pandas as pd\n",
    "import ast\n",
    "import missingno as msno\n",
    "import json\n"
   ]
  },
  {
   "cell_type": "markdown",
   "metadata": {},
   "source": [
    "### Opening CSV Credits data:"
   ]
  },
  {
   "cell_type": "code",
   "execution_count": 2,
   "metadata": {},
   "outputs": [],
   "source": [
    "df_credits_csv = pd.read_csv('D:\\Data Scientist\\CURSADO HENRY DTS09\\PI\\PI1_PT02\\PI_ML_OPS_PT02\\Datasets\\Credits_datasets\\Csvs Credits\\credits_1.csv')"
   ]
  },
  {
   "cell_type": "code",
   "execution_count": 3,
   "metadata": {},
   "outputs": [],
   "source": [
    "# Configurar opciones de visualización\n",
    "pd.set_option('display.width', None)        # No truncar la anchura de la visualización\n",
    "pd.set_option('display.max_colwidth', None) # Mostrar toda la longitud de los valores en las celdas"
   ]
  },
  {
   "cell_type": "code",
   "execution_count": 4,
   "metadata": {},
   "outputs": [
    {
     "data": {
      "text/html": [
       "<div>\n",
       "<style scoped>\n",
       "    .dataframe tbody tr th:only-of-type {\n",
       "        vertical-align: middle;\n",
       "    }\n",
       "\n",
       "    .dataframe tbody tr th {\n",
       "        vertical-align: top;\n",
       "    }\n",
       "\n",
       "    .dataframe thead th {\n",
       "        text-align: right;\n",
       "    }\n",
       "</style>\n",
       "<table border=\"1\" class=\"dataframe\">\n",
       "  <thead>\n",
       "    <tr style=\"text-align: right;\">\n",
       "      <th></th>\n",
       "      <th>cast</th>\n",
       "      <th>crew</th>\n",
       "      <th>id</th>\n",
       "    </tr>\n",
       "  </thead>\n",
       "  <tbody>\n",
       "    <tr>\n",
       "      <th>0</th>\n",
       "      <td>[{'cast_id': 14, 'character': 'Woody (voice)', 'credit_id': '52fe4284c3a36847f8024f95', 'gender': 2, 'id': 31, 'name': 'Tom Hanks', 'order': 0, 'profile_path': '/pQFoyx7rp09CJTAb932F2g8Nlho.jpg'}, {'cast_id': 15, 'character': 'Buzz Lightyear (voice)', 'credit_id': '52fe4284c3a36847f8024f99', 'gender': 2, 'id': 12898, 'name': 'Tim Allen', 'order': 1, 'profile_path': '/uX2xVf6pMmPepxnvFWyBtjexzgY.jpg'}, {'cast_id': 16, 'character': 'Mr. Potato Head (voice)', 'credit_id': '52fe4284c3a36847f8024f9d', 'gender': 2, 'id': 7167, 'name': 'Don Rickles', 'order': 2, 'profile_path': '/h5BcaDMPRVLHLDzbQavec4xfSdt.jpg'}, {'cast_id': 17, 'character': 'Slinky Dog (voice)', 'credit_id': '52fe4284c3a36847f8024fa1', 'gender': 2, 'id': 12899, 'name': 'Jim Varney', 'order': 3, 'profile_path': '/eIo2jVVXYgjDtaHoF19Ll9vtW7h.jpg'}, {'cast_id': 18, 'character': 'Rex (voice)', 'credit_id': '52fe4284c3a36847f8024fa5', 'gender': 2, 'id': 12900, 'name': 'Wallace Shawn', 'order': 4, 'profile_path': '/oGE6JqPP2xH4tNORKNqxbNPYi7u.jpg'}, {'cast_id': 19, 'character': 'Hamm (voice)', 'credit_id': '52fe4284c3a36847f8024fa9', 'gender': 2, 'id': 7907, 'name': 'John Ratzenberger', 'order': 5, 'profile_path': '/yGechiKWL6TJDfVE2KPSJYqdMsY.jpg'}, {'cast_id': 20, 'character': 'Bo Peep (voice)', 'credit_id': '52fe4284c3a36847f8024fad', 'gender': 1, 'id': 8873, 'name': 'Annie Potts', 'order': 6, 'profile_path': '/eryXT84RL41jHSJcMy4kS3u9y6w.jpg'}, {'cast_id': 26, 'character': 'Andy (voice)', 'credit_id': '52fe4284c3a36847f8024fc1', 'gender': 0, 'id': 1116442, 'name': 'John Morris', 'order': 7, 'profile_path': '/vYGyvK4LzeaUCoNSHtsuqJUY15M.jpg'}, {'cast_id': 22, 'character': 'Sid (voice)', 'credit_id': '52fe4284c3a36847f8024fb1', 'gender': 2, 'id': 12901, 'name': 'Erik von Detten', 'order': 8, 'profile_path': '/twnF1ZaJ1FUNUuo6xLXwcxjayBE.jpg'}, {'cast_id': 23, 'character': 'Mrs. Davis (voice)', 'credit_id': '52fe4284c3a36847f8024fb5', 'gender': 1, 'id': 12133, 'name': 'Laurie Metcalf', 'order': 9, 'profile_path': '/unMMIT60eoBM2sN2nyR7EZ2BvvD.jpg'}, {'cast_id': 24, 'character': 'Sergeant (voice)', 'credit_id': '52fe4284c3a36847f8024fb9', 'gender': 2, 'id': 8655, 'name': 'R. Lee Ermey', 'order': 10, 'profile_path': '/r8GBqFBjypLUP9VVqDqfZ7wYbSs.jpg'}, {'cast_id': 25, 'character': 'Hannah (voice)', 'credit_id': '52fe4284c3a36847f8024fbd', 'gender': 1, 'id': 12903, 'name': 'Sarah Freeman', 'order': 11, 'profile_path': None}, {'cast_id': 27, 'character': 'TV Announcer (voice)', 'credit_id': '52fe4284c3a36847f8024fc5', 'gender': 2, 'id': 37221, 'name': 'Penn Jillette', 'order': 12, 'profile_path': '/zmAaXUdx12NRsssgHbk1T31j2x9.jpg'}]</td>\n",
       "      <td>[{'credit_id': '52fe4284c3a36847f8024f49', 'department': 'Directing', 'gender': 2, 'id': 7879, 'job': 'Director', 'name': 'John Lasseter', 'profile_path': '/7EdqiNbr4FRjIhKHyPPdFfEEEFG.jpg'}, {'credit_id': '52fe4284c3a36847f8024f4f', 'department': 'Writing', 'gender': 2, 'id': 12891, 'job': 'Screenplay', 'name': 'Joss Whedon', 'profile_path': '/dTiVsuaTVTeGmvkhcyJvKp2A5kr.jpg'}, {'credit_id': '52fe4284c3a36847f8024f55', 'department': 'Writing', 'gender': 2, 'id': 7, 'job': 'Screenplay', 'name': 'Andrew Stanton', 'profile_path': '/pvQWsu0qc8JFQhMVJkTHuexUAa1.jpg'}, {'credit_id': '52fe4284c3a36847f8024f5b', 'department': 'Writing', 'gender': 2, 'id': 12892, 'job': 'Screenplay', 'name': 'Joel Cohen', 'profile_path': '/dAubAiZcvKFbboWlj7oXOkZnTSu.jpg'}, {'credit_id': '52fe4284c3a36847f8024f61', 'department': 'Writing', 'gender': 0, 'id': 12893, 'job': 'Screenplay', 'name': 'Alec Sokolow', 'profile_path': '/v79vlRYi94BZUQnkkyznbGUZLjT.jpg'}, {'credit_id': '52fe4284c3a36847f8024f67', 'department': 'Production', 'gender': 1, 'id': 12894, 'job': 'Producer', 'name': 'Bonnie Arnold', 'profile_path': None}, {'credit_id': '52fe4284c3a36847f8024f6d', 'department': 'Production', 'gender': 0, 'id': 12895, 'job': 'Executive Producer', 'name': 'Ed Catmull', 'profile_path': None}, {'credit_id': '52fe4284c3a36847f8024f73', 'department': 'Production', 'gender': 2, 'id': 12896, 'job': 'Producer', 'name': 'Ralph Guggenheim', 'profile_path': None}, {'credit_id': '52fe4284c3a36847f8024f79', 'department': 'Production', 'gender': 2, 'id': 12897, 'job': 'Executive Producer', 'name': 'Steve Jobs', 'profile_path': '/mOMP3SwD5qWQSR0ldCIByd3guTV.jpg'}, {'credit_id': '52fe4284c3a36847f8024f8b', 'department': 'Editing', 'gender': 2, 'id': 8, 'job': 'Editor', 'name': 'Lee Unkrich', 'profile_path': '/bdTCCXjgOV3YyaNmLGYGOxFQMOc.jpg'}, {'credit_id': '52fe4284c3a36847f8024f91', 'department': 'Art', 'gender': 2, 'id': 7883, 'job': 'Art Direction', 'name': 'Ralph Eggleston', 'profile_path': '/uUfcGKDsKO1aROMpXRs67Hn6RvR.jpg'}, {'credit_id': '598331bf925141421201044b', 'department': 'Editing', 'gender': 2, 'id': 1168870, 'job': 'Editor', 'name': 'Robert Gordon', 'profile_path': None}, {'credit_id': '5892168cc3a36809660095f9', 'department': 'Sound', 'gender': 0, 'id': 1552883, 'job': 'Foley Editor', 'name': 'Mary Helen Leasman', 'profile_path': None}, {'credit_id': '5531824d9251415289000945', 'department': 'Visual Effects', 'gender': 0, 'id': 1453514, 'job': 'Animation', 'name': 'Kim Blanchette', 'profile_path': None}, {'credit_id': '589215969251412dcb009bf6', 'department': 'Sound', 'gender': 0, 'id': 1414182, 'job': 'ADR Editor', 'name': 'Marilyn McCoppen', 'profile_path': None}, {'credit_id': '589217099251412dc500a018', 'department': 'Sound', 'gender': 2, 'id': 7885, 'job': 'Orchestrator', 'name': 'Randy Newman', 'profile_path': '/w0JzfoiM25nrnxYOzosPHRq6mlE.jpg'}, {'credit_id': '5693e6b29251417b0e0000e3', 'department': 'Editing', 'gender': 0, 'id': 1429549, 'job': 'Color Timer', 'name': 'Dale E. Grahn', 'profile_path': None}, {'credit_id': '572e2522c3a36869e6001a9c', 'department': 'Visual Effects', 'gender': 0, 'id': 7949, 'job': 'CG Painter', 'name': 'Robin Cooper', 'profile_path': None}, {'credit_id': '574f12309251415ca1000012', 'department': 'Writing', 'gender': 2, 'id': 7879, 'job': 'Original Story', 'name': 'John Lasseter', 'profile_path': '/7EdqiNbr4FRjIhKHyPPdFfEEEFG.jpg'}, {'credit_id': '574f1240c3a3682e7300001c', 'department': 'Writing', 'gender': 2, 'id': 12890, 'job': 'Original Story', 'name': 'Pete Docter', 'profile_path': '/r6ngPgnReA3RHmKjmSoVsc6Awjp.jpg'}, {'credit_id': '574f12519251415c92000015', 'department': 'Writing', 'gender': 0, 'id': 7911, 'job': 'Original Story', 'name': 'Joe Ranft', 'profile_path': '/f1BoWC2JbCcfP1e5hKfGsxkHzVU.jpg'}, {'credit_id': '574f12cec3a3682e82000022', 'department': 'Crew', 'gender': 0, 'id': 1629419, 'job': 'Post Production Supervisor', 'name': 'Patsy Bouge', 'profile_path': None}, {'credit_id': '574f14f19251415ca1000082', 'department': 'Art', 'gender': 0, 'id': 7961, 'job': 'Sculptor', 'name': 'Norm DeCarlo', 'profile_path': None}, {'credit_id': '5751ae4bc3a3683772002b7f', 'department': 'Visual Effects', 'gender': 2, 'id': 12905, 'job': 'Animation Director', 'name': 'Ash Brannon', 'profile_path': '/6ueWgPEEBHvS3De2BHYQnYjRTig.jpg'}, {'credit_id': '5891edbe9251412dc5007cd6', 'department': 'Sound', 'gender': 2, 'id': 7885, 'job': 'Music', 'name': 'Randy Newman', 'profile_path': '/w0JzfoiM25nrnxYOzosPHRq6mlE.jpg'}, {'credit_id': '589213d39251412dc8009832', 'department': 'Directing', 'gender': 0, 'id': 1748707, 'job': 'Layout', 'name': 'Roman Figun', 'profile_path': None}, {'credit_id': '5892173dc3a3680968009351', 'department': 'Sound', 'gender': 2, 'id': 4949, 'job': 'Orchestrator', 'name': 'Don Davis', 'profile_path': None}, {'credit_id': '589217cec3a3686b0a0052ba', 'department': 'Sound', 'gender': 0, 'id': 1372885, 'job': 'Music Editor', 'name': 'James Flamberg', 'profile_path': None}, {'credit_id': '58921831c3a3686348004a64', 'department': 'Editing', 'gender': 0, 'id': 1739962, 'job': 'Negative Cutter', 'name': 'Mary Beth Smith', 'profile_path': None}, {'credit_id': '58921838c3a36809700096c0', 'department': 'Editing', 'gender': 0, 'id': 1748513, 'job': 'Negative Cutter', 'name': 'Rick Mackay', 'profile_path': None}, {'credit_id': '589218429251412dd1009d1b', 'department': 'Art', 'gender': 0, 'id': 1458006, 'job': 'Title Designer', 'name': 'Susan Bradley', 'profile_path': None}, {'credit_id': '5891ed99c3a3680966007670', 'department': 'Crew', 'gender': 0, 'id': 1748557, 'job': 'Supervising Technical Director', 'name': 'William Reeves', 'profile_path': None}, {'credit_id': '5891edcec3a3686b0a002eb2', 'department': 'Sound', 'gender': 2, 'id': 7885, 'job': 'Songs', 'name': 'Randy Newman', 'profile_path': '/w0JzfoiM25nrnxYOzosPHRq6mlE.jpg'}, {'credit_id': '5891edf9c3a36809700075e6', 'department': 'Writing', 'gender': 2, 'id': 7, 'job': 'Original Story', 'name': 'Andrew Stanton', 'profile_path': '/pvQWsu0qc8JFQhMVJkTHuexUAa1.jpg'}, {'credit_id': '58920f0b9251412dd7009104', 'department': 'Crew', 'gender': 2, 'id': 12890, 'job': 'Supervising Animator', 'name': 'Pete Docter', 'profile_path': '/r6ngPgnReA3RHmKjmSoVsc6Awjp.jpg'}, {'credit_id': '58920f1fc3a3680977009021', 'department': 'Sound', 'gender': 2, 'id': 2216, 'job': 'Sound Designer', 'name': 'Gary Rydstrom', 'profile_path': '/jZpr1nVfO7lldWI0YtmP1FGw7Rj.jpg'}, {'credit_id': '58920f389251412dd700912d', 'department': 'Production', 'gender': 0, 'id': 12909, 'job': 'Production Supervisor', 'name': 'Karen Robert Jackson', 'profile_path': None}, {'credit_id': '58920fbd9251412dcb00969c', 'department': 'Crew', 'gender': 0, 'id': 953331, 'job': 'Executive Music Producer', 'name': 'Chris Montan', 'profile_path': None}, {'credit_id': '589210069251412dd7009219', 'department': 'Visual Effects', 'gender': 0, 'id': 7893, 'job': 'Animation Director', 'name': 'Rich Quade', 'profile_path': None}, {'credit_id': '589210329251412dcd00943b', 'department': 'Visual Effects', 'gender': 0, 'id': 8025, 'job': 'Animation', 'name': 'Michael Berenstein', 'profile_path': None}, {'credit_id': '5892103bc3a368096a009180', 'department': 'Visual Effects', 'gender': 0, 'id': 78009, 'job': 'Animation', 'name': 'Colin Brady', 'profile_path': None}, {'credit_id': '5892105dc3a3680968008db2', 'department': 'Visual Effects', 'gender': 0, 'id': 1748682, 'job': 'Animation', 'name': 'Davey Crockett Feiten', 'profile_path': None}, {'credit_id': '589210669251412dcd009466', 'department': 'Visual Effects', 'gender': 0, 'id': 1454030, 'job': 'Animation', 'name': 'Angie Glocka', 'profile_path': None}, {'credit_id': '5892107c9251412dd1009613', 'department': 'Visual Effects', 'gender': 0, 'id': 1748683, 'job': 'Animation', 'name': 'Rex Grignon', 'profile_path': None}, {'credit_id': '5892108ac3a3680973008d3f', 'department': 'Visual Effects', 'gender': 0, 'id': 1748684, 'job': 'Animation', 'name': 'Tom K. Gurney', 'profile_path': None}, {'credit_id': '58921093c3a3686348004477', 'department': 'Visual Effects', 'gender': 2, 'id': 8029, 'job': 'Animation', 'name': 'Jimmy Hayward', 'profile_path': '/lTDRpudEY7BDwTefXbXzMlmb0ui.jpg'}, {'credit_id': '5892109b9251412dcd0094b0', 'department': 'Visual Effects', 'gender': 0, 'id': 1426773, 'job': 'Animation', 'name': 'Hal T. Hickel', 'profile_path': None}, {'credit_id': '589210a29251412dc5009a29', 'department': 'Visual Effects', 'gender': 0, 'id': 8035, 'job': 'Animation', 'name': 'Karen Kiser', 'profile_path': None}, {'credit_id': '589210ccc3a3680977009191', 'department': 'Visual Effects', 'gender': 0, 'id': 1748688, 'job': 'Animation', 'name': 'Anthony B. LaMolinara', 'profile_path': None}, {'credit_id': '589210d7c3a3686b0a004c1f', 'department': 'Visual Effects', 'gender': 0, 'id': 587314, 'job': 'Animation', 'name': 'Guionne Leroy', 'profile_path': None}, {'credit_id': '589210e1c3a36809770091a7', 'department': 'Visual Effects', 'gender': 2, 'id': 7918, 'job': 'Animation', 'name': 'Bud Luckey', 'profile_path': '/pcCh7G19FKMNijmPQg1PMH1btic.jpg'}, {'credit_id': '589210ee9251412dc200978a', 'department': 'Visual Effects', 'gender': 0, 'id': 1748689, 'job': 'Animation', 'name': 'Les Major', 'profile_path': None}, {'credit_id': '589210fa9251412dc8009595', 'department': 'Visual Effects', 'gender': 2, 'id': 7892, 'job': 'Animation', 'name': 'Glenn McQueen', 'profile_path': None}, {'credit_id': '589211029251412dc8009598', 'department': 'Visual Effects', 'gender': 0, 'id': 555795, 'job': 'Animation', 'name': 'Mark Oftedal', 'profile_path': None}, {'credit_id': '5892110b9251412dc800959d', 'department': 'Visual Effects', 'gender': 2, 'id': 7882, 'job': 'Animation', 'name': 'Jeff Pidgeon', 'profile_path': '/yLddkg5HcgbJg00cS13GVBnP0HY.jpg'}, {'credit_id': '58921113c3a36863480044e4', 'department': 'Visual Effects', 'gender': 0, 'id': 8017, 'job': 'Animation', 'name': 'Jeff Pratt', 'profile_path': None}, {'credit_id': '5892111c9251412dcb0097e9', 'department': 'Visual Effects', 'gender': 0, 'id': 1184140, 'job': 'Animation', 'name': 'Steve Rabatich', 'profile_path': None}, {'credit_id': '58921123c3a36809700090f6', 'department': 'Visual Effects', 'gender': 0, 'id': 8049, 'job': 'Animation', 'name': 'Roger Rose', 'profile_path': None}, {'credit_id': '5892112b9251412dcb0097fb', 'department': 'Visual Effects', 'gender': 0, 'id': 1509559, 'job': 'Animation', 'name': 'Steve Segal', 'profile_path': None}, {'credit_id': '589211349251412dc80095c3', 'department': 'Visual Effects', 'gender': 0, 'id': 1748691, 'job': 'Animation', 'name': 'Doug Sheppeck', 'profile_path': None}, {'credit_id': '5892113cc3a3680970009106', 'department': 'Visual Effects', 'gender': 0, 'id': 8050, 'job': 'Animation', 'name': 'Alan Sperling', 'profile_path': None}, {'credit_id': '58921148c3a3686b0a004c99', 'department': 'Visual Effects', 'gender': 0, 'id': 8010, 'job': 'Animation', 'name': 'Doug Sweetland', 'profile_path': None}, {'credit_id': '58921150c3a3680966009125', 'department': 'Visual Effects', 'gender': 0, 'id': 8044, 'job': 'Animation', 'name': 'David Tart', 'profile_path': None}, {'credit_id': '589211629251412dc5009b00', 'department': 'Visual Effects', 'gender': 0, 'id': 1454034, 'job': 'Animation', 'name': 'Ken Willard', 'profile_path': None}, {'credit_id': '589211c1c3a3686b0a004d28', 'department': 'Visual Effects', 'gender': 0, 'id': 7887, 'job': 'Visual Effects Supervisor', 'name': 'Thomas Porter', 'profile_path': None}, {'credit_id': '589211d4c3a3680968008ed9', 'department': 'Visual Effects', 'gender': 0, 'id': 1406878, 'job': 'Visual Effects', 'name': 'Mark Thomas Henne', 'profile_path': None}, {'credit_id': '589211f59251412dd4008e65', 'department': 'Visual Effects', 'gender': 0, 'id': 1748698, 'job': 'Visual Effects', 'name': 'Oren Jacob', 'profile_path': None}, {'credit_id': '58921242c3a368096a00939b', 'department': 'Visual Effects', 'gender': 0, 'id': 1748699, 'job': 'Visual Effects', 'name': 'Darwyn Peachey', 'profile_path': None}, {'credit_id': '5892124b9251412dc5009bd2', 'department': 'Visual Effects', 'gender': 0, 'id': 1748701, 'job': 'Visual Effects', 'name': 'Mitch Prater', 'profile_path': None}, {'credit_id': '58921264c3a3686b0a004dbf', 'department': 'Visual Effects', 'gender': 0, 'id': 1748703, 'job': 'Visual Effects', 'name': 'Brian M. Rosen', 'profile_path': None}, {'credit_id': '589212709251412dcd009676', 'department': 'Lighting', 'gender': 1, 'id': 12912, 'job': 'Lighting Supervisor', 'name': 'Sharon Calahan', 'profile_path': None}, {'credit_id': '5892127fc3a3686b0a004de5', 'department': 'Lighting', 'gender': 0, 'id': 7899, 'job': 'Lighting Supervisor', 'name': 'Galyn Susman', 'profile_path': None}, {'credit_id': '589212cdc3a3680970009268', 'department': 'Visual Effects', 'gender': 0, 'id': 12915, 'job': 'CG Painter', 'name': 'William Cone', 'profile_path': None}, {'credit_id': '5892130f9251412dc8009791', 'department': 'Art', 'gender': 0, 'id': 1748705, 'job': 'Sculptor', 'name': 'Shelley Daniels Lekven', 'profile_path': None}, {'credit_id': '5892131c9251412dd4008f4c', 'department': 'Visual Effects', 'gender': 2, 'id': 7889, 'job': 'Character Designer', 'name': 'Bob Pauley', 'profile_path': None}, {'credit_id': '589213249251412dd100987b', 'department': 'Visual Effects', 'gender': 2, 'id': 7918, 'job': 'Character Designer', 'name': 'Bud Luckey', 'profile_path': '/pcCh7G19FKMNijmPQg1PMH1btic.jpg'}, {'credit_id': '5892132b9251412dc80097b1', 'department': 'Visual Effects', 'gender': 2, 'id': 7, 'job': 'Character Designer', 'name': 'Andrew Stanton', 'profile_path': '/pvQWsu0qc8JFQhMVJkTHuexUAa1.jpg'}, {'credit_id': '58921332c3a368634800467b', 'department': 'Visual Effects', 'gender': 0, 'id': 12915, 'job': 'Character Designer', 'name': 'William Cone', 'profile_path': None}, {'credit_id': '5892135f9251412dd4008f90', 'department': 'Visual Effects', 'gender': 0, 'id': 1748706, 'job': 'Character Designer', 'name': 'Steve Johnson', 'profile_path': None}, {'credit_id': '58921384c3a3680973008fd4', 'department': 'Visual Effects', 'gender': 0, 'id': 1176752, 'job': 'Character Designer', 'name': 'Dan Haskett', 'profile_path': None}, {'credit_id': '5892138e9251412dc20099fc', 'department': 'Visual Effects', 'gender': 0, 'id': 1088034, 'job': 'Character Designer', 'name': 'Tom Holloway', 'profile_path': '/a0r0T2usTBpgMI5aZbRBDW1fTl8.jpg'}, {'credit_id': '58921395c3a368097700942f', 'department': 'Visual Effects', 'gender': 0, 'id': 1447465, 'job': 'Character Designer', 'name': 'Jean Gillmore', 'profile_path': None}, {'credit_id': '589213e2c3a3680973009026', 'department': 'Directing', 'gender': 0, 'id': 1748709, 'job': 'Layout', 'name': 'Desirée Mourad', 'profile_path': None}, {'credit_id': '589214099251412dc5009d57', 'department': 'Art', 'gender': 0, 'id': 1748710, 'job': 'Set Dresser', 'name': \"Kelly O'Connell\", 'profile_path': None}, {'credit_id': '58921411c3a3686b0a004f70', 'department': 'Art', 'gender': 0, 'id': 1443471, 'job': 'Set Dresser', 'name': 'Sonoko Konishi', 'profile_path': None}, {'credit_id': '58921434c3a368096a00956e', 'department': 'Art', 'gender': 0, 'id': 1748711, 'job': 'Set Dresser', 'name': 'Ann M. Rockwell', 'profile_path': None}, {'credit_id': '5892144ac3a36809680090de', 'department': 'Editing', 'gender': 0, 'id': 1748712, 'job': 'Editorial Manager', 'name': 'Julie M. McDonald', 'profile_path': None}, {'credit_id': '58921479c3a368096800910f', 'department': 'Editing', 'gender': 0, 'id': 1589729, 'job': 'Assistant Editor', 'name': 'Robin Lee', 'profile_path': None}, {'credit_id': '5892148b9251412dd10099cc', 'department': 'Editing', 'gender': 0, 'id': 1748716, 'job': 'Assistant Editor', 'name': 'Tom Freeman', 'profile_path': None}, {'credit_id': '589214959251412dcb009b1f', 'department': 'Editing', 'gender': 0, 'id': 1748717, 'job': 'Assistant Editor', 'name': 'Ada Cochavi', 'profile_path': None}, {'credit_id': '5892149ec3a3686348004798', 'department': 'Editing', 'gender': 0, 'id': 1336438, 'job': 'Assistant Editor', 'name': 'Dana Mulligan', 'profile_path': None}, {'credit_id': '589214adc3a368096a0095db', 'department': 'Editing', 'gender': 0, 'id': 1748718, 'job': 'Editorial Coordinator', 'name': 'Deirdre Morrison', 'profile_path': None}, {'credit_id': '589214c7c3a368097700952b', 'department': 'Production', 'gender': 0, 'id': 1748719, 'job': 'Production Coordinator', 'name': 'Lori Lombardo', 'profile_path': None}, {'credit_id': '589214cec3a368096a009603', 'department': 'Production', 'gender': 0, 'id': 1748720, 'job': 'Production Coordinator', 'name': 'Ellen Devine', 'profile_path': None}, {'credit_id': '589214e39251412dc8009904', 'department': 'Crew', 'gender': 0, 'id': 1468014, 'job': 'Unit Publicist', 'name': 'Lauren Beth Strogoff', 'profile_path': None}, {'credit_id': '58921544c3a3686b0a00507d', 'department': 'Sound', 'gender': 2, 'id': 2216, 'job': 'Sound Re-Recording Mixer', 'name': 'Gary Rydstrom', 'profile_path': '/jZpr1nVfO7lldWI0YtmP1FGw7Rj.jpg'}, {'credit_id': '5892154c9251412dd1009a56', 'department': 'Sound', 'gender': 0, 'id': 1425978, 'job': 'Sound Re-Recording Mixer', 'name': 'Gary Summers', 'profile_path': None}, {'credit_id': '58921555c3a36809680091bd', 'department': 'Sound', 'gender': 2, 'id': 8276, 'job': 'Supervising Sound Editor', 'name': 'Tim Holland', 'profile_path': None}, {'credit_id': '589215c39251412dcb009c12', 'department': 'Sound', 'gender': 0, 'id': 7069, 'job': 'Sound Effects Editor', 'name': 'Pat Jackson', 'profile_path': None}, {'credit_id': '58921698c3a368096a009788', 'department': 'Crew', 'gender': 2, 'id': 15894, 'job': 'Sound Design Assistant', 'name': 'Tom Myers', 'profile_path': None}, {'credit_id': '589216a89251412dc2009ca4', 'department': 'Sound', 'gender': 0, 'id': 1414177, 'job': 'Assistant Sound Editor', 'name': 'J.R. Grubbs', 'profile_path': None}, {'credit_id': '589216c19251412dc2009cb9', 'department': 'Sound', 'gender': 1, 'id': 1748724, 'job': 'Assistant Sound Editor', 'name': 'Susan Sanford', 'profile_path': None}, {'credit_id': '589216ccc3a3680973009274', 'department': 'Sound', 'gender': 0, 'id': 1748725, 'job': 'Assistant Sound Editor', 'name': 'Susan Popovic', 'profile_path': None}, {'credit_id': '589216d79251412dc8009aa0', 'department': 'Sound', 'gender': 0, 'id': 8067, 'job': 'Assistant Sound Editor', 'name': 'Dan Engstrom', 'profile_path': None}, {'credit_id': '589216e49251412dcd009a4f', 'department': 'Production', 'gender': 1, 'id': 7902, 'job': 'Casting Consultant', 'name': 'Ruth Lambert', 'profile_path': None}, {'credit_id': '589216f39251412dc2009cf3', 'department': 'Production', 'gender': 0, 'id': 84493, 'job': 'ADR Voice Casting', 'name': 'Mickie McGowan', 'profile_path': '/k7TjJBfINsg8vLQxJwos6XObAD6.jpg'}]</td>\n",
       "      <td>862</td>\n",
       "    </tr>\n",
       "  </tbody>\n",
       "</table>\n",
       "</div>"
      ],
      "text/plain": [
       "                                                                                                                                                                                                                                                                                                                                                                                                                                                                                                                                                                                                                                                                                                                                                                                                                                                                                                                                                                                                                                                                                                                                                                                                                                                                                                                                                                                                                                                                                                                                                                                                                                                                                                                                                                                                                                                                                                                                                                                                                                                                                                                                                                                                                                                                                                                                                                                                                                                                                                                                                                                                                                                                                                                                       cast  \\\n",
       "0  [{'cast_id': 14, 'character': 'Woody (voice)', 'credit_id': '52fe4284c3a36847f8024f95', 'gender': 2, 'id': 31, 'name': 'Tom Hanks', 'order': 0, 'profile_path': '/pQFoyx7rp09CJTAb932F2g8Nlho.jpg'}, {'cast_id': 15, 'character': 'Buzz Lightyear (voice)', 'credit_id': '52fe4284c3a36847f8024f99', 'gender': 2, 'id': 12898, 'name': 'Tim Allen', 'order': 1, 'profile_path': '/uX2xVf6pMmPepxnvFWyBtjexzgY.jpg'}, {'cast_id': 16, 'character': 'Mr. Potato Head (voice)', 'credit_id': '52fe4284c3a36847f8024f9d', 'gender': 2, 'id': 7167, 'name': 'Don Rickles', 'order': 2, 'profile_path': '/h5BcaDMPRVLHLDzbQavec4xfSdt.jpg'}, {'cast_id': 17, 'character': 'Slinky Dog (voice)', 'credit_id': '52fe4284c3a36847f8024fa1', 'gender': 2, 'id': 12899, 'name': 'Jim Varney', 'order': 3, 'profile_path': '/eIo2jVVXYgjDtaHoF19Ll9vtW7h.jpg'}, {'cast_id': 18, 'character': 'Rex (voice)', 'credit_id': '52fe4284c3a36847f8024fa5', 'gender': 2, 'id': 12900, 'name': 'Wallace Shawn', 'order': 4, 'profile_path': '/oGE6JqPP2xH4tNORKNqxbNPYi7u.jpg'}, {'cast_id': 19, 'character': 'Hamm (voice)', 'credit_id': '52fe4284c3a36847f8024fa9', 'gender': 2, 'id': 7907, 'name': 'John Ratzenberger', 'order': 5, 'profile_path': '/yGechiKWL6TJDfVE2KPSJYqdMsY.jpg'}, {'cast_id': 20, 'character': 'Bo Peep (voice)', 'credit_id': '52fe4284c3a36847f8024fad', 'gender': 1, 'id': 8873, 'name': 'Annie Potts', 'order': 6, 'profile_path': '/eryXT84RL41jHSJcMy4kS3u9y6w.jpg'}, {'cast_id': 26, 'character': 'Andy (voice)', 'credit_id': '52fe4284c3a36847f8024fc1', 'gender': 0, 'id': 1116442, 'name': 'John Morris', 'order': 7, 'profile_path': '/vYGyvK4LzeaUCoNSHtsuqJUY15M.jpg'}, {'cast_id': 22, 'character': 'Sid (voice)', 'credit_id': '52fe4284c3a36847f8024fb1', 'gender': 2, 'id': 12901, 'name': 'Erik von Detten', 'order': 8, 'profile_path': '/twnF1ZaJ1FUNUuo6xLXwcxjayBE.jpg'}, {'cast_id': 23, 'character': 'Mrs. Davis (voice)', 'credit_id': '52fe4284c3a36847f8024fb5', 'gender': 1, 'id': 12133, 'name': 'Laurie Metcalf', 'order': 9, 'profile_path': '/unMMIT60eoBM2sN2nyR7EZ2BvvD.jpg'}, {'cast_id': 24, 'character': 'Sergeant (voice)', 'credit_id': '52fe4284c3a36847f8024fb9', 'gender': 2, 'id': 8655, 'name': 'R. Lee Ermey', 'order': 10, 'profile_path': '/r8GBqFBjypLUP9VVqDqfZ7wYbSs.jpg'}, {'cast_id': 25, 'character': 'Hannah (voice)', 'credit_id': '52fe4284c3a36847f8024fbd', 'gender': 1, 'id': 12903, 'name': 'Sarah Freeman', 'order': 11, 'profile_path': None}, {'cast_id': 27, 'character': 'TV Announcer (voice)', 'credit_id': '52fe4284c3a36847f8024fc5', 'gender': 2, 'id': 37221, 'name': 'Penn Jillette', 'order': 12, 'profile_path': '/zmAaXUdx12NRsssgHbk1T31j2x9.jpg'}]   \n",
       "\n",
       "                                                                                                                                                                                                                                                                                                                                                                                                                                                                                                                                                                                                                                                                                                                                                                                                                                                                                                                                                                                                                                                                                                                                                                                                                                                                                                                                                                                                                                                                                                                                                                                                                                                                                                                                                                                                                                                                                                                                                                                                                                                                                                                                                                                                                                                                                                                                                                                                                                                                                                                                                                                                                                                                                                                                                                                                                                                                                                                                                                                                                                                                                                                                                                                                                                                                                                                                                                                                                                                                                                                                                                                                                                                                                                                                                                                                                                                                                                                                                                                                                                                                                                                                                                                                                                                                                                                                                                                                                                                                                                                                                                                                                                                                                                                                                                                                                                                                                                                                                                                                                                                                                                                                                                                                                                                                                                                                                                                                                                                                                                                                                                                                                                                                                                                                                                                                                                                                                                                                                                                                                                                                                                                                                                                                                                                                                                                                                                                                                                                                                                                                                                                                                                                                                                                                                                                                                                                                                                                                                                                                                                                                                                                                                                                                                                                                                                                                                                                                                                                                                                                                                                                                                                                                                                                                                                                                                                                                                                                                                                                                                                                                                                                                                                                                                                                                                                                                                                                                                                                                                                                                                                                                                                                                                                                                                                                                                                                                                                                                                                                                                                                                                                                                                                                                                                                                                                                                                                                                                                                                                                                                                                                                                                                                                                                                                                                                                                                                                                                                                                                                                                                                                                                                                                                                                                                                                                                                                                                                                                                                                                                                                                                                                                                                                                                                                                                                                                                                                                                                                                                                                                                                                                                                                                                                                                                                                                                                                                                                                                                                                                                                                                                                                                                                                                                                                                                                                                                                                                                                                                                                                                                                                                                                                                                                                                                                                                                                                                                                                                                                                                                                                                                                                                                                                                                                                                                                                                                                                                                                                                                                                                                                                                                                                                                                                                                                                                                                                                                                                                                                                                                                                                                                                                                                                                                                                                                                                                                                                                                                                                                                                                                                                                                                                                                                                                                                                                                                                                                                                                                                                                                                                                                                                                                                                                                                                                                                                                                                                                                                                                                                                                                                                                                                                                                                                                                                                                                                                                                                                                                                                                                                                                                                                                                                                                                                                                                                                                                                                                                                                                                                                                                                                                                                                                                                                                                                                                                                                                                                                                                                                                                                                                                                                                                                                                                                                                                                                                                                                                                                                                                                                                                                                                                                                                                                                                                                                                                                                                                                                                                                                                                                                                                                                                                                                                                                                                                                                                                                                                                                                                                                                                                                                                                                                                                                                                                                                                                                                                                                                                                                                                                                                                                                                                                                                                                                                                                                                                                                                                                                                                                                                                                                                                                                                                                                                                                                                                                                                                                                                             crew  \\\n",
       "0  [{'credit_id': '52fe4284c3a36847f8024f49', 'department': 'Directing', 'gender': 2, 'id': 7879, 'job': 'Director', 'name': 'John Lasseter', 'profile_path': '/7EdqiNbr4FRjIhKHyPPdFfEEEFG.jpg'}, {'credit_id': '52fe4284c3a36847f8024f4f', 'department': 'Writing', 'gender': 2, 'id': 12891, 'job': 'Screenplay', 'name': 'Joss Whedon', 'profile_path': '/dTiVsuaTVTeGmvkhcyJvKp2A5kr.jpg'}, {'credit_id': '52fe4284c3a36847f8024f55', 'department': 'Writing', 'gender': 2, 'id': 7, 'job': 'Screenplay', 'name': 'Andrew Stanton', 'profile_path': '/pvQWsu0qc8JFQhMVJkTHuexUAa1.jpg'}, {'credit_id': '52fe4284c3a36847f8024f5b', 'department': 'Writing', 'gender': 2, 'id': 12892, 'job': 'Screenplay', 'name': 'Joel Cohen', 'profile_path': '/dAubAiZcvKFbboWlj7oXOkZnTSu.jpg'}, {'credit_id': '52fe4284c3a36847f8024f61', 'department': 'Writing', 'gender': 0, 'id': 12893, 'job': 'Screenplay', 'name': 'Alec Sokolow', 'profile_path': '/v79vlRYi94BZUQnkkyznbGUZLjT.jpg'}, {'credit_id': '52fe4284c3a36847f8024f67', 'department': 'Production', 'gender': 1, 'id': 12894, 'job': 'Producer', 'name': 'Bonnie Arnold', 'profile_path': None}, {'credit_id': '52fe4284c3a36847f8024f6d', 'department': 'Production', 'gender': 0, 'id': 12895, 'job': 'Executive Producer', 'name': 'Ed Catmull', 'profile_path': None}, {'credit_id': '52fe4284c3a36847f8024f73', 'department': 'Production', 'gender': 2, 'id': 12896, 'job': 'Producer', 'name': 'Ralph Guggenheim', 'profile_path': None}, {'credit_id': '52fe4284c3a36847f8024f79', 'department': 'Production', 'gender': 2, 'id': 12897, 'job': 'Executive Producer', 'name': 'Steve Jobs', 'profile_path': '/mOMP3SwD5qWQSR0ldCIByd3guTV.jpg'}, {'credit_id': '52fe4284c3a36847f8024f8b', 'department': 'Editing', 'gender': 2, 'id': 8, 'job': 'Editor', 'name': 'Lee Unkrich', 'profile_path': '/bdTCCXjgOV3YyaNmLGYGOxFQMOc.jpg'}, {'credit_id': '52fe4284c3a36847f8024f91', 'department': 'Art', 'gender': 2, 'id': 7883, 'job': 'Art Direction', 'name': 'Ralph Eggleston', 'profile_path': '/uUfcGKDsKO1aROMpXRs67Hn6RvR.jpg'}, {'credit_id': '598331bf925141421201044b', 'department': 'Editing', 'gender': 2, 'id': 1168870, 'job': 'Editor', 'name': 'Robert Gordon', 'profile_path': None}, {'credit_id': '5892168cc3a36809660095f9', 'department': 'Sound', 'gender': 0, 'id': 1552883, 'job': 'Foley Editor', 'name': 'Mary Helen Leasman', 'profile_path': None}, {'credit_id': '5531824d9251415289000945', 'department': 'Visual Effects', 'gender': 0, 'id': 1453514, 'job': 'Animation', 'name': 'Kim Blanchette', 'profile_path': None}, {'credit_id': '589215969251412dcb009bf6', 'department': 'Sound', 'gender': 0, 'id': 1414182, 'job': 'ADR Editor', 'name': 'Marilyn McCoppen', 'profile_path': None}, {'credit_id': '589217099251412dc500a018', 'department': 'Sound', 'gender': 2, 'id': 7885, 'job': 'Orchestrator', 'name': 'Randy Newman', 'profile_path': '/w0JzfoiM25nrnxYOzosPHRq6mlE.jpg'}, {'credit_id': '5693e6b29251417b0e0000e3', 'department': 'Editing', 'gender': 0, 'id': 1429549, 'job': 'Color Timer', 'name': 'Dale E. Grahn', 'profile_path': None}, {'credit_id': '572e2522c3a36869e6001a9c', 'department': 'Visual Effects', 'gender': 0, 'id': 7949, 'job': 'CG Painter', 'name': 'Robin Cooper', 'profile_path': None}, {'credit_id': '574f12309251415ca1000012', 'department': 'Writing', 'gender': 2, 'id': 7879, 'job': 'Original Story', 'name': 'John Lasseter', 'profile_path': '/7EdqiNbr4FRjIhKHyPPdFfEEEFG.jpg'}, {'credit_id': '574f1240c3a3682e7300001c', 'department': 'Writing', 'gender': 2, 'id': 12890, 'job': 'Original Story', 'name': 'Pete Docter', 'profile_path': '/r6ngPgnReA3RHmKjmSoVsc6Awjp.jpg'}, {'credit_id': '574f12519251415c92000015', 'department': 'Writing', 'gender': 0, 'id': 7911, 'job': 'Original Story', 'name': 'Joe Ranft', 'profile_path': '/f1BoWC2JbCcfP1e5hKfGsxkHzVU.jpg'}, {'credit_id': '574f12cec3a3682e82000022', 'department': 'Crew', 'gender': 0, 'id': 1629419, 'job': 'Post Production Supervisor', 'name': 'Patsy Bouge', 'profile_path': None}, {'credit_id': '574f14f19251415ca1000082', 'department': 'Art', 'gender': 0, 'id': 7961, 'job': 'Sculptor', 'name': 'Norm DeCarlo', 'profile_path': None}, {'credit_id': '5751ae4bc3a3683772002b7f', 'department': 'Visual Effects', 'gender': 2, 'id': 12905, 'job': 'Animation Director', 'name': 'Ash Brannon', 'profile_path': '/6ueWgPEEBHvS3De2BHYQnYjRTig.jpg'}, {'credit_id': '5891edbe9251412dc5007cd6', 'department': 'Sound', 'gender': 2, 'id': 7885, 'job': 'Music', 'name': 'Randy Newman', 'profile_path': '/w0JzfoiM25nrnxYOzosPHRq6mlE.jpg'}, {'credit_id': '589213d39251412dc8009832', 'department': 'Directing', 'gender': 0, 'id': 1748707, 'job': 'Layout', 'name': 'Roman Figun', 'profile_path': None}, {'credit_id': '5892173dc3a3680968009351', 'department': 'Sound', 'gender': 2, 'id': 4949, 'job': 'Orchestrator', 'name': 'Don Davis', 'profile_path': None}, {'credit_id': '589217cec3a3686b0a0052ba', 'department': 'Sound', 'gender': 0, 'id': 1372885, 'job': 'Music Editor', 'name': 'James Flamberg', 'profile_path': None}, {'credit_id': '58921831c3a3686348004a64', 'department': 'Editing', 'gender': 0, 'id': 1739962, 'job': 'Negative Cutter', 'name': 'Mary Beth Smith', 'profile_path': None}, {'credit_id': '58921838c3a36809700096c0', 'department': 'Editing', 'gender': 0, 'id': 1748513, 'job': 'Negative Cutter', 'name': 'Rick Mackay', 'profile_path': None}, {'credit_id': '589218429251412dd1009d1b', 'department': 'Art', 'gender': 0, 'id': 1458006, 'job': 'Title Designer', 'name': 'Susan Bradley', 'profile_path': None}, {'credit_id': '5891ed99c3a3680966007670', 'department': 'Crew', 'gender': 0, 'id': 1748557, 'job': 'Supervising Technical Director', 'name': 'William Reeves', 'profile_path': None}, {'credit_id': '5891edcec3a3686b0a002eb2', 'department': 'Sound', 'gender': 2, 'id': 7885, 'job': 'Songs', 'name': 'Randy Newman', 'profile_path': '/w0JzfoiM25nrnxYOzosPHRq6mlE.jpg'}, {'credit_id': '5891edf9c3a36809700075e6', 'department': 'Writing', 'gender': 2, 'id': 7, 'job': 'Original Story', 'name': 'Andrew Stanton', 'profile_path': '/pvQWsu0qc8JFQhMVJkTHuexUAa1.jpg'}, {'credit_id': '58920f0b9251412dd7009104', 'department': 'Crew', 'gender': 2, 'id': 12890, 'job': 'Supervising Animator', 'name': 'Pete Docter', 'profile_path': '/r6ngPgnReA3RHmKjmSoVsc6Awjp.jpg'}, {'credit_id': '58920f1fc3a3680977009021', 'department': 'Sound', 'gender': 2, 'id': 2216, 'job': 'Sound Designer', 'name': 'Gary Rydstrom', 'profile_path': '/jZpr1nVfO7lldWI0YtmP1FGw7Rj.jpg'}, {'credit_id': '58920f389251412dd700912d', 'department': 'Production', 'gender': 0, 'id': 12909, 'job': 'Production Supervisor', 'name': 'Karen Robert Jackson', 'profile_path': None}, {'credit_id': '58920fbd9251412dcb00969c', 'department': 'Crew', 'gender': 0, 'id': 953331, 'job': 'Executive Music Producer', 'name': 'Chris Montan', 'profile_path': None}, {'credit_id': '589210069251412dd7009219', 'department': 'Visual Effects', 'gender': 0, 'id': 7893, 'job': 'Animation Director', 'name': 'Rich Quade', 'profile_path': None}, {'credit_id': '589210329251412dcd00943b', 'department': 'Visual Effects', 'gender': 0, 'id': 8025, 'job': 'Animation', 'name': 'Michael Berenstein', 'profile_path': None}, {'credit_id': '5892103bc3a368096a009180', 'department': 'Visual Effects', 'gender': 0, 'id': 78009, 'job': 'Animation', 'name': 'Colin Brady', 'profile_path': None}, {'credit_id': '5892105dc3a3680968008db2', 'department': 'Visual Effects', 'gender': 0, 'id': 1748682, 'job': 'Animation', 'name': 'Davey Crockett Feiten', 'profile_path': None}, {'credit_id': '589210669251412dcd009466', 'department': 'Visual Effects', 'gender': 0, 'id': 1454030, 'job': 'Animation', 'name': 'Angie Glocka', 'profile_path': None}, {'credit_id': '5892107c9251412dd1009613', 'department': 'Visual Effects', 'gender': 0, 'id': 1748683, 'job': 'Animation', 'name': 'Rex Grignon', 'profile_path': None}, {'credit_id': '5892108ac3a3680973008d3f', 'department': 'Visual Effects', 'gender': 0, 'id': 1748684, 'job': 'Animation', 'name': 'Tom K. Gurney', 'profile_path': None}, {'credit_id': '58921093c3a3686348004477', 'department': 'Visual Effects', 'gender': 2, 'id': 8029, 'job': 'Animation', 'name': 'Jimmy Hayward', 'profile_path': '/lTDRpudEY7BDwTefXbXzMlmb0ui.jpg'}, {'credit_id': '5892109b9251412dcd0094b0', 'department': 'Visual Effects', 'gender': 0, 'id': 1426773, 'job': 'Animation', 'name': 'Hal T. Hickel', 'profile_path': None}, {'credit_id': '589210a29251412dc5009a29', 'department': 'Visual Effects', 'gender': 0, 'id': 8035, 'job': 'Animation', 'name': 'Karen Kiser', 'profile_path': None}, {'credit_id': '589210ccc3a3680977009191', 'department': 'Visual Effects', 'gender': 0, 'id': 1748688, 'job': 'Animation', 'name': 'Anthony B. LaMolinara', 'profile_path': None}, {'credit_id': '589210d7c3a3686b0a004c1f', 'department': 'Visual Effects', 'gender': 0, 'id': 587314, 'job': 'Animation', 'name': 'Guionne Leroy', 'profile_path': None}, {'credit_id': '589210e1c3a36809770091a7', 'department': 'Visual Effects', 'gender': 2, 'id': 7918, 'job': 'Animation', 'name': 'Bud Luckey', 'profile_path': '/pcCh7G19FKMNijmPQg1PMH1btic.jpg'}, {'credit_id': '589210ee9251412dc200978a', 'department': 'Visual Effects', 'gender': 0, 'id': 1748689, 'job': 'Animation', 'name': 'Les Major', 'profile_path': None}, {'credit_id': '589210fa9251412dc8009595', 'department': 'Visual Effects', 'gender': 2, 'id': 7892, 'job': 'Animation', 'name': 'Glenn McQueen', 'profile_path': None}, {'credit_id': '589211029251412dc8009598', 'department': 'Visual Effects', 'gender': 0, 'id': 555795, 'job': 'Animation', 'name': 'Mark Oftedal', 'profile_path': None}, {'credit_id': '5892110b9251412dc800959d', 'department': 'Visual Effects', 'gender': 2, 'id': 7882, 'job': 'Animation', 'name': 'Jeff Pidgeon', 'profile_path': '/yLddkg5HcgbJg00cS13GVBnP0HY.jpg'}, {'credit_id': '58921113c3a36863480044e4', 'department': 'Visual Effects', 'gender': 0, 'id': 8017, 'job': 'Animation', 'name': 'Jeff Pratt', 'profile_path': None}, {'credit_id': '5892111c9251412dcb0097e9', 'department': 'Visual Effects', 'gender': 0, 'id': 1184140, 'job': 'Animation', 'name': 'Steve Rabatich', 'profile_path': None}, {'credit_id': '58921123c3a36809700090f6', 'department': 'Visual Effects', 'gender': 0, 'id': 8049, 'job': 'Animation', 'name': 'Roger Rose', 'profile_path': None}, {'credit_id': '5892112b9251412dcb0097fb', 'department': 'Visual Effects', 'gender': 0, 'id': 1509559, 'job': 'Animation', 'name': 'Steve Segal', 'profile_path': None}, {'credit_id': '589211349251412dc80095c3', 'department': 'Visual Effects', 'gender': 0, 'id': 1748691, 'job': 'Animation', 'name': 'Doug Sheppeck', 'profile_path': None}, {'credit_id': '5892113cc3a3680970009106', 'department': 'Visual Effects', 'gender': 0, 'id': 8050, 'job': 'Animation', 'name': 'Alan Sperling', 'profile_path': None}, {'credit_id': '58921148c3a3686b0a004c99', 'department': 'Visual Effects', 'gender': 0, 'id': 8010, 'job': 'Animation', 'name': 'Doug Sweetland', 'profile_path': None}, {'credit_id': '58921150c3a3680966009125', 'department': 'Visual Effects', 'gender': 0, 'id': 8044, 'job': 'Animation', 'name': 'David Tart', 'profile_path': None}, {'credit_id': '589211629251412dc5009b00', 'department': 'Visual Effects', 'gender': 0, 'id': 1454034, 'job': 'Animation', 'name': 'Ken Willard', 'profile_path': None}, {'credit_id': '589211c1c3a3686b0a004d28', 'department': 'Visual Effects', 'gender': 0, 'id': 7887, 'job': 'Visual Effects Supervisor', 'name': 'Thomas Porter', 'profile_path': None}, {'credit_id': '589211d4c3a3680968008ed9', 'department': 'Visual Effects', 'gender': 0, 'id': 1406878, 'job': 'Visual Effects', 'name': 'Mark Thomas Henne', 'profile_path': None}, {'credit_id': '589211f59251412dd4008e65', 'department': 'Visual Effects', 'gender': 0, 'id': 1748698, 'job': 'Visual Effects', 'name': 'Oren Jacob', 'profile_path': None}, {'credit_id': '58921242c3a368096a00939b', 'department': 'Visual Effects', 'gender': 0, 'id': 1748699, 'job': 'Visual Effects', 'name': 'Darwyn Peachey', 'profile_path': None}, {'credit_id': '5892124b9251412dc5009bd2', 'department': 'Visual Effects', 'gender': 0, 'id': 1748701, 'job': 'Visual Effects', 'name': 'Mitch Prater', 'profile_path': None}, {'credit_id': '58921264c3a3686b0a004dbf', 'department': 'Visual Effects', 'gender': 0, 'id': 1748703, 'job': 'Visual Effects', 'name': 'Brian M. Rosen', 'profile_path': None}, {'credit_id': '589212709251412dcd009676', 'department': 'Lighting', 'gender': 1, 'id': 12912, 'job': 'Lighting Supervisor', 'name': 'Sharon Calahan', 'profile_path': None}, {'credit_id': '5892127fc3a3686b0a004de5', 'department': 'Lighting', 'gender': 0, 'id': 7899, 'job': 'Lighting Supervisor', 'name': 'Galyn Susman', 'profile_path': None}, {'credit_id': '589212cdc3a3680970009268', 'department': 'Visual Effects', 'gender': 0, 'id': 12915, 'job': 'CG Painter', 'name': 'William Cone', 'profile_path': None}, {'credit_id': '5892130f9251412dc8009791', 'department': 'Art', 'gender': 0, 'id': 1748705, 'job': 'Sculptor', 'name': 'Shelley Daniels Lekven', 'profile_path': None}, {'credit_id': '5892131c9251412dd4008f4c', 'department': 'Visual Effects', 'gender': 2, 'id': 7889, 'job': 'Character Designer', 'name': 'Bob Pauley', 'profile_path': None}, {'credit_id': '589213249251412dd100987b', 'department': 'Visual Effects', 'gender': 2, 'id': 7918, 'job': 'Character Designer', 'name': 'Bud Luckey', 'profile_path': '/pcCh7G19FKMNijmPQg1PMH1btic.jpg'}, {'credit_id': '5892132b9251412dc80097b1', 'department': 'Visual Effects', 'gender': 2, 'id': 7, 'job': 'Character Designer', 'name': 'Andrew Stanton', 'profile_path': '/pvQWsu0qc8JFQhMVJkTHuexUAa1.jpg'}, {'credit_id': '58921332c3a368634800467b', 'department': 'Visual Effects', 'gender': 0, 'id': 12915, 'job': 'Character Designer', 'name': 'William Cone', 'profile_path': None}, {'credit_id': '5892135f9251412dd4008f90', 'department': 'Visual Effects', 'gender': 0, 'id': 1748706, 'job': 'Character Designer', 'name': 'Steve Johnson', 'profile_path': None}, {'credit_id': '58921384c3a3680973008fd4', 'department': 'Visual Effects', 'gender': 0, 'id': 1176752, 'job': 'Character Designer', 'name': 'Dan Haskett', 'profile_path': None}, {'credit_id': '5892138e9251412dc20099fc', 'department': 'Visual Effects', 'gender': 0, 'id': 1088034, 'job': 'Character Designer', 'name': 'Tom Holloway', 'profile_path': '/a0r0T2usTBpgMI5aZbRBDW1fTl8.jpg'}, {'credit_id': '58921395c3a368097700942f', 'department': 'Visual Effects', 'gender': 0, 'id': 1447465, 'job': 'Character Designer', 'name': 'Jean Gillmore', 'profile_path': None}, {'credit_id': '589213e2c3a3680973009026', 'department': 'Directing', 'gender': 0, 'id': 1748709, 'job': 'Layout', 'name': 'Desirée Mourad', 'profile_path': None}, {'credit_id': '589214099251412dc5009d57', 'department': 'Art', 'gender': 0, 'id': 1748710, 'job': 'Set Dresser', 'name': \"Kelly O'Connell\", 'profile_path': None}, {'credit_id': '58921411c3a3686b0a004f70', 'department': 'Art', 'gender': 0, 'id': 1443471, 'job': 'Set Dresser', 'name': 'Sonoko Konishi', 'profile_path': None}, {'credit_id': '58921434c3a368096a00956e', 'department': 'Art', 'gender': 0, 'id': 1748711, 'job': 'Set Dresser', 'name': 'Ann M. Rockwell', 'profile_path': None}, {'credit_id': '5892144ac3a36809680090de', 'department': 'Editing', 'gender': 0, 'id': 1748712, 'job': 'Editorial Manager', 'name': 'Julie M. McDonald', 'profile_path': None}, {'credit_id': '58921479c3a368096800910f', 'department': 'Editing', 'gender': 0, 'id': 1589729, 'job': 'Assistant Editor', 'name': 'Robin Lee', 'profile_path': None}, {'credit_id': '5892148b9251412dd10099cc', 'department': 'Editing', 'gender': 0, 'id': 1748716, 'job': 'Assistant Editor', 'name': 'Tom Freeman', 'profile_path': None}, {'credit_id': '589214959251412dcb009b1f', 'department': 'Editing', 'gender': 0, 'id': 1748717, 'job': 'Assistant Editor', 'name': 'Ada Cochavi', 'profile_path': None}, {'credit_id': '5892149ec3a3686348004798', 'department': 'Editing', 'gender': 0, 'id': 1336438, 'job': 'Assistant Editor', 'name': 'Dana Mulligan', 'profile_path': None}, {'credit_id': '589214adc3a368096a0095db', 'department': 'Editing', 'gender': 0, 'id': 1748718, 'job': 'Editorial Coordinator', 'name': 'Deirdre Morrison', 'profile_path': None}, {'credit_id': '589214c7c3a368097700952b', 'department': 'Production', 'gender': 0, 'id': 1748719, 'job': 'Production Coordinator', 'name': 'Lori Lombardo', 'profile_path': None}, {'credit_id': '589214cec3a368096a009603', 'department': 'Production', 'gender': 0, 'id': 1748720, 'job': 'Production Coordinator', 'name': 'Ellen Devine', 'profile_path': None}, {'credit_id': '589214e39251412dc8009904', 'department': 'Crew', 'gender': 0, 'id': 1468014, 'job': 'Unit Publicist', 'name': 'Lauren Beth Strogoff', 'profile_path': None}, {'credit_id': '58921544c3a3686b0a00507d', 'department': 'Sound', 'gender': 2, 'id': 2216, 'job': 'Sound Re-Recording Mixer', 'name': 'Gary Rydstrom', 'profile_path': '/jZpr1nVfO7lldWI0YtmP1FGw7Rj.jpg'}, {'credit_id': '5892154c9251412dd1009a56', 'department': 'Sound', 'gender': 0, 'id': 1425978, 'job': 'Sound Re-Recording Mixer', 'name': 'Gary Summers', 'profile_path': None}, {'credit_id': '58921555c3a36809680091bd', 'department': 'Sound', 'gender': 2, 'id': 8276, 'job': 'Supervising Sound Editor', 'name': 'Tim Holland', 'profile_path': None}, {'credit_id': '589215c39251412dcb009c12', 'department': 'Sound', 'gender': 0, 'id': 7069, 'job': 'Sound Effects Editor', 'name': 'Pat Jackson', 'profile_path': None}, {'credit_id': '58921698c3a368096a009788', 'department': 'Crew', 'gender': 2, 'id': 15894, 'job': 'Sound Design Assistant', 'name': 'Tom Myers', 'profile_path': None}, {'credit_id': '589216a89251412dc2009ca4', 'department': 'Sound', 'gender': 0, 'id': 1414177, 'job': 'Assistant Sound Editor', 'name': 'J.R. Grubbs', 'profile_path': None}, {'credit_id': '589216c19251412dc2009cb9', 'department': 'Sound', 'gender': 1, 'id': 1748724, 'job': 'Assistant Sound Editor', 'name': 'Susan Sanford', 'profile_path': None}, {'credit_id': '589216ccc3a3680973009274', 'department': 'Sound', 'gender': 0, 'id': 1748725, 'job': 'Assistant Sound Editor', 'name': 'Susan Popovic', 'profile_path': None}, {'credit_id': '589216d79251412dc8009aa0', 'department': 'Sound', 'gender': 0, 'id': 8067, 'job': 'Assistant Sound Editor', 'name': 'Dan Engstrom', 'profile_path': None}, {'credit_id': '589216e49251412dcd009a4f', 'department': 'Production', 'gender': 1, 'id': 7902, 'job': 'Casting Consultant', 'name': 'Ruth Lambert', 'profile_path': None}, {'credit_id': '589216f39251412dc2009cf3', 'department': 'Production', 'gender': 0, 'id': 84493, 'job': 'ADR Voice Casting', 'name': 'Mickie McGowan', 'profile_path': '/k7TjJBfINsg8vLQxJwos6XObAD6.jpg'}]   \n",
       "\n",
       "    id  \n",
       "0  862  "
      ]
     },
     "execution_count": 4,
     "metadata": {},
     "output_type": "execute_result"
    }
   ],
   "source": [
    "df_credits_csv.head(1)"
   ]
  },
  {
   "cell_type": "code",
   "execution_count": 5,
   "metadata": {},
   "outputs": [
    {
     "data": {
      "text/plain": [
       "(45476, 3)"
      ]
     },
     "execution_count": 5,
     "metadata": {},
     "output_type": "execute_result"
    }
   ],
   "source": [
    "df_credits_csv.shape"
   ]
  },
  {
   "cell_type": "code",
   "execution_count": 6,
   "metadata": {},
   "outputs": [],
   "source": [
    "# Revertir opciones de visualización a los valores predeterminados\n",
    "pd.reset_option('display.width')\n",
    "pd.reset_option('display.max_colwidth')\n"
   ]
  },
  {
   "cell_type": "code",
   "execution_count": 7,
   "metadata": {},
   "outputs": [
    {
     "data": {
      "text/plain": [
       "<Axes: >"
      ]
     },
     "execution_count": 7,
     "metadata": {},
     "output_type": "execute_result"
    },
    {
     "data": {
      "image/png": "[encoded data removed]",
      "text/plain": [
       "<Figure size 2500x1000 with 2 Axes>"
      ]
     },
     "metadata": {},
     "output_type": "display_data"
    }
   ],
   "source": [
    "msno.matrix(df_credits_csv)"
   ]
  },
  {
   "cell_type": "markdown",
   "metadata": {},
   "source": [
    "#### Vamos a tener que explorarlo mas al apestoso csv credits 🤧"
   ]
  },
  {
   "cell_type": "code",
   "execution_count": 8,
   "metadata": {},
   "outputs": [
    {
     "data": {
      "text/plain": [
       "(45476, 3)"
      ]
     },
     "execution_count": 8,
     "metadata": {},
     "output_type": "execute_result"
    }
   ],
   "source": [
    "df_credits_csv.shape"
   ]
  },
  {
   "cell_type": "code",
   "execution_count": 9,
   "metadata": {},
   "outputs": [],
   "source": [
    "df_credits_csv = df_credits_csv.drop_duplicates()"
   ]
  },
  {
   "cell_type": "code",
   "execution_count": 10,
   "metadata": {},
   "outputs": [
    {
     "name": "stdout",
     "output_type": "stream",
     "text": [
      "<class 'pandas.core.frame.DataFrame'>\n",
      "Index: 45439 entries, 0 to 45475\n",
      "Data columns (total 3 columns):\n",
      " #   Column  Non-Null Count  Dtype \n",
      "---  ------  --------------  ----- \n",
      " 0   cast    45439 non-null  object\n",
      " 1   crew    45439 non-null  object\n",
      " 2   id      45439 non-null  int64 \n",
      "dtypes: int64(1), object(2)\n",
      "memory usage: 1.4+ MB\n"
     ]
    }
   ],
   "source": [
    "df_credits_csv.info()"
   ]
  },
  {
   "cell_type": "markdown",
   "metadata": {},
   "source": [
    "elimino la ultima fila que esta vacia"
   ]
  },
  {
   "cell_type": "code",
   "execution_count": 11,
   "metadata": {},
   "outputs": [],
   "source": [
    "df_credits_csv = df_credits_csv.drop(df_credits_csv.index[-1])"
   ]
  },
  {
   "cell_type": "markdown",
   "metadata": {},
   "source": [
    "### Separo la columna id y la guardo aparte para asegurarla, debido a que parece estar ok"
   ]
  },
  {
   "cell_type": "code",
   "execution_count": 12,
   "metadata": {},
   "outputs": [
    {
     "name": "stdout",
     "output_type": "stream",
     "text": [
      "<class 'pandas.core.frame.DataFrame'>\n"
     ]
    }
   ],
   "source": [
    "df_movie_credits_id = pd.DataFrame()\n",
    "df_movie_credits_id['id']= df_credits_csv['id']\n",
    "df_movie_credits_id = df_movie_credits_id.drop_duplicates()\n",
    "print(type(df_movie_credits_id))"
   ]
  },
  {
   "cell_type": "markdown",
   "metadata": {},
   "source": [
    "### Continuo Explorando las dos primeras columnas, cast y crew"
   ]
  },
  {
   "cell_type": "markdown",
   "metadata": {},
   "source": [
    "#### Cast:\n",
    "##### Al final.. por ahora, no lo utilice, cast posee la info de el elenco de la pelicula, actoresn y que papeles desarrollaron en la pelicula, pero no aporta info significativa para la funcion objetivo get directors..."
   ]
  },
  {
   "cell_type": "markdown",
   "metadata": {},
   "source": [
    "Dejo codigo comentado para re activar pero no será necesario y lo saco del calculo para ahorrar espacio y tiempo de procesamiento"
   ]
  },
  {
   "cell_type": "code",
   "execution_count": 13,
   "metadata": {},
   "outputs": [],
   "source": [
    "# df_credits_cast = df_credits_csv[['cast','id']]\n",
    "\n",
    "# print(df_credits_cast)"
   ]
  },
  {
   "cell_type": "code",
   "execution_count": 14,
   "metadata": {},
   "outputs": [],
   "source": [
    "# df_credits_cast = df_credits_cast.drop_duplicates()"
   ]
  },
  {
   "cell_type": "code",
   "execution_count": 15,
   "metadata": {},
   "outputs": [],
   "source": [
    "# print(df_credits_cast.iloc[1:2])"
   ]
  },
  {
   "cell_type": "code",
   "execution_count": 16,
   "metadata": {},
   "outputs": [],
   "source": [
    "# iteracion = 0\n",
    "# df_cast_cleaned = pd.DataFrame()\n",
    "\n",
    "# # Iterar a través de la columna 'cast' en df_credits_cast\n",
    "# for row in df_credits_cast['cast']:\n",
    "#     try:\n",
    "#         # Utilizar json.loads para convertir la representación de cadena en una lista de diccionarios\n",
    "#         list_of_dicts = json.loads(row.replace(\"'\", \"\\\"\"))\n",
    "\n",
    "#         # Verificar si el 'id' de la película existe en la columna 'id' de df_movie_credits_id\n",
    "#         if df_movie_credits_id['id'].isin([d['id'] for d in list_of_dicts]).any():\n",
    "#             # Crear el DataFrame con los datos del cast\n",
    "#             cast_df = pd.DataFrame(list_of_dicts)\n",
    "\n",
    "#             # Obtener el 'id' de la película de df_movie_credits_id\n",
    "#             movie_id = df_movie_credits_id['id'].iloc[iteracion]\n",
    "\n",
    "#             # Agregar el 'movie_id' al DataFrame cast_df\n",
    "#             cast_df['movie_id'] = movie_id\n",
    "\n",
    "#             # Unificar los DataFrames utilizando concat\n",
    "#             df_cast_cleaned = pd.concat([df_cast_cleaned, cast_df], ignore_index=True)\n",
    "\n",
    "#             # Incrementar el contador de iteración\n",
    "#             iteracion += 1\n",
    "#         else:\n",
    "#             # Si el 'id' de la película no existe en df_movie_credits_id, omitimos esta película\n",
    "#             pass\n",
    "#     except json.JSONDecodeError:\n",
    "#         # Omitir las filas que no se pueden decodificar como JSON\n",
    "#         pass\n"
   ]
  },
  {
   "cell_type": "code",
   "execution_count": 17,
   "metadata": {},
   "outputs": [],
   "source": [
    "# cast_df"
   ]
  },
  {
   "cell_type": "code",
   "execution_count": 18,
   "metadata": {},
   "outputs": [],
   "source": [
    "# df_cast_cleaned.shape"
   ]
  },
  {
   "cell_type": "code",
   "execution_count": 19,
   "metadata": {},
   "outputs": [],
   "source": [
    "# df_cast_cleaned"
   ]
  },
  {
   "cell_type": "code",
   "execution_count": 20,
   "metadata": {},
   "outputs": [],
   "source": [
    "# df_cast_cleaned = df_cast_cleaned.drop(columns=['gender','profile_path','order','credit_id','cast_id'])"
   ]
  },
  {
   "cell_type": "code",
   "execution_count": 21,
   "metadata": {},
   "outputs": [],
   "source": [
    "# df_cast_cleaned.head(20)"
   ]
  },
  {
   "cell_type": "code",
   "execution_count": 22,
   "metadata": {},
   "outputs": [],
   "source": [
    "# df_cast_cleaned.shape"
   ]
  },
  {
   "cell_type": "code",
   "execution_count": 23,
   "metadata": {},
   "outputs": [],
   "source": [
    "# df_cast_cleaned.info()"
   ]
  },
  {
   "cell_type": "markdown",
   "metadata": {},
   "source": [
    "##### Guardo pickle: df_cast"
   ]
  },
  {
   "cell_type": "code",
   "execution_count": 24,
   "metadata": {},
   "outputs": [],
   "source": [
    "# # Guardar el DataFrame en formato pickle\n",
    "# df_cast_cleaned.to_pickle('../../Datasets Cleaned & light/df_cast.pkl')"
   ]
  },
  {
   "cell_type": "markdown",
   "metadata": {},
   "source": [
    "##### Confirmacion de Diector id:"
   ]
  },
  {
   "cell_type": "code",
   "execution_count": 25,
   "metadata": {},
   "outputs": [],
   "source": [
    "# # Filtrar el DataFrame por el valor 138 en la columna \"id\"\n",
    "# df_filtrado = df_cast_cleaned[df_cast_cleaned[\"id\"] == 138].copy()\n"
   ]
  },
  {
   "cell_type": "code",
   "execution_count": 26,
   "metadata": {},
   "outputs": [],
   "source": [
    "# df_filtrado.tail(50)"
   ]
  },
  {
   "cell_type": "markdown",
   "metadata": {},
   "source": [
    "#### Crew:"
   ]
  },
  {
   "cell_type": "code",
   "execution_count": 27,
   "metadata": {},
   "outputs": [
    {
     "data": {
      "text/plain": [
       "0        [{'credit_id': '52fe4284c3a36847f8024f49', 'de...\n",
       "1        [{'credit_id': '52fe44bfc3a36847f80a7cd1', 'de...\n",
       "2        [{'credit_id': '52fe466a9251416c75077a89', 'de...\n",
       "3        [{'credit_id': '52fe44779251416c91011acb', 'de...\n",
       "4        [{'credit_id': '52fe44959251416c75039ed7', 'de...\n",
       "                               ...                        \n",
       "45470    [{'credit_id': '52fe44439251416c9100a899', 'de...\n",
       "45471    [{'credit_id': '5894a97d925141426c00818c', 'de...\n",
       "45472    [{'credit_id': '52fe4af1c3a36847f81e9b15', 'de...\n",
       "45473    [{'credit_id': '52fe4776c3a368484e0c8387', 'de...\n",
       "45474    [{'credit_id': '533bccebc3a36844cf0011a7', 'de...\n",
       "Name: crew, Length: 45438, dtype: object"
      ]
     },
     "execution_count": 27,
     "metadata": {},
     "output_type": "execute_result"
    }
   ],
   "source": [
    "df_credits_crew = df_credits_csv['crew']\n",
    "\n",
    "(df_credits_crew)"
   ]
  },
  {
   "cell_type": "code",
   "execution_count": 28,
   "metadata": {},
   "outputs": [],
   "source": [
    "df_credits_crew = df_credits_crew.drop_duplicates()"
   ]
  },
  {
   "cell_type": "code",
   "execution_count": 29,
   "metadata": {},
   "outputs": [
    {
     "data": {
      "text/plain": [
       "0        [{'credit_id': '52fe4284c3a36847f8024f49', 'de...\n",
       "1        [{'credit_id': '52fe44bfc3a36847f80a7cd1', 'de...\n",
       "2        [{'credit_id': '52fe466a9251416c75077a89', 'de...\n",
       "3        [{'credit_id': '52fe44779251416c91011acb', 'de...\n",
       "4        [{'credit_id': '52fe44959251416c75039ed7', 'de...\n",
       "                               ...                        \n",
       "45470    [{'credit_id': '52fe44439251416c9100a899', 'de...\n",
       "45471    [{'credit_id': '5894a97d925141426c00818c', 'de...\n",
       "45472    [{'credit_id': '52fe4af1c3a36847f81e9b15', 'de...\n",
       "45473    [{'credit_id': '52fe4776c3a368484e0c8387', 'de...\n",
       "45474    [{'credit_id': '533bccebc3a36844cf0011a7', 'de...\n",
       "Name: crew, Length: 44668, dtype: object"
      ]
     },
     "execution_count": 29,
     "metadata": {},
     "output_type": "execute_result"
    }
   ],
   "source": [
    "df_credits_crew"
   ]
  },
  {
   "cell_type": "markdown",
   "metadata": {},
   "source": [
    "El proceso siguiente tarda aprox \n",
    "#### 9 minutos..."
   ]
  },
  {
   "cell_type": "code",
   "execution_count": 30,
   "metadata": {},
   "outputs": [],
   "source": [
    "import ast\n",
    "iteracion = 0\n",
    "df_crew_cleaned = pd.DataFrame()\n",
    "fallos = 0\n",
    "\n",
    "for row in df_credits_crew:\n",
    "\n",
    "    # Obtener el valor de la columna 'crew' del primer registro\n",
    "    crew_string = df_credits_crew.iloc[iteracion]\n",
    "\n",
    "    # Convertir el string a una lista de diccionarios usando eval()\n",
    "    crew_list = ast.literal_eval(crew_string)\n",
    "\n",
    "    # Check if the crew_list is empty, skip the iteration if it is\n",
    "    if not crew_list:\n",
    "        iteracion += 1\n",
    "        fallos += 1\n",
    "        continue\n",
    "\n",
    "    df_crew = pd.DataFrame(crew_list)\n",
    "    \n",
    "    #print(f\"crew_string: {crew_string}\")\n",
    "    \n",
    "    # Obtener el 'id' de la película de df_movie_credits_id\n",
    "    movie_id = df_movie_credits_id['id'].iloc[iteracion]\n",
    "\n",
    "    # Agregar el 'movie_id' al DataFrame cast_df\n",
    "    df_crew['movie_id'] = movie_id\n",
    "\n",
    "    \n",
    "    #print(f\"crew_string: {crew_string}\")\n",
    "    \n",
    "    \n",
    "    df_crew = df_crew[df_crew['job'] == 'Director']\n",
    "\n",
    "    # Unificar los DataFrames utilizando concat\n",
    "    df_crew_cleaned = pd.concat([df_crew_cleaned, df_crew], ignore_index=True)\n",
    "\n",
    "    # Incrementar el contador de iteración\n",
    "    iteracion += 1\n",
    "\n",
    "    \n",
    "    "
   ]
  },
  {
   "cell_type": "code",
   "execution_count": 31,
   "metadata": {},
   "outputs": [
    {
     "data": {
      "text/plain": [
       "1"
      ]
     },
     "execution_count": 31,
     "metadata": {},
     "output_type": "execute_result"
    }
   ],
   "source": [
    "fallos"
   ]
  },
  {
   "cell_type": "code",
   "execution_count": 32,
   "metadata": {},
   "outputs": [
    {
     "data": {
      "text/html": [
       "<div>\n",
       "<style scoped>\n",
       "    .dataframe tbody tr th:only-of-type {\n",
       "        vertical-align: middle;\n",
       "    }\n",
       "\n",
       "    .dataframe tbody tr th {\n",
       "        vertical-align: top;\n",
       "    }\n",
       "\n",
       "    .dataframe thead th {\n",
       "        text-align: right;\n",
       "    }\n",
       "</style>\n",
       "<table border=\"1\" class=\"dataframe\">\n",
       "  <thead>\n",
       "    <tr style=\"text-align: right;\">\n",
       "      <th></th>\n",
       "      <th>credit_id</th>\n",
       "      <th>department</th>\n",
       "      <th>gender</th>\n",
       "      <th>id</th>\n",
       "      <th>job</th>\n",
       "      <th>name</th>\n",
       "      <th>profile_path</th>\n",
       "      <th>movie_id</th>\n",
       "    </tr>\n",
       "  </thead>\n",
       "  <tbody>\n",
       "    <tr>\n",
       "      <th>0</th>\n",
       "      <td>533bccebc3a36844cf0011a7</td>\n",
       "      <td>Directing</td>\n",
       "      <td>0</td>\n",
       "      <td>1085341</td>\n",
       "      <td>Director</td>\n",
       "      <td>Yakov Protazanov</td>\n",
       "      <td>/yyjbGdCs2ZN6IlZNCfmBWyuRDlt.jpg</td>\n",
       "      <td>190683</td>\n",
       "    </tr>\n",
       "  </tbody>\n",
       "</table>\n",
       "</div>"
      ],
      "text/plain": [
       "                  credit_id department  gender       id       job  \\\n",
       "0  533bccebc3a36844cf0011a7  Directing       0  1085341  Director   \n",
       "\n",
       "               name                      profile_path  movie_id  \n",
       "0  Yakov Protazanov  /yyjbGdCs2ZN6IlZNCfmBWyuRDlt.jpg    190683  "
      ]
     },
     "execution_count": 32,
     "metadata": {},
     "output_type": "execute_result"
    }
   ],
   "source": [
    "df_crew.tail()\n"
   ]
  },
  {
   "cell_type": "code",
   "execution_count": 33,
   "metadata": {},
   "outputs": [
    {
     "data": {
      "text/html": [
       "<div>\n",
       "<style scoped>\n",
       "    .dataframe tbody tr th:only-of-type {\n",
       "        vertical-align: middle;\n",
       "    }\n",
       "\n",
       "    .dataframe tbody tr th {\n",
       "        vertical-align: top;\n",
       "    }\n",
       "\n",
       "    .dataframe thead th {\n",
       "        text-align: right;\n",
       "    }\n",
       "</style>\n",
       "<table border=\"1\" class=\"dataframe\">\n",
       "  <thead>\n",
       "    <tr style=\"text-align: right;\">\n",
       "      <th></th>\n",
       "      <th>credit_id</th>\n",
       "      <th>department</th>\n",
       "      <th>gender</th>\n",
       "      <th>id</th>\n",
       "      <th>job</th>\n",
       "      <th>name</th>\n",
       "      <th>profile_path</th>\n",
       "      <th>movie_id</th>\n",
       "    </tr>\n",
       "  </thead>\n",
       "  <tbody>\n",
       "    <tr>\n",
       "      <th>0</th>\n",
       "      <td>52fe4284c3a36847f8024f49</td>\n",
       "      <td>Directing</td>\n",
       "      <td>2</td>\n",
       "      <td>7879</td>\n",
       "      <td>Director</td>\n",
       "      <td>John Lasseter</td>\n",
       "      <td>/7EdqiNbr4FRjIhKHyPPdFfEEEFG.jpg</td>\n",
       "      <td>862</td>\n",
       "    </tr>\n",
       "    <tr>\n",
       "      <th>1</th>\n",
       "      <td>52fe44bfc3a36847f80a7c7d</td>\n",
       "      <td>Directing</td>\n",
       "      <td>2</td>\n",
       "      <td>4945</td>\n",
       "      <td>Director</td>\n",
       "      <td>Joe Johnston</td>\n",
       "      <td>/fok4jaO62v5IP6hkpaaAcXuw2H.jpg</td>\n",
       "      <td>8844</td>\n",
       "    </tr>\n",
       "    <tr>\n",
       "      <th>2</th>\n",
       "      <td>52fe466a9251416c75077a89</td>\n",
       "      <td>Directing</td>\n",
       "      <td>2</td>\n",
       "      <td>26502</td>\n",
       "      <td>Director</td>\n",
       "      <td>Howard Deutch</td>\n",
       "      <td>/68Vae1HkU1NxQZ6KEmuxIpno7c9.jpg</td>\n",
       "      <td>15602</td>\n",
       "    </tr>\n",
       "    <tr>\n",
       "      <th>3</th>\n",
       "      <td>52fe44779251416c91011acb</td>\n",
       "      <td>Directing</td>\n",
       "      <td>2</td>\n",
       "      <td>2178</td>\n",
       "      <td>Director</td>\n",
       "      <td>Forest Whitaker</td>\n",
       "      <td>/4pMQkelS5lK661m9Kz3oIxLYiyS.jpg</td>\n",
       "      <td>31357</td>\n",
       "    </tr>\n",
       "    <tr>\n",
       "      <th>4</th>\n",
       "      <td>52fe44959251416c75039eef</td>\n",
       "      <td>Directing</td>\n",
       "      <td>2</td>\n",
       "      <td>56106</td>\n",
       "      <td>Director</td>\n",
       "      <td>Charles Shyer</td>\n",
       "      <td>/hnWGd74CbmTcDCFQiJ8SYLazIXW.jpg</td>\n",
       "      <td>11862</td>\n",
       "    </tr>\n",
       "    <tr>\n",
       "      <th>...</th>\n",
       "      <td>...</td>\n",
       "      <td>...</td>\n",
       "      <td>...</td>\n",
       "      <td>...</td>\n",
       "      <td>...</td>\n",
       "      <td>...</td>\n",
       "      <td>...</td>\n",
       "      <td>...</td>\n",
       "    </tr>\n",
       "    <tr>\n",
       "      <th>49002</th>\n",
       "      <td>52fe44439251416c9100a899</td>\n",
       "      <td>Directing</td>\n",
       "      <td>2</td>\n",
       "      <td>17784</td>\n",
       "      <td>Director</td>\n",
       "      <td>John Irvin</td>\n",
       "      <td>/A75sBHfUrcdG9BGQdwKh4akqWWn.jpg</td>\n",
       "      <td>179236</td>\n",
       "    </tr>\n",
       "    <tr>\n",
       "      <th>49003</th>\n",
       "      <td>5894a97d925141426c00818c</td>\n",
       "      <td>Directing</td>\n",
       "      <td>0</td>\n",
       "      <td>1182809</td>\n",
       "      <td>Director</td>\n",
       "      <td>Hamid Nematollah</td>\n",
       "      <td>None</td>\n",
       "      <td>179235</td>\n",
       "    </tr>\n",
       "    <tr>\n",
       "      <th>49004</th>\n",
       "      <td>52fe4af1c3a36847f81e9b15</td>\n",
       "      <td>Directing</td>\n",
       "      <td>0</td>\n",
       "      <td>1051381</td>\n",
       "      <td>Director</td>\n",
       "      <td>Lav Diaz</td>\n",
       "      <td>/lWZ6mJCrPga6Jis1gbJYcpWpBZo.jpg</td>\n",
       "      <td>411717</td>\n",
       "    </tr>\n",
       "    <tr>\n",
       "      <th>49005</th>\n",
       "      <td>52fe4776c3a368484e0c8387</td>\n",
       "      <td>Directing</td>\n",
       "      <td>2</td>\n",
       "      <td>67753</td>\n",
       "      <td>Director</td>\n",
       "      <td>Mark L. Lester</td>\n",
       "      <td>None</td>\n",
       "      <td>127097</td>\n",
       "    </tr>\n",
       "    <tr>\n",
       "      <th>49006</th>\n",
       "      <td>533bccebc3a36844cf0011a7</td>\n",
       "      <td>Directing</td>\n",
       "      <td>0</td>\n",
       "      <td>1085341</td>\n",
       "      <td>Director</td>\n",
       "      <td>Yakov Protazanov</td>\n",
       "      <td>/yyjbGdCs2ZN6IlZNCfmBWyuRDlt.jpg</td>\n",
       "      <td>190683</td>\n",
       "    </tr>\n",
       "  </tbody>\n",
       "</table>\n",
       "<p>49007 rows × 8 columns</p>\n",
       "</div>"
      ],
      "text/plain": [
       "                      credit_id department  gender       id       job  \\\n",
       "0      52fe4284c3a36847f8024f49  Directing       2     7879  Director   \n",
       "1      52fe44bfc3a36847f80a7c7d  Directing       2     4945  Director   \n",
       "2      52fe466a9251416c75077a89  Directing       2    26502  Director   \n",
       "3      52fe44779251416c91011acb  Directing       2     2178  Director   \n",
       "4      52fe44959251416c75039eef  Directing       2    56106  Director   \n",
       "...                         ...        ...     ...      ...       ...   \n",
       "49002  52fe44439251416c9100a899  Directing       2    17784  Director   \n",
       "49003  5894a97d925141426c00818c  Directing       0  1182809  Director   \n",
       "49004  52fe4af1c3a36847f81e9b15  Directing       0  1051381  Director   \n",
       "49005  52fe4776c3a368484e0c8387  Directing       2    67753  Director   \n",
       "49006  533bccebc3a36844cf0011a7  Directing       0  1085341  Director   \n",
       "\n",
       "                   name                      profile_path  movie_id  \n",
       "0         John Lasseter  /7EdqiNbr4FRjIhKHyPPdFfEEEFG.jpg       862  \n",
       "1          Joe Johnston   /fok4jaO62v5IP6hkpaaAcXuw2H.jpg      8844  \n",
       "2         Howard Deutch  /68Vae1HkU1NxQZ6KEmuxIpno7c9.jpg     15602  \n",
       "3       Forest Whitaker  /4pMQkelS5lK661m9Kz3oIxLYiyS.jpg     31357  \n",
       "4         Charles Shyer  /hnWGd74CbmTcDCFQiJ8SYLazIXW.jpg     11862  \n",
       "...                 ...                               ...       ...  \n",
       "49002        John Irvin  /A75sBHfUrcdG9BGQdwKh4akqWWn.jpg    179236  \n",
       "49003  Hamid Nematollah                              None    179235  \n",
       "49004          Lav Diaz  /lWZ6mJCrPga6Jis1gbJYcpWpBZo.jpg    411717  \n",
       "49005    Mark L. Lester                              None    127097  \n",
       "49006  Yakov Protazanov  /yyjbGdCs2ZN6IlZNCfmBWyuRDlt.jpg    190683  \n",
       "\n",
       "[49007 rows x 8 columns]"
      ]
     },
     "execution_count": 33,
     "metadata": {},
     "output_type": "execute_result"
    }
   ],
   "source": [
    "df_crew_cleaned"
   ]
  },
  {
   "cell_type": "code",
   "execution_count": 34,
   "metadata": {},
   "outputs": [
    {
     "data": {
      "text/plain": [
       "(49007, 8)"
      ]
     },
     "execution_count": 34,
     "metadata": {},
     "output_type": "execute_result"
    }
   ],
   "source": [
    "df_crew_cleaned.shape"
   ]
  },
  {
   "cell_type": "code",
   "execution_count": 35,
   "metadata": {},
   "outputs": [],
   "source": [
    "df_crew_cleaned = df_crew_cleaned.drop(columns=['gender','profile_path','credit_id'])"
   ]
  },
  {
   "cell_type": "code",
   "execution_count": 36,
   "metadata": {},
   "outputs": [
    {
     "name": "stdout",
     "output_type": "stream",
     "text": [
      "<class 'pandas.core.frame.DataFrame'>\n",
      "RangeIndex: 49007 entries, 0 to 49006\n",
      "Data columns (total 5 columns):\n",
      " #   Column      Non-Null Count  Dtype \n",
      "---  ------      --------------  ----- \n",
      " 0   department  49007 non-null  object\n",
      " 1   id          49007 non-null  int64 \n",
      " 2   job         49007 non-null  object\n",
      " 3   name        49007 non-null  object\n",
      " 4   movie_id    49007 non-null  int64 \n",
      "dtypes: int64(2), object(3)\n",
      "memory usage: 1.9+ MB\n"
     ]
    }
   ],
   "source": [
    "df_crew_cleaned.info()"
   ]
  },
  {
   "cell_type": "markdown",
   "metadata": {},
   "source": [
    "##### Guardo pickle: df_crew"
   ]
  },
  {
   "cell_type": "code",
   "execution_count": 37,
   "metadata": {},
   "outputs": [],
   "source": [
    "# Guardar el DataFrame en formato pickle\n",
    "df_crew_cleaned.to_pickle('../../Datasets Cleaned & light/df_crew.pkl')"
   ]
  },
  {
   "cell_type": "markdown",
   "metadata": {},
   "source": [
    "#### No todas las movies poseen un mismo director...:"
   ]
  },
  {
   "cell_type": "code",
   "execution_count": 38,
   "metadata": {},
   "outputs": [
    {
     "name": "stdout",
     "output_type": "stream",
     "text": [
      "El movie_id 5 tiene 4 directores.\n",
      "El movie_id 39953 tiene 3 directores.\n",
      "El movie_id 22317 tiene 3 directores.\n",
      "El movie_id 15139 tiene 3 directores.\n",
      "El movie_id 202425 tiene 3 directores.\n",
      "El movie_id 18444 tiene 3 directores.\n",
      "El movie_id 173 tiene 5 directores.\n",
      "El movie_id 15947 tiene 6 directores.\n",
      "El movie_id 8367 tiene 3 directores.\n",
      "El movie_id 433 tiene 3 directores.\n",
      "El movie_id 30892 tiene 4 directores.\n",
      "El movie_id 903 tiene 12 directores.\n",
      "El movie_id 9529 tiene 5 directores.\n",
      "El movie_id 11419 tiene 4 directores.\n",
      "El movie_id 11003 tiene 3 directores.\n",
      "El movie_id 943 tiene 7 directores.\n",
      "El movie_id 20173 tiene 4 directores.\n",
      "El movie_id 1779 tiene 3 directores.\n",
      "El movie_id 47908 tiene 3 directores.\n",
      "El movie_id 2887 tiene 3 directores.\n",
      "El movie_id 26648 tiene 3 directores.\n",
      "El movie_id 793 tiene 3 directores.\n",
      "El movie_id 10340 tiene 4 directores.\n",
      "El movie_id 11675 tiene 3 directores.\n",
      "El movie_id 31667 tiene 4 directores.\n",
      "El movie_id 4478 tiene 3 directores.\n",
      "El movie_id 9336 tiene 3 directores.\n",
      "El movie_id 14709 tiene 3 directores.\n",
      "El movie_id 102489 tiene 3 directores.\n",
      "El movie_id 1075 tiene 3 directores.\n",
      "El movie_id 16281 tiene 3 directores.\n",
      "El movie_id 11498 tiene 3 directores.\n",
      "El movie_id 47941 tiene 3 directores.\n",
      "El movie_id 32628 tiene 8 directores.\n",
      "El movie_id 26162 tiene 3 directores.\n",
      "El movie_id 4460 tiene 3 directores.\n",
      "El movie_id 1883 tiene 3 directores.\n",
      "El movie_id 43463 tiene 4 directores.\n",
      "El movie_id 38925 tiene 4 directores.\n",
      "El movie_id 5121 tiene 4 directores.\n",
      "El movie_id 17711 tiene 5 directores.\n",
      "El movie_id 2133 tiene 4 directores.\n",
      "El movie_id 25993 tiene 4 directores.\n",
      "El movie_id 40760 tiene 3 directores.\n",
      "El movie_id 12207 tiene 5 directores.\n",
      "El movie_id 20637 tiene 5 directores.\n",
      "El movie_id 1089 tiene 3 directores.\n",
      "El movie_id 2210 tiene 3 directores.\n",
      "El movie_id 55059 tiene 3 directores.\n",
      "El movie_id 166 tiene 4 directores.\n",
      "El movie_id 15983 tiene 3 directores.\n",
      "El movie_id 22130 tiene 3 directores.\n",
      "El movie_id 112942 tiene 3 directores.\n",
      "El movie_id 49370 tiene 3 directores.\n",
      "El movie_id 31679 tiene 3 directores.\n",
      "El movie_id 41394 tiene 5 directores.\n",
      "El movie_id 11852 tiene 6 directores.\n",
      "El movie_id 12 tiene 3 directores.\n",
      "El movie_id 25921 tiene 4 directores.\n",
      "El movie_id 10922 tiene 4 directores.\n",
      "El movie_id 10715 tiene 5 directores.\n",
      "El movie_id 37833 tiene 3 directores.\n",
      "El movie_id 42228 tiene 3 directores.\n",
      "El movie_id 95514 tiene 10 directores.\n",
      "El movie_id 68981 tiene 3 directores.\n",
      "El movie_id 20532 tiene 4 directores.\n",
      "El movie_id 42728 tiene 3 directores.\n",
      "El movie_id 673 tiene 9 directores.\n",
      "El movie_id 26596 tiene 4 directores.\n",
      "El movie_id 36627 tiene 3 directores.\n",
      "El movie_id 5179 tiene 3 directores.\n",
      "El movie_id 16232 tiene 3 directores.\n",
      "El movie_id 12456 tiene 3 directores.\n",
      "El movie_id 10589 tiene 4 directores.\n",
      "El movie_id 26031 tiene 3 directores.\n",
      "El movie_id 41471 tiene 4 directores.\n",
      "El movie_id 29107 tiene 4 directores.\n",
      "El movie_id 67342 tiene 3 directores.\n",
      "El movie_id 47795 tiene 3 directores.\n",
      "El movie_id 25330 tiene 3 directores.\n",
      "El movie_id 1283 tiene 3 directores.\n",
      "El movie_id 23356 tiene 3 directores.\n",
      "El movie_id 14752 tiene 7 directores.\n",
      "El movie_id 11492 tiene 3 directores.\n",
      "El movie_id 12583 tiene 3 directores.\n",
      "El movie_id 38724 tiene 5 directores.\n",
      "El movie_id 5183 tiene 3 directores.\n",
      "El movie_id 37598 tiene 3 directores.\n",
      "El movie_id 48463 tiene 3 directores.\n",
      "El movie_id 49565 tiene 4 directores.\n",
      "El movie_id 14358 tiene 3 directores.\n",
      "El movie_id 15258 tiene 3 directores.\n",
      "El movie_id 37640 tiene 3 directores.\n",
      "El movie_id 349 tiene 4 directores.\n",
      "El movie_id 10060 tiene 7 directores.\n",
      "El movie_id 86666 tiene 4 directores.\n",
      "El movie_id 22975 tiene 3 directores.\n",
      "El movie_id 13275 tiene 3 directores.\n",
      "El movie_id 16452 tiene 3 directores.\n",
      "El movie_id 98864 tiene 4 directores.\n",
      "El movie_id 8998 tiene 3 directores.\n",
      "El movie_id 20945 tiene 3 directores.\n",
      "El movie_id 64499 tiene 3 directores.\n",
      "El movie_id 7512 tiene 3 directores.\n",
      "El movie_id 1975 tiene 7 directores.\n",
      "El movie_id 17604 tiene 3 directores.\n",
      "El movie_id 46948 tiene 3 directores.\n",
      "El movie_id 27095 tiene 21 directores.\n",
      "El movie_id 27337 tiene 5 directores.\n",
      "El movie_id 22485 tiene 3 directores.\n",
      "El movie_id 2976 tiene 3 directores.\n",
      "El movie_id 20163 tiene 4 directores.\n",
      "El movie_id 18650 tiene 8 directores.\n",
      "El movie_id 40682 tiene 3 directores.\n",
      "El movie_id 31068 tiene 3 directores.\n",
      "El movie_id 28093 tiene 3 directores.\n",
      "El movie_id 24411 tiene 5 directores.\n",
      "El movie_id 130639 tiene 7 directores.\n",
      "El movie_id 48564 tiene 3 directores.\n",
      "El movie_id 25647 tiene 6 directores.\n",
      "El movie_id 10358 tiene 3 directores.\n",
      "El movie_id 11887 tiene 3 directores.\n",
      "El movie_id 14772 tiene 6 directores.\n",
      "El movie_id 2253 tiene 7 directores.\n",
      "El movie_id 25528 tiene 6 directores.\n",
      "El movie_id 55500 tiene 3 directores.\n",
      "El movie_id 36175 tiene 3 directores.\n",
      "El movie_id 15384 tiene 3 directores.\n",
      "El movie_id 14197 tiene 3 directores.\n",
      "El movie_id 22215 tiene 3 directores.\n",
      "El movie_id 17285 tiene 5 directores.\n",
      "El movie_id 58421 tiene 36 directores.\n",
      "El movie_id 18568 tiene 3 directores.\n",
      "El movie_id 67612 tiene 4 directores.\n",
      "El movie_id 39506 tiene 11 directores.\n",
      "El movie_id 105419 tiene 3 directores.\n",
      "El movie_id 4475 tiene 4 directores.\n",
      "El movie_id 52048 tiene 3 directores.\n",
      "El movie_id 10268 tiene 3 directores.\n",
      "El movie_id 43346 tiene 3 directores.\n",
      "El movie_id 79509 tiene 3 directores.\n",
      "El movie_id 45576 tiene 3 directores.\n",
      "El movie_id 34195 tiene 41 directores.\n",
      "El movie_id 31723 tiene 3 directores.\n",
      "El movie_id 16686 tiene 10 directores.\n",
      "El movie_id 35002 tiene 3 directores.\n",
      "El movie_id 33784 tiene 7 directores.\n",
      "El movie_id 30427 tiene 3 directores.\n",
      "El movie_id 38697 tiene 5 directores.\n",
      "El movie_id 34544 tiene 11 directores.\n",
      "El movie_id 55971 tiene 5 directores.\n",
      "El movie_id 207937 tiene 3 directores.\n",
      "El movie_id 148175 tiene 3 directores.\n",
      "El movie_id 201695 tiene 9 directores.\n",
      "El movie_id 44890 tiene 8 directores.\n",
      "El movie_id 8316 tiene 3 directores.\n",
      "El movie_id 41733 tiene 3 directores.\n",
      "El movie_id 44571 tiene 3 directores.\n",
      "El movie_id 43539 tiene 7 directores.\n",
      "El movie_id 121006 tiene 3 directores.\n",
      "El movie_id 25051 tiene 3 directores.\n",
      "El movie_id 105448 tiene 3 directores.\n",
      "El movie_id 45274 tiene 5 directores.\n",
      "El movie_id 45715 tiene 5 directores.\n",
      "El movie_id 11376 tiene 3 directores.\n",
      "El movie_id 84237 tiene 3 directores.\n",
      "El movie_id 59468 tiene 7 directores.\n",
      "El movie_id 288108 tiene 4 directores.\n",
      "El movie_id 100010 tiene 3 directores.\n",
      "El movie_id 404479 tiene 10 directores.\n",
      "El movie_id 91208 tiene 6 directores.\n",
      "El movie_id 84880 tiene 5 directores.\n",
      "El movie_id 100784 tiene 3 directores.\n",
      "El movie_id 206052 tiene 3 directores.\n",
      "El movie_id 18865 tiene 8 directores.\n",
      "El movie_id 64983 tiene 4 directores.\n",
      "El movie_id 182129 tiene 3 directores.\n",
      "El movie_id 103597 tiene 3 directores.\n",
      "El movie_id 63574 tiene 3 directores.\n",
      "El movie_id 184795 tiene 5 directores.\n",
      "El movie_id 62837 tiene 4 directores.\n",
      "El movie_id 76726 tiene 4 directores.\n",
      "El movie_id 29483 tiene 3 directores.\n",
      "El movie_id 14346 tiene 7 directores.\n",
      "El movie_id 64992 tiene 3 directores.\n",
      "El movie_id 81025 tiene 3 directores.\n",
      "El movie_id 85050 tiene 3 directores.\n",
      "El movie_id 28238 tiene 3 directores.\n",
      "El movie_id 140781 tiene 3 directores.\n",
      "El movie_id 40161 tiene 3 directores.\n",
      "El movie_id 71722 tiene 4 directores.\n",
      "El movie_id 264393 tiene 4 directores.\n",
      "El movie_id 40770 tiene 4 directores.\n",
      "El movie_id 49958 tiene 5 directores.\n",
      "El movie_id 104241 tiene 10 directores.\n",
      "El movie_id 14196 tiene 7 directores.\n",
      "El movie_id 81215 tiene 3 directores.\n",
      "El movie_id 74103 tiene 15 directores.\n",
      "El movie_id 101731 tiene 3 directores.\n",
      "El movie_id 82485 tiene 3 directores.\n",
      "El movie_id 26233 tiene 3 directores.\n",
      "El movie_id 72976 tiene 3 directores.\n",
      "El movie_id 58547 tiene 3 directores.\n",
      "El movie_id 140420 tiene 3 directores.\n",
      "El movie_id 27408 tiene 12 directores.\n",
      "El movie_id 31022 tiene 3 directores.\n",
      "El movie_id 170178 tiene 3 directores.\n",
      "El movie_id 90122 tiene 3 directores.\n",
      "El movie_id 79528 tiene 3 directores.\n",
      "El movie_id 124074 tiene 27 directores.\n",
      "El movie_id 105538 tiene 3 directores.\n",
      "El movie_id 97353 tiene 3 directores.\n",
      "El movie_id 58235 tiene 3 directores.\n",
      "El movie_id 68047 tiene 3 directores.\n",
      "El movie_id 82106 tiene 3 directores.\n",
      "El movie_id 54120 tiene 3 directores.\n",
      "El movie_id 166666 tiene 7 directores.\n",
      "El movie_id 45556 tiene 3 directores.\n",
      "El movie_id 47404 tiene 3 directores.\n",
      "El movie_id 205005 tiene 3 directores.\n",
      "El movie_id 35919 tiene 3 directores.\n",
      "El movie_id 184020 tiene 3 directores.\n",
      "El movie_id 37845 tiene 4 directores.\n",
      "El movie_id 30244 tiene 3 directores.\n",
      "El movie_id 83059 tiene 3 directores.\n",
      "El movie_id 135670 tiene 3 directores.\n",
      "El movie_id 53318 tiene 26 directores.\n",
      "El movie_id 204435 tiene 5 directores.\n",
      "El movie_id 17478 tiene 3 directores.\n",
      "El movie_id 240916 tiene 3 directores.\n",
      "El movie_id 10958 tiene 3 directores.\n",
      "El movie_id 56906 tiene 6 directores.\n",
      "El movie_id 255576 tiene 3 directores.\n",
      "El movie_id 160068 tiene 3 directores.\n",
      "El movie_id 220724 tiene 3 directores.\n",
      "El movie_id 225574 tiene 3 directores.\n",
      "El movie_id 3162 tiene 5 directores.\n",
      "El movie_id 72962 tiene 3 directores.\n",
      "El movie_id 19501 tiene 3 directores.\n",
      "El movie_id 218931 tiene 3 directores.\n",
      "El movie_id 40740 tiene 3 directores.\n",
      "El movie_id 157849 tiene 3 directores.\n",
      "El movie_id 50916 tiene 3 directores.\n",
      "El movie_id 82120 tiene 4 directores.\n",
      "El movie_id 42796 tiene 3 directores.\n",
      "El movie_id 22555 tiene 4 directores.\n",
      "El movie_id 220289 tiene 3 directores.\n",
      "El movie_id 199933 tiene 3 directores.\n",
      "El movie_id 60828 tiene 3 directores.\n",
      "El movie_id 156360 tiene 4 directores.\n",
      "El movie_id 250989 tiene 3 directores.\n",
      "El movie_id 215379 tiene 4 directores.\n",
      "El movie_id 89888 tiene 3 directores.\n",
      "El movie_id 27653 tiene 3 directores.\n",
      "El movie_id 87492 tiene 3 directores.\n",
      "El movie_id 199851 tiene 30 directores.\n",
      "El movie_id 99258 tiene 6 directores.\n",
      "El movie_id 287495 tiene 3 directores.\n",
      "El movie_id 266856 tiene 4 directores.\n",
      "El movie_id 136459 tiene 5 directores.\n",
      "El movie_id 111750 tiene 3 directores.\n",
      "El movie_id 173805 tiene 5 directores.\n",
      "El movie_id 29293 tiene 3 directores.\n",
      "El movie_id 265177 tiene 6 directores.\n",
      "El movie_id 174678 tiene 3 directores.\n",
      "El movie_id 82083 tiene 3 directores.\n",
      "El movie_id 42863 tiene 3 directores.\n",
      "El movie_id 23107 tiene 3 directores.\n",
      "El movie_id 15166 tiene 3 directores.\n",
      "El movie_id 29052 tiene 4 directores.\n",
      "El movie_id 37404 tiene 3 directores.\n",
      "El movie_id 78047 tiene 9 directores.\n",
      "El movie_id 50697 tiene 3 directores.\n",
      "El movie_id 77632 tiene 3 directores.\n",
      "El movie_id 28661 tiene 3 directores.\n",
      "El movie_id 199556 tiene 3 directores.\n",
      "El movie_id 33843 tiene 3 directores.\n",
      "El movie_id 233487 tiene 6 directores.\n",
      "El movie_id 33272 tiene 3 directores.\n",
      "El movie_id 92798 tiene 7 directores.\n",
      "El movie_id 318359 tiene 3 directores.\n",
      "El movie_id 57622 tiene 3 directores.\n",
      "El movie_id 63180 tiene 3 directores.\n",
      "El movie_id 83897 tiene 3 directores.\n",
      "El movie_id 97762 tiene 7 directores.\n",
      "El movie_id 318225 tiene 6 directores.\n",
      "El movie_id 116649 tiene 3 directores.\n",
      "El movie_id 115553 tiene 3 directores.\n",
      "El movie_id 124524 tiene 3 directores.\n",
      "El movie_id 37727 tiene 4 directores.\n",
      "El movie_id 183962 tiene 4 directores.\n",
      "El movie_id 91571 tiene 4 directores.\n",
      "El movie_id 78193 tiene 3 directores.\n",
      "El movie_id 28656 tiene 3 directores.\n",
      "El movie_id 309302 tiene 12 directores.\n",
      "El movie_id 99909 tiene 3 directores.\n",
      "El movie_id 106679 tiene 6 directores.\n",
      "El movie_id 137221 tiene 5 directores.\n",
      "El movie_id 80527 tiene 3 directores.\n",
      "El movie_id 208333 tiene 3 directores.\n",
      "El movie_id 248611 tiene 3 directores.\n",
      "El movie_id 80168 tiene 3 directores.\n",
      "El movie_id 44488 tiene 4 directores.\n",
      "El movie_id 258480 tiene 5 directores.\n",
      "El movie_id 57419 tiene 3 directores.\n",
      "El movie_id 112601 tiene 3 directores.\n",
      "El movie_id 41703 tiene 3 directores.\n",
      "El movie_id 281418 tiene 3 directores.\n",
      "El movie_id 259261 tiene 11 directores.\n",
      "El movie_id 64100 tiene 4 directores.\n",
      "El movie_id 187771 tiene 4 directores.\n",
      "El movie_id 42251 tiene 3 directores.\n",
      "El movie_id 39309 tiene 3 directores.\n",
      "El movie_id 78696 tiene 3 directores.\n",
      "El movie_id 106113 tiene 7 directores.\n",
      "El movie_id 112618 tiene 3 directores.\n",
      "El movie_id 173541 tiene 3 directores.\n",
      "El movie_id 270886 tiene 3 directores.\n",
      "El movie_id 25506 tiene 5 directores.\n",
      "El movie_id 26469 tiene 8 directores.\n",
      "El movie_id 62527 tiene 3 directores.\n",
      "El movie_id 33871 tiene 4 directores.\n",
      "El movie_id 76112 tiene 3 directores.\n",
      "El movie_id 328111 tiene 3 directores.\n",
      "El movie_id 57269 tiene 6 directores.\n",
      "El movie_id 58545 tiene 3 directores.\n",
      "El movie_id 273610 tiene 3 directores.\n",
      "El movie_id 195912 tiene 3 directores.\n",
      "El movie_id 37501 tiene 11 directores.\n",
      "El movie_id 285856 tiene 5 directores.\n",
      "El movie_id 129067 tiene 42 directores.\n",
      "El movie_id 273743 tiene 3 directores.\n",
      "El movie_id 340230 tiene 4 directores.\n",
      "El movie_id 49928 tiene 3 directores.\n",
      "El movie_id 56067 tiene 4 directores.\n",
      "El movie_id 298312 tiene 3 directores.\n",
      "El movie_id 258034 tiene 3 directores.\n",
      "El movie_id 285841 tiene 3 directores.\n",
      "El movie_id 41091 tiene 3 directores.\n",
      "El movie_id 298865 tiene 3 directores.\n",
      "El movie_id 163942 tiene 7 directores.\n",
      "El movie_id 80089 tiene 6 directores.\n",
      "El movie_id 43457 tiene 3 directores.\n",
      "El movie_id 74718 tiene 3 directores.\n",
      "El movie_id 354667 tiene 6 directores.\n",
      "El movie_id 91926 tiene 4 directores.\n",
      "El movie_id 163447 tiene 4 directores.\n",
      "El movie_id 63071 tiene 11 directores.\n",
      "El movie_id 11175 tiene 3 directores.\n",
      "El movie_id 23609 tiene 4 directores.\n",
      "El movie_id 32164 tiene 4 directores.\n",
      "El movie_id 238781 tiene 3 directores.\n",
      "El movie_id 135385 tiene 12 directores.\n",
      "El movie_id 37216 tiene 3 directores.\n",
      "El movie_id 118809 tiene 3 directores.\n",
      "El movie_id 288171 tiene 5 directores.\n",
      "El movie_id 347548 tiene 3 directores.\n",
      "El movie_id 74852 tiene 3 directores.\n",
      "El movie_id 300666 tiene 3 directores.\n",
      "El movie_id 51411 tiene 10 directores.\n",
      "El movie_id 255533 tiene 3 directores.\n",
      "El movie_id 348060 tiene 3 directores.\n",
      "El movie_id 310491 tiene 5 directores.\n",
      "El movie_id 114377 tiene 3 directores.\n",
      "El movie_id 48845 tiene 3 directores.\n",
      "El movie_id 128899 tiene 3 directores.\n",
      "El movie_id 248706 tiene 5 directores.\n",
      "El movie_id 247777 tiene 4 directores.\n",
      "El movie_id 100274 tiene 3 directores.\n",
      "El movie_id 20969 tiene 4 directores.\n",
      "El movie_id 299856 tiene 3 directores.\n",
      "El movie_id 80082 tiene 3 directores.\n",
      "El movie_id 57718 tiene 11 directores.\n",
      "El movie_id 242354 tiene 3 directores.\n",
      "El movie_id 222932 tiene 3 directores.\n",
      "El movie_id 152388 tiene 8 directores.\n",
      "El movie_id 334878 tiene 3 directores.\n",
      "El movie_id 84951 tiene 3 directores.\n",
      "El movie_id 170292 tiene 8 directores.\n",
      "El movie_id 358403 tiene 4 directores.\n",
      "El movie_id 46258 tiene 6 directores.\n",
      "El movie_id 197624 tiene 5 directores.\n",
      "El movie_id 88302 tiene 3 directores.\n",
      "El movie_id 364387 tiene 3 directores.\n",
      "El movie_id 129518 tiene 5 directores.\n",
      "El movie_id 56986 tiene 6 directores.\n",
      "El movie_id 52073 tiene 3 directores.\n",
      "El movie_id 138449 tiene 6 directores.\n",
      "El movie_id 61540 tiene 3 directores.\n",
      "El movie_id 287940 tiene 5 directores.\n",
      "El movie_id 228109 tiene 6 directores.\n",
      "El movie_id 383535 tiene 3 directores.\n",
      "El movie_id 163042 tiene 3 directores.\n",
      "El movie_id 182950 tiene 3 directores.\n",
      "El movie_id 114242 tiene 7 directores.\n",
      "El movie_id 118534 tiene 8 directores.\n",
      "El movie_id 191068 tiene 3 directores.\n",
      "El movie_id 165463 tiene 3 directores.\n",
      "El movie_id 62880 tiene 14 directores.\n",
      "El movie_id 41368 tiene 3 directores.\n",
      "El movie_id 174925 tiene 3 directores.\n",
      "El movie_id 21769 tiene 6 directores.\n",
      "El movie_id 125521 tiene 5 directores.\n",
      "El movie_id 33827 tiene 3 directores.\n",
      "El movie_id 59126 tiene 4 directores.\n",
      "El movie_id 46740 tiene 3 directores.\n",
      "El movie_id 330629 tiene 3 directores.\n",
      "El movie_id 242906 tiene 4 directores.\n",
      "El movie_id 119430 tiene 4 directores.\n",
      "El movie_id 311181 tiene 3 directores.\n",
      "El movie_id 170740 tiene 4 directores.\n",
      "El movie_id 347031 tiene 3 directores.\n",
      "El movie_id 398289 tiene 8 directores.\n",
      "El movie_id 400608 tiene 3 directores.\n",
      "El movie_id 375356 tiene 3 directores.\n",
      "El movie_id 61294 tiene 3 directores.\n",
      "El movie_id 60971 tiene 30 directores.\n",
      "El movie_id 338063 tiene 3 directores.\n",
      "El movie_id 230722 tiene 4 directores.\n",
      "El movie_id 362876 tiene 7 directores.\n",
      "El movie_id 300669 tiene 3 directores.\n",
      "El movie_id 228496 tiene 3 directores.\n",
      "El movie_id 273122 tiene 3 directores.\n",
      "El movie_id 309886 tiene 3 directores.\n",
      "El movie_id 296472 tiene 4 directores.\n",
      "El movie_id 348668 tiene 6 directores.\n",
      "El movie_id 197528 tiene 4 directores.\n",
      "El movie_id 147767 tiene 9 directores.\n",
      "El movie_id 329556 tiene 14 directores.\n",
      "El movie_id 304030 tiene 3 directores.\n",
      "El movie_id 162899 tiene 3 directores.\n",
      "El movie_id 329802 tiene 4 directores.\n",
      "El movie_id 300605 tiene 3 directores.\n",
      "El movie_id 159538 tiene 3 directores.\n",
      "El movie_id 29136 tiene 4 directores.\n",
      "El movie_id 42123 tiene 5 directores.\n",
      "El movie_id 111103 tiene 5 directores.\n",
      "El movie_id 413588 tiene 3 directores.\n",
      "El movie_id 240723 tiene 3 directores.\n",
      "El movie_id 394423 tiene 10 directores.\n",
      "El movie_id 20089 tiene 4 directores.\n",
      "El movie_id 294608 tiene 3 directores.\n",
      "El movie_id 51281 tiene 3 directores.\n",
      "El movie_id 186019 tiene 3 directores.\n",
      "El movie_id 163053 tiene 3 directores.\n",
      "El movie_id 48567 tiene 6 directores.\n",
      "El movie_id 256569 tiene 6 directores.\n",
      "El movie_id 264418 tiene 3 directores.\n",
      "El movie_id 255709 tiene 3 directores.\n",
      "El movie_id 397093 tiene 8 directores.\n",
      "El movie_id 50253 tiene 4 directores.\n",
      "El movie_id 427416 tiene 5 directores.\n",
      "El movie_id 246252 tiene 5 directores.\n",
      "El movie_id 387700 tiene 3 directores.\n",
      "El movie_id 23134 tiene 3 directores.\n",
      "El movie_id 409366 tiene 3 directores.\n",
      "El movie_id 298920 tiene 3 directores.\n",
      "El movie_id 39278 tiene 3 directores.\n",
      "El movie_id 403390 tiene 7 directores.\n",
      "El movie_id 153272 tiene 3 directores.\n",
      "El movie_id 397549 tiene 3 directores.\n",
      "El movie_id 340053 tiene 4 directores.\n",
      "El movie_id 331641 tiene 3 directores.\n",
      "El movie_id 27316 tiene 3 directores.\n",
      "El movie_id 227257 tiene 3 directores.\n",
      "El movie_id 55769 tiene 3 directores.\n",
      "El movie_id 36699 tiene 3 directores.\n",
      "El movie_id 288977 tiene 4 directores.\n",
      "El movie_id 53945 tiene 4 directores.\n",
      "El movie_id 61139 tiene 5 directores.\n",
      "El movie_id 62721 tiene 5 directores.\n",
      "El movie_id 29299 tiene 3 directores.\n",
      "El movie_id 73241 tiene 4 directores.\n",
      "El movie_id 264080 tiene 4 directores.\n",
      "El movie_id 25953 tiene 4 directores.\n",
      "El movie_id 40420 tiene 3 directores.\n",
      "El movie_id 412280 tiene 13 directores.\n",
      "El movie_id 210183 tiene 10 directores.\n",
      "El movie_id 37769 tiene 4 directores.\n",
      "El movie_id 41237 tiene 4 directores.\n",
      "El movie_id 49578 tiene 3 directores.\n"
     ]
    }
   ],
   "source": [
    "# Crear un diccionario para almacenar la cantidad de directores por movie_id\n",
    "directores_por_movie_id = {}\n",
    "\n",
    "# Recorrer el dataframe y contar los directores para cada movie_id\n",
    "for index, row in df_crew_cleaned.iterrows():\n",
    "    if row['job'] == 'Director':\n",
    "        movie_id = row['movie_id']\n",
    "        directores_por_movie_id[movie_id] = directores_por_movie_id.get(movie_id, 0) + 1\n",
    "\n",
    "# Verificar si hay movie_id con más de dos directores\n",
    "for movie_id, num_directores in directores_por_movie_id.items():\n",
    "    if num_directores > 2:\n",
    "        print(f\"El movie_id {movie_id} tiene {num_directores} directores.\")\n"
   ]
  },
  {
   "cell_type": "markdown",
   "metadata": {},
   "source": [
    "#### Listado unico de job == Director ; directors_df "
   ]
  },
  {
   "cell_type": "code",
   "execution_count": 39,
   "metadata": {},
   "outputs": [],
   "source": [
    "# Filtrar el DataFrame original para obtener solo las filas con la categoría \"Director\"\n",
    "directors_df = df_crew_cleaned[df_crew_cleaned['job'] == 'Director']\n",
    "\n",
    "# Crear un nuevo DataFrame que contenga solo la columna 'id' (los IDs de los directores)\n",
    "directors_id_list = directors_df[['id']]"
   ]
  },
  {
   "cell_type": "code",
   "execution_count": 40,
   "metadata": {},
   "outputs": [
    {
     "data": {
      "text/html": [
       "<div>\n",
       "<style scoped>\n",
       "    .dataframe tbody tr th:only-of-type {\n",
       "        vertical-align: middle;\n",
       "    }\n",
       "\n",
       "    .dataframe tbody tr th {\n",
       "        vertical-align: top;\n",
       "    }\n",
       "\n",
       "    .dataframe thead th {\n",
       "        text-align: right;\n",
       "    }\n",
       "</style>\n",
       "<table border=\"1\" class=\"dataframe\">\n",
       "  <thead>\n",
       "    <tr style=\"text-align: right;\">\n",
       "      <th></th>\n",
       "      <th>department</th>\n",
       "      <th>id</th>\n",
       "      <th>job</th>\n",
       "      <th>name</th>\n",
       "      <th>movie_id</th>\n",
       "    </tr>\n",
       "  </thead>\n",
       "  <tbody>\n",
       "    <tr>\n",
       "      <th>0</th>\n",
       "      <td>Directing</td>\n",
       "      <td>7879</td>\n",
       "      <td>Director</td>\n",
       "      <td>John Lasseter</td>\n",
       "      <td>862</td>\n",
       "    </tr>\n",
       "    <tr>\n",
       "      <th>1</th>\n",
       "      <td>Directing</td>\n",
       "      <td>4945</td>\n",
       "      <td>Director</td>\n",
       "      <td>Joe Johnston</td>\n",
       "      <td>8844</td>\n",
       "    </tr>\n",
       "    <tr>\n",
       "      <th>2</th>\n",
       "      <td>Directing</td>\n",
       "      <td>26502</td>\n",
       "      <td>Director</td>\n",
       "      <td>Howard Deutch</td>\n",
       "      <td>15602</td>\n",
       "    </tr>\n",
       "    <tr>\n",
       "      <th>3</th>\n",
       "      <td>Directing</td>\n",
       "      <td>2178</td>\n",
       "      <td>Director</td>\n",
       "      <td>Forest Whitaker</td>\n",
       "      <td>31357</td>\n",
       "    </tr>\n",
       "    <tr>\n",
       "      <th>4</th>\n",
       "      <td>Directing</td>\n",
       "      <td>56106</td>\n",
       "      <td>Director</td>\n",
       "      <td>Charles Shyer</td>\n",
       "      <td>11862</td>\n",
       "    </tr>\n",
       "    <tr>\n",
       "      <th>...</th>\n",
       "      <td>...</td>\n",
       "      <td>...</td>\n",
       "      <td>...</td>\n",
       "      <td>...</td>\n",
       "      <td>...</td>\n",
       "    </tr>\n",
       "    <tr>\n",
       "      <th>49002</th>\n",
       "      <td>Directing</td>\n",
       "      <td>17784</td>\n",
       "      <td>Director</td>\n",
       "      <td>John Irvin</td>\n",
       "      <td>179236</td>\n",
       "    </tr>\n",
       "    <tr>\n",
       "      <th>49003</th>\n",
       "      <td>Directing</td>\n",
       "      <td>1182809</td>\n",
       "      <td>Director</td>\n",
       "      <td>Hamid Nematollah</td>\n",
       "      <td>179235</td>\n",
       "    </tr>\n",
       "    <tr>\n",
       "      <th>49004</th>\n",
       "      <td>Directing</td>\n",
       "      <td>1051381</td>\n",
       "      <td>Director</td>\n",
       "      <td>Lav Diaz</td>\n",
       "      <td>411717</td>\n",
       "    </tr>\n",
       "    <tr>\n",
       "      <th>49005</th>\n",
       "      <td>Directing</td>\n",
       "      <td>67753</td>\n",
       "      <td>Director</td>\n",
       "      <td>Mark L. Lester</td>\n",
       "      <td>127097</td>\n",
       "    </tr>\n",
       "    <tr>\n",
       "      <th>49006</th>\n",
       "      <td>Directing</td>\n",
       "      <td>1085341</td>\n",
       "      <td>Director</td>\n",
       "      <td>Yakov Protazanov</td>\n",
       "      <td>190683</td>\n",
       "    </tr>\n",
       "  </tbody>\n",
       "</table>\n",
       "<p>49007 rows × 5 columns</p>\n",
       "</div>"
      ],
      "text/plain": [
       "      department       id       job              name  movie_id\n",
       "0      Directing     7879  Director     John Lasseter       862\n",
       "1      Directing     4945  Director      Joe Johnston      8844\n",
       "2      Directing    26502  Director     Howard Deutch     15602\n",
       "3      Directing     2178  Director   Forest Whitaker     31357\n",
       "4      Directing    56106  Director     Charles Shyer     11862\n",
       "...          ...      ...       ...               ...       ...\n",
       "49002  Directing    17784  Director        John Irvin    179236\n",
       "49003  Directing  1182809  Director  Hamid Nematollah    179235\n",
       "49004  Directing  1051381  Director          Lav Diaz    411717\n",
       "49005  Directing    67753  Director    Mark L. Lester    127097\n",
       "49006  Directing  1085341  Director  Yakov Protazanov    190683\n",
       "\n",
       "[49007 rows x 5 columns]"
      ]
     },
     "execution_count": 40,
     "metadata": {},
     "output_type": "execute_result"
    }
   ],
   "source": [
    "directors_df"
   ]
  },
  {
   "cell_type": "markdown",
   "metadata": {},
   "source": [
    "##### Guardo pickle: df_crew_directores_only"
   ]
  },
  {
   "cell_type": "code",
   "execution_count": 41,
   "metadata": {},
   "outputs": [],
   "source": [
    "# # Guardar el DataFrame en formato pickle\n",
    "# directors_df.to_pickle('../../Datasets Cleaned & light/df_crew_only_directores.pkl')"
   ]
  },
  {
   "cell_type": "markdown",
   "metadata": {},
   "source": [
    "### Seguimos ahora unificando la info:"
   ]
  },
  {
   "cell_type": "markdown",
   "metadata": {},
   "source": [
    "#### Se necesita cambiar nombre de algunas columnas para que no falle el join"
   ]
  },
  {
   "cell_type": "code",
   "execution_count": 42,
   "metadata": {},
   "outputs": [],
   "source": [
    "# # agregar la palabra \"cast\" a todas las columnas excepto \"credit_id\"\n",
    "# for column in df_cast_cleaned.columns:\n",
    "#     if column not in ['id','cast_id','movie_id']:\n",
    "#         new_column_name =  column + '_cast_df' \n",
    "#         df_cast_cleaned.rename(columns={column: new_column_name}, inplace=True)\n"
   ]
  },
  {
   "cell_type": "code",
   "execution_count": 43,
   "metadata": {},
   "outputs": [],
   "source": [
    "# df_cast_cleaned"
   ]
  },
  {
   "cell_type": "markdown",
   "metadata": {},
   "source": [
    "### Left join directors_df - DESCONECADO, no es necesario ya que no fue utilizado al final df_cast"
   ]
  },
  {
   "cell_type": "code",
   "execution_count": 44,
   "metadata": {},
   "outputs": [],
   "source": [
    "# # Perform the left join\n",
    "# director_merged_info = pd.merge(directors_df ,df_cast_cleaned , on='movie_id', how='left', suffixes=('_crew', '_cast'))\n",
    "\n",
    "# # Show the result\n",
    "# print(director_merged_info)\n",
    "\n"
   ]
  },
  {
   "cell_type": "code",
   "execution_count": 45,
   "metadata": {},
   "outputs": [],
   "source": [
    "# director_merged_info"
   ]
  },
  {
   "cell_type": "code",
   "execution_count": 46,
   "metadata": {},
   "outputs": [],
   "source": [
    "# msno.matrix(director_merged_info)"
   ]
  },
  {
   "cell_type": "code",
   "execution_count": 49,
   "metadata": {},
   "outputs": [],
   "source": [
    "director_merged_info = df_crew_cleaned"
   ]
  },
  {
   "cell_type": "code",
   "execution_count": 50,
   "metadata": {},
   "outputs": [
    {
     "data": {
      "text/plain": [
       "<Axes: >"
      ]
     },
     "execution_count": 50,
     "metadata": {},
     "output_type": "execute_result"
    },
    {
     "data": {
      "image/png": "[encoded data removed]",
      "text/plain": [
       "<Figure size 2500x1000 with 2 Axes>"
      ]
     },
     "metadata": {},
     "output_type": "display_data"
    }
   ],
   "source": [
    "msno.matrix(director_merged_info)"
   ]
  },
  {
   "cell_type": "code",
   "execution_count": 51,
   "metadata": {},
   "outputs": [
    {
     "data": {
      "text/plain": [
       "(49007, 5)"
      ]
     },
     "execution_count": 51,
     "metadata": {},
     "output_type": "execute_result"
    }
   ],
   "source": [
    "director_merged_info.shape"
   ]
  },
  {
   "cell_type": "code",
   "execution_count": 52,
   "metadata": {},
   "outputs": [],
   "source": [
    "director_merged_info_sin_na = director_merged_info.dropna()"
   ]
  },
  {
   "cell_type": "code",
   "execution_count": 53,
   "metadata": {},
   "outputs": [
    {
     "data": {
      "text/plain": [
       "(49007, 5)"
      ]
     },
     "execution_count": 53,
     "metadata": {},
     "output_type": "execute_result"
    }
   ],
   "source": [
    "director_merged_info_sin_na.shape"
   ]
  },
  {
   "cell_type": "code",
   "execution_count": 54,
   "metadata": {},
   "outputs": [
    {
     "data": {
      "text/html": [
       "<div>\n",
       "<style scoped>\n",
       "    .dataframe tbody tr th:only-of-type {\n",
       "        vertical-align: middle;\n",
       "    }\n",
       "\n",
       "    .dataframe tbody tr th {\n",
       "        vertical-align: top;\n",
       "    }\n",
       "\n",
       "    .dataframe thead th {\n",
       "        text-align: right;\n",
       "    }\n",
       "</style>\n",
       "<table border=\"1\" class=\"dataframe\">\n",
       "  <thead>\n",
       "    <tr style=\"text-align: right;\">\n",
       "      <th></th>\n",
       "      <th>department</th>\n",
       "      <th>id</th>\n",
       "      <th>job</th>\n",
       "      <th>name</th>\n",
       "      <th>movie_id</th>\n",
       "    </tr>\n",
       "  </thead>\n",
       "  <tbody>\n",
       "    <tr>\n",
       "      <th>0</th>\n",
       "      <td>Directing</td>\n",
       "      <td>7879</td>\n",
       "      <td>Director</td>\n",
       "      <td>John Lasseter</td>\n",
       "      <td>862</td>\n",
       "    </tr>\n",
       "    <tr>\n",
       "      <th>1</th>\n",
       "      <td>Directing</td>\n",
       "      <td>4945</td>\n",
       "      <td>Director</td>\n",
       "      <td>Joe Johnston</td>\n",
       "      <td>8844</td>\n",
       "    </tr>\n",
       "    <tr>\n",
       "      <th>2</th>\n",
       "      <td>Directing</td>\n",
       "      <td>26502</td>\n",
       "      <td>Director</td>\n",
       "      <td>Howard Deutch</td>\n",
       "      <td>15602</td>\n",
       "    </tr>\n",
       "    <tr>\n",
       "      <th>3</th>\n",
       "      <td>Directing</td>\n",
       "      <td>2178</td>\n",
       "      <td>Director</td>\n",
       "      <td>Forest Whitaker</td>\n",
       "      <td>31357</td>\n",
       "    </tr>\n",
       "    <tr>\n",
       "      <th>4</th>\n",
       "      <td>Directing</td>\n",
       "      <td>56106</td>\n",
       "      <td>Director</td>\n",
       "      <td>Charles Shyer</td>\n",
       "      <td>11862</td>\n",
       "    </tr>\n",
       "    <tr>\n",
       "      <th>5</th>\n",
       "      <td>Directing</td>\n",
       "      <td>638</td>\n",
       "      <td>Director</td>\n",
       "      <td>Michael Mann</td>\n",
       "      <td>949</td>\n",
       "    </tr>\n",
       "    <tr>\n",
       "      <th>6</th>\n",
       "      <td>Directing</td>\n",
       "      <td>2226</td>\n",
       "      <td>Director</td>\n",
       "      <td>Sydney Pollack</td>\n",
       "      <td>11860</td>\n",
       "    </tr>\n",
       "  </tbody>\n",
       "</table>\n",
       "</div>"
      ],
      "text/plain": [
       "  department     id       job             name  movie_id\n",
       "0  Directing   7879  Director    John Lasseter       862\n",
       "1  Directing   4945  Director     Joe Johnston      8844\n",
       "2  Directing  26502  Director    Howard Deutch     15602\n",
       "3  Directing   2178  Director  Forest Whitaker     31357\n",
       "4  Directing  56106  Director    Charles Shyer     11862\n",
       "5  Directing    638  Director     Michael Mann       949\n",
       "6  Directing   2226  Director   Sydney Pollack     11860"
      ]
     },
     "execution_count": 54,
     "metadata": {},
     "output_type": "execute_result"
    }
   ],
   "source": [
    "director_merged_info_sin_na.head(7)"
   ]
  },
  {
   "cell_type": "code",
   "execution_count": 55,
   "metadata": {},
   "outputs": [],
   "source": [
    "# list_cols_int = ['id_crew','movie_id','id_cast']\n",
    "# for element in list_cols_int:\n",
    "#     director_merged_info_sin_na.loc[:, list_cols_int] = director_merged_info_sin_na[list_cols_int].astype(int)\n",
    "    "
   ]
  },
  {
   "cell_type": "code",
   "execution_count": 56,
   "metadata": {},
   "outputs": [],
   "source": [
    "# director_merged_info_sin_na.head(5)"
   ]
  },
  {
   "cell_type": "code",
   "execution_count": 57,
   "metadata": {},
   "outputs": [],
   "source": [
    "# director_merged_info_sin_na.info()"
   ]
  },
  {
   "cell_type": "code",
   "execution_count": 58,
   "metadata": {},
   "outputs": [],
   "source": [
    "# msno.matrix(director_merged_info_sin_na)"
   ]
  },
  {
   "cell_type": "code",
   "execution_count": 59,
   "metadata": {},
   "outputs": [],
   "source": [
    "# director_merged_info_sin_na.drop_duplicates()"
   ]
  },
  {
   "cell_type": "code",
   "execution_count": 60,
   "metadata": {},
   "outputs": [],
   "source": [
    "# director_merged_info_sin_na.head(40)"
   ]
  },
  {
   "cell_type": "code",
   "execution_count": 61,
   "metadata": {},
   "outputs": [],
   "source": [
    "# director_merged_info_sin_na.shape"
   ]
  },
  {
   "cell_type": "markdown",
   "metadata": {},
   "source": [
    "#### Algunas verificaciones de concordancia"
   ]
  },
  {
   "cell_type": "code",
   "execution_count": 62,
   "metadata": {},
   "outputs": [
    {
     "data": {
      "text/html": [
       "<div>\n",
       "<style scoped>\n",
       "    .dataframe tbody tr th:only-of-type {\n",
       "        vertical-align: middle;\n",
       "    }\n",
       "\n",
       "    .dataframe tbody tr th {\n",
       "        vertical-align: top;\n",
       "    }\n",
       "\n",
       "    .dataframe thead th {\n",
       "        text-align: right;\n",
       "    }\n",
       "</style>\n",
       "<table border=\"1\" class=\"dataframe\">\n",
       "  <thead>\n",
       "    <tr style=\"text-align: right;\">\n",
       "      <th></th>\n",
       "      <th>department</th>\n",
       "      <th>id</th>\n",
       "      <th>job</th>\n",
       "      <th>name</th>\n",
       "      <th>movie_id</th>\n",
       "    </tr>\n",
       "  </thead>\n",
       "  <tbody>\n",
       "    <tr>\n",
       "      <th>163</th>\n",
       "      <td>Directing</td>\n",
       "      <td>5281</td>\n",
       "      <td>Director</td>\n",
       "      <td>Spike Lee</td>\n",
       "      <td>20649</td>\n",
       "    </tr>\n",
       "    <tr>\n",
       "      <th>359</th>\n",
       "      <td>Directing</td>\n",
       "      <td>5281</td>\n",
       "      <td>Director</td>\n",
       "      <td>Spike Lee</td>\n",
       "      <td>34152</td>\n",
       "    </tr>\n",
       "    <tr>\n",
       "      <th>658</th>\n",
       "      <td>Directing</td>\n",
       "      <td>5281</td>\n",
       "      <td>Director</td>\n",
       "      <td>Spike Lee</td>\n",
       "      <td>2021</td>\n",
       "    </tr>\n",
       "    <tr>\n",
       "      <th>1080</th>\n",
       "      <td>Directing</td>\n",
       "      <td>5281</td>\n",
       "      <td>Director</td>\n",
       "      <td>Spike Lee</td>\n",
       "      <td>10586</td>\n",
       "    </tr>\n",
       "    <tr>\n",
       "      <th>1815</th>\n",
       "      <td>Directing</td>\n",
       "      <td>5281</td>\n",
       "      <td>Director</td>\n",
       "      <td>Spike Lee</td>\n",
       "      <td>32144</td>\n",
       "    </tr>\n",
       "  </tbody>\n",
       "</table>\n",
       "</div>"
      ],
      "text/plain": [
       "     department    id       job       name  movie_id\n",
       "163   Directing  5281  Director  Spike Lee     20649\n",
       "359   Directing  5281  Director  Spike Lee     34152\n",
       "658   Directing  5281  Director  Spike Lee      2021\n",
       "1080  Directing  5281  Director  Spike Lee     10586\n",
       "1815  Directing  5281  Director  Spike Lee     32144"
      ]
     },
     "execution_count": 62,
     "metadata": {},
     "output_type": "execute_result"
    }
   ],
   "source": [
    "# Filtrar la fila que contiene el campo \"id\" igual a 34\n",
    "fila_id_680 = director_merged_info.loc[director_merged_info_sin_na['name'] == 'Spike Lee']\n",
    "\n",
    "# Imprimir la fila que cumple la condición\n",
    "fila_id_680.head()"
   ]
  },
  {
   "cell_type": "code",
   "execution_count": 63,
   "metadata": {},
   "outputs": [
    {
     "data": {
      "text/html": [
       "<div>\n",
       "<style scoped>\n",
       "    .dataframe tbody tr th:only-of-type {\n",
       "        vertical-align: middle;\n",
       "    }\n",
       "\n",
       "    .dataframe tbody tr th {\n",
       "        vertical-align: top;\n",
       "    }\n",
       "\n",
       "    .dataframe thead th {\n",
       "        text-align: right;\n",
       "    }\n",
       "</style>\n",
       "<table border=\"1\" class=\"dataframe\">\n",
       "  <thead>\n",
       "    <tr style=\"text-align: right;\">\n",
       "      <th></th>\n",
       "      <th>department</th>\n",
       "      <th>id</th>\n",
       "      <th>job</th>\n",
       "      <th>name</th>\n",
       "      <th>movie_id</th>\n",
       "    </tr>\n",
       "  </thead>\n",
       "  <tbody>\n",
       "    <tr>\n",
       "      <th>1815</th>\n",
       "      <td>Directing</td>\n",
       "      <td>5281</td>\n",
       "      <td>Director</td>\n",
       "      <td>Spike Lee</td>\n",
       "      <td>32144</td>\n",
       "    </tr>\n",
       "  </tbody>\n",
       "</table>\n",
       "</div>"
      ],
      "text/plain": [
       "     department    id       job       name  movie_id\n",
       "1815  Directing  5281  Director  Spike Lee     32144"
      ]
     },
     "execution_count": 63,
     "metadata": {},
     "output_type": "execute_result"
    }
   ],
   "source": [
    "# Filtrar la fila que contiene el campo \"id\" igual a 34\n",
    "fila_id_884 = director_merged_info.loc[director_merged_info_sin_na['movie_id'] == 32144]\n",
    "\n",
    "# Imprimir la fila que cumple la condición\n",
    "fila_id_884.head()"
   ]
  },
  {
   "cell_type": "markdown",
   "metadata": {},
   "source": [
    "### Guardo pickle: director_merged_info"
   ]
  },
  {
   "cell_type": "code",
   "execution_count": 64,
   "metadata": {},
   "outputs": [],
   "source": [
    "# # Guardar el DataFrame en formato pickle\n",
    "# director_merged_info_sin_na.to_pickle('../../Datasets Cleaned & light/director_merged_info.pkl')"
   ]
  },
  {
   "cell_type": "markdown",
   "metadata": {},
   "source": [
    "### Creando dataset para ultima funcion:"
   ]
  },
  {
   "cell_type": "markdown",
   "metadata": {},
   "source": [
    "#### Leer dataset df_movies:"
   ]
  },
  {
   "cell_type": "code",
   "execution_count": 65,
   "metadata": {},
   "outputs": [],
   "source": [
    "import pandas as pd\n",
    "\n",
    "# Leer el archivo pickle y guardarlo en un dataframe\n",
    "df_movies = pd.read_pickle('../../Datasets Cleaned & light/df_movies.pkl')"
   ]
  },
  {
   "cell_type": "code",
   "execution_count": 66,
   "metadata": {},
   "outputs": [
    {
     "data": {
      "text/html": [
       "<div>\n",
       "<style scoped>\n",
       "    .dataframe tbody tr th:only-of-type {\n",
       "        vertical-align: middle;\n",
       "    }\n",
       "\n",
       "    .dataframe tbody tr th {\n",
       "        vertical-align: top;\n",
       "    }\n",
       "\n",
       "    .dataframe thead th {\n",
       "        text-align: right;\n",
       "    }\n",
       "</style>\n",
       "<table border=\"1\" class=\"dataframe\">\n",
       "  <thead>\n",
       "    <tr style=\"text-align: right;\">\n",
       "      <th></th>\n",
       "      <th>budget</th>\n",
       "      <th>id</th>\n",
       "      <th>original_language</th>\n",
       "      <th>overview</th>\n",
       "      <th>popularity</th>\n",
       "      <th>release_date</th>\n",
       "      <th>revenue</th>\n",
       "      <th>runtime</th>\n",
       "      <th>status</th>\n",
       "      <th>title</th>\n",
       "      <th>...</th>\n",
       "      <th>genre_ids</th>\n",
       "      <th>genre_names</th>\n",
       "      <th>production_companies_ids</th>\n",
       "      <th>production_companies_nombres</th>\n",
       "      <th>iso_codes</th>\n",
       "      <th>country_names</th>\n",
       "      <th>iso_language_codes</th>\n",
       "      <th>language_names</th>\n",
       "      <th>release_year</th>\n",
       "      <th>return</th>\n",
       "    </tr>\n",
       "  </thead>\n",
       "  <tbody>\n",
       "    <tr>\n",
       "      <th>0</th>\n",
       "      <td>30000000</td>\n",
       "      <td>862</td>\n",
       "      <td>en</td>\n",
       "      <td>led by woody, andy's toys live happily in his ...</td>\n",
       "      <td>21.946943</td>\n",
       "      <td>1995-10-30</td>\n",
       "      <td>373554033</td>\n",
       "      <td>81</td>\n",
       "      <td>released</td>\n",
       "      <td>toy story</td>\n",
       "      <td>...</td>\n",
       "      <td>16, 35, 10751</td>\n",
       "      <td>animation, comedy, family</td>\n",
       "      <td>3</td>\n",
       "      <td>pixar animation studios</td>\n",
       "      <td>us</td>\n",
       "      <td>united states of america</td>\n",
       "      <td>en</td>\n",
       "      <td>english</td>\n",
       "      <td>1995</td>\n",
       "      <td>12.451801</td>\n",
       "    </tr>\n",
       "  </tbody>\n",
       "</table>\n",
       "<p>1 rows × 22 columns</p>\n",
       "</div>"
      ],
      "text/plain": [
       "     budget   id original_language  \\\n",
       "0  30000000  862                en   \n",
       "\n",
       "                                            overview  popularity release_date  \\\n",
       "0  led by woody, andy's toys live happily in his ...   21.946943   1995-10-30   \n",
       "\n",
       "     revenue  runtime    status      title  ...      genre_ids  \\\n",
       "0  373554033       81  released  toy story  ...  16, 35, 10751   \n",
       "\n",
       "                 genre_names production_companies_ids  \\\n",
       "0  animation, comedy, family                        3   \n",
       "\n",
       "  production_companies_nombres iso_codes             country_names  \\\n",
       "0      pixar animation studios        us  united states of america   \n",
       "\n",
       "  iso_language_codes language_names release_year     return  \n",
       "0                 en        english         1995  12.451801  \n",
       "\n",
       "[1 rows x 22 columns]"
      ]
     },
     "execution_count": 66,
     "metadata": {},
     "output_type": "execute_result"
    }
   ],
   "source": [
    "df_movies.head(1)"
   ]
  },
  {
   "cell_type": "code",
   "execution_count": 67,
   "metadata": {},
   "outputs": [],
   "source": [
    "# Renombrar la columna\n",
    "df_movies.rename(columns={'id': 'movie_id'}, inplace=True)"
   ]
  },
  {
   "cell_type": "markdown",
   "metadata": {},
   "source": [
    "### Left join, completando df_movies con direcrors of that movies..."
   ]
  },
  {
   "cell_type": "code",
   "execution_count": 68,
   "metadata": {},
   "outputs": [],
   "source": [
    "# Realizar el left join\n",
    "df_movies_directors = df_movies.merge(director_merged_info, on='movie_id', how='left')\n"
   ]
  },
  {
   "cell_type": "code",
   "execution_count": 69,
   "metadata": {},
   "outputs": [
    {
     "data": {
      "text/plain": [
       "<Axes: >"
      ]
     },
     "execution_count": 69,
     "metadata": {},
     "output_type": "execute_result"
    },
    {
     "data": {
      "image/png": "[encoded data removed]",
      "text/plain": [
       "<Figure size 2500x1000 with 2 Axes>"
      ]
     },
     "metadata": {},
     "output_type": "display_data"
    }
   ],
   "source": [
    "msno.matrix(df_movies_directors)"
   ]
  },
  {
   "cell_type": "code",
   "execution_count": 70,
   "metadata": {},
   "outputs": [],
   "source": [
    "df_movies_directors = df_movies_directors.drop_duplicates()\n",
    "df_movies_directors = df_movies_directors.dropna()"
   ]
  },
  {
   "cell_type": "code",
   "execution_count": 71,
   "metadata": {},
   "outputs": [
    {
     "name": "stdout",
     "output_type": "stream",
     "text": [
      "<class 'pandas.core.frame.DataFrame'>\n",
      "Index: 56806 entries, 0 to 58013\n",
      "Data columns (total 26 columns):\n",
      " #   Column                        Non-Null Count  Dtype         \n",
      "---  ------                        --------------  -----         \n",
      " 0   budget                        56806 non-null  int32         \n",
      " 1   movie_id                      56806 non-null  int32         \n",
      " 2   original_language             56806 non-null  object        \n",
      " 3   overview                      56806 non-null  object        \n",
      " 4   popularity                    56806 non-null  float64       \n",
      " 5   release_date                  56806 non-null  datetime64[ns]\n",
      " 6   revenue                       56806 non-null  int32         \n",
      " 7   runtime                       56806 non-null  int32         \n",
      " 8   status                        56806 non-null  object        \n",
      " 9   title                         56806 non-null  object        \n",
      " 10  vote_average                  56806 non-null  float64       \n",
      " 11  vote_count                    56806 non-null  int32         \n",
      " 12  genre_ids                     56806 non-null  object        \n",
      " 13  genre_names                   56806 non-null  object        \n",
      " 14  production_companies_ids      56806 non-null  object        \n",
      " 15  production_companies_nombres  56806 non-null  object        \n",
      " 16  iso_codes                     56806 non-null  object        \n",
      " 17  country_names                 56806 non-null  object        \n",
      " 18  iso_language_codes            56806 non-null  object        \n",
      " 19  language_names                56806 non-null  object        \n",
      " 20  release_year                  56806 non-null  int32         \n",
      " 21  return                        56806 non-null  float64       \n",
      " 22  department                    56806 non-null  object        \n",
      " 23  id                            56806 non-null  float64       \n",
      " 24  job                           56806 non-null  object        \n",
      " 25  name                          56806 non-null  object        \n",
      "dtypes: datetime64[ns](1), float64(4), int32(6), object(15)\n",
      "memory usage: 10.4+ MB\n",
      "None\n"
     ]
    }
   ],
   "source": [
    "print(df_movies_directors.info())"
   ]
  },
  {
   "cell_type": "code",
   "execution_count": 72,
   "metadata": {},
   "outputs": [],
   "source": [
    "df_movies_directors.rename(columns = {'id':'director_id'}, inplace=True)"
   ]
  },
  {
   "cell_type": "code",
   "execution_count": 73,
   "metadata": {},
   "outputs": [],
   "source": [
    "df_movies_directors['director_id'] = df_movies_directors['director_id'].astype(int)"
   ]
  },
  {
   "cell_type": "code",
   "execution_count": 74,
   "metadata": {},
   "outputs": [
    {
     "data": {
      "text/html": [
       "<div>\n",
       "<style scoped>\n",
       "    .dataframe tbody tr th:only-of-type {\n",
       "        vertical-align: middle;\n",
       "    }\n",
       "\n",
       "    .dataframe tbody tr th {\n",
       "        vertical-align: top;\n",
       "    }\n",
       "\n",
       "    .dataframe thead th {\n",
       "        text-align: right;\n",
       "    }\n",
       "</style>\n",
       "<table border=\"1\" class=\"dataframe\">\n",
       "  <thead>\n",
       "    <tr style=\"text-align: right;\">\n",
       "      <th></th>\n",
       "      <th>budget</th>\n",
       "      <th>movie_id</th>\n",
       "      <th>original_language</th>\n",
       "      <th>overview</th>\n",
       "      <th>popularity</th>\n",
       "      <th>release_date</th>\n",
       "      <th>revenue</th>\n",
       "      <th>runtime</th>\n",
       "      <th>status</th>\n",
       "      <th>title</th>\n",
       "      <th>...</th>\n",
       "      <th>iso_codes</th>\n",
       "      <th>country_names</th>\n",
       "      <th>iso_language_codes</th>\n",
       "      <th>language_names</th>\n",
       "      <th>release_year</th>\n",
       "      <th>return</th>\n",
       "      <th>department</th>\n",
       "      <th>director_id</th>\n",
       "      <th>job</th>\n",
       "      <th>name</th>\n",
       "    </tr>\n",
       "  </thead>\n",
       "  <tbody>\n",
       "    <tr>\n",
       "      <th>0</th>\n",
       "      <td>30000000</td>\n",
       "      <td>862</td>\n",
       "      <td>en</td>\n",
       "      <td>led by woody, andy's toys live happily in his ...</td>\n",
       "      <td>21.946943</td>\n",
       "      <td>1995-10-30</td>\n",
       "      <td>373554033</td>\n",
       "      <td>81</td>\n",
       "      <td>released</td>\n",
       "      <td>toy story</td>\n",
       "      <td>...</td>\n",
       "      <td>us</td>\n",
       "      <td>united states of america</td>\n",
       "      <td>en</td>\n",
       "      <td>english</td>\n",
       "      <td>1995</td>\n",
       "      <td>12.451801</td>\n",
       "      <td>Directing</td>\n",
       "      <td>7879</td>\n",
       "      <td>Director</td>\n",
       "      <td>John Lasseter</td>\n",
       "    </tr>\n",
       "    <tr>\n",
       "      <th>1</th>\n",
       "      <td>65000000</td>\n",
       "      <td>8844</td>\n",
       "      <td>en</td>\n",
       "      <td>when siblings judy and peter discover an encha...</td>\n",
       "      <td>17.015539</td>\n",
       "      <td>1995-12-15</td>\n",
       "      <td>262797249</td>\n",
       "      <td>104</td>\n",
       "      <td>released</td>\n",
       "      <td>jumanji</td>\n",
       "      <td>...</td>\n",
       "      <td>us</td>\n",
       "      <td>united states of america</td>\n",
       "      <td>en,fr</td>\n",
       "      <td>english,français</td>\n",
       "      <td>1995</td>\n",
       "      <td>4.043035</td>\n",
       "      <td>Directing</td>\n",
       "      <td>4945</td>\n",
       "      <td>Director</td>\n",
       "      <td>Joe Johnston</td>\n",
       "    </tr>\n",
       "    <tr>\n",
       "      <th>2</th>\n",
       "      <td>0</td>\n",
       "      <td>15602</td>\n",
       "      <td>en</td>\n",
       "      <td>a family wedding reignites the ancient feud be...</td>\n",
       "      <td>11.712900</td>\n",
       "      <td>1995-12-22</td>\n",
       "      <td>0</td>\n",
       "      <td>101</td>\n",
       "      <td>released</td>\n",
       "      <td>grumpier old men</td>\n",
       "      <td>...</td>\n",
       "      <td>us</td>\n",
       "      <td>united states of america</td>\n",
       "      <td>en</td>\n",
       "      <td>english</td>\n",
       "      <td>1995</td>\n",
       "      <td>0.000000</td>\n",
       "      <td>Directing</td>\n",
       "      <td>26502</td>\n",
       "      <td>Director</td>\n",
       "      <td>Howard Deutch</td>\n",
       "    </tr>\n",
       "    <tr>\n",
       "      <th>3</th>\n",
       "      <td>16000000</td>\n",
       "      <td>31357</td>\n",
       "      <td>en</td>\n",
       "      <td>cheated on, mistreated and stepped on, the wom...</td>\n",
       "      <td>3.859495</td>\n",
       "      <td>1995-12-22</td>\n",
       "      <td>81452156</td>\n",
       "      <td>127</td>\n",
       "      <td>released</td>\n",
       "      <td>waiting to exhale</td>\n",
       "      <td>...</td>\n",
       "      <td>us</td>\n",
       "      <td>united states of america</td>\n",
       "      <td>en</td>\n",
       "      <td>english</td>\n",
       "      <td>1995</td>\n",
       "      <td>5.090760</td>\n",
       "      <td>Directing</td>\n",
       "      <td>2178</td>\n",
       "      <td>Director</td>\n",
       "      <td>Forest Whitaker</td>\n",
       "    </tr>\n",
       "    <tr>\n",
       "      <th>4</th>\n",
       "      <td>0</td>\n",
       "      <td>11862</td>\n",
       "      <td>en</td>\n",
       "      <td>just when george banks has recovered from his ...</td>\n",
       "      <td>8.387519</td>\n",
       "      <td>1995-02-10</td>\n",
       "      <td>76578911</td>\n",
       "      <td>106</td>\n",
       "      <td>released</td>\n",
       "      <td>father of the bride part ii</td>\n",
       "      <td>...</td>\n",
       "      <td>us</td>\n",
       "      <td>united states of america</td>\n",
       "      <td>en</td>\n",
       "      <td>english</td>\n",
       "      <td>1995</td>\n",
       "      <td>0.000000</td>\n",
       "      <td>Directing</td>\n",
       "      <td>56106</td>\n",
       "      <td>Director</td>\n",
       "      <td>Charles Shyer</td>\n",
       "    </tr>\n",
       "  </tbody>\n",
       "</table>\n",
       "<p>5 rows × 26 columns</p>\n",
       "</div>"
      ],
      "text/plain": [
       "     budget  movie_id original_language  \\\n",
       "0  30000000       862                en   \n",
       "1  65000000      8844                en   \n",
       "2         0     15602                en   \n",
       "3  16000000     31357                en   \n",
       "4         0     11862                en   \n",
       "\n",
       "                                            overview  popularity release_date  \\\n",
       "0  led by woody, andy's toys live happily in his ...   21.946943   1995-10-30   \n",
       "1  when siblings judy and peter discover an encha...   17.015539   1995-12-15   \n",
       "2  a family wedding reignites the ancient feud be...   11.712900   1995-12-22   \n",
       "3  cheated on, mistreated and stepped on, the wom...    3.859495   1995-12-22   \n",
       "4  just when george banks has recovered from his ...    8.387519   1995-02-10   \n",
       "\n",
       "     revenue  runtime    status                        title  ...  iso_codes  \\\n",
       "0  373554033       81  released                    toy story  ...         us   \n",
       "1  262797249      104  released                      jumanji  ...         us   \n",
       "2          0      101  released             grumpier old men  ...         us   \n",
       "3   81452156      127  released            waiting to exhale  ...         us   \n",
       "4   76578911      106  released  father of the bride part ii  ...         us   \n",
       "\n",
       "              country_names iso_language_codes    language_names release_year  \\\n",
       "0  united states of america                 en           english         1995   \n",
       "1  united states of america              en,fr  english,français         1995   \n",
       "2  united states of america                 en           english         1995   \n",
       "3  united states of america                 en           english         1995   \n",
       "4  united states of america                 en           english         1995   \n",
       "\n",
       "      return department director_id       job             name  \n",
       "0  12.451801  Directing        7879  Director    John Lasseter  \n",
       "1   4.043035  Directing        4945  Director     Joe Johnston  \n",
       "2   0.000000  Directing       26502  Director    Howard Deutch  \n",
       "3   5.090760  Directing        2178  Director  Forest Whitaker  \n",
       "4   0.000000  Directing       56106  Director    Charles Shyer  \n",
       "\n",
       "[5 rows x 26 columns]"
      ]
     },
     "execution_count": 74,
     "metadata": {},
     "output_type": "execute_result"
    }
   ],
   "source": [
    "df_movies_directors.head()"
   ]
  },
  {
   "cell_type": "markdown",
   "metadata": {},
   "source": [
    "##### Guardo pickle: df_movies_directors ; para ultima funcion get directors"
   ]
  },
  {
   "cell_type": "code",
   "execution_count": 75,
   "metadata": {},
   "outputs": [],
   "source": [
    "# Guardar el DataFrame en formato pickle\n",
    "directors_df.to_pickle('../../Datasets Cleaned & light/df_movies_directors.pkl')"
   ]
  }
 ],
 "metadata": {
  "kernelspec": {
   "display_name": "Python 3",
   "language": "python",
   "name": "python3"
  },
  "language_info": {
   "codemirror_mode": {
    "name": "ipython",
    "version": 3
   },
   "file_extension": ".py",
   "mimetype": "text/x-python",
   "name": "python",
   "nbconvert_exporter": "python",
   "pygments_lexer": "ipython3",
   "version": "3.10.11"
  },
  "orig_nbformat": 4
 },
 "nbformat": 4,
 "nbformat_minor": 2
}
